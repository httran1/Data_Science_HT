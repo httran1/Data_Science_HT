{
 "cells": [
  {
   "cell_type": "markdown",
   "id": "e60fb51f",
   "metadata": {
    "papermill": {
     "duration": 0.008915,
     "end_time": "2024-07-06T04:25:39.668272",
     "exception": false,
     "start_time": "2024-07-06T04:25:39.659357",
     "status": "completed"
    },
    "tags": []
   },
   "source": [
    "**This notebook is an exercise in the [Pandas](https://www.kaggle.com/learn/pandas) course.  You can reference the tutorial at [this link](https://www.kaggle.com/residentmario/grouping-and-sorting).**\n",
    "\n",
    "---\n"
   ]
  },
  {
   "cell_type": "markdown",
   "id": "dec99b47",
   "metadata": {
    "papermill": {
     "duration": 0.008297,
     "end_time": "2024-07-06T04:25:39.685118",
     "exception": false,
     "start_time": "2024-07-06T04:25:39.676821",
     "status": "completed"
    },
    "tags": []
   },
   "source": [
    "# Introduction\n",
    "\n",
    "In these exercises we'll apply groupwise analysis to our dataset.\n",
    "\n",
    "Run the code cell below to load the data before running the exercises."
   ]
  },
  {
   "cell_type": "code",
   "execution_count": 1,
   "id": "dc711709",
   "metadata": {
    "execution": {
     "iopub.execute_input": "2024-07-06T04:25:39.704682Z",
     "iopub.status.busy": "2024-07-06T04:25:39.704211Z",
     "iopub.status.idle": "2024-07-06T04:25:44.352445Z",
     "shell.execute_reply": "2024-07-06T04:25:44.350925Z"
    },
    "papermill": {
     "duration": 4.662369,
     "end_time": "2024-07-06T04:25:44.355953",
     "exception": false,
     "start_time": "2024-07-06T04:25:39.693584",
     "status": "completed"
    },
    "tags": []
   },
   "outputs": [
    {
     "name": "stdout",
     "output_type": "stream",
     "text": [
      "Setup complete.\n"
     ]
    },
    {
     "name": "stderr",
     "output_type": "stream",
     "text": [
      "/opt/conda/lib/python3.10/site-packages/learntools/pandas/grouping_and_sorting.py:29: FutureWarning: The provided callable <built-in function min> is currently using SeriesGroupBy.min. In a future version of pandas, the provided callable will be used directly. To keep current behavior pass the string \"min\" instead.\n",
      "  _expected = reviews.groupby('variety').price.agg([min, max])\n",
      "/opt/conda/lib/python3.10/site-packages/learntools/pandas/grouping_and_sorting.py:29: FutureWarning: The provided callable <built-in function max> is currently using SeriesGroupBy.max. In a future version of pandas, the provided callable will be used directly. To keep current behavior pass the string \"max\" instead.\n",
      "  _expected = reviews.groupby('variety').price.agg([min, max])\n",
      "/opt/conda/lib/python3.10/site-packages/learntools/pandas/grouping_and_sorting.py:35: FutureWarning: The provided callable <built-in function min> is currently using SeriesGroupBy.min. In a future version of pandas, the provided callable will be used directly. To keep current behavior pass the string \"min\" instead.\n",
      "  _expected = reviews.groupby('variety').price.agg([min, max]).sort_values(by=['min', 'max'], ascending=False)\n",
      "/opt/conda/lib/python3.10/site-packages/learntools/pandas/grouping_and_sorting.py:35: FutureWarning: The provided callable <built-in function max> is currently using SeriesGroupBy.max. In a future version of pandas, the provided callable will be used directly. To keep current behavior pass the string \"max\" instead.\n",
      "  _expected = reviews.groupby('variety').price.agg([min, max]).sort_values(by=['min', 'max'], ascending=False)\n"
     ]
    }
   ],
   "source": [
    "import pandas as pd\n",
    "\n",
    "reviews = pd.read_csv(\"../input/wine-reviews/winemag-data-130k-v2.csv\", index_col=0)\n",
    "#pd.set_option(\"display.max_rows\", 5)\n",
    "\n",
    "from learntools.core import binder; binder.bind(globals())\n",
    "from learntools.pandas.grouping_and_sorting import *\n",
    "print(\"Setup complete.\")"
   ]
  },
  {
   "cell_type": "markdown",
   "id": "d45dddd0",
   "metadata": {
    "papermill": {
     "duration": 0.008301,
     "end_time": "2024-07-06T04:25:44.372891",
     "exception": false,
     "start_time": "2024-07-06T04:25:44.364590",
     "status": "completed"
    },
    "tags": []
   },
   "source": [
    "# Exercises"
   ]
  },
  {
   "cell_type": "markdown",
   "id": "649c39f4",
   "metadata": {
    "papermill": {
     "duration": 0.0082,
     "end_time": "2024-07-06T04:25:44.389638",
     "exception": false,
     "start_time": "2024-07-06T04:25:44.381438",
     "status": "completed"
    },
    "tags": []
   },
   "source": [
    "## 1.\n",
    "Who are the most common wine reviewers in the dataset? Create a `Series` whose index is the `taster_twitter_handle` category from the dataset, and whose values count how many reviews each person wrote."
   ]
  },
  {
   "cell_type": "code",
   "execution_count": 2,
   "id": "4862301a",
   "metadata": {
    "execution": {
     "iopub.execute_input": "2024-07-06T04:25:44.408924Z",
     "iopub.status.busy": "2024-07-06T04:25:44.408504Z",
     "iopub.status.idle": "2024-07-06T04:25:44.445055Z",
     "shell.execute_reply": "2024-07-06T04:25:44.443901Z"
    },
    "papermill": {
     "duration": 0.049377,
     "end_time": "2024-07-06T04:25:44.447802",
     "exception": false,
     "start_time": "2024-07-06T04:25:44.398425",
     "status": "completed"
    },
    "tags": []
   },
   "outputs": [
    {
     "data": {
      "application/javascript": [
       "parent.postMessage({\"jupyterEvent\": \"custom.exercise_interaction\", \"data\": {\"outcomeType\": 1, \"valueTowardsCompletion\": 0.16666666666666666, \"interactionType\": 1, \"questionType\": 1, \"questionId\": \"1_ReviewsWritten\", \"learnToolsVersion\": \"0.3.4\", \"failureMessage\": \"\", \"exceptionClass\": \"\", \"trace\": \"\"}}, \"*\")"
      ],
      "text/plain": [
       "<IPython.core.display.Javascript object>"
      ]
     },
     "metadata": {},
     "output_type": "display_data"
    },
    {
     "data": {
      "text/markdown": [
       "<span style=\"color:#33cc33\">Correct:</span> \n",
       "\n",
       "\n",
       "```python\n",
       "reviews_written = reviews.groupby('taster_twitter_handle').size()\n",
       "```\n",
       "or\n",
       "```python\n",
       "reviews_written = reviews.groupby('taster_twitter_handle').taster_twitter_handle.count()\n",
       "```\n"
      ],
      "text/plain": [
       "Correct: \n",
       "\n",
       "\n",
       "```python\n",
       "reviews_written = reviews.groupby('taster_twitter_handle').size()\n",
       "```\n",
       "or\n",
       "```python\n",
       "reviews_written = reviews.groupby('taster_twitter_handle').taster_twitter_handle.count()\n",
       "```"
      ]
     },
     "metadata": {},
     "output_type": "display_data"
    }
   ],
   "source": [
    "# Your code here\n",
    "reviews_written = reviews.groupby(reviews.taster_twitter_handle).size()\n",
    "\n",
    "# Check your answer\n",
    "q1.check()\n"
   ]
  },
  {
   "cell_type": "code",
   "execution_count": 3,
   "id": "2b2743ec",
   "metadata": {
    "execution": {
     "iopub.execute_input": "2024-07-06T04:25:44.467457Z",
     "iopub.status.busy": "2024-07-06T04:25:44.467021Z",
     "iopub.status.idle": "2024-07-06T04:25:44.472341Z",
     "shell.execute_reply": "2024-07-06T04:25:44.471026Z"
    },
    "papermill": {
     "duration": 0.018179,
     "end_time": "2024-07-06T04:25:44.474923",
     "exception": false,
     "start_time": "2024-07-06T04:25:44.456744",
     "status": "completed"
    },
    "tags": []
   },
   "outputs": [],
   "source": [
    "#q1.hint()\n",
    "#q1.solution()"
   ]
  },
  {
   "cell_type": "markdown",
   "id": "22bfb13d",
   "metadata": {
    "papermill": {
     "duration": 0.008694,
     "end_time": "2024-07-06T04:25:44.492577",
     "exception": false,
     "start_time": "2024-07-06T04:25:44.483883",
     "status": "completed"
    },
    "tags": []
   },
   "source": [
    "## 2.\n",
    "What is the best wine I can buy for a given amount of money? Create a `Series` whose index is wine prices and whose values is the maximum number of points a wine costing that much was given in a review. Sort the values by price, ascending (so that `4.0` dollars is at the top and `3300.0` dollars is at the bottom)."
   ]
  },
  {
   "cell_type": "code",
   "execution_count": 4,
   "id": "be0c8995",
   "metadata": {
    "execution": {
     "iopub.execute_input": "2024-07-06T04:25:44.512274Z",
     "iopub.status.busy": "2024-07-06T04:25:44.511870Z",
     "iopub.status.idle": "2024-07-06T04:25:44.531431Z",
     "shell.execute_reply": "2024-07-06T04:25:44.530370Z"
    },
    "papermill": {
     "duration": 0.032643,
     "end_time": "2024-07-06T04:25:44.534227",
     "exception": false,
     "start_time": "2024-07-06T04:25:44.501584",
     "status": "completed"
    },
    "tags": []
   },
   "outputs": [
    {
     "data": {
      "application/javascript": [
       "parent.postMessage({\"jupyterEvent\": \"custom.exercise_interaction\", \"data\": {\"outcomeType\": 1, \"valueTowardsCompletion\": 0.16666666666666666, \"interactionType\": 1, \"questionType\": 1, \"questionId\": \"2_BestRatingPerPrice\", \"learnToolsVersion\": \"0.3.4\", \"failureMessage\": \"\", \"exceptionClass\": \"\", \"trace\": \"\"}}, \"*\")"
      ],
      "text/plain": [
       "<IPython.core.display.Javascript object>"
      ]
     },
     "metadata": {},
     "output_type": "display_data"
    },
    {
     "data": {
      "text/markdown": [
       "<span style=\"color:#33cc33\">Correct</span>"
      ],
      "text/plain": [
       "Correct"
      ]
     },
     "metadata": {},
     "output_type": "display_data"
    },
    {
     "name": "stdout",
     "output_type": "stream",
     "text": [
      "price\n",
      "4.0       86\n",
      "5.0       87\n",
      "6.0       88\n",
      "7.0       91\n",
      "8.0       91\n",
      "          ..\n",
      "1900.0    98\n",
      "2000.0    97\n",
      "2013.0    91\n",
      "2500.0    96\n",
      "3300.0    88\n",
      "Name: points, Length: 390, dtype: int64\n"
     ]
    }
   ],
   "source": [
    "best_rating_per_price = reviews.groupby('price')['points'].max().sort_index()\n",
    "\n",
    "# Check your answer\n",
    "q2.check()\n",
    "print(best_rating_per_price)"
   ]
  },
  {
   "cell_type": "code",
   "execution_count": 5,
   "id": "bc48fbc9",
   "metadata": {
    "execution": {
     "iopub.execute_input": "2024-07-06T04:25:44.556005Z",
     "iopub.status.busy": "2024-07-06T04:25:44.554753Z",
     "iopub.status.idle": "2024-07-06T04:25:44.560103Z",
     "shell.execute_reply": "2024-07-06T04:25:44.558932Z"
    },
    "papermill": {
     "duration": 0.0187,
     "end_time": "2024-07-06T04:25:44.562615",
     "exception": false,
     "start_time": "2024-07-06T04:25:44.543915",
     "status": "completed"
    },
    "tags": []
   },
   "outputs": [],
   "source": [
    "#q2.hint()\n",
    "#q2.solution()"
   ]
  },
  {
   "cell_type": "markdown",
   "id": "5517d68a",
   "metadata": {
    "papermill": {
     "duration": 0.008829,
     "end_time": "2024-07-06T04:25:44.580774",
     "exception": false,
     "start_time": "2024-07-06T04:25:44.571945",
     "status": "completed"
    },
    "tags": []
   },
   "source": [
    "## 3.\n",
    "What are the minimum and maximum prices for each `variety` of wine? Create a `DataFrame` whose index is the `variety` category from the dataset and whose values are the `min` and `max` values thereof."
   ]
  },
  {
   "cell_type": "code",
   "execution_count": 6,
   "id": "99097e27",
   "metadata": {
    "execution": {
     "iopub.execute_input": "2024-07-06T04:25:44.601437Z",
     "iopub.status.busy": "2024-07-06T04:25:44.601020Z",
     "iopub.status.idle": "2024-07-06T04:25:44.651304Z",
     "shell.execute_reply": "2024-07-06T04:25:44.649678Z"
    },
    "papermill": {
     "duration": 0.063801,
     "end_time": "2024-07-06T04:25:44.653984",
     "exception": false,
     "start_time": "2024-07-06T04:25:44.590183",
     "status": "completed"
    },
    "tags": []
   },
   "outputs": [
    {
     "name": "stderr",
     "output_type": "stream",
     "text": [
      "/tmp/ipykernel_18/716457020.py:1: FutureWarning: The provided callable <built-in function min> is currently using SeriesGroupBy.min. In a future version of pandas, the provided callable will be used directly. To keep current behavior pass the string \"min\" instead.\n",
      "  price_extremes = reviews.groupby('variety').price.agg([min,max])\n",
      "/tmp/ipykernel_18/716457020.py:1: FutureWarning: The provided callable <built-in function max> is currently using SeriesGroupBy.max. In a future version of pandas, the provided callable will be used directly. To keep current behavior pass the string \"max\" instead.\n",
      "  price_extremes = reviews.groupby('variety').price.agg([min,max])\n"
     ]
    },
    {
     "data": {
      "application/javascript": [
       "parent.postMessage({\"jupyterEvent\": \"custom.exercise_interaction\", \"data\": {\"outcomeType\": 1, \"valueTowardsCompletion\": 0.16666666666666666, \"interactionType\": 1, \"questionType\": 1, \"questionId\": \"3_PriceExtremes\", \"learnToolsVersion\": \"0.3.4\", \"failureMessage\": \"\", \"exceptionClass\": \"\", \"trace\": \"\"}}, \"*\")"
      ],
      "text/plain": [
       "<IPython.core.display.Javascript object>"
      ]
     },
     "metadata": {},
     "output_type": "display_data"
    },
    {
     "data": {
      "text/markdown": [
       "<span style=\"color:#33cc33\">Correct</span>"
      ],
      "text/plain": [
       "Correct"
      ]
     },
     "metadata": {},
     "output_type": "display_data"
    },
    {
     "name": "stdout",
     "output_type": "stream",
     "text": [
      "              min    max\n",
      "variety                 \n",
      "Abouriou     15.0   75.0\n",
      "Agiorgitiko  10.0   66.0\n",
      "Aglianico     6.0  180.0\n",
      "Aidani       27.0   27.0\n",
      "Airen         8.0   10.0\n",
      "...           ...    ...\n",
      "Zinfandel     5.0  100.0\n",
      "Zlahtina     13.0   16.0\n",
      "Zweigelt      9.0   70.0\n",
      "Çalkarası    19.0   19.0\n",
      "Žilavka      15.0   15.0\n",
      "\n",
      "[707 rows x 2 columns]\n"
     ]
    }
   ],
   "source": [
    "price_extremes = reviews.groupby('variety').price.agg([min,max])\n",
    "\n",
    "# Check your answer\n",
    "q3.check()\n",
    "print(price_extremes)"
   ]
  },
  {
   "cell_type": "code",
   "execution_count": 7,
   "id": "a6e8d1b7",
   "metadata": {
    "execution": {
     "iopub.execute_input": "2024-07-06T04:25:44.676356Z",
     "iopub.status.busy": "2024-07-06T04:25:44.675940Z",
     "iopub.status.idle": "2024-07-06T04:25:44.690852Z",
     "shell.execute_reply": "2024-07-06T04:25:44.689403Z"
    },
    "papermill": {
     "duration": 0.029819,
     "end_time": "2024-07-06T04:25:44.693834",
     "exception": false,
     "start_time": "2024-07-06T04:25:44.664015",
     "status": "completed"
    },
    "tags": []
   },
   "outputs": [
    {
     "data": {
      "application/javascript": [
       "parent.postMessage({\"jupyterEvent\": \"custom.exercise_interaction\", \"data\": {\"interactionType\": 2, \"questionType\": 1, \"questionId\": \"3_PriceExtremes\", \"learnToolsVersion\": \"0.3.4\", \"valueTowardsCompletion\": 0.0, \"failureMessage\": \"\", \"exceptionClass\": \"\", \"trace\": \"\", \"outcomeType\": 4}}, \"*\")"
      ],
      "text/plain": [
       "<IPython.core.display.Javascript object>"
      ]
     },
     "metadata": {},
     "output_type": "display_data"
    },
    {
     "data": {
      "text/markdown": [
       "<span style=\"color:#3366cc\">Hint:</span> Use `agg()`."
      ],
      "text/plain": [
       "Hint: Use `agg()`."
      ]
     },
     "metadata": {},
     "output_type": "display_data"
    },
    {
     "data": {
      "application/javascript": [
       "parent.postMessage({\"jupyterEvent\": \"custom.exercise_interaction\", \"data\": {\"interactionType\": 3, \"questionType\": 1, \"questionId\": \"3_PriceExtremes\", \"learnToolsVersion\": \"0.3.4\", \"valueTowardsCompletion\": 0.0, \"failureMessage\": \"\", \"exceptionClass\": \"\", \"trace\": \"\", \"outcomeType\": 4}}, \"*\")"
      ],
      "text/plain": [
       "<IPython.core.display.Javascript object>"
      ]
     },
     "metadata": {},
     "output_type": "display_data"
    },
    {
     "data": {
      "text/markdown": [
       "<span style=\"color:#33cc99\">Solution:</span> \n",
       "```python\n",
       "price_extremes = reviews.groupby('variety').price.agg([min, max])\n",
       "```"
      ],
      "text/plain": [
       "Solution: \n",
       "```python\n",
       "price_extremes = reviews.groupby('variety').price.agg([min, max])\n",
       "```"
      ]
     },
     "metadata": {},
     "output_type": "display_data"
    }
   ],
   "source": [
    "q3.hint()\n",
    "q3.solution()"
   ]
  },
  {
   "cell_type": "markdown",
   "id": "53559733",
   "metadata": {
    "papermill": {
     "duration": 0.010542,
     "end_time": "2024-07-06T04:25:44.715795",
     "exception": false,
     "start_time": "2024-07-06T04:25:44.705253",
     "status": "completed"
    },
    "tags": []
   },
   "source": [
    "## 4.\n",
    "What are the most expensive wine varieties? Create a variable `sorted_varieties` containing a copy of the dataframe from the previous question where varieties are sorted in descending order based on minimum price, then on maximum price (to break ties)."
   ]
  },
  {
   "cell_type": "code",
   "execution_count": 8,
   "id": "e4c42756",
   "metadata": {
    "execution": {
     "iopub.execute_input": "2024-07-06T04:25:44.739479Z",
     "iopub.status.busy": "2024-07-06T04:25:44.739027Z",
     "iopub.status.idle": "2024-07-06T04:25:44.753092Z",
     "shell.execute_reply": "2024-07-06T04:25:44.751552Z"
    },
    "papermill": {
     "duration": 0.02955,
     "end_time": "2024-07-06T04:25:44.756085",
     "exception": false,
     "start_time": "2024-07-06T04:25:44.726535",
     "status": "completed"
    },
    "tags": []
   },
   "outputs": [
    {
     "data": {
      "application/javascript": [
       "parent.postMessage({\"jupyterEvent\": \"custom.exercise_interaction\", \"data\": {\"outcomeType\": 1, \"valueTowardsCompletion\": 0.16666666666666666, \"interactionType\": 1, \"questionType\": 1, \"questionId\": \"4_SortedVarieties\", \"learnToolsVersion\": \"0.3.4\", \"failureMessage\": \"\", \"exceptionClass\": \"\", \"trace\": \"\"}}, \"*\")"
      ],
      "text/plain": [
       "<IPython.core.display.Javascript object>"
      ]
     },
     "metadata": {},
     "output_type": "display_data"
    },
    {
     "data": {
      "text/markdown": [
       "<span style=\"color:#33cc33\">Correct</span>"
      ],
      "text/plain": [
       "Correct"
      ]
     },
     "metadata": {},
     "output_type": "display_data"
    }
   ],
   "source": [
    "sorted_varieties = price_extremes.sort_values(by = ['min','max'], ascending = False)\n",
    "\n",
    "# Check your answer\n",
    "q4.check()"
   ]
  },
  {
   "cell_type": "code",
   "execution_count": 9,
   "id": "d3e232d7",
   "metadata": {
    "execution": {
     "iopub.execute_input": "2024-07-06T04:25:44.781475Z",
     "iopub.status.busy": "2024-07-06T04:25:44.781065Z",
     "iopub.status.idle": "2024-07-06T04:25:44.786469Z",
     "shell.execute_reply": "2024-07-06T04:25:44.785189Z"
    },
    "papermill": {
     "duration": 0.02167,
     "end_time": "2024-07-06T04:25:44.789398",
     "exception": false,
     "start_time": "2024-07-06T04:25:44.767728",
     "status": "completed"
    },
    "tags": []
   },
   "outputs": [],
   "source": [
    "#q4.hint()\n",
    "#q4.solution()"
   ]
  },
  {
   "cell_type": "markdown",
   "id": "b1953ac7",
   "metadata": {
    "papermill": {
     "duration": 0.01073,
     "end_time": "2024-07-06T04:25:44.811250",
     "exception": false,
     "start_time": "2024-07-06T04:25:44.800520",
     "status": "completed"
    },
    "tags": []
   },
   "source": [
    "## 5.\n",
    "Create a `Series` whose index is reviewers and whose values is the average review score given out by that reviewer. Hint: you will need the `taster_name` and `points` columns."
   ]
  },
  {
   "cell_type": "code",
   "execution_count": 10,
   "id": "6ca7f7c4",
   "metadata": {
    "execution": {
     "iopub.execute_input": "2024-07-06T04:25:44.835858Z",
     "iopub.status.busy": "2024-07-06T04:25:44.835415Z",
     "iopub.status.idle": "2024-07-06T04:25:44.871587Z",
     "shell.execute_reply": "2024-07-06T04:25:44.870291Z"
    },
    "papermill": {
     "duration": 0.05179,
     "end_time": "2024-07-06T04:25:44.874756",
     "exception": false,
     "start_time": "2024-07-06T04:25:44.822966",
     "status": "completed"
    },
    "tags": []
   },
   "outputs": [
    {
     "data": {
      "application/javascript": [
       "parent.postMessage({\"jupyterEvent\": \"custom.exercise_interaction\", \"data\": {\"outcomeType\": 1, \"valueTowardsCompletion\": 0.16666666666666666, \"interactionType\": 1, \"questionType\": 1, \"questionId\": \"5_ReviewerMeanRatings\", \"learnToolsVersion\": \"0.3.4\", \"failureMessage\": \"\", \"exceptionClass\": \"\", \"trace\": \"\"}}, \"*\")"
      ],
      "text/plain": [
       "<IPython.core.display.Javascript object>"
      ]
     },
     "metadata": {},
     "output_type": "display_data"
    },
    {
     "data": {
      "text/markdown": [
       "<span style=\"color:#33cc33\">Correct</span>"
      ],
      "text/plain": [
       "Correct"
      ]
     },
     "metadata": {},
     "output_type": "display_data"
    }
   ],
   "source": [
    "reviewer_mean_ratings = reviews.groupby('taster_name')['points'].mean()\n",
    "\n",
    "# Check your answer\n",
    "q5.check()"
   ]
  },
  {
   "cell_type": "code",
   "execution_count": 11,
   "id": "4d5100bb",
   "metadata": {
    "execution": {
     "iopub.execute_input": "2024-07-06T04:25:44.899538Z",
     "iopub.status.busy": "2024-07-06T04:25:44.899126Z",
     "iopub.status.idle": "2024-07-06T04:25:44.904359Z",
     "shell.execute_reply": "2024-07-06T04:25:44.902941Z"
    },
    "papermill": {
     "duration": 0.02081,
     "end_time": "2024-07-06T04:25:44.907135",
     "exception": false,
     "start_time": "2024-07-06T04:25:44.886325",
     "status": "completed"
    },
    "tags": []
   },
   "outputs": [],
   "source": [
    "#q5.hint()\n",
    "#q5.solution()"
   ]
  },
  {
   "cell_type": "markdown",
   "id": "d65f68a1",
   "metadata": {
    "papermill": {
     "duration": 0.011198,
     "end_time": "2024-07-06T04:25:44.929820",
     "exception": false,
     "start_time": "2024-07-06T04:25:44.918622",
     "status": "completed"
    },
    "tags": []
   },
   "source": [
    "Are there significant differences in the average scores assigned by the various reviewers? Run the cell below to use the `describe()` method to see a summary of the range of values."
   ]
  },
  {
   "cell_type": "code",
   "execution_count": 12,
   "id": "7346f35d",
   "metadata": {
    "execution": {
     "iopub.execute_input": "2024-07-06T04:25:44.954421Z",
     "iopub.status.busy": "2024-07-06T04:25:44.954031Z",
     "iopub.status.idle": "2024-07-06T04:25:44.967059Z",
     "shell.execute_reply": "2024-07-06T04:25:44.965662Z"
    },
    "papermill": {
     "duration": 0.028343,
     "end_time": "2024-07-06T04:25:44.969652",
     "exception": false,
     "start_time": "2024-07-06T04:25:44.941309",
     "status": "completed"
    },
    "tags": []
   },
   "outputs": [
    {
     "data": {
      "text/plain": [
       "count    19.000000\n",
       "mean     88.233026\n",
       "std       1.243610\n",
       "min      85.855422\n",
       "25%      87.323501\n",
       "50%      88.536235\n",
       "75%      88.975256\n",
       "max      90.562551\n",
       "Name: points, dtype: float64"
      ]
     },
     "execution_count": 12,
     "metadata": {},
     "output_type": "execute_result"
    }
   ],
   "source": [
    "reviewer_mean_ratings.describe()"
   ]
  },
  {
   "cell_type": "markdown",
   "id": "dc0d434c",
   "metadata": {
    "papermill": {
     "duration": 0.012116,
     "end_time": "2024-07-06T04:25:44.994274",
     "exception": false,
     "start_time": "2024-07-06T04:25:44.982158",
     "status": "completed"
    },
    "tags": []
   },
   "source": [
    "## 6.\n",
    "What combination of countries and varieties are most common? Create a `Series` whose index is a `MultiIndex`of `{country, variety}` pairs. For example, a pinot noir produced in the US should map to `{\"US\", \"Pinot Noir\"}`. Sort the values in the `Series` in descending order based on wine count."
   ]
  },
  {
   "cell_type": "code",
   "execution_count": 13,
   "id": "37090e89",
   "metadata": {
    "execution": {
     "iopub.execute_input": "2024-07-06T04:25:45.023878Z",
     "iopub.status.busy": "2024-07-06T04:25:45.023369Z",
     "iopub.status.idle": "2024-07-06T04:25:45.100084Z",
     "shell.execute_reply": "2024-07-06T04:25:45.098998Z"
    },
    "papermill": {
     "duration": 0.096192,
     "end_time": "2024-07-06T04:25:45.102514",
     "exception": false,
     "start_time": "2024-07-06T04:25:45.006322",
     "status": "completed"
    },
    "tags": []
   },
   "outputs": [
    {
     "data": {
      "application/javascript": [
       "parent.postMessage({\"jupyterEvent\": \"custom.exercise_interaction\", \"data\": {\"outcomeType\": 1, \"valueTowardsCompletion\": 0.16666666666666666, \"interactionType\": 1, \"questionType\": 1, \"questionId\": \"6_GroupbyCountryVariety\", \"learnToolsVersion\": \"0.3.4\", \"failureMessage\": \"\", \"exceptionClass\": \"\", \"trace\": \"\"}}, \"*\")"
      ],
      "text/plain": [
       "<IPython.core.display.Javascript object>"
      ]
     },
     "metadata": {},
     "output_type": "display_data"
    },
    {
     "data": {
      "text/markdown": [
       "<span style=\"color:#33cc33\">Correct</span>"
      ],
      "text/plain": [
       "Correct"
      ]
     },
     "metadata": {},
     "output_type": "display_data"
    }
   ],
   "source": [
    "country_variety_counts = reviews.groupby(['country','variety']).size().sort_values(ascending = False)\n",
    "\n",
    "# Check your answer\n",
    "q6.check()"
   ]
  },
  {
   "cell_type": "code",
   "execution_count": 14,
   "id": "4f7ce468",
   "metadata": {
    "execution": {
     "iopub.execute_input": "2024-07-06T04:25:45.127911Z",
     "iopub.status.busy": "2024-07-06T04:25:45.127494Z",
     "iopub.status.idle": "2024-07-06T04:25:45.132532Z",
     "shell.execute_reply": "2024-07-06T04:25:45.131162Z"
    },
    "papermill": {
     "duration": 0.020913,
     "end_time": "2024-07-06T04:25:45.135111",
     "exception": false,
     "start_time": "2024-07-06T04:25:45.114198",
     "status": "completed"
    },
    "tags": []
   },
   "outputs": [],
   "source": [
    "#q6.hint()\n",
    "#q6.solution()"
   ]
  },
  {
   "cell_type": "markdown",
   "id": "f2d3b73b",
   "metadata": {
    "papermill": {
     "duration": 0.011985,
     "end_time": "2024-07-06T04:25:45.159972",
     "exception": false,
     "start_time": "2024-07-06T04:25:45.147987",
     "status": "completed"
    },
    "tags": []
   },
   "source": [
    "# Keep going\n",
    "\n",
    "Move on to the [**data types and missing data**](https://www.kaggle.com/residentmario/data-types-and-missing-values)."
   ]
  },
  {
   "cell_type": "markdown",
   "id": "455f217c",
   "metadata": {
    "papermill": {
     "duration": 0.011711,
     "end_time": "2024-07-06T04:25:45.183447",
     "exception": false,
     "start_time": "2024-07-06T04:25:45.171736",
     "status": "completed"
    },
    "tags": []
   },
   "source": [
    "---\n",
    "\n",
    "\n",
    "\n",
    "\n",
    "*Have questions or comments? Visit the [course discussion forum](https://www.kaggle.com/learn/pandas/discussion) to chat with other learners.*"
   ]
  }
 ],
 "metadata": {
  "kaggle": {
   "accelerator": "none",
   "dataSources": [
    {
     "datasetId": 655,
     "sourceId": 1252,
     "sourceType": "datasetVersion"
    },
    {
     "datasetId": 2321,
     "sourceId": 3919,
     "sourceType": "datasetVersion"
    },
    {
     "datasetId": 2894,
     "sourceId": 4877,
     "sourceType": "datasetVersion"
    },
    {
     "datasetId": 3491,
     "sourceId": 5624,
     "sourceType": "datasetVersion"
    },
    {
     "datasetId": 1442,
     "sourceId": 8172,
     "sourceType": "datasetVersion"
    },
    {
     "datasetId": 9366,
     "sourceId": 13206,
     "sourceType": "datasetVersion"
    },
    {
     "datasetId": 179555,
     "sourceId": 403916,
     "sourceType": "datasetVersion"
    },
    {
     "datasetId": 4549,
     "sourceId": 466349,
     "sourceType": "datasetVersion"
    },
    {
     "datasetId": 2478,
     "sourceId": 1151655,
     "sourceType": "datasetVersion"
    },
    {
     "datasetId": 10128,
     "sourceId": 5438389,
     "sourceType": "datasetVersion"
    }
   ],
   "isGpuEnabled": false,
   "isInternetEnabled": false,
   "language": "python",
   "sourceType": "notebook"
  },
  "kernelspec": {
   "display_name": "Python 3",
   "language": "python",
   "name": "python3"
  },
  "language_info": {
   "codemirror_mode": {
    "name": "ipython",
    "version": 3
   },
   "file_extension": ".py",
   "mimetype": "text/x-python",
   "name": "python",
   "nbconvert_exporter": "python",
   "pygments_lexer": "ipython3",
   "version": "3.10.13"
  },
  "papermill": {
   "default_parameters": {},
   "duration": 9.491603,
   "end_time": "2024-07-06T04:25:45.817635",
   "environment_variables": {},
   "exception": null,
   "input_path": "__notebook__.ipynb",
   "output_path": "__notebook__.ipynb",
   "parameters": {},
   "start_time": "2024-07-06T04:25:36.326032",
   "version": "2.5.0"
  }
 },
 "nbformat": 4,
 "nbformat_minor": 5
}
