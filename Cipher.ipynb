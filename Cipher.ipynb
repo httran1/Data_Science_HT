{
  "nbformat": 4,
  "nbformat_minor": 0,
  "metadata": {
    "colab": {
      "provenance": [],
      "authorship_tag": "ABX9TyNiM0XSsnz/2ZnGygtD4lSv",
      "include_colab_link": true
    },
    "kernelspec": {
      "name": "python3",
      "display_name": "Python 3"
    },
    "language_info": {
      "name": "python"
    }
  },
  "cells": [
    {
      "cell_type": "markdown",
      "metadata": {
        "id": "view-in-github",
        "colab_type": "text"
      },
      "source": [
        "<a href=\"https://colab.research.google.com/github/httran1/Data_Science_HT/blob/main/Cipher.ipynb\" target=\"_parent\"><img src=\"https://colab.research.google.com/assets/colab-badge.svg\" alt=\"Open In Colab\"/></a>"
      ]
    },
    {
      "cell_type": "markdown",
      "source": [
        "**STRING MANIPULATION**\n",
        "\n",
        "This program uses  fundamental programming concepts in Python, such as variables, functions, loops, and conditional statements to create a simple encryption program to encode/decode a given text."
      ],
      "metadata": {
        "id": "1eVUX6kelUYS"
      }
    },
    {
      "cell_type": "code",
      "execution_count": 1,
      "metadata": {
        "colab": {
          "base_uri": "https://localhost:8080/"
        },
        "id": "k9o0HndVlKWW",
        "outputId": "66a8ba57-0cb1-4274-81e0-714b30941c87"
      },
      "outputs": [
        {
          "output_type": "stream",
          "name": "stdout",
          "text": [
            "\n",
            "Encrypted text: mrttaqrhknsw ih puggrur\n",
            "Key: happycoding\n",
            "\n",
            "Decrypted text: freecodecamp is awesome\n",
            "\n"
          ]
        }
      ],
      "source": [
        "text = 'mrttaqrhknsw ih puggrur'\n",
        "custom_key = 'happycoding'\n",
        "\n",
        "def vigenere(message, key, direction=1):\n",
        "    key_index = 0\n",
        "    alphabet = 'abcdefghijklmnopqrstuvwxyz'\n",
        "    final_message = ''\n",
        "\n",
        "    for char in message.lower():\n",
        "\n",
        "        # Append any non-letter character to the message\n",
        "        if not char.isalpha():\n",
        "            final_message += char\n",
        "        else:\n",
        "            # Find the right key character to encode/decode\n",
        "            key_char = key[key_index % len(key)]\n",
        "            key_index += 1\n",
        "\n",
        "            # Define the offset and the encrypted/decrypted letter\n",
        "            offset = alphabet.index(key_char)\n",
        "            index = alphabet.find(char)\n",
        "            new_index = (index + offset*direction) % len(alphabet)\n",
        "            final_message += alphabet[new_index]\n",
        "\n",
        "    return final_message\n",
        "\n",
        "def encrypt(message, key):\n",
        "    return vigenere(message, key)\n",
        "\n",
        "def decrypt(message, key):\n",
        "    return vigenere(message, key, -1)\n",
        "\n",
        "print(f'\\nEncrypted text: {text}')\n",
        "print(f'Key: {custom_key}')\n",
        "decryption = decrypt(text, custom_key)\n",
        "print(f'\\nDecrypted text: {decryption}\\n')"
      ]
    }
  ]
}