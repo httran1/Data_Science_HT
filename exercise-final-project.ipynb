{
 "cells": [
  {
   "cell_type": "markdown",
   "id": "fceaf490",
   "metadata": {
    "papermill": {
     "duration": 0.006077,
     "end_time": "2024-07-24T23:02:30.601338",
     "exception": false,
     "start_time": "2024-07-24T23:02:30.595261",
     "status": "completed"
    },
    "tags": []
   },
   "source": [
    "**This notebook is an exercise in the [Data Visualization](https://www.kaggle.com/learn/data-visualization) course.  You can reference the tutorial at [this link](https://www.kaggle.com/alexisbcook/final-project).**\n",
    "\n",
    "---\n"
   ]
  },
  {
   "cell_type": "markdown",
   "id": "1c868c99",
   "metadata": {
    "papermill": {
     "duration": 0.00533,
     "end_time": "2024-07-24T23:02:30.612544",
     "exception": false,
     "start_time": "2024-07-24T23:02:30.607214",
     "status": "completed"
    },
    "tags": []
   },
   "source": [
    "Now it's time for you to demonstrate your new skills with a project of your own!\n",
    "\n",
    "In this exercise, you will work with a dataset of your choosing.  Once you've selected a dataset, you'll design and create your own plot to tell interesting stories behind the data!\n",
    "\n",
    "## Setup\n",
    "\n",
    "Run the next cell to import and configure the Python libraries that you need to complete the exercise."
   ]
  },
  {
   "cell_type": "code",
   "execution_count": 1,
   "id": "73ff7d83",
   "metadata": {
    "execution": {
     "iopub.execute_input": "2024-07-24T23:02:30.626647Z",
     "iopub.status.busy": "2024-07-24T23:02:30.626178Z",
     "iopub.status.idle": "2024-07-24T23:02:33.484544Z",
     "shell.execute_reply": "2024-07-24T23:02:33.482337Z"
    },
    "papermill": {
     "duration": 2.869479,
     "end_time": "2024-07-24T23:02:33.487624",
     "exception": false,
     "start_time": "2024-07-24T23:02:30.618145",
     "status": "completed"
    },
    "tags": []
   },
   "outputs": [
    {
     "name": "stdout",
     "output_type": "stream",
     "text": [
      "Setup Complete\n"
     ]
    }
   ],
   "source": [
    "import pandas as pd\n",
    "pd.plotting.register_matplotlib_converters()\n",
    "import matplotlib.pyplot as plt\n",
    "%matplotlib inline\n",
    "import seaborn as sns\n",
    "print(\"Setup Complete\")"
   ]
  },
  {
   "cell_type": "markdown",
   "id": "3d77c885",
   "metadata": {
    "papermill": {
     "duration": 0.005754,
     "end_time": "2024-07-24T23:02:33.499538",
     "exception": false,
     "start_time": "2024-07-24T23:02:33.493784",
     "status": "completed"
    },
    "tags": []
   },
   "source": [
    "The questions below will give you feedback on your work. Run the following cell to set up the feedback system."
   ]
  },
  {
   "cell_type": "code",
   "execution_count": 2,
   "id": "66b2591c",
   "metadata": {
    "execution": {
     "iopub.execute_input": "2024-07-24T23:02:33.513593Z",
     "iopub.status.busy": "2024-07-24T23:02:33.512427Z",
     "iopub.status.idle": "2024-07-24T23:02:33.572944Z",
     "shell.execute_reply": "2024-07-24T23:02:33.571298Z"
    },
    "papermill": {
     "duration": 0.070902,
     "end_time": "2024-07-24T23:02:33.576135",
     "exception": false,
     "start_time": "2024-07-24T23:02:33.505233",
     "status": "completed"
    },
    "tags": []
   },
   "outputs": [
    {
     "name": "stdout",
     "output_type": "stream",
     "text": [
      "Setup Complete\n"
     ]
    }
   ],
   "source": [
    "# Set up code checking\n",
    "from learntools.core import binder\n",
    "binder.bind(globals())\n",
    "from learntools.data_viz_to_coder.ex7 import *\n",
    "print(\"Setup Complete\")"
   ]
  },
  {
   "cell_type": "markdown",
   "id": "b6659db1",
   "metadata": {
    "papermill": {
     "duration": 0.006544,
     "end_time": "2024-07-24T23:02:33.588742",
     "exception": false,
     "start_time": "2024-07-24T23:02:33.582198",
     "status": "completed"
    },
    "tags": []
   },
   "source": [
    "## Step 1: Attach a dataset to the notebook\n",
    "\n",
    "Begin by selecting a CSV dataset from [Kaggle Datasets](https://www.kaggle.com/datasets).  If you're unsure how to do this, please revisit the instructions in the previous tutorial.\n",
    "\n",
    "Once you have selected a dataset, click on the **[+ Add data]** option in the top right corner.  This will generate a pop-up window that you can use to search for your chosen dataset.  \n",
    "\n",
    "![ex6_search_dataset](https://storage.googleapis.com/kaggle-media/learn/images/cIIWPUS.png)\n",
    "\n",
    "Once you have found the dataset, click on the **[Add]** button to attach it to the notebook.  You can check that it was successful by looking at the **Data** dropdown menu to the right of the notebook -- look for an **input** folder containing a subfolder that matches the name of the dataset.\n",
    "\n",
    "<center>\n",
    "<img src=\"https://storage.googleapis.com/kaggle-media/learn/images/nMYc1Nu.png\" width=30%><br/>\n",
    "</center>\n",
    "\n",
    "You can click on the carat to the left of the name of the dataset to double-check that it contains a CSV file.  For instance, the image below shows that the example dataset contains two CSV files: (1) **dc-wikia-data.csv**, and (2) **marvel-wikia-data.csv**.\n",
    "\n",
    "<center>\n",
    "<img src=\"https://storage.googleapis.com/kaggle-media/learn/images/B4sJkVA.png\" width=30%><br/>\n",
    "</center>\n",
    "\n",
    "Once you've uploaded a dataset with a CSV file, run the code cell below **without changes** to receive credit for your work!"
   ]
  },
  {
   "cell_type": "code",
   "execution_count": 3,
   "id": "83175356",
   "metadata": {
    "execution": {
     "iopub.execute_input": "2024-07-24T23:02:33.603561Z",
     "iopub.status.busy": "2024-07-24T23:02:33.603115Z",
     "iopub.status.idle": "2024-07-24T23:02:33.636025Z",
     "shell.execute_reply": "2024-07-24T23:02:33.633905Z"
    },
    "papermill": {
     "duration": 0.043378,
     "end_time": "2024-07-24T23:02:33.639130",
     "exception": false,
     "start_time": "2024-07-24T23:02:33.595752",
     "status": "completed"
    },
    "tags": []
   },
   "outputs": [
    {
     "data": {
      "application/javascript": [
       "parent.postMessage({\"jupyterEvent\": \"custom.exercise_interaction\", \"data\": {\"outcomeType\": 1, \"valueTowardsCompletion\": 0.25, \"interactionType\": 1, \"questionType\": 2, \"questionId\": \"1_AttachData\", \"learnToolsVersion\": \"0.3.4\", \"failureMessage\": \"\", \"exceptionClass\": \"\", \"trace\": \"\"}}, \"*\")"
      ],
      "text/plain": [
       "<IPython.core.display.Javascript object>"
      ]
     },
     "metadata": {},
     "output_type": "display_data"
    },
    {
     "data": {
      "text/markdown": [
       "<span style=\"color:#33cc33\">Correct:</span> \n",
       "\n"
      ],
      "text/plain": [
       "Correct: \n"
      ]
     },
     "metadata": {},
     "output_type": "display_data"
    }
   ],
   "source": [
    "# Check for a dataset with a CSV file\n",
    "step_1.check()"
   ]
  },
  {
   "cell_type": "markdown",
   "id": "21e5b304",
   "metadata": {
    "papermill": {
     "duration": 0.007528,
     "end_time": "2024-07-24T23:02:33.653266",
     "exception": false,
     "start_time": "2024-07-24T23:02:33.645738",
     "status": "completed"
    },
    "tags": []
   },
   "source": [
    "## Step 2: Specify the filepath\n",
    "\n",
    "Now that the dataset is attached to the notebook, you can find its filepath.  To do this, begin by clicking on the CSV file you'd like to use.  This will open the CSV file in a tab below the notebook.  You can find the filepath towards the top of this new tab.  \n",
    "\n",
    "![ex6_filepath](https://storage.googleapis.com/kaggle-media/learn/images/fgXQV47.png)\n",
    "\n",
    "After you find the filepath corresponding to your dataset, fill it in as the value for `my_filepath` in the code cell below, and run the code cell to check that you've provided a valid filepath.  For instance, in the case of this example dataset, we would set\n",
    "```\n",
    "my_filepath = \"../input/fivethirtyeight-comic-characters-dataset/dc-wikia-data.csv\"\n",
    "```  \n",
    "Note that **you must enclose the filepath in quotation marks**; otherwise, the code will return an error.\n",
    "\n",
    "Once you've entered the filepath, you can close the tab below the notebook by clicking on the **[X]** at the top of the tab."
   ]
  },
  {
   "cell_type": "code",
   "execution_count": 4,
   "id": "5ea7a316",
   "metadata": {
    "execution": {
     "iopub.execute_input": "2024-07-24T23:02:33.668085Z",
     "iopub.status.busy": "2024-07-24T23:02:33.667643Z",
     "iopub.status.idle": "2024-07-24T23:02:33.678984Z",
     "shell.execute_reply": "2024-07-24T23:02:33.677621Z"
    },
    "papermill": {
     "duration": 0.022329,
     "end_time": "2024-07-24T23:02:33.682053",
     "exception": false,
     "start_time": "2024-07-24T23:02:33.659724",
     "status": "completed"
    },
    "tags": []
   },
   "outputs": [
    {
     "data": {
      "application/javascript": [
       "parent.postMessage({\"jupyterEvent\": \"custom.exercise_interaction\", \"data\": {\"outcomeType\": 1, \"valueTowardsCompletion\": 0.25, \"interactionType\": 1, \"questionType\": 2, \"questionId\": \"2_Filepath\", \"learnToolsVersion\": \"0.3.4\", \"failureMessage\": \"\", \"exceptionClass\": \"\", \"trace\": \"\"}}, \"*\")"
      ],
      "text/plain": [
       "<IPython.core.display.Javascript object>"
      ]
     },
     "metadata": {},
     "output_type": "display_data"
    },
    {
     "data": {
      "text/markdown": [
       "<span style=\"color:#33cc33\">Correct:</span> \n",
       "\n"
      ],
      "text/plain": [
       "Correct: \n"
      ]
     },
     "metadata": {},
     "output_type": "display_data"
    }
   ],
   "source": [
    "# Fill in the line below: Specify the path of the CSV file to read\n",
    "my_filepath = \"/kaggle/input/food-nutrition-dataset/FINAL FOOD DATASET/FOOD-DATA-GROUP1.csv\"\n",
    "\n",
    "# Check for a valid filepath to a CSV file in a dataset\n",
    "step_2.check()"
   ]
  },
  {
   "cell_type": "markdown",
   "id": "bc972762",
   "metadata": {
    "papermill": {
     "duration": 0.006464,
     "end_time": "2024-07-24T23:02:33.695368",
     "exception": false,
     "start_time": "2024-07-24T23:02:33.688904",
     "status": "completed"
    },
    "tags": []
   },
   "source": [
    "## Step 3: Load the data\n",
    "\n",
    "Use the next code cell to load your data file into `my_data`.  Use the filepath that you specified in the previous step."
   ]
  },
  {
   "cell_type": "code",
   "execution_count": 5,
   "id": "53125cd0",
   "metadata": {
    "execution": {
     "iopub.execute_input": "2024-07-24T23:02:33.710526Z",
     "iopub.status.busy": "2024-07-24T23:02:33.710091Z",
     "iopub.status.idle": "2024-07-24T23:02:33.750916Z",
     "shell.execute_reply": "2024-07-24T23:02:33.749735Z"
    },
    "papermill": {
     "duration": 0.051556,
     "end_time": "2024-07-24T23:02:33.753588",
     "exception": false,
     "start_time": "2024-07-24T23:02:33.702032",
     "status": "completed"
    },
    "tags": []
   },
   "outputs": [
    {
     "data": {
      "application/javascript": [
       "parent.postMessage({\"jupyterEvent\": \"custom.exercise_interaction\", \"data\": {\"outcomeType\": 1, \"valueTowardsCompletion\": 0.25, \"interactionType\": 1, \"questionType\": 2, \"questionId\": \"3_LoadData\", \"learnToolsVersion\": \"0.3.4\", \"failureMessage\": \"\", \"exceptionClass\": \"\", \"trace\": \"\"}}, \"*\")"
      ],
      "text/plain": [
       "<IPython.core.display.Javascript object>"
      ]
     },
     "metadata": {},
     "output_type": "display_data"
    },
    {
     "data": {
      "text/markdown": [
       "<span style=\"color:#33cc33\">Correct:</span> \n",
       "\n"
      ],
      "text/plain": [
       "Correct: \n"
      ]
     },
     "metadata": {},
     "output_type": "display_data"
    }
   ],
   "source": [
    "# Fill in the line below: Read the file into a variable my_data\n",
    "my_data = pd.read_csv(my_filepath)\n",
    "\n",
    "# Check that a dataset has been uploaded into my_data\n",
    "step_3.check()"
   ]
  },
  {
   "cell_type": "markdown",
   "id": "7657b6d3",
   "metadata": {
    "papermill": {
     "duration": 0.006992,
     "end_time": "2024-07-24T23:02:33.767827",
     "exception": false,
     "start_time": "2024-07-24T23:02:33.760835",
     "status": "completed"
    },
    "tags": []
   },
   "source": [
    "**_After the code cell above is marked correct_**, run the code cell below without changes to view the first five rows of the data."
   ]
  },
  {
   "cell_type": "code",
   "execution_count": 6,
   "id": "ce01e90b",
   "metadata": {
    "execution": {
     "iopub.execute_input": "2024-07-24T23:02:33.783651Z",
     "iopub.status.busy": "2024-07-24T23:02:33.783217Z",
     "iopub.status.idle": "2024-07-24T23:02:33.836883Z",
     "shell.execute_reply": "2024-07-24T23:02:33.835607Z"
    },
    "papermill": {
     "duration": 0.0647,
     "end_time": "2024-07-24T23:02:33.839572",
     "exception": false,
     "start_time": "2024-07-24T23:02:33.774872",
     "status": "completed"
    },
    "tags": []
   },
   "outputs": [
    {
     "data": {
      "text/html": [
       "<div>\n",
       "<style scoped>\n",
       "    .dataframe tbody tr th:only-of-type {\n",
       "        vertical-align: middle;\n",
       "    }\n",
       "\n",
       "    .dataframe tbody tr th {\n",
       "        vertical-align: top;\n",
       "    }\n",
       "\n",
       "    .dataframe thead th {\n",
       "        text-align: right;\n",
       "    }\n",
       "</style>\n",
       "<table border=\"1\" class=\"dataframe\">\n",
       "  <thead>\n",
       "    <tr style=\"text-align: right;\">\n",
       "      <th></th>\n",
       "      <th>Unnamed: 0.1</th>\n",
       "      <th>Unnamed: 0</th>\n",
       "      <th>food</th>\n",
       "      <th>Caloric Value</th>\n",
       "      <th>Fat</th>\n",
       "      <th>Saturated Fats</th>\n",
       "      <th>Monounsaturated Fats</th>\n",
       "      <th>Polyunsaturated Fats</th>\n",
       "      <th>Carbohydrates</th>\n",
       "      <th>Sugars</th>\n",
       "      <th>...</th>\n",
       "      <th>Calcium</th>\n",
       "      <th>Copper</th>\n",
       "      <th>Iron</th>\n",
       "      <th>Magnesium</th>\n",
       "      <th>Manganese</th>\n",
       "      <th>Phosphorus</th>\n",
       "      <th>Potassium</th>\n",
       "      <th>Selenium</th>\n",
       "      <th>Zinc</th>\n",
       "      <th>Nutrition Density</th>\n",
       "    </tr>\n",
       "  </thead>\n",
       "  <tbody>\n",
       "    <tr>\n",
       "      <th>0</th>\n",
       "      <td>0</td>\n",
       "      <td>0</td>\n",
       "      <td>cream cheese</td>\n",
       "      <td>51</td>\n",
       "      <td>5.0</td>\n",
       "      <td>2.9</td>\n",
       "      <td>1.3</td>\n",
       "      <td>0.200</td>\n",
       "      <td>0.8</td>\n",
       "      <td>0.500</td>\n",
       "      <td>...</td>\n",
       "      <td>0.008</td>\n",
       "      <td>14.100</td>\n",
       "      <td>0.082</td>\n",
       "      <td>0.027</td>\n",
       "      <td>1.300</td>\n",
       "      <td>0.091</td>\n",
       "      <td>15.5</td>\n",
       "      <td>19.100</td>\n",
       "      <td>0.039</td>\n",
       "      <td>7.070</td>\n",
       "    </tr>\n",
       "    <tr>\n",
       "      <th>1</th>\n",
       "      <td>1</td>\n",
       "      <td>1</td>\n",
       "      <td>neufchatel cheese</td>\n",
       "      <td>215</td>\n",
       "      <td>19.4</td>\n",
       "      <td>10.9</td>\n",
       "      <td>4.9</td>\n",
       "      <td>0.800</td>\n",
       "      <td>3.1</td>\n",
       "      <td>2.700</td>\n",
       "      <td>...</td>\n",
       "      <td>99.500</td>\n",
       "      <td>0.034</td>\n",
       "      <td>0.100</td>\n",
       "      <td>8.500</td>\n",
       "      <td>0.088</td>\n",
       "      <td>117.300</td>\n",
       "      <td>129.2</td>\n",
       "      <td>0.054</td>\n",
       "      <td>0.700</td>\n",
       "      <td>130.100</td>\n",
       "    </tr>\n",
       "    <tr>\n",
       "      <th>2</th>\n",
       "      <td>2</td>\n",
       "      <td>2</td>\n",
       "      <td>requeijao cremoso light catupiry</td>\n",
       "      <td>49</td>\n",
       "      <td>3.6</td>\n",
       "      <td>2.3</td>\n",
       "      <td>0.9</td>\n",
       "      <td>0.000</td>\n",
       "      <td>0.9</td>\n",
       "      <td>3.400</td>\n",
       "      <td>...</td>\n",
       "      <td>0.000</td>\n",
       "      <td>0.000</td>\n",
       "      <td>0.000</td>\n",
       "      <td>0.000</td>\n",
       "      <td>0.000</td>\n",
       "      <td>0.000</td>\n",
       "      <td>0.0</td>\n",
       "      <td>0.000</td>\n",
       "      <td>0.000</td>\n",
       "      <td>5.400</td>\n",
       "    </tr>\n",
       "    <tr>\n",
       "      <th>3</th>\n",
       "      <td>3</td>\n",
       "      <td>3</td>\n",
       "      <td>ricotta cheese</td>\n",
       "      <td>30</td>\n",
       "      <td>2.0</td>\n",
       "      <td>1.3</td>\n",
       "      <td>0.5</td>\n",
       "      <td>0.002</td>\n",
       "      <td>1.5</td>\n",
       "      <td>0.091</td>\n",
       "      <td>...</td>\n",
       "      <td>0.097</td>\n",
       "      <td>41.200</td>\n",
       "      <td>0.097</td>\n",
       "      <td>0.096</td>\n",
       "      <td>4.000</td>\n",
       "      <td>0.024</td>\n",
       "      <td>30.8</td>\n",
       "      <td>43.800</td>\n",
       "      <td>0.035</td>\n",
       "      <td>5.196</td>\n",
       "    </tr>\n",
       "    <tr>\n",
       "      <th>4</th>\n",
       "      <td>4</td>\n",
       "      <td>4</td>\n",
       "      <td>cream cheese low fat</td>\n",
       "      <td>30</td>\n",
       "      <td>2.3</td>\n",
       "      <td>1.4</td>\n",
       "      <td>0.6</td>\n",
       "      <td>0.042</td>\n",
       "      <td>1.2</td>\n",
       "      <td>0.900</td>\n",
       "      <td>...</td>\n",
       "      <td>22.200</td>\n",
       "      <td>0.072</td>\n",
       "      <td>0.008</td>\n",
       "      <td>1.200</td>\n",
       "      <td>0.098</td>\n",
       "      <td>22.800</td>\n",
       "      <td>37.1</td>\n",
       "      <td>0.034</td>\n",
       "      <td>0.053</td>\n",
       "      <td>27.007</td>\n",
       "    </tr>\n",
       "  </tbody>\n",
       "</table>\n",
       "<p>5 rows × 37 columns</p>\n",
       "</div>"
      ],
      "text/plain": [
       "   Unnamed: 0.1  Unnamed: 0                              food  Caloric Value  \\\n",
       "0             0           0                      cream cheese             51   \n",
       "1             1           1                 neufchatel cheese            215   \n",
       "2             2           2  requeijao cremoso light catupiry             49   \n",
       "3             3           3                    ricotta cheese             30   \n",
       "4             4           4              cream cheese low fat             30   \n",
       "\n",
       "    Fat  Saturated Fats  Monounsaturated Fats  Polyunsaturated Fats  \\\n",
       "0   5.0             2.9                   1.3                 0.200   \n",
       "1  19.4            10.9                   4.9                 0.800   \n",
       "2   3.6             2.3                   0.9                 0.000   \n",
       "3   2.0             1.3                   0.5                 0.002   \n",
       "4   2.3             1.4                   0.6                 0.042   \n",
       "\n",
       "   Carbohydrates  Sugars  ...  Calcium  Copper   Iron  Magnesium  Manganese  \\\n",
       "0            0.8   0.500  ...    0.008  14.100  0.082      0.027      1.300   \n",
       "1            3.1   2.700  ...   99.500   0.034  0.100      8.500      0.088   \n",
       "2            0.9   3.400  ...    0.000   0.000  0.000      0.000      0.000   \n",
       "3            1.5   0.091  ...    0.097  41.200  0.097      0.096      4.000   \n",
       "4            1.2   0.900  ...   22.200   0.072  0.008      1.200      0.098   \n",
       "\n",
       "   Phosphorus  Potassium  Selenium   Zinc  Nutrition Density  \n",
       "0       0.091       15.5    19.100  0.039              7.070  \n",
       "1     117.300      129.2     0.054  0.700            130.100  \n",
       "2       0.000        0.0     0.000  0.000              5.400  \n",
       "3       0.024       30.8    43.800  0.035              5.196  \n",
       "4      22.800       37.1     0.034  0.053             27.007  \n",
       "\n",
       "[5 rows x 37 columns]"
      ]
     },
     "execution_count": 6,
     "metadata": {},
     "output_type": "execute_result"
    }
   ],
   "source": [
    "# Print the first five rows of the data\n",
    "my_data.head()"
   ]
  },
  {
   "cell_type": "markdown",
   "id": "df52e3d7",
   "metadata": {
    "papermill": {
     "duration": 0.008188,
     "end_time": "2024-07-24T23:02:33.856790",
     "exception": false,
     "start_time": "2024-07-24T23:02:33.848602",
     "status": "completed"
    },
    "tags": []
   },
   "source": [
    "## Step 4: Visualize the data\n",
    "\n",
    "Use the next code cell to create a figure that tells a story behind your dataset.  You can use any chart type (_line chart, bar chart, heatmap, etc_) of your choosing!"
   ]
  },
  {
   "cell_type": "code",
   "execution_count": 7,
   "id": "86f26a84",
   "metadata": {
    "execution": {
     "iopub.execute_input": "2024-07-24T23:02:33.874941Z",
     "iopub.status.busy": "2024-07-24T23:02:33.874083Z",
     "iopub.status.idle": "2024-07-24T23:02:41.723158Z",
     "shell.execute_reply": "2024-07-24T23:02:41.721825Z"
    },
    "papermill": {
     "duration": 7.861611,
     "end_time": "2024-07-24T23:02:41.726018",
     "exception": false,
     "start_time": "2024-07-24T23:02:33.864407",
     "status": "completed"
    },
    "tags": []
   },
   "outputs": [
    {
     "data": {
      "application/javascript": [
       "parent.postMessage({\"jupyterEvent\": \"custom.exercise_interaction\", \"data\": {\"outcomeType\": 1, \"valueTowardsCompletion\": 0.25, \"interactionType\": 1, \"questionType\": 2, \"questionId\": \"4_CreatePlot\", \"learnToolsVersion\": \"0.3.4\", \"failureMessage\": \"\", \"exceptionClass\": \"\", \"trace\": \"\"}}, \"*\")"
      ],
      "text/plain": [
       "<IPython.core.display.Javascript object>"
      ]
     },
     "metadata": {},
     "output_type": "display_data"
    },
    {
     "data": {
      "text/markdown": [
       "<span style=\"color:#33cc33\">Correct:</span> \n",
       "\n"
      ],
      "text/plain": [
       "Correct: \n"
      ]
     },
     "metadata": {},
     "output_type": "display_data"
    },
    {
     "data": {
      "image/png": "[encoded data removed]",
      "text/plain": [
       "<Figure size 1400x700 with 1 Axes>"
      ]
     },
     "metadata": {},
     "output_type": "display_data"
    }
   ],
   "source": [
    "# Create a plot\n",
    "plt.figure(figsize=(14,7))\n",
    "\n",
    "# Add title\n",
    "plt.title(\"Sugar content in group 1 food\")\n",
    "sns.barplot(data = my_data,x = 'food', y = 'Sugars')\n",
    "# Your code here\n",
    "\n",
    "# Check that a figure appears below\n",
    "step_4.check()"
   ]
  },
  {
   "cell_type": "markdown",
   "id": "c987deb2",
   "metadata": {
    "papermill": {
     "duration": 0.008289,
     "end_time": "2024-07-24T23:02:41.743064",
     "exception": false,
     "start_time": "2024-07-24T23:02:41.734775",
     "status": "completed"
    },
    "tags": []
   },
   "source": [
    "## Keep going\n",
    "\n",
    "Learn how to use your skills after completing the micro-course to create data visualizations in a **[final tutorial](https://www.kaggle.com/alexisbcook/creating-your-own-notebooks)**."
   ]
  },
  {
   "cell_type": "markdown",
   "id": "a9e3a70a",
   "metadata": {
    "papermill": {
     "duration": 0.00807,
     "end_time": "2024-07-24T23:02:41.759844",
     "exception": false,
     "start_time": "2024-07-24T23:02:41.751774",
     "status": "completed"
    },
    "tags": []
   },
   "source": [
    "---\n",
    "\n",
    "\n",
    "\n",
    "\n",
    "*Have questions or comments? Visit the [course discussion forum](https://www.kaggle.com/learn/data-visualization/discussion) to chat with other learners.*"
   ]
  }
 ],
 "metadata": {
  "kaggle": {
   "accelerator": "none",
   "dataSources": [
    {
     "datasetId": 5306169,
     "sourceId": 8820139,
     "sourceType": "datasetVersion"
    }
   ],
   "isGpuEnabled": false,
   "isInternetEnabled": false,
   "language": "python",
   "sourceType": "notebook"
  },
  "kernelspec": {
   "display_name": "Python 3",
   "language": "python",
   "name": "python3"
  },
  "language_info": {
   "codemirror_mode": {
    "name": "ipython",
    "version": 3
   },
   "file_extension": ".py",
   "mimetype": "text/x-python",
   "name": "python",
   "nbconvert_exporter": "python",
   "pygments_lexer": "ipython3",
   "version": "3.10.13"
  },
  "papermill": {
   "default_parameters": {},
   "duration": 15.841438,
   "end_time": "2024-07-24T23:02:42.592087",
   "environment_variables": {},
   "exception": null,
   "input_path": "__notebook__.ipynb",
   "output_path": "__notebook__.ipynb",
   "parameters": {},
   "start_time": "2024-07-24T23:02:26.750649",
   "version": "2.5.0"
  }
 },
 "nbformat": 4,
 "nbformat_minor": 5
}
