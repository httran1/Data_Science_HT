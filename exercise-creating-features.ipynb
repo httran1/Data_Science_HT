{
 "cells": [
  {
   "cell_type": "markdown",
   "id": "10789dda",
   "metadata": {
    "papermill": {
     "duration": 0.008636,
     "end_time": "2024-08-17T20:36:57.507333",
     "exception": false,
     "start_time": "2024-08-17T20:36:57.498697",
     "status": "completed"
    },
    "tags": []
   },
   "source": [
    "**This notebook is an exercise in the [Feature Engineering](https://www.kaggle.com/learn/feature-engineering) course.  You can reference the tutorial at [this link](https://www.kaggle.com/ryanholbrook/creating-features).**\n",
    "\n",
    "---\n"
   ]
  },
  {
   "cell_type": "markdown",
   "id": "16ccdee0",
   "metadata": {
    "papermill": {
     "duration": 0.007168,
     "end_time": "2024-08-17T20:36:57.522449",
     "exception": false,
     "start_time": "2024-08-17T20:36:57.515281",
     "status": "completed"
    },
    "tags": []
   },
   "source": [
    "# Introduction #\n",
    "\n",
    "In this exercise you'll start developing the features you identified in Exercise 2 as having the most potential. As you work through this exercise, you might take a moment to look at the data documentation again and consider whether the features we're creating make sense from a real-world perspective, and whether there are any useful combinations that stand out to you.\n",
    "\n",
    "Run this cell to set everything up!"
   ]
  },
  {
   "cell_type": "code",
   "execution_count": 1,
   "id": "f30ad85d",
   "metadata": {
    "execution": {
     "iopub.execute_input": "2024-08-17T20:36:57.539306Z",
     "iopub.status.busy": "2024-08-17T20:36:57.538882Z",
     "iopub.status.idle": "2024-08-17T20:37:00.382553Z",
     "shell.execute_reply": "2024-08-17T20:37:00.381486Z"
    },
    "papermill": {
     "duration": 2.855293,
     "end_time": "2024-08-17T20:37:00.385337",
     "exception": false,
     "start_time": "2024-08-17T20:36:57.530044",
     "status": "completed"
    },
    "tags": []
   },
   "outputs": [],
   "source": [
    "# Setup feedback system\n",
    "from learntools.core import binder\n",
    "binder.bind(globals())\n",
    "from learntools.feature_engineering_new.ex3 import *\n",
    "\n",
    "import numpy as np\n",
    "import pandas as pd\n",
    "from sklearn.model_selection import cross_val_score\n",
    "from xgboost import XGBRegressor\n",
    "\n",
    "\n",
    "def score_dataset(X, y, model=XGBRegressor()):\n",
    "    # Label encoding for categoricals\n",
    "    for colname in X.select_dtypes([\"category\", \"object\"]):\n",
    "        X[colname], _ = X[colname].factorize()\n",
    "    # Metric for Housing competition is RMSLE (Root Mean Squared Log Error)\n",
    "    score = cross_val_score(\n",
    "        model, X, y, cv=5, scoring=\"neg_mean_squared_log_error\",\n",
    "    )\n",
    "    score = -1 * score.mean()\n",
    "    score = np.sqrt(score)\n",
    "    return score\n",
    "\n",
    "\n",
    "# Prepare data\n",
    "df = pd.read_csv(\"../input/fe-course-data/ames.csv\")\n",
    "X = df.copy()\n",
    "y = X.pop(\"SalePrice\")"
   ]
  },
  {
   "cell_type": "markdown",
   "id": "77151071",
   "metadata": {
    "papermill": {
     "duration": 0.007294,
     "end_time": "2024-08-17T20:37:00.400329",
     "exception": false,
     "start_time": "2024-08-17T20:37:00.393035",
     "status": "completed"
    },
    "tags": []
   },
   "source": [
    "-------------------------------------------------------------------------------\n",
    "\n",
    "Let's start with a few mathematical combinations. We'll focus on features describing areas -- having the same units (square-feet) makes it easy to combine them in sensible ways. Since we're using XGBoost (a tree-based model), we'll focus on ratios and sums.\n",
    "\n",
    "# 1) Create Mathematical Transforms\n",
    "\n",
    "Create the following features:\n",
    "\n",
    "- `LivLotRatio`: the ratio of `GrLivArea` to `LotArea`\n",
    "- `Spaciousness`: the sum of `FirstFlrSF` and `SecondFlrSF` divided by `TotRmsAbvGrd`\n",
    "- `TotalOutsideSF`: the sum of `WoodDeckSF`, `OpenPorchSF`, `EnclosedPorch`, `Threeseasonporch`, and `ScreenPorch`"
   ]
  },
  {
   "cell_type": "code",
   "execution_count": 2,
   "id": "0a68577c",
   "metadata": {
    "execution": {
     "iopub.execute_input": "2024-08-17T20:37:00.418339Z",
     "iopub.status.busy": "2024-08-17T20:37:00.417933Z",
     "iopub.status.idle": "2024-08-17T20:37:00.443266Z",
     "shell.execute_reply": "2024-08-17T20:37:00.442023Z"
    },
    "lines_to_next_cell": 0,
    "papermill": {
     "duration": 0.037591,
     "end_time": "2024-08-17T20:37:00.446006",
     "exception": false,
     "start_time": "2024-08-17T20:37:00.408415",
     "status": "completed"
    },
    "tags": []
   },
   "outputs": [
    {
     "data": {
      "application/javascript": [
       "parent.postMessage({\"jupyterEvent\": \"custom.exercise_interaction\", \"data\": {\"outcomeType\": 1, \"valueTowardsCompletion\": 0.2, \"interactionType\": 1, \"questionType\": 2, \"questionId\": \"1_Q1\", \"learnToolsVersion\": \"0.3.4\", \"failureMessage\": \"\", \"exceptionClass\": \"\", \"trace\": \"\"}}, \"*\")"
      ],
      "text/plain": [
       "<IPython.core.display.Javascript object>"
      ]
     },
     "metadata": {},
     "output_type": "display_data"
    },
    {
     "data": {
      "text/markdown": [
       "<span style=\"color:#33cc33\">Correct</span>"
      ],
      "text/plain": [
       "Correct"
      ]
     },
     "metadata": {},
     "output_type": "display_data"
    }
   ],
   "source": [
    "# YOUR CODE HERE\n",
    "X_1 = pd.DataFrame()  # dataframe to hold new features\n",
    "\n",
    "X_1[\"LivLotRatio\"] = df[\"GrLivArea\"]/df[\"LotArea\"]\n",
    "X_1[\"Spaciousness\"] = (df[\"FirstFlrSF\"]+df[\"SecondFlrSF\"])/df[\"TotRmsAbvGrd\"]\n",
    "X_1[\"TotalOutsideSF\"] = df[[\"WoodDeckSF\",\"OpenPorchSF\",\"EnclosedPorch\",\"Threeseasonporch\",\"ScreenPorch\"]].sum(axis=1)\n",
    "\n",
    "# Check your answer\n",
    "q_1.check()"
   ]
  },
  {
   "cell_type": "code",
   "execution_count": 3,
   "id": "6f07b8b1",
   "metadata": {
    "execution": {
     "iopub.execute_input": "2024-08-17T20:37:00.464098Z",
     "iopub.status.busy": "2024-08-17T20:37:00.463645Z",
     "iopub.status.idle": "2024-08-17T20:37:00.468852Z",
     "shell.execute_reply": "2024-08-17T20:37:00.467687Z"
    },
    "lines_to_next_cell": 0,
    "papermill": {
     "duration": 0.01718,
     "end_time": "2024-08-17T20:37:00.471447",
     "exception": false,
     "start_time": "2024-08-17T20:37:00.454267",
     "status": "completed"
    },
    "tags": []
   },
   "outputs": [],
   "source": [
    "# Lines below will give you a hint or solution code\n",
    "#q_1.hint()\n",
    "#q_1.solution()"
   ]
  },
  {
   "cell_type": "markdown",
   "id": "6d9440d7",
   "metadata": {
    "papermill": {
     "duration": 0.008131,
     "end_time": "2024-08-17T20:37:00.487547",
     "exception": false,
     "start_time": "2024-08-17T20:37:00.479416",
     "status": "completed"
    },
    "tags": []
   },
   "source": [
    "-------------------------------------------------------------------------------\n",
    "\n",
    "If you've discovered an interaction effect between a numeric feature and a categorical feature, you might want to model it explicitly using a one-hot encoding, like so:\n",
    "\n",
    "```\n",
    "# One-hot encode Categorical feature, adding a column prefix \"Cat\"\n",
    "X_new = pd.get_dummies(df.Categorical, prefix=\"Cat\")\n",
    "\n",
    "# Multiply row-by-row\n",
    "X_new = X_new.mul(df.Continuous, axis=0)\n",
    "\n",
    "# Join the new features to the feature set\n",
    "X = X.join(X_new)\n",
    "```\n",
    "\n",
    "# 2) Interaction with a Categorical\n",
    "\n",
    "We discovered an interaction between `BldgType` and `GrLivArea` in Exercise 2. Now create their interaction features."
   ]
  },
  {
   "cell_type": "code",
   "execution_count": 4,
   "id": "816cab8a",
   "metadata": {
    "execution": {
     "iopub.execute_input": "2024-08-17T20:37:00.505643Z",
     "iopub.status.busy": "2024-08-17T20:37:00.504777Z",
     "iopub.status.idle": "2024-08-17T20:37:00.524232Z",
     "shell.execute_reply": "2024-08-17T20:37:00.522930Z"
    },
    "lines_to_next_cell": 0,
    "papermill": {
     "duration": 0.031246,
     "end_time": "2024-08-17T20:37:00.526807",
     "exception": false,
     "start_time": "2024-08-17T20:37:00.495561",
     "status": "completed"
    },
    "tags": []
   },
   "outputs": [
    {
     "data": {
      "application/javascript": [
       "parent.postMessage({\"jupyterEvent\": \"custom.exercise_interaction\", \"data\": {\"outcomeType\": 1, \"valueTowardsCompletion\": 0.2, \"interactionType\": 1, \"questionType\": 2, \"questionId\": \"2_Q2\", \"learnToolsVersion\": \"0.3.4\", \"failureMessage\": \"\", \"exceptionClass\": \"\", \"trace\": \"\"}}, \"*\")"
      ],
      "text/plain": [
       "<IPython.core.display.Javascript object>"
      ]
     },
     "metadata": {},
     "output_type": "display_data"
    },
    {
     "data": {
      "text/markdown": [
       "<span style=\"color:#33cc33\">Correct</span>"
      ],
      "text/plain": [
       "Correct"
      ]
     },
     "metadata": {},
     "output_type": "display_data"
    }
   ],
   "source": [
    "# YOUR CODE HERE\n",
    "# One-hot encode BldgType. Use `prefix=\"Bldg\"` in `get_dummies`\n",
    "X_2 = pd.get_dummies(df.BldgType, prefix = \"Bldg\")\n",
    "# Multiply\n",
    "X_2 = X_2.mul(df.GrLivArea, axis = 0)\n",
    "\n",
    "\n",
    "# Check your answer\n",
    "q_2.check()"
   ]
  },
  {
   "cell_type": "code",
   "execution_count": 5,
   "id": "106b7823",
   "metadata": {
    "execution": {
     "iopub.execute_input": "2024-08-17T20:37:00.545415Z",
     "iopub.status.busy": "2024-08-17T20:37:00.544984Z",
     "iopub.status.idle": "2024-08-17T20:37:00.550300Z",
     "shell.execute_reply": "2024-08-17T20:37:00.548966Z"
    },
    "lines_to_next_cell": 0,
    "papermill": {
     "duration": 0.017754,
     "end_time": "2024-08-17T20:37:00.553033",
     "exception": false,
     "start_time": "2024-08-17T20:37:00.535279",
     "status": "completed"
    },
    "tags": []
   },
   "outputs": [],
   "source": [
    "# Lines below will give you a hint or solution code\n",
    "#q_2.hint()\n",
    "#q_2.solution()"
   ]
  },
  {
   "cell_type": "markdown",
   "id": "f9ac98f0",
   "metadata": {
    "lines_to_next_cell": 0,
    "papermill": {
     "duration": 0.008689,
     "end_time": "2024-08-17T20:37:00.570867",
     "exception": false,
     "start_time": "2024-08-17T20:37:00.562178",
     "status": "completed"
    },
    "tags": []
   },
   "source": [
    "# 3) Count Feature\n",
    "\n",
    "Let's try creating a feature that describes how many kinds of outdoor areas a dwelling has. Create a feature `PorchTypes` that counts how many of the following are greater than 0.0:\n",
    "\n",
    "```\n",
    "WoodDeckSF\n",
    "OpenPorchSF\n",
    "EnclosedPorch\n",
    "Threeseasonporch\n",
    "ScreenPorch\n",
    "```"
   ]
  },
  {
   "cell_type": "code",
   "execution_count": 6,
   "id": "c47ee4ef",
   "metadata": {
    "execution": {
     "iopub.execute_input": "2024-08-17T20:37:00.591392Z",
     "iopub.status.busy": "2024-08-17T20:37:00.590536Z",
     "iopub.status.idle": "2024-08-17T20:37:00.612618Z",
     "shell.execute_reply": "2024-08-17T20:37:00.611176Z"
    },
    "lines_to_next_cell": 0,
    "papermill": {
     "duration": 0.035713,
     "end_time": "2024-08-17T20:37:00.615335",
     "exception": false,
     "start_time": "2024-08-17T20:37:00.579622",
     "status": "completed"
    },
    "tags": []
   },
   "outputs": [
    {
     "data": {
      "application/javascript": [
       "parent.postMessage({\"jupyterEvent\": \"custom.exercise_interaction\", \"data\": {\"outcomeType\": 1, \"valueTowardsCompletion\": 0.2, \"interactionType\": 1, \"questionType\": 2, \"questionId\": \"3_Q3\", \"learnToolsVersion\": \"0.3.4\", \"failureMessage\": \"\", \"exceptionClass\": \"\", \"trace\": \"\"}}, \"*\")"
      ],
      "text/plain": [
       "<IPython.core.display.Javascript object>"
      ]
     },
     "metadata": {},
     "output_type": "display_data"
    },
    {
     "data": {
      "text/markdown": [
       "<span style=\"color:#33cc33\">Correct</span>"
      ],
      "text/plain": [
       "Correct"
      ]
     },
     "metadata": {},
     "output_type": "display_data"
    }
   ],
   "source": [
    "X_3 = pd.DataFrame()\n",
    "\n",
    "# YOUR CODE HERE\n",
    "X_3[\"PorchTypes\"] = df[[\"WoodDeckSF\",\n",
    "\"OpenPorchSF\",\n",
    "\"EnclosedPorch\",\n",
    "\"Threeseasonporch\",\n",
    "\"ScreenPorch\"]].gt(0).sum(axis=1)\n",
    "\n",
    "\n",
    "# Check your answer\n",
    "q_3.check()"
   ]
  },
  {
   "cell_type": "code",
   "execution_count": 7,
   "id": "dd18f4a4",
   "metadata": {
    "execution": {
     "iopub.execute_input": "2024-08-17T20:37:00.634741Z",
     "iopub.status.busy": "2024-08-17T20:37:00.634269Z",
     "iopub.status.idle": "2024-08-17T20:37:00.640694Z",
     "shell.execute_reply": "2024-08-17T20:37:00.639296Z"
    },
    "lines_to_next_cell": 0,
    "papermill": {
     "duration": 0.019974,
     "end_time": "2024-08-17T20:37:00.644019",
     "exception": false,
     "start_time": "2024-08-17T20:37:00.624045",
     "status": "completed"
    },
    "tags": []
   },
   "outputs": [],
   "source": [
    "# Lines below will give you a hint or solution code\n",
    "#q_3.hint()\n",
    "#q_3.solution()"
   ]
  },
  {
   "cell_type": "markdown",
   "id": "4867fbe2",
   "metadata": {
    "papermill": {
     "duration": 0.008696,
     "end_time": "2024-08-17T20:37:00.661871",
     "exception": false,
     "start_time": "2024-08-17T20:37:00.653175",
     "status": "completed"
    },
    "tags": []
   },
   "source": [
    "# 4) Break Down a Categorical Feature\n",
    "\n",
    "`MSSubClass` describes the type of a dwelling:"
   ]
  },
  {
   "cell_type": "code",
   "execution_count": 8,
   "id": "256af23a",
   "metadata": {
    "execution": {
     "iopub.execute_input": "2024-08-17T20:37:00.680748Z",
     "iopub.status.busy": "2024-08-17T20:37:00.680357Z",
     "iopub.status.idle": "2024-08-17T20:37:00.688908Z",
     "shell.execute_reply": "2024-08-17T20:37:00.687813Z"
    },
    "papermill": {
     "duration": 0.021094,
     "end_time": "2024-08-17T20:37:00.691521",
     "exception": false,
     "start_time": "2024-08-17T20:37:00.670427",
     "status": "completed"
    },
    "tags": []
   },
   "outputs": [
    {
     "data": {
      "text/plain": [
       "array(['One_Story_1946_and_Newer_All_Styles', 'Two_Story_1946_and_Newer',\n",
       "       'One_Story_PUD_1946_and_Newer',\n",
       "       'One_and_Half_Story_Finished_All_Ages', 'Split_Foyer',\n",
       "       'Two_Story_PUD_1946_and_Newer', 'Split_or_Multilevel',\n",
       "       'One_Story_1945_and_Older', 'Duplex_All_Styles_and_Ages',\n",
       "       'Two_Family_conversion_All_Styles_and_Ages',\n",
       "       'One_and_Half_Story_Unfinished_All_Ages',\n",
       "       'Two_Story_1945_and_Older', 'Two_and_Half_Story_All_Ages',\n",
       "       'One_Story_with_Finished_Attic_All_Ages',\n",
       "       'PUD_Multilevel_Split_Level_Foyer',\n",
       "       'One_and_Half_Story_PUD_All_Ages'], dtype=object)"
      ]
     },
     "execution_count": 8,
     "metadata": {},
     "output_type": "execute_result"
    }
   ],
   "source": [
    "df.MSSubClass.unique()"
   ]
  },
  {
   "cell_type": "markdown",
   "id": "e10889ed",
   "metadata": {
    "papermill": {
     "duration": 0.008897,
     "end_time": "2024-08-17T20:37:00.710198",
     "exception": false,
     "start_time": "2024-08-17T20:37:00.701301",
     "status": "completed"
    },
    "tags": []
   },
   "source": [
    "You can see that there is a more general categorization described (roughly) by the first word of each category. Create a feature containing only these first words by splitting `MSSubClass` at the first underscore `_`. (Hint: In the `split` method use an argument `n=1`.)"
   ]
  },
  {
   "cell_type": "code",
   "execution_count": 9,
   "id": "543b1b2d",
   "metadata": {
    "execution": {
     "iopub.execute_input": "2024-08-17T20:37:00.730157Z",
     "iopub.status.busy": "2024-08-17T20:37:00.729708Z",
     "iopub.status.idle": "2024-08-17T20:37:00.843786Z",
     "shell.execute_reply": "2024-08-17T20:37:00.842172Z"
    },
    "lines_to_next_cell": 0,
    "papermill": {
     "duration": 0.127473,
     "end_time": "2024-08-17T20:37:00.846728",
     "exception": false,
     "start_time": "2024-08-17T20:37:00.719255",
     "status": "completed"
    },
    "tags": []
   },
   "outputs": [
    {
     "data": {
      "application/javascript": [
       "parent.postMessage({\"jupyterEvent\": \"custom.exercise_interaction\", \"data\": {\"outcomeType\": 1, \"valueTowardsCompletion\": 0.2, \"interactionType\": 1, \"questionType\": 2, \"questionId\": \"4_Q4\", \"learnToolsVersion\": \"0.3.4\", \"failureMessage\": \"\", \"exceptionClass\": \"\", \"trace\": \"\"}}, \"*\")"
      ],
      "text/plain": [
       "<IPython.core.display.Javascript object>"
      ]
     },
     "metadata": {},
     "output_type": "display_data"
    },
    {
     "data": {
      "text/markdown": [
       "<span style=\"color:#33cc33\">Correct</span>"
      ],
      "text/plain": [
       "Correct"
      ]
     },
     "metadata": {},
     "output_type": "display_data"
    }
   ],
   "source": [
    "X_4 = pd.DataFrame()\n",
    "\n",
    "# YOUR CODE HERE\n",
    "X_4[\"MSClass\"] = df.MSSubClass.str.split(\"_\", n=1,expand=True)[0]\n",
    "\n",
    "# Check your answer\n",
    "q_4.check()"
   ]
  },
  {
   "cell_type": "code",
   "execution_count": 10,
   "id": "9d2197a2",
   "metadata": {
    "execution": {
     "iopub.execute_input": "2024-08-17T20:37:00.869214Z",
     "iopub.status.busy": "2024-08-17T20:37:00.868760Z",
     "iopub.status.idle": "2024-08-17T20:37:00.879027Z",
     "shell.execute_reply": "2024-08-17T20:37:00.877839Z"
    },
    "lines_to_next_cell": 0,
    "papermill": {
     "duration": 0.02472,
     "end_time": "2024-08-17T20:37:00.881748",
     "exception": false,
     "start_time": "2024-08-17T20:37:00.857028",
     "status": "completed"
    },
    "tags": []
   },
   "outputs": [
    {
     "data": {
      "application/javascript": [
       "parent.postMessage({\"jupyterEvent\": \"custom.exercise_interaction\", \"data\": {\"interactionType\": 3, \"questionType\": 2, \"questionId\": \"4_Q4\", \"learnToolsVersion\": \"0.3.4\", \"valueTowardsCompletion\": 0.0, \"failureMessage\": \"\", \"exceptionClass\": \"\", \"trace\": \"\", \"outcomeType\": 4}}, \"*\")"
      ],
      "text/plain": [
       "<IPython.core.display.Javascript object>"
      ]
     },
     "metadata": {},
     "output_type": "display_data"
    },
    {
     "data": {
      "text/markdown": [
       "<span style=\"color:#33cc99\">Solution:</span> \n",
       "```python\n",
       "\n",
       "X_4 = pd.DataFrame()\n",
       "\n",
       "X_4[\"MSClass\"] = df.MSSubClass.str.split(\"_\", n=1, expand=True)[0]\n",
       "\n",
       "```"
      ],
      "text/plain": [
       "Solution: \n",
       "```python\n",
       "\n",
       "X_4 = pd.DataFrame()\n",
       "\n",
       "X_4[\"MSClass\"] = df.MSSubClass.str.split(\"_\", n=1, expand=True)[0]\n",
       "\n",
       "```"
      ]
     },
     "metadata": {},
     "output_type": "display_data"
    }
   ],
   "source": [
    "# Lines below will give you a hint or solution code\n",
    "#q_4.hint()\n",
    "q_4.solution()"
   ]
  },
  {
   "cell_type": "markdown",
   "id": "f7bf28ce",
   "metadata": {
    "papermill": {
     "duration": 0.009989,
     "end_time": "2024-08-17T20:37:00.901394",
     "exception": false,
     "start_time": "2024-08-17T20:37:00.891405",
     "status": "completed"
    },
    "tags": []
   },
   "source": [
    "# 5) Use a Grouped Transform\n",
    "\n",
    "The value of a home often depends on how it compares to typical homes in its neighborhood. Create a feature `MedNhbdArea` that describes the *median* of `GrLivArea` grouped on `Neighborhood`."
   ]
  },
  {
   "cell_type": "code",
   "execution_count": 11,
   "id": "7a211f2c",
   "metadata": {
    "execution": {
     "iopub.execute_input": "2024-08-17T20:37:00.923164Z",
     "iopub.status.busy": "2024-08-17T20:37:00.922514Z",
     "iopub.status.idle": "2024-08-17T20:37:00.944436Z",
     "shell.execute_reply": "2024-08-17T20:37:00.943186Z"
    },
    "lines_to_next_cell": 0,
    "papermill": {
     "duration": 0.036124,
     "end_time": "2024-08-17T20:37:00.947343",
     "exception": false,
     "start_time": "2024-08-17T20:37:00.911219",
     "status": "completed"
    },
    "tags": []
   },
   "outputs": [
    {
     "data": {
      "application/javascript": [
       "parent.postMessage({\"jupyterEvent\": \"custom.exercise_interaction\", \"data\": {\"outcomeType\": 1, \"valueTowardsCompletion\": 0.2, \"interactionType\": 1, \"questionType\": 2, \"questionId\": \"5_Q5\", \"learnToolsVersion\": \"0.3.4\", \"failureMessage\": \"\", \"exceptionClass\": \"\", \"trace\": \"\"}}, \"*\")"
      ],
      "text/plain": [
       "<IPython.core.display.Javascript object>"
      ]
     },
     "metadata": {},
     "output_type": "display_data"
    },
    {
     "data": {
      "text/markdown": [
       "<span style=\"color:#33cc33\">Correct</span>"
      ],
      "text/plain": [
       "Correct"
      ]
     },
     "metadata": {},
     "output_type": "display_data"
    }
   ],
   "source": [
    "X_5 = pd.DataFrame()\n",
    "\n",
    "# YOUR CODE HERE\n",
    "X_5[\"MedNhbdArea\"] = df.groupby(\"Neighborhood\")[\"GrLivArea\"].transform(\"median\")\n",
    "\n",
    "# Check your answer\n",
    "q_5.check()"
   ]
  },
  {
   "cell_type": "code",
   "execution_count": 12,
   "id": "73e2f614",
   "metadata": {
    "execution": {
     "iopub.execute_input": "2024-08-17T20:37:00.969760Z",
     "iopub.status.busy": "2024-08-17T20:37:00.969354Z",
     "iopub.status.idle": "2024-08-17T20:37:00.974573Z",
     "shell.execute_reply": "2024-08-17T20:37:00.973371Z"
    },
    "lines_to_next_cell": 0,
    "papermill": {
     "duration": 0.019931,
     "end_time": "2024-08-17T20:37:00.977392",
     "exception": false,
     "start_time": "2024-08-17T20:37:00.957461",
     "status": "completed"
    },
    "tags": []
   },
   "outputs": [],
   "source": [
    "# Lines below will give you a hint or solution code\n",
    "#q_5.hint()\n",
    "#q_5.solution()"
   ]
  },
  {
   "cell_type": "markdown",
   "id": "3587d83d",
   "metadata": {
    "papermill": {
     "duration": 0.009493,
     "end_time": "2024-08-17T20:37:00.997120",
     "exception": false,
     "start_time": "2024-08-17T20:37:00.987627",
     "status": "completed"
    },
    "tags": []
   },
   "source": [
    "Now you've made your first new feature set! If you like, you can run the cell below to score the model with all of your new features added:"
   ]
  },
  {
   "cell_type": "code",
   "execution_count": 13,
   "id": "f7df7baa",
   "metadata": {
    "execution": {
     "iopub.execute_input": "2024-08-17T20:37:01.019117Z",
     "iopub.status.busy": "2024-08-17T20:37:01.018639Z",
     "iopub.status.idle": "2024-08-17T20:37:05.250132Z",
     "shell.execute_reply": "2024-08-17T20:37:05.249154Z"
    },
    "papermill": {
     "duration": 4.245568,
     "end_time": "2024-08-17T20:37:05.252529",
     "exception": false,
     "start_time": "2024-08-17T20:37:01.006961",
     "status": "completed"
    },
    "tags": []
   },
   "outputs": [
    {
     "data": {
      "text/plain": [
       "0.13954039591355258"
      ]
     },
     "execution_count": 13,
     "metadata": {},
     "output_type": "execute_result"
    }
   ],
   "source": [
    "X_new = X.join([X_1, X_2, X_3, X_4, X_5])\n",
    "score_dataset(X_new, y)"
   ]
  },
  {
   "cell_type": "markdown",
   "id": "7c245a86",
   "metadata": {
    "papermill": {
     "duration": 0.00979,
     "end_time": "2024-08-17T20:37:05.274310",
     "exception": false,
     "start_time": "2024-08-17T20:37:05.264520",
     "status": "completed"
    },
    "tags": []
   },
   "source": [
    "# Keep Going #\n",
    "\n",
    "[**Untangle spatial relationships**](https://www.kaggle.com/ryanholbrook/clustering-with-k-means) by adding cluster labels to your dataset."
   ]
  },
  {
   "cell_type": "markdown",
   "id": "146c6d95",
   "metadata": {
    "papermill": {
     "duration": 0.009796,
     "end_time": "2024-08-17T20:37:05.295166",
     "exception": false,
     "start_time": "2024-08-17T20:37:05.285370",
     "status": "completed"
    },
    "tags": []
   },
   "source": [
    "---\n",
    "\n",
    "\n",
    "\n",
    "\n",
    "*Have questions or comments? Visit the [course discussion forum](https://www.kaggle.com/learn/feature-engineering/discussion) to chat with other learners.*"
   ]
  }
 ],
 "metadata": {
  "jupytext": {
   "cell_metadata_filter": "-all",
   "formats": "ipynb"
  },
  "kaggle": {
   "accelerator": "none",
   "dataSources": [
    {
     "datasetId": 933090,
     "sourceId": 1828856,
     "sourceType": "datasetVersion"
    }
   ],
   "isGpuEnabled": false,
   "isInternetEnabled": false,
   "language": "python",
   "sourceType": "notebook"
  },
  "kernelspec": {
   "display_name": "Python 3",
   "language": "python",
   "name": "python3"
  },
  "language_info": {
   "codemirror_mode": {
    "name": "ipython",
    "version": 3
   },
   "file_extension": ".py",
   "mimetype": "text/x-python",
   "name": "python",
   "nbconvert_exporter": "python",
   "pygments_lexer": "ipython3",
   "version": "3.10.13"
  },
  "papermill": {
   "default_parameters": {},
   "duration": 11.730682,
   "end_time": "2024-08-17T20:37:05.927338",
   "environment_variables": {},
   "exception": null,
   "input_path": "__notebook__.ipynb",
   "output_path": "__notebook__.ipynb",
   "parameters": {},
   "start_time": "2024-08-17T20:36:54.196656",
   "version": "2.5.0"
  }
 },
 "nbformat": 4,
 "nbformat_minor": 5
}
