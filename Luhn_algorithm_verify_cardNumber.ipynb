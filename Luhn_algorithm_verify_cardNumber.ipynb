{
  "nbformat": 4,
  "nbformat_minor": 0,
  "metadata": {
    "colab": {
      "provenance": [],
      "authorship_tag": "ABX9TyMaRHe66/MhqZmBrEOhIqAt",
      "include_colab_link": true
    },
    "kernelspec": {
      "name": "python3",
      "display_name": "Python 3"
    },
    "language_info": {
      "name": "python"
    }
  },
  "cells": [
    {
      "cell_type": "markdown",
      "metadata": {
        "id": "view-in-github",
        "colab_type": "text"
      },
      "source": [
        "<a href=\"https://colab.research.google.com/github/httran1/Data_Science_HT/blob/main/Luhn_algorithm_verify_cardNumber.ipynb\" target=\"_parent\"><img src=\"https://colab.research.google.com/assets/colab-badge.svg\" alt=\"Open In Colab\"/></a>"
      ]
    },
    {
      "cell_type": "markdown",
      "source": [
        "# LUHN ALGORITHM\n",
        "The Luhn Algorithm is widely used for error-checking in various applications such as verifying credit card numbers. This algorithm is a formula to validate a variety of identification numbers. The Luhn algorithm is as follows:\n",
        "\n",
        "  From the right to left, double the value of every second digit; if the product is greater than 9, sum the digits of the products.\n",
        "  Take the sum of all the digits.\n",
        "  \n",
        "**If the sum of all the digits is a multiple of 10, then the number is valid; else it is not valid.**\n",
        "  \n",
        "  Assume an example of an account number \"7992739871\" that will have a check digit added, making it of the form 7992739871x:\n",
        "\n",
        "    Account number      7   9  9  2  7  3  9   8  7  1  x\n",
        "\n",
        "    ouble every other   7  18  9  4  7  6  9  16  7  2  x\n",
        "\n",
        "    Sum 2-char digits   7   9  9  4  7  6  9   7  7  2  x\n"
      ],
      "metadata": {
        "id": "AIH6t8s7-aE9"
      }
    },
    {
      "cell_type": "markdown",
      "source": [
        "# STEP BY STEP INSTRUCTION\n",
        "\n",
        "\n",
        "---\n",
        "\n",
        "\n",
        "*   Define main function\n",
        "*   Create user input and assign it to card number. Note: this should be string\n",
        "*   Create a translation table with maketrans and replace all - and ' ' with an empty string\n",
        "*   Use translate method with translation table as an argument\n",
        "\n",
        "\n",
        "---\n",
        "\n",
        "\n",
        "*   Define verify card number function with translated card number as argument\n",
        "*   Create a varibale for sum of odd digits and assign it to a value of 0\n",
        "*   Assign the reverse of full card number string to the card number reversed variable\n",
        "*   Assign every other digit of card number reversed string to odd digits variable\n",
        "*   Loop over each digit in odd digits and add them into the sum of odd digit variable. Note: use int() to change to integer\n",
        "\n",
        "\n",
        "\n",
        "\n",
        "---\n",
        "\n",
        "\n",
        "\n",
        "*   Create and assign sum of even digit to a value of 0\n",
        "*   Assign even digits of reversed card number to even digits variable\n",
        "*   Loop over each digit and mulplying all even digit by 2. To prevent the multiplication of one digit from being greater than 9, within the even digit loop, add an if statement that checks if number is greater than or equal to 10.\n",
        "*   Add number to sum of even digits\n",
        "*   Create a total variable and assign it the value of the sum of the odd and even digits\n",
        "*   Return the result of comparing 0 to total modulo 10\n",
        "*   Adjust the verify card number function such that if it return VALID if True. Otherwise, print INVALID\n",
        "\n",
        "\n",
        "\n"
      ],
      "metadata": {
        "id": "mC0qwbz2-7ds"
      }
    },
    {
      "cell_type": "code",
      "source": [
        "def verify_card_number(card_number):\n",
        "\n",
        "    sum_of_odd_digits = 0\n",
        "    card_number_reversed = card_number[::-1]\n",
        "    odd_digits = card_number_reversed[::2]\n",
        "    for digit in odd_digits:\n",
        "        sum_of_odd_digits += int(digit)\n",
        "\n",
        "    sum_of_even_digits = 0\n",
        "    even_digits = card_number_reversed[1::2]\n",
        "    for digit in even_digits:\n",
        "        number = int(digit) * 2\n",
        "        if number >= 10:\n",
        "            number = (number // 10) + (number % 10)\n",
        "        sum_of_even_digits += number\n",
        "    total = sum_of_odd_digits + sum_of_even_digits\n",
        "    return total % 10 == 0 #If the sum of all the digits is a multiple of 10, then the number is valid; else it is not valid.\n",
        "\n",
        "def main():\n",
        "    user_input = input(\"Please enter your credit card number: \")\n",
        "    card_number = str(user_input)\n",
        "    card_translation = str.maketrans({'-': '', ' ': ''})\n",
        "    translated_card_number = card_number.translate(card_translation)\n",
        "\n",
        "    if verify_card_number(translated_card_number):\n",
        "        print('VALID!')\n",
        "    else:\n",
        "        print('INVALID!')\n",
        "\n",
        "main()"
      ],
      "metadata": {
        "colab": {
          "base_uri": "https://localhost:8080/"
        },
        "id": "IAcRUOQw-IHz",
        "outputId": "909bdf81-1dbb-4dd6-fd1d-97179273dba0"
      },
      "execution_count": null,
      "outputs": [
        {
          "output_type": "stream",
          "name": "stdout",
          "text": [
            "Please enter your credit card number: 123456789789\n",
            "INVALID!\n"
          ]
        }
      ]
    },
    {
      "cell_type": "markdown",
      "source": [
        "Credit: [https://www.freecodecamp.org/learn/scientific-computing-with-python/#learn-how-to-work-with-numbers-and-strings-by-implementing-the-luhn-algorithm](https://)"
      ],
      "metadata": {
        "id": "yCsXUog8Eitg"
      }
    },
    {
      "cell_type": "code",
      "source": [],
      "metadata": {
        "id": "zdzUTyDBEonW"
      },
      "execution_count": null,
      "outputs": []
    }
  ]
}