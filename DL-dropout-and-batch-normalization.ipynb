{
 "cells": [
  {
   "cell_type": "markdown",
   "id": "ece218d2",
   "metadata": {
    "papermill": {
     "duration": 0.006648,
     "end_time": "2024-06-10T22:56:13.539342",
     "exception": false,
     "start_time": "2024-06-10T22:56:13.532694",
     "status": "completed"
    },
    "tags": []
   },
   "source": [
    "**This notebook is an exercise in the [Intro to Deep Learning](https://www.kaggle.com/learn/intro-to-deep-learning) course.  You can reference the tutorial at [this link](https://www.kaggle.com/ryanholbrook/dropout-and-batch-normalization).**\n",
    "\n",
    "---\n"
   ]
  },
  {
   "cell_type": "markdown",
   "id": "96de6386",
   "metadata": {
    "papermill": {
     "duration": 0.005644,
     "end_time": "2024-06-10T22:56:13.551194",
     "exception": false,
     "start_time": "2024-06-10T22:56:13.545550",
     "status": "completed"
    },
    "tags": []
   },
   "source": [
    "# Introduction #\n",
    "\n",
    "In this exercise, you'll add dropout to the *Spotify* model from Exercise 4 and see how batch normalization can let you successfully train models on difficult datasets.\n",
    "\n",
    "Run the next cell to get started!"
   ]
  },
  {
   "cell_type": "code",
   "execution_count": 1,
   "id": "e6ec9e1f",
   "metadata": {
    "execution": {
     "iopub.execute_input": "2024-06-10T22:56:13.565208Z",
     "iopub.status.busy": "2024-06-10T22:56:13.564455Z",
     "iopub.status.idle": "2024-06-10T22:56:14.292344Z",
     "shell.execute_reply": "2024-06-10T22:56:14.291397Z"
    },
    "papermill": {
     "duration": 0.737606,
     "end_time": "2024-06-10T22:56:14.294771",
     "exception": false,
     "start_time": "2024-06-10T22:56:13.557165",
     "status": "completed"
    },
    "tags": []
   },
   "outputs": [
    {
     "name": "stderr",
     "output_type": "stream",
     "text": [
      "/tmp/ipykernel_26/195640296.py:3: MatplotlibDeprecationWarning: The seaborn styles shipped by Matplotlib are deprecated since 3.6, as they no longer correspond to the styles shipped by seaborn. However, they will remain available as 'seaborn-v0_8-<style>'. Alternatively, directly use the seaborn API instead.\n",
      "  plt.style.use('seaborn-whitegrid')\n"
     ]
    }
   ],
   "source": [
    "# Setup plotting\n",
    "import matplotlib.pyplot as plt\n",
    "plt.style.use('seaborn-whitegrid')\n",
    "# Set Matplotlib defaults\n",
    "plt.rc('figure', autolayout=True)\n",
    "plt.rc('axes', labelweight='bold', labelsize='large',\n",
    "       titleweight='bold', titlesize=18, titlepad=10)\n",
    "plt.rc('animation', html='html5')\n",
    "\n",
    "# Setup feedback system\n",
    "from learntools.core import binder\n",
    "binder.bind(globals())\n",
    "from learntools.deep_learning_intro.ex5 import *"
   ]
  },
  {
   "cell_type": "markdown",
   "id": "8c77bfe1",
   "metadata": {
    "papermill": {
     "duration": 0.006092,
     "end_time": "2024-06-10T22:56:14.307421",
     "exception": false,
     "start_time": "2024-06-10T22:56:14.301329",
     "status": "completed"
    },
    "tags": []
   },
   "source": [
    "First load the *Spotify* dataset."
   ]
  },
  {
   "cell_type": "code",
   "execution_count": 2,
   "id": "d0ff8a1b",
   "metadata": {
    "execution": {
     "iopub.execute_input": "2024-06-10T22:56:14.321159Z",
     "iopub.status.busy": "2024-06-10T22:56:14.320730Z",
     "iopub.status.idle": "2024-06-10T22:56:27.817729Z",
     "shell.execute_reply": "2024-06-10T22:56:27.816793Z"
    },
    "papermill": {
     "duration": 13.506655,
     "end_time": "2024-06-10T22:56:27.820129",
     "exception": false,
     "start_time": "2024-06-10T22:56:14.313474",
     "status": "completed"
    },
    "tags": []
   },
   "outputs": [
    {
     "name": "stderr",
     "output_type": "stream",
     "text": [
      "2024-06-10 22:56:17.085353: E external/local_xla/xla/stream_executor/cuda/cuda_dnn.cc:9261] Unable to register cuDNN factory: Attempting to register factory for plugin cuDNN when one has already been registered\n",
      "2024-06-10 22:56:17.085485: E external/local_xla/xla/stream_executor/cuda/cuda_fft.cc:607] Unable to register cuFFT factory: Attempting to register factory for plugin cuFFT when one has already been registered\n",
      "2024-06-10 22:56:17.207824: E external/local_xla/xla/stream_executor/cuda/cuda_blas.cc:1515] Unable to register cuBLAS factory: Attempting to register factory for plugin cuBLAS when one has already been registered\n"
     ]
    },
    {
     "name": "stdout",
     "output_type": "stream",
     "text": [
      "Input shape: [18]\n"
     ]
    }
   ],
   "source": [
    "import pandas as pd\n",
    "from sklearn.preprocessing import StandardScaler, OneHotEncoder\n",
    "from sklearn.compose import make_column_transformer\n",
    "from sklearn.model_selection import GroupShuffleSplit\n",
    "\n",
    "from tensorflow import keras\n",
    "from tensorflow.keras import layers\n",
    "from tensorflow.keras import callbacks\n",
    "\n",
    "spotify = pd.read_csv('../input/dl-course-data/spotify.csv')\n",
    "\n",
    "X = spotify.copy().dropna()\n",
    "y = X.pop('track_popularity')\n",
    "artists = X['track_artist']\n",
    "\n",
    "features_num = ['danceability', 'energy', 'key', 'loudness', 'mode',\n",
    "                'speechiness', 'acousticness', 'instrumentalness',\n",
    "                'liveness', 'valence', 'tempo', 'duration_ms']\n",
    "features_cat = ['playlist_genre']\n",
    "\n",
    "preprocessor = make_column_transformer(\n",
    "    (StandardScaler(), features_num),\n",
    "    (OneHotEncoder(), features_cat),\n",
    ")\n",
    "\n",
    "def group_split(X, y, group, train_size=0.75):\n",
    "    splitter = GroupShuffleSplit(train_size=train_size)\n",
    "    train, test = next(splitter.split(X, y, groups=group))\n",
    "    return (X.iloc[train], X.iloc[test], y.iloc[train], y.iloc[test])\n",
    "\n",
    "X_train, X_valid, y_train, y_valid = group_split(X, y, artists)\n",
    "\n",
    "X_train = preprocessor.fit_transform(X_train)\n",
    "X_valid = preprocessor.transform(X_valid)\n",
    "y_train = y_train / 100\n",
    "y_valid = y_valid / 100\n",
    "\n",
    "input_shape = [X_train.shape[1]]\n",
    "print(\"Input shape: {}\".format(input_shape))"
   ]
  },
  {
   "cell_type": "markdown",
   "id": "1a97b35f",
   "metadata": {
    "papermill": {
     "duration": 0.00605,
     "end_time": "2024-06-10T22:56:27.832876",
     "exception": false,
     "start_time": "2024-06-10T22:56:27.826826",
     "status": "completed"
    },
    "tags": []
   },
   "source": [
    "# 1) Add Dropout to Spotify Model\n",
    "\n",
    "Here is the last model from Exercise 4. Add two dropout layers, one after the `Dense` layer with 128 units, and one after the `Dense` layer with 64 units. Set the dropout rate on both to `0.3`."
   ]
  },
  {
   "cell_type": "code",
   "execution_count": 3,
   "id": "bfb8c0e0",
   "metadata": {
    "execution": {
     "iopub.execute_input": "2024-06-10T22:56:27.846994Z",
     "iopub.status.busy": "2024-06-10T22:56:27.846624Z",
     "iopub.status.idle": "2024-06-10T22:56:28.570985Z",
     "shell.execute_reply": "2024-06-10T22:56:28.570141Z"
    },
    "lines_to_next_cell": 2,
    "papermill": {
     "duration": 0.745559,
     "end_time": "2024-06-10T22:56:28.584764",
     "exception": false,
     "start_time": "2024-06-10T22:56:27.839205",
     "status": "completed"
    },
    "tags": []
   },
   "outputs": [
    {
     "data": {
      "application/javascript": [
       "parent.postMessage({\"jupyterEvent\": \"custom.exercise_interaction\", \"data\": {\"outcomeType\": 1, \"valueTowardsCompletion\": 0.25, \"interactionType\": 1, \"questionType\": 2, \"questionId\": \"1_Q1\", \"learnToolsVersion\": \"0.3.4\", \"failureMessage\": \"\", \"exceptionClass\": \"\", \"trace\": \"\"}}, \"*\")"
      ],
      "text/plain": [
       "<IPython.core.display.Javascript object>"
      ]
     },
     "metadata": {},
     "output_type": "display_data"
    },
    {
     "data": {
      "text/markdown": [
       "<span style=\"color:#33cc33\">Correct</span>"
      ],
      "text/plain": [
       "Correct"
      ]
     },
     "metadata": {},
     "output_type": "display_data"
    }
   ],
   "source": [
    "# YOUR CODE HERE: Add two 30% dropout layers, one after 128 and one after 64\n",
    "model = keras.Sequential([\n",
    "    layers.Dense(128, activation='relu', input_shape=input_shape),\n",
    "    layers.Dropout(rate=0.3),\n",
    "    layers.Dense(64, activation='relu'),\n",
    "    layers.Dropout(rate=0.3),\n",
    "    layers.Dense(1)\n",
    "])\n",
    "\n",
    "# Check your answer\n",
    "q_1.check()"
   ]
  },
  {
   "cell_type": "code",
   "execution_count": 4,
   "id": "f23c618e",
   "metadata": {
    "execution": {
     "iopub.execute_input": "2024-06-10T22:56:28.599887Z",
     "iopub.status.busy": "2024-06-10T22:56:28.599577Z",
     "iopub.status.idle": "2024-06-10T22:56:28.603317Z",
     "shell.execute_reply": "2024-06-10T22:56:28.602585Z"
    },
    "papermill": {
     "duration": 0.013099,
     "end_time": "2024-06-10T22:56:28.605158",
     "exception": false,
     "start_time": "2024-06-10T22:56:28.592059",
     "status": "completed"
    },
    "tags": []
   },
   "outputs": [],
   "source": [
    "# Lines below will give you a hint or solution code\n",
    "#q_1.hint()\n",
    "#q_1.solution()"
   ]
  },
  {
   "cell_type": "markdown",
   "id": "50e4fd54",
   "metadata": {
    "papermill": {
     "duration": 0.006337,
     "end_time": "2024-06-10T22:56:28.618088",
     "exception": false,
     "start_time": "2024-06-10T22:56:28.611751",
     "status": "completed"
    },
    "tags": []
   },
   "source": [
    "Now run this next cell to train the model see the effect of adding dropout."
   ]
  },
  {
   "cell_type": "code",
   "execution_count": 5,
   "id": "a622f3d4",
   "metadata": {
    "execution": {
     "iopub.execute_input": "2024-06-10T22:56:28.632994Z",
     "iopub.status.busy": "2024-06-10T22:56:28.632678Z",
     "iopub.status.idle": "2024-06-10T22:56:40.007685Z",
     "shell.execute_reply": "2024-06-10T22:56:40.006733Z"
    },
    "papermill": {
     "duration": 11.385249,
     "end_time": "2024-06-10T22:56:40.009769",
     "exception": false,
     "start_time": "2024-06-10T22:56:28.624520",
     "status": "completed"
    },
    "tags": []
   },
   "outputs": [
    {
     "name": "stderr",
     "output_type": "stream",
     "text": [
      "WARNING: All log messages before absl::InitializeLog() is called are written to STDERR\n",
      "I0000 00:00:1718060191.103288      68 device_compiler.h:186] Compiled cluster using XLA!  This line is logged at most once for the lifetime of the process.\n"
     ]
    },
    {
     "name": "stdout",
     "output_type": "stream",
     "text": [
      "Minimum Validation Loss: 0.1912\n"
     ]
    },
    {
     "data": {
      "image/png": "[encoded data removed]",
      "text/plain": [
       "<Figure size 640x480 with 1 Axes>"
      ]
     },
     "metadata": {},
     "output_type": "display_data"
    }
   ],
   "source": [
    "model.compile(\n",
    "    optimizer='adam',\n",
    "    loss='mae',\n",
    ")\n",
    "history = model.fit(\n",
    "    X_train, y_train,\n",
    "    validation_data=(X_valid, y_valid),\n",
    "    batch_size=512,\n",
    "    epochs=50,\n",
    "    verbose=0,\n",
    ")\n",
    "history_df = pd.DataFrame(history.history)\n",
    "history_df.loc[:, ['loss', 'val_loss']].plot()\n",
    "print(\"Minimum Validation Loss: {:0.4f}\".format(history_df['val_loss'].min()))"
   ]
  },
  {
   "cell_type": "markdown",
   "id": "8f86a24a",
   "metadata": {
    "papermill": {
     "duration": 0.007013,
     "end_time": "2024-06-10T22:56:40.024167",
     "exception": false,
     "start_time": "2024-06-10T22:56:40.017154",
     "status": "completed"
    },
    "tags": []
   },
   "source": [
    "# 2) Evaluate Dropout\n",
    "\n",
    "Recall from Exercise 4 that this model tended to overfit the data around epoch 5. Did adding dropout seem to help prevent overfitting this time?"
   ]
  },
  {
   "cell_type": "code",
   "execution_count": 6,
   "id": "9a633892",
   "metadata": {
    "execution": {
     "iopub.execute_input": "2024-06-10T22:56:40.039920Z",
     "iopub.status.busy": "2024-06-10T22:56:40.039621Z",
     "iopub.status.idle": "2024-06-10T22:56:40.046831Z",
     "shell.execute_reply": "2024-06-10T22:56:40.045893Z"
    },
    "papermill": {
     "duration": 0.017151,
     "end_time": "2024-06-10T22:56:40.048745",
     "exception": false,
     "start_time": "2024-06-10T22:56:40.031594",
     "status": "completed"
    },
    "tags": []
   },
   "outputs": [
    {
     "data": {
      "application/javascript": [
       "parent.postMessage({\"jupyterEvent\": \"custom.exercise_interaction\", \"data\": {\"outcomeType\": 1, \"valueTowardsCompletion\": 0.25, \"interactionType\": 1, \"questionType\": 4, \"questionId\": \"2_Q2\", \"learnToolsVersion\": \"0.3.4\", \"failureMessage\": \"\", \"exceptionClass\": \"\", \"trace\": \"\"}}, \"*\")"
      ],
      "text/plain": [
       "<IPython.core.display.Javascript object>"
      ]
     },
     "metadata": {},
     "output_type": "display_data"
    },
    {
     "data": {
      "text/markdown": [
       "<span style=\"color:#33cc33\">Correct:</span> \n",
       "\n",
       "\n",
       "From the learning curves, you can see that the validation loss remains near a constant minimum even though the training loss continues to decrease. So we can see that adding dropout did prevent overfitting this time. Moreover, by making it harder for the network to fit spurious patterns, dropout may have encouraged the network to seek out more of the true patterns, possibly improving the validation loss some as well).\n"
      ],
      "text/plain": [
       "Correct: \n",
       "\n",
       "\n",
       "From the learning curves, you can see that the validation loss remains near a constant minimum even though the training loss continues to decrease. So we can see that adding dropout did prevent overfitting this time. Moreover, by making it harder for the network to fit spurious patterns, dropout may have encouraged the network to seek out more of the true patterns, possibly improving the validation loss some as well)."
      ]
     },
     "metadata": {},
     "output_type": "display_data"
    }
   ],
   "source": [
    "# View the solution (Run this cell to receive credit!)\n",
    "q_2.check()"
   ]
  },
  {
   "cell_type": "markdown",
   "id": "4507dca3",
   "metadata": {
    "papermill": {
     "duration": 0.0072,
     "end_time": "2024-06-10T22:56:40.063340",
     "exception": false,
     "start_time": "2024-06-10T22:56:40.056140",
     "status": "completed"
    },
    "tags": []
   },
   "source": [
    "Now, we'll switch topics to explore how batch normalization can fix problems in training.\n",
    "\n",
    "Load the *Concrete* dataset. We won't do any standardization this time. This will make the effect of batch normalization much more apparent."
   ]
  },
  {
   "cell_type": "code",
   "execution_count": 7,
   "id": "4202e2b4",
   "metadata": {
    "execution": {
     "iopub.execute_input": "2024-06-10T22:56:40.079346Z",
     "iopub.status.busy": "2024-06-10T22:56:40.079008Z",
     "iopub.status.idle": "2024-06-10T22:56:40.096491Z",
     "shell.execute_reply": "2024-06-10T22:56:40.095773Z"
    },
    "papermill": {
     "duration": 0.027802,
     "end_time": "2024-06-10T22:56:40.098586",
     "exception": false,
     "start_time": "2024-06-10T22:56:40.070784",
     "status": "completed"
    },
    "tags": []
   },
   "outputs": [],
   "source": [
    "import pandas as pd\n",
    "\n",
    "concrete = pd.read_csv('../input/dl-course-data/concrete.csv')\n",
    "df = concrete.copy()\n",
    "\n",
    "df_train = df.sample(frac=0.7, random_state=0)\n",
    "df_valid = df.drop(df_train.index)\n",
    "\n",
    "X_train = df_train.drop('CompressiveStrength', axis=1)\n",
    "X_valid = df_valid.drop('CompressiveStrength', axis=1)\n",
    "y_train = df_train['CompressiveStrength']\n",
    "y_valid = df_valid['CompressiveStrength']\n",
    "\n",
    "input_shape = [X_train.shape[1]]"
   ]
  },
  {
   "cell_type": "markdown",
   "id": "9e515aa9",
   "metadata": {
    "papermill": {
     "duration": 0.007246,
     "end_time": "2024-06-10T22:56:40.113591",
     "exception": false,
     "start_time": "2024-06-10T22:56:40.106345",
     "status": "completed"
    },
    "tags": []
   },
   "source": [
    "Run the following cell to train the network on the unstandardized *Concrete* data."
   ]
  },
  {
   "cell_type": "code",
   "execution_count": 8,
   "id": "3ee29d68",
   "metadata": {
    "execution": {
     "iopub.execute_input": "2024-06-10T22:56:40.129908Z",
     "iopub.status.busy": "2024-06-10T22:56:40.129625Z",
     "iopub.status.idle": "2024-06-10T22:56:47.600851Z",
     "shell.execute_reply": "2024-06-10T22:56:47.599925Z"
    },
    "papermill": {
     "duration": 7.48143,
     "end_time": "2024-06-10T22:56:47.602757",
     "exception": false,
     "start_time": "2024-06-10T22:56:40.121327",
     "status": "completed"
    },
    "tags": []
   },
   "outputs": [
    {
     "name": "stdout",
     "output_type": "stream",
     "text": [
      "Minimum Validation Loss: nan\n"
     ]
    },
    {
     "data": {
      "image/png": "[encoded data removed]",
      "text/plain": [
       "<Figure size 640x480 with 1 Axes>"
      ]
     },
     "metadata": {},
     "output_type": "display_data"
    }
   ],
   "source": [
    "model = keras.Sequential([\n",
    "    layers.Dense(512, activation='relu', input_shape=input_shape),\n",
    "    layers.Dense(512, activation='relu'),    \n",
    "    layers.Dense(512, activation='relu'),\n",
    "    layers.Dense(1),\n",
    "])\n",
    "model.compile(\n",
    "    optimizer='sgd', # SGD is more sensitive to differences of scale\n",
    "    loss='mae',\n",
    "    metrics=['mae'],\n",
    ")\n",
    "history = model.fit(\n",
    "    X_train, y_train,\n",
    "    validation_data=(X_valid, y_valid),\n",
    "    batch_size=64,\n",
    "    epochs=100,\n",
    "    verbose=0,\n",
    ")\n",
    "\n",
    "history_df = pd.DataFrame(history.history)\n",
    "history_df.loc[0:, ['loss', 'val_loss']].plot()\n",
    "print((\"Minimum Validation Loss: {:0.4f}\").format(history_df['val_loss'].min()))"
   ]
  },
  {
   "cell_type": "markdown",
   "id": "38deca8d",
   "metadata": {
    "papermill": {
     "duration": 0.008127,
     "end_time": "2024-06-10T22:56:47.619054",
     "exception": false,
     "start_time": "2024-06-10T22:56:47.610927",
     "status": "completed"
    },
    "tags": []
   },
   "source": [
    "Did you end up with a blank graph? Trying to train this network on this dataset will usually fail. Even when it does converge (due to a lucky weight initialization), it tends to converge to a very large number.\n",
    "\n",
    "# 3) Add Batch Normalization Layers\n",
    "\n",
    "Batch normalization can help correct problems like this.\n",
    "\n",
    "Add four `BatchNormalization` layers, one before each of the dense layers. (Remember to move the `input_shape` argument to the new first layer.)"
   ]
  },
  {
   "cell_type": "code",
   "execution_count": 9,
   "id": "e9cbaba5",
   "metadata": {
    "execution": {
     "iopub.execute_input": "2024-06-10T22:56:47.636278Z",
     "iopub.status.busy": "2024-06-10T22:56:47.635977Z",
     "iopub.status.idle": "2024-06-10T22:56:47.769569Z",
     "shell.execute_reply": "2024-06-10T22:56:47.768729Z"
    },
    "lines_to_next_cell": 0,
    "papermill": {
     "duration": 0.144715,
     "end_time": "2024-06-10T22:56:47.771770",
     "exception": false,
     "start_time": "2024-06-10T22:56:47.627055",
     "status": "completed"
    },
    "tags": []
   },
   "outputs": [
    {
     "data": {
      "application/javascript": [
       "parent.postMessage({\"jupyterEvent\": \"custom.exercise_interaction\", \"data\": {\"outcomeType\": 1, \"valueTowardsCompletion\": 0.25, \"interactionType\": 1, \"questionType\": 2, \"questionId\": \"3_Q3\", \"learnToolsVersion\": \"0.3.4\", \"failureMessage\": \"\", \"exceptionClass\": \"\", \"trace\": \"\"}}, \"*\")"
      ],
      "text/plain": [
       "<IPython.core.display.Javascript object>"
      ]
     },
     "metadata": {},
     "output_type": "display_data"
    },
    {
     "data": {
      "text/markdown": [
       "<span style=\"color:#33cc33\">Correct</span>"
      ],
      "text/plain": [
       "Correct"
      ]
     },
     "metadata": {},
     "output_type": "display_data"
    }
   ],
   "source": [
    "# YOUR CODE HERE: Add a BatchNormalization layer before each Dense layer\n",
    "model = keras.Sequential([\n",
    "    layers.BatchNormalization(input_shape=input_shape),\n",
    "    layers.Dense(512, activation='relu'),\n",
    "    layers.BatchNormalization(),\n",
    "    layers.Dense(512, activation='relu'),\n",
    "    layers.BatchNormalization(),\n",
    "    layers.Dense(512, activation='relu'),\n",
    "    layers.BatchNormalization(),\n",
    "    layers.Dense(1),\n",
    "])\n",
    "\n",
    "# Check your answer\n",
    "q_3.check()"
   ]
  },
  {
   "cell_type": "code",
   "execution_count": 10,
   "id": "1653bc4a",
   "metadata": {
    "execution": {
     "iopub.execute_input": "2024-06-10T22:56:47.790108Z",
     "iopub.status.busy": "2024-06-10T22:56:47.789740Z",
     "iopub.status.idle": "2024-06-10T22:56:47.793597Z",
     "shell.execute_reply": "2024-06-10T22:56:47.792820Z"
    },
    "papermill": {
     "duration": 0.015136,
     "end_time": "2024-06-10T22:56:47.795374",
     "exception": false,
     "start_time": "2024-06-10T22:56:47.780238",
     "status": "completed"
    },
    "tags": []
   },
   "outputs": [],
   "source": [
    "# Lines below will give you a hint or solution code\n",
    "#q_3.hint()\n",
    "#q_3.solution()"
   ]
  },
  {
   "cell_type": "markdown",
   "id": "b7596bab",
   "metadata": {
    "papermill": {
     "duration": 0.008149,
     "end_time": "2024-06-10T22:56:47.811938",
     "exception": false,
     "start_time": "2024-06-10T22:56:47.803789",
     "status": "completed"
    },
    "tags": []
   },
   "source": [
    "Run the next cell to see if batch normalization will let us train the model."
   ]
  },
  {
   "cell_type": "code",
   "execution_count": 11,
   "id": "83304a6b",
   "metadata": {
    "execution": {
     "iopub.execute_input": "2024-06-10T22:56:47.829659Z",
     "iopub.status.busy": "2024-06-10T22:56:47.829325Z",
     "iopub.status.idle": "2024-06-10T22:56:59.096580Z",
     "shell.execute_reply": "2024-06-10T22:56:59.095707Z"
    },
    "papermill": {
     "duration": 11.278595,
     "end_time": "2024-06-10T22:56:59.098718",
     "exception": false,
     "start_time": "2024-06-10T22:56:47.820123",
     "status": "completed"
    },
    "tags": []
   },
   "outputs": [
    {
     "name": "stdout",
     "output_type": "stream",
     "text": [
      "Minimum Validation Loss: 3.9753\n"
     ]
    },
    {
     "data": {
      "image/png": "[encoded data removed]",
      "text/plain": [
       "<Figure size 640x480 with 1 Axes>"
      ]
     },
     "metadata": {},
     "output_type": "display_data"
    }
   ],
   "source": [
    "model.compile(\n",
    "    optimizer='sgd',\n",
    "    loss='mae',\n",
    "    metrics=['mae'],\n",
    ")\n",
    "EPOCHS = 100\n",
    "history = model.fit(\n",
    "    X_train, y_train,\n",
    "    validation_data=(X_valid, y_valid),\n",
    "    batch_size=64,\n",
    "    epochs=EPOCHS,\n",
    "    verbose=0,\n",
    ")\n",
    "\n",
    "history_df = pd.DataFrame(history.history)\n",
    "history_df.loc[0:, ['loss', 'val_loss']].plot()\n",
    "print((\"Minimum Validation Loss: {:0.4f}\").format(history_df['val_loss'].min()))"
   ]
  },
  {
   "cell_type": "markdown",
   "id": "16974655",
   "metadata": {
    "papermill": {
     "duration": 0.008595,
     "end_time": "2024-06-10T22:56:59.116361",
     "exception": false,
     "start_time": "2024-06-10T22:56:59.107766",
     "status": "completed"
    },
    "tags": []
   },
   "source": [
    "# 4) Evaluate Batch Normalization\n",
    "\n",
    "Did adding batch normalization help?"
   ]
  },
  {
   "cell_type": "code",
   "execution_count": 12,
   "id": "a9229cbc",
   "metadata": {
    "execution": {
     "iopub.execute_input": "2024-06-10T22:56:59.134979Z",
     "iopub.status.busy": "2024-06-10T22:56:59.134678Z",
     "iopub.status.idle": "2024-06-10T22:56:59.141923Z",
     "shell.execute_reply": "2024-06-10T22:56:59.141109Z"
    },
    "lines_to_next_cell": 0,
    "papermill": {
     "duration": 0.018677,
     "end_time": "2024-06-10T22:56:59.143832",
     "exception": false,
     "start_time": "2024-06-10T22:56:59.125155",
     "status": "completed"
    },
    "tags": []
   },
   "outputs": [
    {
     "data": {
      "application/javascript": [
       "parent.postMessage({\"jupyterEvent\": \"custom.exercise_interaction\", \"data\": {\"outcomeType\": 1, \"valueTowardsCompletion\": 0.25, \"interactionType\": 1, \"questionType\": 4, \"questionId\": \"4_Q4\", \"learnToolsVersion\": \"0.3.4\", \"failureMessage\": \"\", \"exceptionClass\": \"\", \"trace\": \"\"}}, \"*\")"
      ],
      "text/plain": [
       "<IPython.core.display.Javascript object>"
      ]
     },
     "metadata": {},
     "output_type": "display_data"
    },
    {
     "data": {
      "text/markdown": [
       "<span style=\"color:#33cc33\">Correct:</span> \n",
       "\n",
       "\n",
       "You can see that adding batch normalization was a big improvement on the first attempt! By adaptively scaling the data as it passes through the network, batch normalization can let you train models on difficult datasets.\n"
      ],
      "text/plain": [
       "Correct: \n",
       "\n",
       "\n",
       "You can see that adding batch normalization was a big improvement on the first attempt! By adaptively scaling the data as it passes through the network, batch normalization can let you train models on difficult datasets."
      ]
     },
     "metadata": {},
     "output_type": "display_data"
    }
   ],
   "source": [
    "# View the solution (Run this cell to receive credit!)\n",
    "q_4.check()"
   ]
  },
  {
   "cell_type": "markdown",
   "id": "662c9787",
   "metadata": {
    "papermill": {
     "duration": 0.008795,
     "end_time": "2024-06-10T22:56:59.161706",
     "exception": false,
     "start_time": "2024-06-10T22:56:59.152911",
     "status": "completed"
    },
    "tags": []
   },
   "source": [
    "# Keep Going #\n",
    "\n",
    "[**Create neural networks**](https://www.kaggle.com/ryanholbrook/binary-classification) for binary classification."
   ]
  },
  {
   "cell_type": "markdown",
   "id": "cc6233ef",
   "metadata": {
    "papermill": {
     "duration": 0.008714,
     "end_time": "2024-06-10T22:56:59.179611",
     "exception": false,
     "start_time": "2024-06-10T22:56:59.170897",
     "status": "completed"
    },
    "tags": []
   },
   "source": [
    "---\n",
    "\n",
    "\n",
    "\n",
    "\n",
    "*Have questions or comments? Visit the [course discussion forum](https://www.kaggle.com/learn/intro-to-deep-learning/discussion) to chat with other learners.*"
   ]
  }
 ],
 "metadata": {
  "jupytext": {
   "cell_metadata_filter": "-all",
   "formats": "ipynb"
  },
  "kaggle": {
   "accelerator": "gpu",
   "dataSources": [
    {
     "datasetId": 829369,
     "sourceId": 1480608,
     "sourceType": "datasetVersion"
    }
   ],
   "dockerImageVersionId": 30648,
   "isGpuEnabled": true,
   "isInternetEnabled": false,
   "language": "python",
   "sourceType": "notebook"
  },
  "kernelspec": {
   "display_name": "Python 3",
   "language": "python",
   "name": "python3"
  },
  "language_info": {
   "codemirror_mode": {
    "name": "ipython",
    "version": 3
   },
   "file_extension": ".py",
   "mimetype": "text/x-python",
   "name": "python",
   "nbconvert_exporter": "python",
   "pygments_lexer": "ipython3",
   "version": "3.10.13"
  },
  "papermill": {
   "default_parameters": {},
   "duration": 51.255733,
   "end_time": "2024-06-10T22:57:01.985534",
   "environment_variables": {},
   "exception": null,
   "input_path": "__notebook__.ipynb",
   "output_path": "__notebook__.ipynb",
   "parameters": {},
   "start_time": "2024-06-10T22:56:10.729801",
   "version": "2.5.0"
  }
 },
 "nbformat": 4,
 "nbformat_minor": 5
}
