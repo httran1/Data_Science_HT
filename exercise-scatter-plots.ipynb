{
 "cells": [
  {
   "cell_type": "markdown",
   "id": "676bfc13",
   "metadata": {
    "papermill": {
     "duration": 0.008427,
     "end_time": "2024-07-21T21:45:16.194602",
     "exception": false,
     "start_time": "2024-07-21T21:45:16.186175",
     "status": "completed"
    },
    "tags": []
   },
   "source": [
    "**This notebook is an exercise in the [Data Visualization](https://www.kaggle.com/learn/data-visualization) course.  You can reference the tutorial at [this link](https://www.kaggle.com/alexisbcook/scatter-plots).**\n",
    "\n",
    "---\n"
   ]
  },
  {
   "cell_type": "markdown",
   "id": "f11be4f0",
   "metadata": {
    "papermill": {
     "duration": 0.007763,
     "end_time": "2024-07-21T21:45:16.211170",
     "exception": false,
     "start_time": "2024-07-21T21:45:16.203407",
     "status": "completed"
    },
    "tags": []
   },
   "source": [
    "In this exercise, you will use your new knowledge to propose a solution to a real-world scenario.  To succeed, you will need to import data into Python, answer questions using the data, and generate **scatter plots** to understand patterns in the data.\n",
    "\n",
    "## Scenario\n",
    "\n",
    "You work for a major candy producer, and your goal is to write a report that your company can use to guide the design of its next product.  Soon after starting your research, you stumble across this [very interesting dataset](https://fivethirtyeight.com/features/the-ultimate-halloween-candy-power-ranking/) containing results from a fun survey to crowdsource favorite candies.\n",
    "\n",
    "## Setup\n",
    "\n",
    "Run the next cell to import and configure the Python libraries that you need to complete the exercise."
   ]
  },
  {
   "cell_type": "code",
   "execution_count": 1,
   "id": "4b245879",
   "metadata": {
    "execution": {
     "iopub.execute_input": "2024-07-21T21:45:16.229392Z",
     "iopub.status.busy": "2024-07-21T21:45:16.228991Z",
     "iopub.status.idle": "2024-07-21T21:45:18.654755Z",
     "shell.execute_reply": "2024-07-21T21:45:18.653409Z"
    },
    "papermill": {
     "duration": 2.43795,
     "end_time": "2024-07-21T21:45:18.657510",
     "exception": false,
     "start_time": "2024-07-21T21:45:16.219560",
     "status": "completed"
    },
    "tags": []
   },
   "outputs": [
    {
     "name": "stdout",
     "output_type": "stream",
     "text": [
      "Setup Complete\n"
     ]
    }
   ],
   "source": [
    "import pandas as pd\n",
    "pd.plotting.register_matplotlib_converters()\n",
    "import matplotlib.pyplot as plt\n",
    "%matplotlib inline\n",
    "import seaborn as sns\n",
    "print(\"Setup Complete\")"
   ]
  },
  {
   "cell_type": "markdown",
   "id": "2527513f",
   "metadata": {
    "papermill": {
     "duration": 0.008384,
     "end_time": "2024-07-21T21:45:18.674917",
     "exception": false,
     "start_time": "2024-07-21T21:45:18.666533",
     "status": "completed"
    },
    "tags": []
   },
   "source": [
    "The questions below will give you feedback on your work. Run the following cell to set up our feedback system."
   ]
  },
  {
   "cell_type": "code",
   "execution_count": 2,
   "id": "18a3a3ce",
   "metadata": {
    "execution": {
     "iopub.execute_input": "2024-07-21T21:45:18.693763Z",
     "iopub.status.busy": "2024-07-21T21:45:18.692685Z",
     "iopub.status.idle": "2024-07-21T21:45:18.779931Z",
     "shell.execute_reply": "2024-07-21T21:45:18.778385Z"
    },
    "papermill": {
     "duration": 0.099706,
     "end_time": "2024-07-21T21:45:18.782802",
     "exception": false,
     "start_time": "2024-07-21T21:45:18.683096",
     "status": "completed"
    },
    "tags": []
   },
   "outputs": [
    {
     "name": "stdout",
     "output_type": "stream",
     "text": [
      "Setup Complete\n"
     ]
    }
   ],
   "source": [
    "# Set up code checking\n",
    "import os\n",
    "if not os.path.exists(\"../input/candy.csv\"):\n",
    "    os.symlink(\"../input/data-for-datavis/candy.csv\", \"../input/candy.csv\") \n",
    "from learntools.core import binder\n",
    "binder.bind(globals())\n",
    "from learntools.data_viz_to_coder.ex4 import *\n",
    "print(\"Setup Complete\")"
   ]
  },
  {
   "cell_type": "markdown",
   "id": "b127c647",
   "metadata": {
    "papermill": {
     "duration": 0.008537,
     "end_time": "2024-07-21T21:45:18.800063",
     "exception": false,
     "start_time": "2024-07-21T21:45:18.791526",
     "status": "completed"
    },
    "tags": []
   },
   "source": [
    "## Step 1: Load the Data\n",
    "\n",
    "Read the candy data file into `candy_data`.  Use the `\"id\"` column to label the rows."
   ]
  },
  {
   "cell_type": "code",
   "execution_count": 3,
   "id": "ee042a1b",
   "metadata": {
    "execution": {
     "iopub.execute_input": "2024-07-21T21:45:18.818429Z",
     "iopub.status.busy": "2024-07-21T21:45:18.818005Z",
     "iopub.status.idle": "2024-07-21T21:45:18.834773Z",
     "shell.execute_reply": "2024-07-21T21:45:18.833438Z"
    },
    "papermill": {
     "duration": 0.029152,
     "end_time": "2024-07-21T21:45:18.837570",
     "exception": false,
     "start_time": "2024-07-21T21:45:18.808418",
     "status": "completed"
    },
    "tags": []
   },
   "outputs": [
    {
     "data": {
      "application/javascript": [
       "parent.postMessage({\"jupyterEvent\": \"custom.exercise_interaction\", \"data\": {\"outcomeType\": 1, \"valueTowardsCompletion\": 0.3333333333333333, \"interactionType\": 1, \"questionType\": 1, \"questionId\": \"1_LoadData\", \"learnToolsVersion\": \"0.3.4\", \"failureMessage\": \"\", \"exceptionClass\": \"\", \"trace\": \"\"}}, \"*\")"
      ],
      "text/plain": [
       "<IPython.core.display.Javascript object>"
      ]
     },
     "metadata": {},
     "output_type": "display_data"
    },
    {
     "data": {
      "text/markdown": [
       "<span style=\"color:#33cc33\">Correct</span>"
      ],
      "text/plain": [
       "Correct"
      ]
     },
     "metadata": {},
     "output_type": "display_data"
    }
   ],
   "source": [
    "# Path of the file to read\n",
    "candy_filepath = \"../input/candy.csv\"\n",
    "\n",
    "# Fill in the line below to read the file into a variable candy_data\n",
    "candy_data = pd.read_csv(candy_filepath, index_col = \"id\")\n",
    "# Run the line below with no changes to check that you've loaded the data correctly\n",
    "step_1.check()"
   ]
  },
  {
   "cell_type": "code",
   "execution_count": 4,
   "id": "0e73ce62",
   "metadata": {
    "execution": {
     "iopub.execute_input": "2024-07-21T21:45:18.858110Z",
     "iopub.status.busy": "2024-07-21T21:45:18.857326Z",
     "iopub.status.idle": "2024-07-21T21:45:18.862400Z",
     "shell.execute_reply": "2024-07-21T21:45:18.861162Z"
    },
    "papermill": {
     "duration": 0.017631,
     "end_time": "2024-07-21T21:45:18.864792",
     "exception": false,
     "start_time": "2024-07-21T21:45:18.847161",
     "status": "completed"
    },
    "tags": []
   },
   "outputs": [],
   "source": [
    "# Lines below will give you a hint or solution code\n",
    "#step_1.hint()\n",
    "#step_1.solution()"
   ]
  },
  {
   "cell_type": "markdown",
   "id": "b193230b",
   "metadata": {
    "papermill": {
     "duration": 0.008169,
     "end_time": "2024-07-21T21:45:18.881759",
     "exception": false,
     "start_time": "2024-07-21T21:45:18.873590",
     "status": "completed"
    },
    "tags": []
   },
   "source": [
    "## Step 2: Review the data\n",
    "\n",
    "Use a Python command to print the first five rows of the data."
   ]
  },
  {
   "cell_type": "code",
   "execution_count": 5,
   "id": "773a06e0",
   "metadata": {
    "execution": {
     "iopub.execute_input": "2024-07-21T21:45:18.901247Z",
     "iopub.status.busy": "2024-07-21T21:45:18.900819Z",
     "iopub.status.idle": "2024-07-21T21:45:18.924356Z",
     "shell.execute_reply": "2024-07-21T21:45:18.923149Z"
    },
    "papermill": {
     "duration": 0.036622,
     "end_time": "2024-07-21T21:45:18.927091",
     "exception": false,
     "start_time": "2024-07-21T21:45:18.890469",
     "status": "completed"
    },
    "tags": []
   },
   "outputs": [
    {
     "data": {
      "text/html": [
       "<div>\n",
       "<style scoped>\n",
       "    .dataframe tbody tr th:only-of-type {\n",
       "        vertical-align: middle;\n",
       "    }\n",
       "\n",
       "    .dataframe tbody tr th {\n",
       "        vertical-align: top;\n",
       "    }\n",
       "\n",
       "    .dataframe thead th {\n",
       "        text-align: right;\n",
       "    }\n",
       "</style>\n",
       "<table border=\"1\" class=\"dataframe\">\n",
       "  <thead>\n",
       "    <tr style=\"text-align: right;\">\n",
       "      <th></th>\n",
       "      <th>competitorname</th>\n",
       "      <th>chocolate</th>\n",
       "      <th>fruity</th>\n",
       "      <th>caramel</th>\n",
       "      <th>peanutyalmondy</th>\n",
       "      <th>nougat</th>\n",
       "      <th>crispedricewafer</th>\n",
       "      <th>hard</th>\n",
       "      <th>bar</th>\n",
       "      <th>pluribus</th>\n",
       "      <th>sugarpercent</th>\n",
       "      <th>pricepercent</th>\n",
       "      <th>winpercent</th>\n",
       "    </tr>\n",
       "    <tr>\n",
       "      <th>id</th>\n",
       "      <th></th>\n",
       "      <th></th>\n",
       "      <th></th>\n",
       "      <th></th>\n",
       "      <th></th>\n",
       "      <th></th>\n",
       "      <th></th>\n",
       "      <th></th>\n",
       "      <th></th>\n",
       "      <th></th>\n",
       "      <th></th>\n",
       "      <th></th>\n",
       "      <th></th>\n",
       "    </tr>\n",
       "  </thead>\n",
       "  <tbody>\n",
       "    <tr>\n",
       "      <th>0</th>\n",
       "      <td>100 Grand</td>\n",
       "      <td>Yes</td>\n",
       "      <td>No</td>\n",
       "      <td>Yes</td>\n",
       "      <td>No</td>\n",
       "      <td>No</td>\n",
       "      <td>Yes</td>\n",
       "      <td>No</td>\n",
       "      <td>Yes</td>\n",
       "      <td>No</td>\n",
       "      <td>0.732</td>\n",
       "      <td>0.860</td>\n",
       "      <td>66.971725</td>\n",
       "    </tr>\n",
       "    <tr>\n",
       "      <th>1</th>\n",
       "      <td>3 Musketeers</td>\n",
       "      <td>Yes</td>\n",
       "      <td>No</td>\n",
       "      <td>No</td>\n",
       "      <td>No</td>\n",
       "      <td>Yes</td>\n",
       "      <td>No</td>\n",
       "      <td>No</td>\n",
       "      <td>Yes</td>\n",
       "      <td>No</td>\n",
       "      <td>0.604</td>\n",
       "      <td>0.511</td>\n",
       "      <td>67.602936</td>\n",
       "    </tr>\n",
       "    <tr>\n",
       "      <th>2</th>\n",
       "      <td>Air Heads</td>\n",
       "      <td>No</td>\n",
       "      <td>Yes</td>\n",
       "      <td>No</td>\n",
       "      <td>No</td>\n",
       "      <td>No</td>\n",
       "      <td>No</td>\n",
       "      <td>No</td>\n",
       "      <td>No</td>\n",
       "      <td>No</td>\n",
       "      <td>0.906</td>\n",
       "      <td>0.511</td>\n",
       "      <td>52.341465</td>\n",
       "    </tr>\n",
       "    <tr>\n",
       "      <th>3</th>\n",
       "      <td>Almond Joy</td>\n",
       "      <td>Yes</td>\n",
       "      <td>No</td>\n",
       "      <td>No</td>\n",
       "      <td>Yes</td>\n",
       "      <td>No</td>\n",
       "      <td>No</td>\n",
       "      <td>No</td>\n",
       "      <td>Yes</td>\n",
       "      <td>No</td>\n",
       "      <td>0.465</td>\n",
       "      <td>0.767</td>\n",
       "      <td>50.347546</td>\n",
       "    </tr>\n",
       "    <tr>\n",
       "      <th>4</th>\n",
       "      <td>Baby Ruth</td>\n",
       "      <td>Yes</td>\n",
       "      <td>No</td>\n",
       "      <td>Yes</td>\n",
       "      <td>Yes</td>\n",
       "      <td>Yes</td>\n",
       "      <td>No</td>\n",
       "      <td>No</td>\n",
       "      <td>Yes</td>\n",
       "      <td>No</td>\n",
       "      <td>0.604</td>\n",
       "      <td>0.767</td>\n",
       "      <td>56.914547</td>\n",
       "    </tr>\n",
       "  </tbody>\n",
       "</table>\n",
       "</div>"
      ],
      "text/plain": [
       "   competitorname chocolate fruity caramel peanutyalmondy nougat  \\\n",
       "id                                                                 \n",
       "0       100 Grand       Yes     No     Yes             No     No   \n",
       "1    3 Musketeers       Yes     No      No             No    Yes   \n",
       "2       Air Heads        No    Yes      No             No     No   \n",
       "3      Almond Joy       Yes     No      No            Yes     No   \n",
       "4       Baby Ruth       Yes     No     Yes            Yes    Yes   \n",
       "\n",
       "   crispedricewafer hard  bar pluribus  sugarpercent  pricepercent  winpercent  \n",
       "id                                                                              \n",
       "0               Yes   No  Yes       No         0.732         0.860   66.971725  \n",
       "1                No   No  Yes       No         0.604         0.511   67.602936  \n",
       "2                No   No   No       No         0.906         0.511   52.341465  \n",
       "3                No   No  Yes       No         0.465         0.767   50.347546  \n",
       "4                No   No  Yes       No         0.604         0.767   56.914547  "
      ]
     },
     "execution_count": 5,
     "metadata": {},
     "output_type": "execute_result"
    }
   ],
   "source": [
    "# Print the first five rows of the data\n",
    "candy_data.head() # Your code here"
   ]
  },
  {
   "cell_type": "markdown",
   "id": "dff88d62",
   "metadata": {
    "papermill": {
     "duration": 0.008578,
     "end_time": "2024-07-21T21:45:18.944704",
     "exception": false,
     "start_time": "2024-07-21T21:45:18.936126",
     "status": "completed"
    },
    "tags": []
   },
   "source": [
    "The dataset contains 83 rows, where each corresponds to a different candy bar.  There are 13 columns:\n",
    "- `'competitorname'` contains the name of the candy bar. \n",
    "- the next **9** columns (from `'chocolate'` to `'pluribus'`) describe the candy.  For instance, rows with chocolate candies have `\"Yes\"` in the `'chocolate'` column (and candies without chocolate have `\"No\"` in the same column).\n",
    "- `'sugarpercent'` provides some indication of the amount of sugar, where higher values signify higher sugar content.\n",
    "- `'pricepercent'` shows the price per unit, relative to the other candies in the dataset.\n",
    "- `'winpercent'` is calculated from the survey results; higher values indicate that the candy was more popular with survey respondents.\n",
    "\n",
    "Use the first five rows of the data to answer the questions below."
   ]
  },
  {
   "cell_type": "code",
   "execution_count": 6,
   "id": "7e13c33b",
   "metadata": {
    "execution": {
     "iopub.execute_input": "2024-07-21T21:45:18.965358Z",
     "iopub.status.busy": "2024-07-21T21:45:18.964965Z",
     "iopub.status.idle": "2024-07-21T21:45:18.976041Z",
     "shell.execute_reply": "2024-07-21T21:45:18.974739Z"
    },
    "papermill": {
     "duration": 0.024746,
     "end_time": "2024-07-21T21:45:18.978758",
     "exception": false,
     "start_time": "2024-07-21T21:45:18.954012",
     "status": "completed"
    },
    "tags": []
   },
   "outputs": [
    {
     "data": {
      "application/javascript": [
       "parent.postMessage({\"jupyterEvent\": \"custom.exercise_interaction\", \"data\": {\"outcomeType\": 1, \"valueTowardsCompletion\": 0.3333333333333333, \"interactionType\": 1, \"questionType\": 1, \"questionId\": \"2_ReviewData\", \"learnToolsVersion\": \"0.3.4\", \"failureMessage\": \"\", \"exceptionClass\": \"\", \"trace\": \"\"}}, \"*\")"
      ],
      "text/plain": [
       "<IPython.core.display.Javascript object>"
      ]
     },
     "metadata": {},
     "output_type": "display_data"
    },
    {
     "data": {
      "text/markdown": [
       "<span style=\"color:#33cc33\">Correct</span>"
      ],
      "text/plain": [
       "Correct"
      ]
     },
     "metadata": {},
     "output_type": "display_data"
    }
   ],
   "source": [
    "# Fill in the line below: Which candy was more popular with survey respondents:\n",
    "# '3 Musketeers' or 'Almond Joy'?  (Please enclose your answer in single quotes.)\n",
    "more_popular = '3 Musketeers'\n",
    "\n",
    "# Fill in the line below: Which candy has higher sugar content: 'Air Heads'\n",
    "# or 'Baby Ruth'? (Please enclose your answer in single quotes.)\n",
    "more_sugar = 'Air Heads'\n",
    "# Check your answers\n",
    "step_2.check()"
   ]
  },
  {
   "cell_type": "code",
   "execution_count": 7,
   "id": "792a30e9",
   "metadata": {
    "execution": {
     "iopub.execute_input": "2024-07-21T21:45:18.999270Z",
     "iopub.status.busy": "2024-07-21T21:45:18.998852Z",
     "iopub.status.idle": "2024-07-21T21:45:19.003690Z",
     "shell.execute_reply": "2024-07-21T21:45:19.002467Z"
    },
    "papermill": {
     "duration": 0.01789,
     "end_time": "2024-07-21T21:45:19.006265",
     "exception": false,
     "start_time": "2024-07-21T21:45:18.988375",
     "status": "completed"
    },
    "tags": []
   },
   "outputs": [],
   "source": [
    "# Lines below will give you a hint or solution code\n",
    "#step_2.hint()\n",
    "#step_2.solution()"
   ]
  },
  {
   "cell_type": "markdown",
   "id": "d9f4cccc",
   "metadata": {
    "papermill": {
     "duration": 0.00876,
     "end_time": "2024-07-21T21:45:19.024220",
     "exception": false,
     "start_time": "2024-07-21T21:45:19.015460",
     "status": "completed"
    },
    "tags": []
   },
   "source": [
    "## Step 3: The role of sugar\n",
    "\n",
    "Do people tend to prefer candies with higher sugar content?  \n",
    "\n",
    "#### Part A\n",
    "\n",
    "Create a scatter plot that shows the relationship between `'sugarpercent'` (on the horizontal x-axis) and `'winpercent'` (on the vertical y-axis).  _Don't add a regression line just yet -- you'll do that in the next step!_"
   ]
  },
  {
   "cell_type": "code",
   "execution_count": 8,
   "id": "893018f7",
   "metadata": {
    "execution": {
     "iopub.execute_input": "2024-07-21T21:45:19.044598Z",
     "iopub.status.busy": "2024-07-21T21:45:19.044167Z",
     "iopub.status.idle": "2024-07-21T21:45:19.453681Z",
     "shell.execute_reply": "2024-07-21T21:45:19.452185Z"
    },
    "papermill": {
     "duration": 0.422575,
     "end_time": "2024-07-21T21:45:19.456348",
     "exception": false,
     "start_time": "2024-07-21T21:45:19.033773",
     "status": "completed"
    },
    "tags": []
   },
   "outputs": [
    {
     "data": {
      "application/javascript": [
       "parent.postMessage({\"jupyterEvent\": \"custom.exercise_interaction\", \"data\": {\"outcomeType\": 1, \"valueTowardsCompletion\": 0.3333333333333333, \"interactionType\": 1, \"questionType\": 2, \"questionId\": \"3.1_PlotBlueScatter\", \"learnToolsVersion\": \"0.3.4\", \"failureMessage\": \"\", \"exceptionClass\": \"\", \"trace\": \"\"}}, \"*\")"
      ],
      "text/plain": [
       "<IPython.core.display.Javascript object>"
      ]
     },
     "metadata": {},
     "output_type": "display_data"
    },
    {
     "data": {
      "text/markdown": [
       "<span style=\"color:#33cc33\">Correct</span>"
      ],
      "text/plain": [
       "Correct"
      ]
     },
     "metadata": {},
     "output_type": "display_data"
    },
    {
     "data": {
      "image/png": "[encoded data removed]",
      "text/plain": [
       "<Figure size 640x480 with 1 Axes>"
      ]
     },
     "metadata": {},
     "output_type": "display_data"
    }
   ],
   "source": [
    "# Scatter plot showing the relationship between 'sugarpercent' and 'winpercent'\n",
    "sns.scatterplot(x = candy_data['sugarpercent'], y = candy_data['winpercent']) # Your code here\n",
    "\n",
    "# Check your answer\n",
    "step_3.a.check()"
   ]
  },
  {
   "cell_type": "code",
   "execution_count": 9,
   "id": "62dac991",
   "metadata": {
    "execution": {
     "iopub.execute_input": "2024-07-21T21:45:19.478474Z",
     "iopub.status.busy": "2024-07-21T21:45:19.478045Z",
     "iopub.status.idle": "2024-07-21T21:45:19.483651Z",
     "shell.execute_reply": "2024-07-21T21:45:19.482069Z"
    },
    "papermill": {
     "duration": 0.020198,
     "end_time": "2024-07-21T21:45:19.486516",
     "exception": false,
     "start_time": "2024-07-21T21:45:19.466318",
     "status": "completed"
    },
    "tags": []
   },
   "outputs": [],
   "source": [
    "# Lines below will give you a hint or solution code\n",
    "#step_3.a.hint()\n",
    "#step_3.a.solution_plot()"
   ]
  },
  {
   "cell_type": "markdown",
   "id": "2e7e73e6",
   "metadata": {
    "papermill": {
     "duration": 0.010045,
     "end_time": "2024-07-21T21:45:19.506504",
     "exception": false,
     "start_time": "2024-07-21T21:45:19.496459",
     "status": "completed"
    },
    "tags": []
   },
   "source": [
    "#### Part B\n",
    "\n",
    "Does the scatter plot show a **strong** correlation between the two variables?  If so, are candies with more sugar relatively more or less popular with the survey respondents?"
   ]
  },
  {
   "cell_type": "code",
   "execution_count": 10,
   "id": "f2b4a8c0",
   "metadata": {
    "execution": {
     "iopub.execute_input": "2024-07-21T21:45:19.528957Z",
     "iopub.status.busy": "2024-07-21T21:45:19.528507Z",
     "iopub.status.idle": "2024-07-21T21:45:19.534239Z",
     "shell.execute_reply": "2024-07-21T21:45:19.532645Z"
    },
    "papermill": {
     "duration": 0.020552,
     "end_time": "2024-07-21T21:45:19.536982",
     "exception": false,
     "start_time": "2024-07-21T21:45:19.516430",
     "status": "completed"
    },
    "tags": []
   },
   "outputs": [],
   "source": [
    "#step_3.b.hint()"
   ]
  },
  {
   "cell_type": "code",
   "execution_count": 11,
   "id": "c47239c4",
   "metadata": {
    "execution": {
     "iopub.execute_input": "2024-07-21T21:45:19.559850Z",
     "iopub.status.busy": "2024-07-21T21:45:19.559454Z",
     "iopub.status.idle": "2024-07-21T21:45:19.569209Z",
     "shell.execute_reply": "2024-07-21T21:45:19.568016Z"
    },
    "papermill": {
     "duration": 0.02447,
     "end_time": "2024-07-21T21:45:19.571902",
     "exception": false,
     "start_time": "2024-07-21T21:45:19.547432",
     "status": "completed"
    },
    "tags": []
   },
   "outputs": [
    {
     "data": {
      "application/javascript": [
       "parent.postMessage({\"jupyterEvent\": \"custom.exercise_interaction\", \"data\": {\"interactionType\": 3, \"questionType\": 4, \"questionId\": \"3.2_ThinkBlueScatter\", \"learnToolsVersion\": \"0.3.4\", \"valueTowardsCompletion\": 0.0, \"failureMessage\": \"\", \"exceptionClass\": \"\", \"trace\": \"\", \"outcomeType\": 4}}, \"*\")"
      ],
      "text/plain": [
       "<IPython.core.display.Javascript object>"
      ]
     },
     "metadata": {},
     "output_type": "display_data"
    },
    {
     "data": {
      "text/markdown": [
       "<span style=\"color:#33cc99\">Solution:</span> The scatter plot does not show a strong correlation between the two variables. Since there is no clear relationship between the two variables, this tells us that sugar content does not play a strong role in candy popularity."
      ],
      "text/plain": [
       "Solution: The scatter plot does not show a strong correlation between the two variables. Since there is no clear relationship between the two variables, this tells us that sugar content does not play a strong role in candy popularity."
      ]
     },
     "metadata": {},
     "output_type": "display_data"
    }
   ],
   "source": [
    "# Check your answer (Run this code cell to receive credit!)\n",
    "step_3.b.solution()"
   ]
  },
  {
   "cell_type": "markdown",
   "id": "f19eb19b",
   "metadata": {
    "papermill": {
     "duration": 0.009646,
     "end_time": "2024-07-21T21:45:19.591708",
     "exception": false,
     "start_time": "2024-07-21T21:45:19.582062",
     "status": "completed"
    },
    "tags": []
   },
   "source": [
    "## Step 4: Take a closer look\n",
    "\n",
    "#### Part A\n",
    "\n",
    "Create the same scatter plot you created in **Step 3**, but now with a regression line!"
   ]
  },
  {
   "cell_type": "code",
   "execution_count": 12,
   "id": "efc627a3",
   "metadata": {
    "execution": {
     "iopub.execute_input": "2024-07-21T21:45:19.617779Z",
     "iopub.status.busy": "2024-07-21T21:45:19.616803Z",
     "iopub.status.idle": "2024-07-21T21:45:19.955321Z",
     "shell.execute_reply": "2024-07-21T21:45:19.953958Z"
    },
    "papermill": {
     "duration": 0.353904,
     "end_time": "2024-07-21T21:45:19.957893",
     "exception": false,
     "start_time": "2024-07-21T21:45:19.603989",
     "status": "completed"
    },
    "tags": []
   },
   "outputs": [
    {
     "data": {
      "application/javascript": [
       "parent.postMessage({\"jupyterEvent\": \"custom.exercise_interaction\", \"data\": {\"outcomeType\": 1, \"valueTowardsCompletion\": 0.3333333333333333, \"interactionType\": 1, \"questionType\": 2, \"questionId\": \"4.1_PlotBlueReg\", \"learnToolsVersion\": \"0.3.4\", \"failureMessage\": \"\", \"exceptionClass\": \"\", \"trace\": \"\"}}, \"*\")"
      ],
      "text/plain": [
       "<IPython.core.display.Javascript object>"
      ]
     },
     "metadata": {},
     "output_type": "display_data"
    },
    {
     "data": {
      "text/markdown": [
       "<span style=\"color:#33cc33\">Correct</span>"
      ],
      "text/plain": [
       "Correct"
      ]
     },
     "metadata": {},
     "output_type": "display_data"
    },
    {
     "data": {
      "image/png": "[encoded data removed]",
      "text/plain": [
       "<Figure size 640x480 with 1 Axes>"
      ]
     },
     "metadata": {},
     "output_type": "display_data"
    }
   ],
   "source": [
    "# Scatter plot w/ regression line showing the relationship between 'sugarpercent' and 'winpercent'\n",
    "sns.regplot(x = candy_data['sugarpercent'], y = candy_data['winpercent']) # Your code here\n",
    "\n",
    "# Check your answer\n",
    "step_4.a.check()"
   ]
  },
  {
   "cell_type": "code",
   "execution_count": 13,
   "id": "155af956",
   "metadata": {
    "execution": {
     "iopub.execute_input": "2024-07-21T21:45:19.981772Z",
     "iopub.status.busy": "2024-07-21T21:45:19.981399Z",
     "iopub.status.idle": "2024-07-21T21:45:19.987285Z",
     "shell.execute_reply": "2024-07-21T21:45:19.985982Z"
    },
    "papermill": {
     "duration": 0.021847,
     "end_time": "2024-07-21T21:45:19.990737",
     "exception": false,
     "start_time": "2024-07-21T21:45:19.968890",
     "status": "completed"
    },
    "tags": []
   },
   "outputs": [],
   "source": [
    "# Lines below will give you a hint or solution code\n",
    "#step_4.a.hint()\n",
    "#step_4.a.solution_plot()"
   ]
  },
  {
   "cell_type": "markdown",
   "id": "09afaf60",
   "metadata": {
    "papermill": {
     "duration": 0.011284,
     "end_time": "2024-07-21T21:45:20.013274",
     "exception": false,
     "start_time": "2024-07-21T21:45:20.001990",
     "status": "completed"
    },
    "tags": []
   },
   "source": [
    "#### Part B\n",
    "\n",
    "According to the plot above, is there a **slight** correlation between `'winpercent'` and `'sugarpercent'`?  What does this tell you about the candy that people tend to prefer?"
   ]
  },
  {
   "cell_type": "code",
   "execution_count": 14,
   "id": "912e0701",
   "metadata": {
    "execution": {
     "iopub.execute_input": "2024-07-21T21:45:20.038498Z",
     "iopub.status.busy": "2024-07-21T21:45:20.038072Z",
     "iopub.status.idle": "2024-07-21T21:45:20.043758Z",
     "shell.execute_reply": "2024-07-21T21:45:20.042320Z"
    },
    "papermill": {
     "duration": 0.022035,
     "end_time": "2024-07-21T21:45:20.047064",
     "exception": false,
     "start_time": "2024-07-21T21:45:20.025029",
     "status": "completed"
    },
    "tags": []
   },
   "outputs": [],
   "source": [
    "#step_4.b.hint()"
   ]
  },
  {
   "cell_type": "code",
   "execution_count": 15,
   "id": "82233610",
   "metadata": {
    "execution": {
     "iopub.execute_input": "2024-07-21T21:45:20.072610Z",
     "iopub.status.busy": "2024-07-21T21:45:20.072164Z",
     "iopub.status.idle": "2024-07-21T21:45:20.082458Z",
     "shell.execute_reply": "2024-07-21T21:45:20.081234Z"
    },
    "papermill": {
     "duration": 0.026284,
     "end_time": "2024-07-21T21:45:20.085065",
     "exception": false,
     "start_time": "2024-07-21T21:45:20.058781",
     "status": "completed"
    },
    "tags": []
   },
   "outputs": [
    {
     "data": {
      "application/javascript": [
       "parent.postMessage({\"jupyterEvent\": \"custom.exercise_interaction\", \"data\": {\"interactionType\": 3, \"questionType\": 4, \"questionId\": \"4.2_ThinkBlueReg\", \"learnToolsVersion\": \"0.3.4\", \"valueTowardsCompletion\": 0.0, \"failureMessage\": \"\", \"exceptionClass\": \"\", \"trace\": \"\", \"outcomeType\": 4}}, \"*\")"
      ],
      "text/plain": [
       "<IPython.core.display.Javascript object>"
      ]
     },
     "metadata": {},
     "output_type": "display_data"
    },
    {
     "data": {
      "text/markdown": [
       "<span style=\"color:#33cc99\">Solution:</span> Since the regression line has a slightly positive slope, this tells us that there is a slightly positive correlation between `'winpercent'` and `'sugarpercent'`. Thus, people have a slight preference for candies containing relatively more sugar."
      ],
      "text/plain": [
       "Solution: Since the regression line has a slightly positive slope, this tells us that there is a slightly positive correlation between `'winpercent'` and `'sugarpercent'`. Thus, people have a slight preference for candies containing relatively more sugar."
      ]
     },
     "metadata": {},
     "output_type": "display_data"
    }
   ],
   "source": [
    "# Check your answer (Run this code cell to receive credit!)\n",
    "step_4.b.solution()"
   ]
  },
  {
   "cell_type": "markdown",
   "id": "e643dffb",
   "metadata": {
    "papermill": {
     "duration": 0.012247,
     "end_time": "2024-07-21T21:45:20.108605",
     "exception": false,
     "start_time": "2024-07-21T21:45:20.096358",
     "status": "completed"
    },
    "tags": []
   },
   "source": [
    "## Step 5: Chocolate!\n",
    "\n",
    "In the code cell below, create a scatter plot to show the relationship between `'pricepercent'` (on the horizontal x-axis) and `'winpercent'` (on the vertical y-axis). Use the `'chocolate'` column to color-code the points.  _Don't add any regression lines just yet -- you'll do that in the next step!_"
   ]
  },
  {
   "cell_type": "code",
   "execution_count": 16,
   "id": "7df57864",
   "metadata": {
    "execution": {
     "iopub.execute_input": "2024-07-21T21:45:20.134853Z",
     "iopub.status.busy": "2024-07-21T21:45:20.134422Z",
     "iopub.status.idle": "2024-07-21T21:45:20.459098Z",
     "shell.execute_reply": "2024-07-21T21:45:20.457662Z"
    },
    "papermill": {
     "duration": 0.341356,
     "end_time": "2024-07-21T21:45:20.461741",
     "exception": false,
     "start_time": "2024-07-21T21:45:20.120385",
     "status": "completed"
    },
    "tags": []
   },
   "outputs": [
    {
     "data": {
      "application/javascript": [
       "parent.postMessage({\"jupyterEvent\": \"custom.exercise_interaction\", \"data\": {\"outcomeType\": 1, \"valueTowardsCompletion\": 0.3333333333333333, \"interactionType\": 1, \"questionType\": 2, \"questionId\": \"5_ColorScatter\", \"learnToolsVersion\": \"0.3.4\", \"failureMessage\": \"\", \"exceptionClass\": \"\", \"trace\": \"\"}}, \"*\")"
      ],
      "text/plain": [
       "<IPython.core.display.Javascript object>"
      ]
     },
     "metadata": {},
     "output_type": "display_data"
    },
    {
     "data": {
      "text/markdown": [
       "<span style=\"color:#33cc33\">Correct</span>"
      ],
      "text/plain": [
       "Correct"
      ]
     },
     "metadata": {},
     "output_type": "display_data"
    },
    {
     "data": {
      "image/png": "[encoded data removed]",
      "text/plain": [
       "<Figure size 640x480 with 1 Axes>"
      ]
     },
     "metadata": {},
     "output_type": "display_data"
    }
   ],
   "source": [
    "# Scatter plot showing the relationship between 'pricepercent', 'winpercent', and 'chocolate'\n",
    "sns.scatterplot(x = candy_data['pricepercent'], y = candy_data['winpercent'], hue = candy_data['chocolate']) # Your code here\n",
    "\n",
    "# Check your answer\n",
    "step_5.check()"
   ]
  },
  {
   "cell_type": "code",
   "execution_count": 17,
   "id": "99526e67",
   "metadata": {
    "execution": {
     "iopub.execute_input": "2024-07-21T21:45:20.487820Z",
     "iopub.status.busy": "2024-07-21T21:45:20.487448Z",
     "iopub.status.idle": "2024-07-21T21:45:20.492193Z",
     "shell.execute_reply": "2024-07-21T21:45:20.491029Z"
    },
    "papermill": {
     "duration": 0.02102,
     "end_time": "2024-07-21T21:45:20.494820",
     "exception": false,
     "start_time": "2024-07-21T21:45:20.473800",
     "status": "completed"
    },
    "tags": []
   },
   "outputs": [],
   "source": [
    "# Lines below will give you a hint or solution code\n",
    "#step_5.hint()\n",
    "#step_5.solution_plot()"
   ]
  },
  {
   "cell_type": "markdown",
   "id": "d7b86ba3",
   "metadata": {
    "papermill": {
     "duration": 0.011577,
     "end_time": "2024-07-21T21:45:20.518467",
     "exception": false,
     "start_time": "2024-07-21T21:45:20.506890",
     "status": "completed"
    },
    "tags": []
   },
   "source": [
    "Can you see any interesting patterns in the scatter plot?  We'll investigate this plot further  by adding regression lines in the next step!\n",
    "\n",
    "## Step 6: Investigate chocolate\n",
    "\n",
    "#### Part A\n",
    "\n",
    "Create the same scatter plot you created in **Step 5**, but now with two regression lines, corresponding to (1) chocolate candies and (2) candies without chocolate."
   ]
  },
  {
   "cell_type": "code",
   "execution_count": 18,
   "id": "4b5bdd56",
   "metadata": {
    "execution": {
     "iopub.execute_input": "2024-07-21T21:45:20.544477Z",
     "iopub.status.busy": "2024-07-21T21:45:20.544052Z",
     "iopub.status.idle": "2024-07-21T21:45:21.250975Z",
     "shell.execute_reply": "2024-07-21T21:45:21.249681Z"
    },
    "papermill": {
     "duration": 0.723324,
     "end_time": "2024-07-21T21:45:21.253951",
     "exception": false,
     "start_time": "2024-07-21T21:45:20.530627",
     "status": "completed"
    },
    "tags": []
   },
   "outputs": [
    {
     "data": {
      "application/javascript": [
       "parent.postMessage({\"jupyterEvent\": \"custom.exercise_interaction\", \"data\": {\"outcomeType\": 1, \"valueTowardsCompletion\": 0.3333333333333333, \"interactionType\": 1, \"questionType\": 2, \"questionId\": \"6.1_PlotColorReg\", \"learnToolsVersion\": \"0.3.4\", \"failureMessage\": \"\", \"exceptionClass\": \"\", \"trace\": \"\"}}, \"*\")"
      ],
      "text/plain": [
       "<IPython.core.display.Javascript object>"
      ]
     },
     "metadata": {},
     "output_type": "display_data"
    },
    {
     "data": {
      "text/markdown": [
       "<span style=\"color:#33cc33\">Correct</span>"
      ],
      "text/plain": [
       "Correct"
      ]
     },
     "metadata": {},
     "output_type": "display_data"
    },
    {
     "data": {
      "image/png": "[encoded data removed]",
      "text/plain": [
       "<Figure size 578.611x500 with 1 Axes>"
      ]
     },
     "metadata": {},
     "output_type": "display_data"
    }
   ],
   "source": [
    "# Color-coded scatter plot w/ regression lines\n",
    "sns.lmplot(x = 'pricepercent', y = 'winpercent', hue = 'chocolate', data = candy_data) # Your code here\n",
    "\n",
    "# Check your answer\n",
    "step_6.a.check()"
   ]
  },
  {
   "cell_type": "code",
   "execution_count": 19,
   "id": "fd0cec7a",
   "metadata": {
    "execution": {
     "iopub.execute_input": "2024-07-21T21:45:21.284767Z",
     "iopub.status.busy": "2024-07-21T21:45:21.284395Z",
     "iopub.status.idle": "2024-07-21T21:45:21.289564Z",
     "shell.execute_reply": "2024-07-21T21:45:21.288135Z"
    },
    "papermill": {
     "duration": 0.023961,
     "end_time": "2024-07-21T21:45:21.292228",
     "exception": false,
     "start_time": "2024-07-21T21:45:21.268267",
     "status": "completed"
    },
    "tags": []
   },
   "outputs": [],
   "source": [
    "# Lines below will give you a hint or solution code\n",
    "#step_6.a.hint()\n",
    "#step_6.a.solution_plot()"
   ]
  },
  {
   "cell_type": "markdown",
   "id": "ee2618f4",
   "metadata": {
    "papermill": {
     "duration": 0.012975,
     "end_time": "2024-07-21T21:45:21.318401",
     "exception": false,
     "start_time": "2024-07-21T21:45:21.305426",
     "status": "completed"
    },
    "tags": []
   },
   "source": [
    "#### Part B\n",
    "\n",
    "Using the regression lines, what conclusions can you draw about the effects of chocolate and price on candy popularity?"
   ]
  },
  {
   "cell_type": "code",
   "execution_count": 20,
   "id": "320e3778",
   "metadata": {
    "execution": {
     "iopub.execute_input": "2024-07-21T21:45:21.346725Z",
     "iopub.status.busy": "2024-07-21T21:45:21.346340Z",
     "iopub.status.idle": "2024-07-21T21:45:21.351683Z",
     "shell.execute_reply": "2024-07-21T21:45:21.350314Z"
    },
    "papermill": {
     "duration": 0.022205,
     "end_time": "2024-07-21T21:45:21.354143",
     "exception": false,
     "start_time": "2024-07-21T21:45:21.331938",
     "status": "completed"
    },
    "tags": []
   },
   "outputs": [],
   "source": [
    "#step_6.b.hint()"
   ]
  },
  {
   "cell_type": "code",
   "execution_count": 21,
   "id": "6db8db9d",
   "metadata": {
    "execution": {
     "iopub.execute_input": "2024-07-21T21:45:21.381943Z",
     "iopub.status.busy": "2024-07-21T21:45:21.381482Z",
     "iopub.status.idle": "2024-07-21T21:45:21.391175Z",
     "shell.execute_reply": "2024-07-21T21:45:21.389922Z"
    },
    "papermill": {
     "duration": 0.026679,
     "end_time": "2024-07-21T21:45:21.393827",
     "exception": false,
     "start_time": "2024-07-21T21:45:21.367148",
     "status": "completed"
    },
    "tags": []
   },
   "outputs": [
    {
     "data": {
      "application/javascript": [
       "parent.postMessage({\"jupyterEvent\": \"custom.exercise_interaction\", \"data\": {\"interactionType\": 3, \"questionType\": 4, \"questionId\": \"6.2_ThinkColorReg\", \"learnToolsVersion\": \"0.3.4\", \"valueTowardsCompletion\": 0.0, \"failureMessage\": \"\", \"exceptionClass\": \"\", \"trace\": \"\", \"outcomeType\": 4}}, \"*\")"
      ],
      "text/plain": [
       "<IPython.core.display.Javascript object>"
      ]
     },
     "metadata": {},
     "output_type": "display_data"
    },
    {
     "data": {
      "text/markdown": [
       "<span style=\"color:#33cc99\">Solution:</span> We'll begin with the regression line for chocolate candies. Since this line has a slightly positive slope, we can say that more expensive chocolate candies tend to be more popular (than relatively cheaper chocolate candies).  Likewise, since the regression line for candies without chocolate has a negative slope, we can say that if candies don't contain chocolate, they tend to be more popular when they are cheaper.  One important note, however, is that the dataset is quite small -- so we shouldn't invest too much trust in these patterns!  To inspire more confidence in the results, we should add more candies to the dataset."
      ],
      "text/plain": [
       "Solution: We'll begin with the regression line for chocolate candies. Since this line has a slightly positive slope, we can say that more expensive chocolate candies tend to be more popular (than relatively cheaper chocolate candies).  Likewise, since the regression line for candies without chocolate has a negative slope, we can say that if candies don't contain chocolate, they tend to be more popular when they are cheaper.  One important note, however, is that the dataset is quite small -- so we shouldn't invest too much trust in these patterns!  To inspire more confidence in the results, we should add more candies to the dataset."
      ]
     },
     "metadata": {},
     "output_type": "display_data"
    }
   ],
   "source": [
    "# Check your answer (Run this code cell to receive credit!)\n",
    "step_6.b.solution()"
   ]
  },
  {
   "cell_type": "markdown",
   "id": "b35b737e",
   "metadata": {
    "papermill": {
     "duration": 0.013009,
     "end_time": "2024-07-21T21:45:21.420688",
     "exception": false,
     "start_time": "2024-07-21T21:45:21.407679",
     "status": "completed"
    },
    "tags": []
   },
   "source": [
    "## Step 7: Everybody loves chocolate.\n",
    "\n",
    "#### Part A\n",
    "\n",
    "Create a categorical scatter plot to highlight the relationship between `'chocolate'` and `'winpercent'`.  Put `'chocolate'` on the (horizontal) x-axis, and `'winpercent'` on the (vertical) y-axis."
   ]
  },
  {
   "cell_type": "code",
   "execution_count": 22,
   "id": "66413d0c",
   "metadata": {
    "execution": {
     "iopub.execute_input": "2024-07-21T21:45:21.510484Z",
     "iopub.status.busy": "2024-07-21T21:45:21.510055Z",
     "iopub.status.idle": "2024-07-21T21:45:21.924217Z",
     "shell.execute_reply": "2024-07-21T21:45:21.923266Z"
    },
    "papermill": {
     "duration": 0.492326,
     "end_time": "2024-07-21T21:45:21.926742",
     "exception": false,
     "start_time": "2024-07-21T21:45:21.434416",
     "status": "completed"
    },
    "tags": []
   },
   "outputs": [
    {
     "data": {
      "application/javascript": [
       "parent.postMessage({\"jupyterEvent\": \"custom.exercise_interaction\", \"data\": {\"outcomeType\": 1, \"valueTowardsCompletion\": 0.3333333333333333, \"interactionType\": 1, \"questionType\": 2, \"questionId\": \"7.1_PlotSwarm\", \"learnToolsVersion\": \"0.3.4\", \"failureMessage\": \"\", \"exceptionClass\": \"\", \"trace\": \"\"}}, \"*\")"
      ],
      "text/plain": [
       "<IPython.core.display.Javascript object>"
      ]
     },
     "metadata": {},
     "output_type": "display_data"
    },
    {
     "data": {
      "text/markdown": [
       "<span style=\"color:#33cc33\">Correct</span>"
      ],
      "text/plain": [
       "Correct"
      ]
     },
     "metadata": {},
     "output_type": "display_data"
    },
    {
     "data": {
      "image/png": "[encoded data removed]",
      "text/plain": [
       "<Figure size 640x480 with 1 Axes>"
      ]
     },
     "metadata": {},
     "output_type": "display_data"
    }
   ],
   "source": [
    "# Scatter plot showing the relationship between 'chocolate' and 'winpercent'\n",
    "sns.swarmplot(x = candy_data['chocolate'], y = candy_data['winpercent']) # Your code here\n",
    "\n",
    "# Check your answer\n",
    "step_7.a.check()"
   ]
  },
  {
   "cell_type": "code",
   "execution_count": 23,
   "id": "5243e238",
   "metadata": {
    "execution": {
     "iopub.execute_input": "2024-07-21T21:45:21.987978Z",
     "iopub.status.busy": "2024-07-21T21:45:21.986447Z",
     "iopub.status.idle": "2024-07-21T21:45:21.992305Z",
     "shell.execute_reply": "2024-07-21T21:45:21.991000Z"
    },
    "papermill": {
     "duration": 0.037936,
     "end_time": "2024-07-21T21:45:21.995794",
     "exception": false,
     "start_time": "2024-07-21T21:45:21.957858",
     "status": "completed"
    },
    "tags": []
   },
   "outputs": [],
   "source": [
    "# Lines below will give you a hint or solution code\n",
    "#step_7.a.hint()\n",
    "#step_7.a.solution_plot()"
   ]
  },
  {
   "cell_type": "markdown",
   "id": "aa0ac44e",
   "metadata": {
    "papermill": {
     "duration": 0.014105,
     "end_time": "2024-07-21T21:45:22.029046",
     "exception": false,
     "start_time": "2024-07-21T21:45:22.014941",
     "status": "completed"
    },
    "tags": []
   },
   "source": [
    "#### Part B\n",
    "\n",
    "You decide to dedicate a section of your report to the fact that chocolate candies tend to be more popular than candies without chocolate.  Which plot is more appropriate to tell this story: the plot from **Step 6**, or the plot from **Step 7**?"
   ]
  },
  {
   "cell_type": "code",
   "execution_count": 24,
   "id": "89eacfba",
   "metadata": {
    "execution": {
     "iopub.execute_input": "2024-07-21T21:45:22.066857Z",
     "iopub.status.busy": "2024-07-21T21:45:22.066467Z",
     "iopub.status.idle": "2024-07-21T21:45:22.071545Z",
     "shell.execute_reply": "2024-07-21T21:45:22.070379Z"
    },
    "papermill": {
     "duration": 0.030386,
     "end_time": "2024-07-21T21:45:22.074706",
     "exception": false,
     "start_time": "2024-07-21T21:45:22.044320",
     "status": "completed"
    },
    "tags": []
   },
   "outputs": [],
   "source": [
    "#step_7.b.hint()"
   ]
  },
  {
   "cell_type": "code",
   "execution_count": 25,
   "id": "a5a43e62",
   "metadata": {
    "execution": {
     "iopub.execute_input": "2024-07-21T21:45:22.108469Z",
     "iopub.status.busy": "2024-07-21T21:45:22.107521Z",
     "iopub.status.idle": "2024-07-21T21:45:22.116257Z",
     "shell.execute_reply": "2024-07-21T21:45:22.115206Z"
    },
    "papermill": {
     "duration": 0.027408,
     "end_time": "2024-07-21T21:45:22.119323",
     "exception": false,
     "start_time": "2024-07-21T21:45:22.091915",
     "status": "completed"
    },
    "tags": []
   },
   "outputs": [
    {
     "data": {
      "application/javascript": [
       "parent.postMessage({\"jupyterEvent\": \"custom.exercise_interaction\", \"data\": {\"interactionType\": 3, \"questionType\": 4, \"questionId\": \"7.2_ThinkSwarm\", \"learnToolsVersion\": \"0.3.4\", \"valueTowardsCompletion\": 0.0, \"failureMessage\": \"\", \"exceptionClass\": \"\", \"trace\": \"\", \"outcomeType\": 4}}, \"*\")"
      ],
      "text/plain": [
       "<IPython.core.display.Javascript object>"
      ]
     },
     "metadata": {},
     "output_type": "display_data"
    },
    {
     "data": {
      "text/markdown": [
       "<span style=\"color:#33cc99\">Solution:</span> In this case, the categorical scatter plot from **Step 7** is the more appropriate plot. While both plots tell the desired story, the plot from **Step 6** conveys far more information that could distract from the main point."
      ],
      "text/plain": [
       "Solution: In this case, the categorical scatter plot from **Step 7** is the more appropriate plot. While both plots tell the desired story, the plot from **Step 6** conveys far more information that could distract from the main point."
      ]
     },
     "metadata": {},
     "output_type": "display_data"
    }
   ],
   "source": [
    "# Check your answer (Run this code cell to receive credit!)\n",
    "step_7.b.solution()"
   ]
  },
  {
   "cell_type": "markdown",
   "id": "2af48a2c",
   "metadata": {
    "papermill": {
     "duration": 0.014233,
     "end_time": "2024-07-21T21:45:22.151377",
     "exception": false,
     "start_time": "2024-07-21T21:45:22.137144",
     "status": "completed"
    },
    "tags": []
   },
   "source": [
    "## Keep going\n",
    "\n",
    "Explore **[histograms and density plots](https://www.kaggle.com/alexisbcook/distributions)**."
   ]
  },
  {
   "cell_type": "markdown",
   "id": "556338fe",
   "metadata": {
    "papermill": {
     "duration": 0.014138,
     "end_time": "2024-07-21T21:45:22.180619",
     "exception": false,
     "start_time": "2024-07-21T21:45:22.166481",
     "status": "completed"
    },
    "tags": []
   },
   "source": [
    "---\n",
    "\n",
    "\n",
    "\n",
    "\n",
    "*Have questions or comments? Visit the [course discussion forum](https://www.kaggle.com/learn/data-visualization/discussion) to chat with other learners.*"
   ]
  }
 ],
 "metadata": {
  "kaggle": {
   "accelerator": "none",
   "dataSources": [
    {
     "datasetId": 116573,
     "sourceId": 3551030,
     "sourceType": "datasetVersion"
    }
   ],
   "isGpuEnabled": false,
   "isInternetEnabled": false,
   "language": "python",
   "sourceType": "notebook"
  },
  "kernelspec": {
   "display_name": "Python 3",
   "language": "python",
   "name": "python3"
  },
  "language_info": {
   "codemirror_mode": {
    "name": "ipython",
    "version": 3
   },
   "file_extension": ".py",
   "mimetype": "text/x-python",
   "name": "python",
   "nbconvert_exporter": "python",
   "pygments_lexer": "ipython3",
   "version": "3.10.13"
  },
  "papermill": {
   "default_parameters": {},
   "duration": 9.604454,
   "end_time": "2024-07-21T21:45:22.824948",
   "environment_variables": {},
   "exception": null,
   "input_path": "__notebook__.ipynb",
   "output_path": "__notebook__.ipynb",
   "parameters": {},
   "start_time": "2024-07-21T21:45:13.220494",
   "version": "2.5.0"
  }
 },
 "nbformat": 4,
 "nbformat_minor": 5
}
