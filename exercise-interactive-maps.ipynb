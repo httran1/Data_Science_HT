{
 "cells": [
  {
   "cell_type": "markdown",
   "id": "9d521c30",
   "metadata": {
    "papermill": {
     "duration": 0.010989,
     "end_time": "2024-07-14T17:56:45.016010",
     "exception": false,
     "start_time": "2024-07-14T17:56:45.005021",
     "status": "completed"
    },
    "tags": []
   },
   "source": [
    "**This notebook is an exercise in the [Geospatial Analysis](https://www.kaggle.com/learn/geospatial-analysis) course.  You can reference the tutorial at [this link](https://www.kaggle.com/alexisbcook/interactive-maps).**\n",
    "\n",
    "---\n"
   ]
  },
  {
   "cell_type": "markdown",
   "id": "2d1e689c",
   "metadata": {
    "papermill": {
     "duration": 0.01051,
     "end_time": "2024-07-14T17:56:45.037398",
     "exception": false,
     "start_time": "2024-07-14T17:56:45.026888",
     "status": "completed"
    },
    "tags": []
   },
   "source": [
    "# Introduction\n",
    "\n",
    "You are an urban safety planner in Japan, and you are analyzing which areas of Japan need extra earthquake reinforcement.  Which areas are both high in population density and prone to earthquakes?\n",
    "\n",
    "<center>\n",
    "<img src=\"https://storage.googleapis.com/kaggle-media/learn/images/Kuh9gPj.png\" width=\"450\"><br/>\n",
    "</center>\n",
    "\n",
    "Before you get started, run the code cell below to set everything up."
   ]
  },
  {
   "cell_type": "code",
   "execution_count": 1,
   "id": "9bb2988f",
   "metadata": {
    "execution": {
     "iopub.execute_input": "2024-07-14T17:56:45.060353Z",
     "iopub.status.busy": "2024-07-14T17:56:45.059938Z",
     "iopub.status.idle": "2024-07-14T17:56:47.167373Z",
     "shell.execute_reply": "2024-07-14T17:56:47.166041Z"
    },
    "papermill": {
     "duration": 2.122617,
     "end_time": "2024-07-14T17:56:47.170289",
     "exception": false,
     "start_time": "2024-07-14T17:56:45.047672",
     "status": "completed"
    },
    "tags": []
   },
   "outputs": [],
   "source": [
    "import pandas as pd\n",
    "import geopandas as gpd\n",
    "\n",
    "import folium\n",
    "from folium import Choropleth\n",
    "from folium.plugins import HeatMap\n",
    "\n",
    "from learntools.core import binder\n",
    "binder.bind(globals())\n",
    "from learntools.geospatial.ex3 import *"
   ]
  },
  {
   "cell_type": "markdown",
   "id": "64096c5e",
   "metadata": {
    "papermill": {
     "duration": 0.010108,
     "end_time": "2024-07-14T17:56:47.190844",
     "exception": false,
     "start_time": "2024-07-14T17:56:47.180736",
     "status": "completed"
    },
    "tags": []
   },
   "source": [
    "We define a function `embed_map()` for displaying interactive maps. It accepts two arguments: the variable containing the map, and the name of the HTML file where the map will be saved.\n",
    "\n",
    "This function ensures that the maps are visible [in all web browsers](https://github.com/python-visualization/folium/issues/812)."
   ]
  },
  {
   "cell_type": "code",
   "execution_count": 2,
   "id": "6a01f386",
   "metadata": {
    "execution": {
     "iopub.execute_input": "2024-07-14T17:56:47.213972Z",
     "iopub.status.busy": "2024-07-14T17:56:47.213397Z",
     "iopub.status.idle": "2024-07-14T17:56:47.220194Z",
     "shell.execute_reply": "2024-07-14T17:56:47.218855Z"
    },
    "papermill": {
     "duration": 0.021596,
     "end_time": "2024-07-14T17:56:47.222864",
     "exception": false,
     "start_time": "2024-07-14T17:56:47.201268",
     "status": "completed"
    },
    "tags": []
   },
   "outputs": [],
   "source": [
    "def embed_map(m, file_name):\n",
    "    from IPython.display import IFrame\n",
    "    m.save(file_name)\n",
    "    return IFrame(file_name, width='100%', height='500px')"
   ]
  },
  {
   "cell_type": "markdown",
   "id": "f95864e2",
   "metadata": {
    "papermill": {
     "duration": 0.010027,
     "end_time": "2024-07-14T17:56:47.243124",
     "exception": false,
     "start_time": "2024-07-14T17:56:47.233097",
     "status": "completed"
    },
    "tags": []
   },
   "source": [
    "# Exercises\n",
    "\n",
    "### 1) Do earthquakes coincide with plate boundaries?\n",
    "\n",
    "Run the code cell below to create a DataFrame `plate_boundaries` that shows global plate boundaries.  The \"coordinates\" column is a list of (latitude, longitude) locations along the boundaries."
   ]
  },
  {
   "cell_type": "code",
   "execution_count": 3,
   "id": "d6ce52d8",
   "metadata": {
    "execution": {
     "iopub.execute_input": "2024-07-14T17:56:47.265529Z",
     "iopub.status.busy": "2024-07-14T17:56:47.265121Z",
     "iopub.status.idle": "2024-07-14T17:56:48.246046Z",
     "shell.execute_reply": "2024-07-14T17:56:48.244908Z"
    },
    "papermill": {
     "duration": 0.995505,
     "end_time": "2024-07-14T17:56:48.248817",
     "exception": false,
     "start_time": "2024-07-14T17:56:47.253312",
     "status": "completed"
    },
    "tags": []
   },
   "outputs": [
    {
     "data": {
      "text/html": [
       "<div>\n",
       "<style scoped>\n",
       "    .dataframe tbody tr th:only-of-type {\n",
       "        vertical-align: middle;\n",
       "    }\n",
       "\n",
       "    .dataframe tbody tr th {\n",
       "        vertical-align: top;\n",
       "    }\n",
       "\n",
       "    .dataframe thead th {\n",
       "        text-align: right;\n",
       "    }\n",
       "</style>\n",
       "<table border=\"1\" class=\"dataframe\">\n",
       "  <thead>\n",
       "    <tr style=\"text-align: right;\">\n",
       "      <th></th>\n",
       "      <th>HAZ_PLATES</th>\n",
       "      <th>HAZ_PLAT_1</th>\n",
       "      <th>HAZ_PLAT_2</th>\n",
       "      <th>Shape_Leng</th>\n",
       "      <th>coordinates</th>\n",
       "    </tr>\n",
       "  </thead>\n",
       "  <tbody>\n",
       "    <tr>\n",
       "      <th>0</th>\n",
       "      <td>TRENCH</td>\n",
       "      <td>SERAM TROUGH (ACTIVE)</td>\n",
       "      <td>6722</td>\n",
       "      <td>5.843467</td>\n",
       "      <td>[(-5.444200361999947, 133.6808931800001), (-5....</td>\n",
       "    </tr>\n",
       "    <tr>\n",
       "      <th>1</th>\n",
       "      <td>TRENCH</td>\n",
       "      <td>WETAR THRUST</td>\n",
       "      <td>6722</td>\n",
       "      <td>1.829013</td>\n",
       "      <td>[(-7.760600482999962, 125.47879802900002), (-7...</td>\n",
       "    </tr>\n",
       "    <tr>\n",
       "      <th>2</th>\n",
       "      <td>TRENCH</td>\n",
       "      <td>TRENCH WEST OF LUZON (MANILA TRENCH) NORTHERN ...</td>\n",
       "      <td>6621</td>\n",
       "      <td>6.743604</td>\n",
       "      <td>[(19.817899819000047, 120.09999798800004), (19...</td>\n",
       "    </tr>\n",
       "    <tr>\n",
       "      <th>3</th>\n",
       "      <td>TRENCH</td>\n",
       "      <td>BONIN TRENCH</td>\n",
       "      <td>9821</td>\n",
       "      <td>8.329381</td>\n",
       "      <td>[(26.175899215000072, 143.20620700100005), (26...</td>\n",
       "    </tr>\n",
       "    <tr>\n",
       "      <th>4</th>\n",
       "      <td>TRENCH</td>\n",
       "      <td>NEW GUINEA TRENCH</td>\n",
       "      <td>8001</td>\n",
       "      <td>11.998145</td>\n",
       "      <td>[(0.41880004000006466, 132.8273013480001), (0....</td>\n",
       "    </tr>\n",
       "  </tbody>\n",
       "</table>\n",
       "</div>"
      ],
      "text/plain": [
       "  HAZ_PLATES                                         HAZ_PLAT_1  HAZ_PLAT_2  \\\n",
       "0     TRENCH                              SERAM TROUGH (ACTIVE)        6722   \n",
       "1     TRENCH                                       WETAR THRUST        6722   \n",
       "2     TRENCH  TRENCH WEST OF LUZON (MANILA TRENCH) NORTHERN ...        6621   \n",
       "3     TRENCH                                       BONIN TRENCH        9821   \n",
       "4     TRENCH                                  NEW GUINEA TRENCH        8001   \n",
       "\n",
       "   Shape_Leng                                        coordinates  \n",
       "0    5.843467  [(-5.444200361999947, 133.6808931800001), (-5....  \n",
       "1    1.829013  [(-7.760600482999962, 125.47879802900002), (-7...  \n",
       "2    6.743604  [(19.817899819000047, 120.09999798800004), (19...  \n",
       "3    8.329381  [(26.175899215000072, 143.20620700100005), (26...  \n",
       "4   11.998145  [(0.41880004000006466, 132.8273013480001), (0....  "
      ]
     },
     "execution_count": 3,
     "metadata": {},
     "output_type": "execute_result"
    }
   ],
   "source": [
    "plate_boundaries = gpd.read_file(\"../input/geospatial-learn-course-data/Plate_Boundaries/Plate_Boundaries/Plate_Boundaries.shp\")\n",
    "plate_boundaries['coordinates'] = plate_boundaries.apply(lambda x: [(b,a) for (a,b) in list(x.geometry.coords)], axis='columns')\n",
    "plate_boundaries.drop('geometry', axis=1, inplace=True)\n",
    "\n",
    "plate_boundaries.head()"
   ]
  },
  {
   "cell_type": "markdown",
   "id": "aa12d24a",
   "metadata": {
    "papermill": {
     "duration": 0.011114,
     "end_time": "2024-07-14T17:56:48.270445",
     "exception": false,
     "start_time": "2024-07-14T17:56:48.259331",
     "status": "completed"
    },
    "tags": []
   },
   "source": [
    "Next, run the code cell below without changes to load the historical earthquake data into a DataFrame `earthquakes`."
   ]
  },
  {
   "cell_type": "code",
   "execution_count": 4,
   "id": "4d313cb1",
   "metadata": {
    "execution": {
     "iopub.execute_input": "2024-07-14T17:56:48.293281Z",
     "iopub.status.busy": "2024-07-14T17:56:48.292855Z",
     "iopub.status.idle": "2024-07-14T17:56:48.363778Z",
     "shell.execute_reply": "2024-07-14T17:56:48.362547Z"
    },
    "papermill": {
     "duration": 0.085634,
     "end_time": "2024-07-14T17:56:48.366640",
     "exception": false,
     "start_time": "2024-07-14T17:56:48.281006",
     "status": "completed"
    },
    "tags": []
   },
   "outputs": [
    {
     "data": {
      "text/html": [
       "<div>\n",
       "<style scoped>\n",
       "    .dataframe tbody tr th:only-of-type {\n",
       "        vertical-align: middle;\n",
       "    }\n",
       "\n",
       "    .dataframe tbody tr th {\n",
       "        vertical-align: top;\n",
       "    }\n",
       "\n",
       "    .dataframe thead th {\n",
       "        text-align: right;\n",
       "    }\n",
       "</style>\n",
       "<table border=\"1\" class=\"dataframe\">\n",
       "  <thead>\n",
       "    <tr style=\"text-align: right;\">\n",
       "      <th></th>\n",
       "      <th>DateTime</th>\n",
       "      <th>Latitude</th>\n",
       "      <th>Longitude</th>\n",
       "      <th>Depth</th>\n",
       "      <th>Magnitude</th>\n",
       "      <th>MagType</th>\n",
       "      <th>NbStations</th>\n",
       "      <th>Gap</th>\n",
       "      <th>Distance</th>\n",
       "      <th>RMS</th>\n",
       "      <th>Source</th>\n",
       "      <th>EventID</th>\n",
       "    </tr>\n",
       "  </thead>\n",
       "  <tbody>\n",
       "    <tr>\n",
       "      <th>0</th>\n",
       "      <td>1970-01-04 17:00:40.200</td>\n",
       "      <td>24.139</td>\n",
       "      <td>102.503</td>\n",
       "      <td>31.0</td>\n",
       "      <td>7.5</td>\n",
       "      <td>Ms</td>\n",
       "      <td>90.0</td>\n",
       "      <td>NaN</td>\n",
       "      <td>NaN</td>\n",
       "      <td>0.0</td>\n",
       "      <td>NEI</td>\n",
       "      <td>1.970010e+09</td>\n",
       "    </tr>\n",
       "    <tr>\n",
       "      <th>1</th>\n",
       "      <td>1970-01-06 05:35:51.800</td>\n",
       "      <td>-9.628</td>\n",
       "      <td>151.458</td>\n",
       "      <td>8.0</td>\n",
       "      <td>6.2</td>\n",
       "      <td>Ms</td>\n",
       "      <td>85.0</td>\n",
       "      <td>NaN</td>\n",
       "      <td>NaN</td>\n",
       "      <td>0.0</td>\n",
       "      <td>NEI</td>\n",
       "      <td>1.970011e+09</td>\n",
       "    </tr>\n",
       "    <tr>\n",
       "      <th>2</th>\n",
       "      <td>1970-01-08 17:12:39.100</td>\n",
       "      <td>-34.741</td>\n",
       "      <td>178.568</td>\n",
       "      <td>179.0</td>\n",
       "      <td>6.1</td>\n",
       "      <td>Mb</td>\n",
       "      <td>59.0</td>\n",
       "      <td>NaN</td>\n",
       "      <td>NaN</td>\n",
       "      <td>0.0</td>\n",
       "      <td>NEI</td>\n",
       "      <td>1.970011e+09</td>\n",
       "    </tr>\n",
       "    <tr>\n",
       "      <th>3</th>\n",
       "      <td>1970-01-10 12:07:08.600</td>\n",
       "      <td>6.825</td>\n",
       "      <td>126.737</td>\n",
       "      <td>73.0</td>\n",
       "      <td>6.1</td>\n",
       "      <td>Mb</td>\n",
       "      <td>91.0</td>\n",
       "      <td>NaN</td>\n",
       "      <td>NaN</td>\n",
       "      <td>0.0</td>\n",
       "      <td>NEI</td>\n",
       "      <td>1.970011e+09</td>\n",
       "    </tr>\n",
       "    <tr>\n",
       "      <th>4</th>\n",
       "      <td>1970-01-16 08:05:39.000</td>\n",
       "      <td>60.280</td>\n",
       "      <td>-152.660</td>\n",
       "      <td>85.0</td>\n",
       "      <td>6.0</td>\n",
       "      <td>ML</td>\n",
       "      <td>0.0</td>\n",
       "      <td>NaN</td>\n",
       "      <td>NaN</td>\n",
       "      <td>NaN</td>\n",
       "      <td>AK</td>\n",
       "      <td>NaN</td>\n",
       "    </tr>\n",
       "  </tbody>\n",
       "</table>\n",
       "</div>"
      ],
      "text/plain": [
       "                 DateTime  Latitude  Longitude  Depth  Magnitude MagType  \\\n",
       "0 1970-01-04 17:00:40.200    24.139    102.503   31.0        7.5      Ms   \n",
       "1 1970-01-06 05:35:51.800    -9.628    151.458    8.0        6.2      Ms   \n",
       "2 1970-01-08 17:12:39.100   -34.741    178.568  179.0        6.1      Mb   \n",
       "3 1970-01-10 12:07:08.600     6.825    126.737   73.0        6.1      Mb   \n",
       "4 1970-01-16 08:05:39.000    60.280   -152.660   85.0        6.0      ML   \n",
       "\n",
       "   NbStations  Gap  Distance  RMS Source       EventID  \n",
       "0        90.0  NaN       NaN  0.0    NEI  1.970010e+09  \n",
       "1        85.0  NaN       NaN  0.0    NEI  1.970011e+09  \n",
       "2        59.0  NaN       NaN  0.0    NEI  1.970011e+09  \n",
       "3        91.0  NaN       NaN  0.0    NEI  1.970011e+09  \n",
       "4         0.0  NaN       NaN  NaN     AK           NaN  "
      ]
     },
     "execution_count": 4,
     "metadata": {},
     "output_type": "execute_result"
    }
   ],
   "source": [
    "# Load the data and print the first 5 rows\n",
    "earthquakes = pd.read_csv(\"../input/geospatial-learn-course-data/earthquakes1970-2014.csv\", parse_dates=[\"DateTime\"])\n",
    "earthquakes.head()"
   ]
  },
  {
   "cell_type": "markdown",
   "id": "d113d322",
   "metadata": {
    "papermill": {
     "duration": 0.010494,
     "end_time": "2024-07-14T17:56:48.388273",
     "exception": false,
     "start_time": "2024-07-14T17:56:48.377779",
     "status": "completed"
    },
    "tags": []
   },
   "source": [
    "The code cell below visualizes the plate boundaries on a map.  Use all of the earthquake data to add a heatmap to the same map, to determine whether earthquakes coincide with plate boundaries.  "
   ]
  },
  {
   "cell_type": "code",
   "execution_count": 5,
   "id": "cc40095f",
   "metadata": {
    "execution": {
     "iopub.execute_input": "2024-07-14T17:56:48.412944Z",
     "iopub.status.busy": "2024-07-14T17:56:48.412499Z",
     "iopub.status.idle": "2024-07-14T17:56:49.073156Z",
     "shell.execute_reply": "2024-07-14T17:56:49.071930Z"
    },
    "papermill": {
     "duration": 0.675896,
     "end_time": "2024-07-14T17:56:49.075905",
     "exception": false,
     "start_time": "2024-07-14T17:56:48.400009",
     "status": "completed"
    },
    "tags": []
   },
   "outputs": [
    {
     "data": {
      "application/javascript": [
       "parent.postMessage({\"jupyterEvent\": \"custom.exercise_interaction\", \"data\": {\"interactionType\": 2, \"questionType\": 2, \"questionId\": \"1.1_Q1P\", \"learnToolsVersion\": \"0.3.4\", \"valueTowardsCompletion\": 0.0, \"failureMessage\": \"\", \"exceptionClass\": \"\", \"trace\": \"\", \"outcomeType\": 4}}, \"*\")"
      ],
      "text/plain": [
       "<IPython.core.display.Javascript object>"
      ]
     },
     "metadata": {},
     "output_type": "display_data"
    },
    {
     "data": {
      "text/markdown": [
       "<span style=\"color:#3366cc\">Hint:</span> Use `folium.plugins.HeatMap()` to add a heatmap. Set `data` to a DataFrame containing the latitude and longitude locations.  We got fairly good results by setting `radius=15`. Don't forget to add it to the map with the `add_to()` method!"
      ],
      "text/plain": [
       "Hint: Use `folium.plugins.HeatMap()` to add a heatmap. Set `data` to a DataFrame containing the latitude and longitude locations.  We got fairly good results by setting `radius=15`. Don't forget to add it to the map with the `add_to()` method!"
      ]
     },
     "metadata": {},
     "output_type": "display_data"
    },
    {
     "data": {
      "text/html": [
       "\n",
       "        <iframe\n",
       "            width=\"100%\"\n",
       "            height=\"500px\"\n",
       "            src=\"q_1.html\"\n",
       "            frameborder=\"0\"\n",
       "            allowfullscreen\n",
       "            \n",
       "        ></iframe>\n",
       "        "
      ],
      "text/plain": [
       "<IPython.lib.display.IFrame at 0x7bb581df9720>"
      ]
     },
     "execution_count": 5,
     "metadata": {},
     "output_type": "execute_result"
    }
   ],
   "source": [
    "# Create a base map with plate boundaries\n",
    "m_1 = folium.Map(location=[35,136], tiles='cartodbpositron', zoom_start=5)\n",
    "for i in range(len(plate_boundaries)):\n",
    "    folium.PolyLine(locations=plate_boundaries.coordinates.iloc[i], weight=2, color='black').add_to(m_1)\n",
    "\n",
    "# Your code here: Add a heatmap to the map\n",
    "HeatMap(data = earthquakes[['Latitude','Longitude']], radius = 15).add_to(m_1)\n",
    "\n",
    "# Uncomment to see a hint\n",
    "q_1.a.hint()\n",
    "\n",
    "# Show the map\n",
    "embed_map(m_1, 'q_1.html')"
   ]
  },
  {
   "cell_type": "code",
   "execution_count": 6,
   "id": "8fa15322",
   "metadata": {
    "execution": {
     "iopub.execute_input": "2024-07-14T17:56:49.102421Z",
     "iopub.status.busy": "2024-07-14T17:56:49.101980Z",
     "iopub.status.idle": "2024-07-14T17:56:49.117038Z",
     "shell.execute_reply": "2024-07-14T17:56:49.115888Z"
    },
    "papermill": {
     "duration": 0.031661,
     "end_time": "2024-07-14T17:56:49.119908",
     "exception": false,
     "start_time": "2024-07-14T17:56:49.088247",
     "status": "completed"
    },
    "tags": []
   },
   "outputs": [
    {
     "data": {
      "application/javascript": [
       "parent.postMessage({\"jupyterEvent\": \"custom.exercise_interaction\", \"data\": {\"outcomeType\": 1, \"valueTowardsCompletion\": 1.0, \"interactionType\": 1, \"questionType\": 2, \"questionId\": \"1.1_Q1P\", \"learnToolsVersion\": \"0.3.4\", \"failureMessage\": \"\", \"exceptionClass\": \"\", \"trace\": \"\"}}, \"*\")"
      ],
      "text/plain": [
       "<IPython.core.display.Javascript object>"
      ]
     },
     "metadata": {},
     "output_type": "display_data"
    },
    {
     "data": {
      "text/markdown": [
       "<span style=\"color:#33cc33\">Thank you for creating a map!</span>"
      ],
      "text/plain": [
       "Thank you for creating a map!"
      ]
     },
     "metadata": {},
     "output_type": "display_data"
    },
    {
     "data": {
      "application/javascript": [
       "parent.postMessage({\"jupyterEvent\": \"custom.exercise_interaction\", \"data\": {\"interactionType\": 3, \"questionType\": 2, \"questionId\": \"1.1_Q1P\", \"learnToolsVersion\": \"0.3.4\", \"valueTowardsCompletion\": 0.0, \"failureMessage\": \"\", \"exceptionClass\": \"\", \"trace\": \"\", \"outcomeType\": 4}}, \"*\")"
      ],
      "text/plain": [
       "<IPython.core.display.Javascript object>"
      ]
     },
     "metadata": {},
     "output_type": "display_data"
    },
    {
     "data": {
      "text/markdown": [
       "<span style=\"color:#33cc99\">Solution:</span> \n",
       "```python\n",
       "# Add a heatmap to the map\n",
       "HeatMap(data=earthquakes[['Latitude', 'Longitude']], radius=15).add_to(m_1)\n",
       "\n",
       "```"
      ],
      "text/plain": [
       "Solution: \n",
       "```python\n",
       "# Add a heatmap to the map\n",
       "HeatMap(data=earthquakes[['Latitude', 'Longitude']], radius=15).add_to(m_1)\n",
       "\n",
       "```"
      ]
     },
     "metadata": {},
     "output_type": "display_data"
    }
   ],
   "source": [
    "# Get credit for your work after you have created a map\n",
    "q_1.a.check()\n",
    "\n",
    "# Uncomment to see our solution (your code may look different!)\n",
    "q_1.a.solution()"
   ]
  },
  {
   "cell_type": "markdown",
   "id": "dfbb6641",
   "metadata": {
    "papermill": {
     "duration": 0.011677,
     "end_time": "2024-07-14T17:56:49.143721",
     "exception": false,
     "start_time": "2024-07-14T17:56:49.132044",
     "status": "completed"
    },
    "tags": []
   },
   "source": [
    "So, given the map above, do earthquakes coincide with plate boundaries?"
   ]
  },
  {
   "cell_type": "code",
   "execution_count": 7,
   "id": "4dee5d80",
   "metadata": {
    "execution": {
     "iopub.execute_input": "2024-07-14T17:56:49.169683Z",
     "iopub.status.busy": "2024-07-14T17:56:49.169277Z",
     "iopub.status.idle": "2024-07-14T17:56:49.179022Z",
     "shell.execute_reply": "2024-07-14T17:56:49.177787Z"
    },
    "papermill": {
     "duration": 0.025937,
     "end_time": "2024-07-14T17:56:49.181631",
     "exception": false,
     "start_time": "2024-07-14T17:56:49.155694",
     "status": "completed"
    },
    "tags": []
   },
   "outputs": [
    {
     "data": {
      "application/javascript": [
       "parent.postMessage({\"jupyterEvent\": \"custom.exercise_interaction\", \"data\": {\"interactionType\": 3, \"questionType\": 4, \"questionId\": \"1.2_Q1T\", \"learnToolsVersion\": \"0.3.4\", \"valueTowardsCompletion\": 0.0, \"failureMessage\": \"\", \"exceptionClass\": \"\", \"trace\": \"\", \"outcomeType\": 4}}, \"*\")"
      ],
      "text/plain": [
       "<IPython.core.display.Javascript object>"
      ]
     },
     "metadata": {},
     "output_type": "display_data"
    },
    {
     "data": {
      "text/markdown": [
       "<span style=\"color:#33cc99\">Solution:</span> Yes, earthquakes coincide with plate boundaries."
      ],
      "text/plain": [
       "Solution: Yes, earthquakes coincide with plate boundaries."
      ]
     },
     "metadata": {},
     "output_type": "display_data"
    }
   ],
   "source": [
    "# View the solution (Run this code cell to receive credit!)\n",
    "q_1.b.solution()"
   ]
  },
  {
   "cell_type": "markdown",
   "id": "a8bbc082",
   "metadata": {
    "papermill": {
     "duration": 0.012154,
     "end_time": "2024-07-14T17:56:49.206252",
     "exception": false,
     "start_time": "2024-07-14T17:56:49.194098",
     "status": "completed"
    },
    "tags": []
   },
   "source": [
    "### 2) Is there a relationship between earthquake depth and proximity to a plate boundary in Japan?\n",
    "\n",
    "You recently read that the depth of earthquakes tells us [important information](https://www.usgs.gov/faqs/what-depth-do-earthquakes-occur-what-significance-depth?qt-news_science_products=0#qt-news_science_products) about the structure of the earth.  You're interested to see if there are any intereresting global patterns, and you'd also like to understand how depth varies in Japan.\n",
    "\n"
   ]
  },
  {
   "cell_type": "code",
   "execution_count": 8,
   "id": "045a431c",
   "metadata": {
    "execution": {
     "iopub.execute_input": "2024-07-14T17:56:49.233640Z",
     "iopub.status.busy": "2024-07-14T17:56:49.232444Z",
     "iopub.status.idle": "2024-07-14T17:56:55.810335Z",
     "shell.execute_reply": "2024-07-14T17:56:55.809039Z"
    },
    "papermill": {
     "duration": 6.594515,
     "end_time": "2024-07-14T17:56:55.813173",
     "exception": false,
     "start_time": "2024-07-14T17:56:49.218658",
     "status": "completed"
    },
    "tags": []
   },
   "outputs": [
    {
     "data": {
      "application/javascript": [
       "parent.postMessage({\"jupyterEvent\": \"custom.exercise_interaction\", \"data\": {\"interactionType\": 2, \"questionType\": 2, \"questionId\": \"2.1_Q2P\", \"learnToolsVersion\": \"0.3.4\", \"valueTowardsCompletion\": 0.0, \"failureMessage\": \"\", \"exceptionClass\": \"\", \"trace\": \"\", \"outcomeType\": 4}}, \"*\")"
      ],
      "text/plain": [
       "<IPython.core.display.Javascript object>"
      ]
     },
     "metadata": {},
     "output_type": "display_data"
    },
    {
     "data": {
      "text/markdown": [
       "<span style=\"color:#3366cc\">Hint:</span> Use `folium.Circle()` to create a bubble map. We visualized the relationship between location and depth by assigning the color of each circle based on the depth of the corresponding earthquake."
      ],
      "text/plain": [
       "Hint: Use `folium.Circle()` to create a bubble map. We visualized the relationship between location and depth by assigning the color of each circle based on the depth of the corresponding earthquake."
      ]
     },
     "metadata": {},
     "output_type": "display_data"
    },
    {
     "data": {
      "text/html": [
       "\n",
       "        <iframe\n",
       "            width=\"100%\"\n",
       "            height=\"500px\"\n",
       "            src=\"q_2.html\"\n",
       "            frameborder=\"0\"\n",
       "            allowfullscreen\n",
       "            \n",
       "        ></iframe>\n",
       "        "
      ],
      "text/plain": [
       "<IPython.lib.display.IFrame at 0x7bb580b2ebc0>"
      ]
     },
     "execution_count": 8,
     "metadata": {},
     "output_type": "execute_result"
    }
   ],
   "source": [
    "# Create a base map with plate boundaries\n",
    "m_2 = folium.Map(location=[35,136], tiles='cartodbpositron', zoom_start=5)\n",
    "for i in range(len(plate_boundaries)):\n",
    "    folium.PolyLine(locations=plate_boundaries.coordinates.iloc[i], weight=2, color='black').add_to(m_2)\n",
    "    \n",
    "# Your code here: Add a map to visualize earthquake depth\n",
    "def color_producer(val):\n",
    "    if val < 50:\n",
    "        return 'forestgreen'\n",
    "    elif val < 100:\n",
    "        return 'darkorange'\n",
    "    else:\n",
    "        return 'darkred'\n",
    "\n",
    "for i in range(0, len(earthquakes)):\n",
    "    folium.Circle(\n",
    "        location = [earthquakes.iloc[i]['Latitude'], earthquakes.iloc[i]['Longitude']],\n",
    "        radius = 2000,\n",
    "        color = color_producer(earthquakes.iloc[i]['Depth'])).add_to(m_2)\n",
    "\n",
    "# Uncomment to see a hint\n",
    "q_2.a.hint()\n",
    "\n",
    "# View the map\n",
    "embed_map(m_2, 'q_2.html')"
   ]
  },
  {
   "cell_type": "code",
   "execution_count": 9,
   "id": "c67044bc",
   "metadata": {
    "execution": {
     "iopub.execute_input": "2024-07-14T17:56:55.840651Z",
     "iopub.status.busy": "2024-07-14T17:56:55.840263Z",
     "iopub.status.idle": "2024-07-14T17:56:55.855106Z",
     "shell.execute_reply": "2024-07-14T17:56:55.853930Z"
    },
    "papermill": {
     "duration": 0.031711,
     "end_time": "2024-07-14T17:56:55.857664",
     "exception": false,
     "start_time": "2024-07-14T17:56:55.825953",
     "status": "completed"
    },
    "tags": []
   },
   "outputs": [
    {
     "data": {
      "application/javascript": [
       "parent.postMessage({\"jupyterEvent\": \"custom.exercise_interaction\", \"data\": {\"outcomeType\": 1, \"valueTowardsCompletion\": 1.0, \"interactionType\": 1, \"questionType\": 2, \"questionId\": \"2.1_Q2P\", \"learnToolsVersion\": \"0.3.4\", \"failureMessage\": \"\", \"exceptionClass\": \"\", \"trace\": \"\"}}, \"*\")"
      ],
      "text/plain": [
       "<IPython.core.display.Javascript object>"
      ]
     },
     "metadata": {},
     "output_type": "display_data"
    },
    {
     "data": {
      "text/markdown": [
       "<span style=\"color:#33cc33\">Thank you for creating a map!</span>"
      ],
      "text/plain": [
       "Thank you for creating a map!"
      ]
     },
     "metadata": {},
     "output_type": "display_data"
    },
    {
     "data": {
      "application/javascript": [
       "parent.postMessage({\"jupyterEvent\": \"custom.exercise_interaction\", \"data\": {\"interactionType\": 3, \"questionType\": 2, \"questionId\": \"2.1_Q2P\", \"learnToolsVersion\": \"0.3.4\", \"valueTowardsCompletion\": 0.0, \"failureMessage\": \"\", \"exceptionClass\": \"\", \"trace\": \"\", \"outcomeType\": 4}}, \"*\")"
      ],
      "text/plain": [
       "<IPython.core.display.Javascript object>"
      ]
     },
     "metadata": {},
     "output_type": "display_data"
    },
    {
     "data": {
      "text/markdown": [
       "<span style=\"color:#33cc99\">Solution:</span> \n",
       "```python\n",
       "# Custom function to assign a color to each circle\n",
       "def color_producer(val):\n",
       "    if val < 50:\n",
       "        return 'forestgreen'\n",
       "    elif val < 100:\n",
       "        return 'darkorange'\n",
       "    else:\n",
       "        return 'darkred'\n",
       "\n",
       "# Add a map to visualize earthquake depth\n",
       "for i in range(0,len(earthquakes)):\n",
       "    folium.Circle(\n",
       "        location=[earthquakes.iloc[i]['Latitude'], earthquakes.iloc[i]['Longitude']],\n",
       "        radius=2000,\n",
       "        color=color_producer(earthquakes.iloc[i]['Depth'])).add_to(m_2)\n",
       "\n",
       "```"
      ],
      "text/plain": [
       "Solution: \n",
       "```python\n",
       "# Custom function to assign a color to each circle\n",
       "def color_producer(val):\n",
       "    if val < 50:\n",
       "        return 'forestgreen'\n",
       "    elif val < 100:\n",
       "        return 'darkorange'\n",
       "    else:\n",
       "        return 'darkred'\n",
       "\n",
       "# Add a map to visualize earthquake depth\n",
       "for i in range(0,len(earthquakes)):\n",
       "    folium.Circle(\n",
       "        location=[earthquakes.iloc[i]['Latitude'], earthquakes.iloc[i]['Longitude']],\n",
       "        radius=2000,\n",
       "        color=color_producer(earthquakes.iloc[i]['Depth'])).add_to(m_2)\n",
       "\n",
       "```"
      ]
     },
     "metadata": {},
     "output_type": "display_data"
    }
   ],
   "source": [
    "# Get credit for your work after you have created a map\n",
    "q_2.a.check()\n",
    "\n",
    "# Uncomment to see our solution (your code may look different!)\n",
    "q_2.a.solution()"
   ]
  },
  {
   "cell_type": "markdown",
   "id": "cc7bcd28",
   "metadata": {
    "papermill": {
     "duration": 0.013063,
     "end_time": "2024-07-14T17:56:55.884323",
     "exception": false,
     "start_time": "2024-07-14T17:56:55.871260",
     "status": "completed"
    },
    "tags": []
   },
   "source": [
    "Can you detect a relationship between proximity to a plate boundary and earthquake depth?  Does this pattern hold globally?  In Japan?"
   ]
  },
  {
   "cell_type": "code",
   "execution_count": 10,
   "id": "402842b0",
   "metadata": {
    "execution": {
     "iopub.execute_input": "2024-07-14T17:56:55.914689Z",
     "iopub.status.busy": "2024-07-14T17:56:55.914240Z",
     "iopub.status.idle": "2024-07-14T17:56:55.923936Z",
     "shell.execute_reply": "2024-07-14T17:56:55.922774Z"
    },
    "papermill": {
     "duration": 0.027523,
     "end_time": "2024-07-14T17:56:55.926332",
     "exception": false,
     "start_time": "2024-07-14T17:56:55.898809",
     "status": "completed"
    },
    "tags": []
   },
   "outputs": [
    {
     "data": {
      "application/javascript": [
       "parent.postMessage({\"jupyterEvent\": \"custom.exercise_interaction\", \"data\": {\"interactionType\": 3, \"questionType\": 4, \"questionId\": \"2.2_Q2T\", \"learnToolsVersion\": \"0.3.4\", \"valueTowardsCompletion\": 0.0, \"failureMessage\": \"\", \"exceptionClass\": \"\", \"trace\": \"\", \"outcomeType\": 4}}, \"*\")"
      ],
      "text/plain": [
       "<IPython.core.display.Javascript object>"
      ]
     },
     "metadata": {},
     "output_type": "display_data"
    },
    {
     "data": {
      "text/markdown": [
       "<span style=\"color:#33cc99\">Solution:</span> In the northern half of Japan, it does appear that earthquakes closer to plate boundaries tend to be shallower (and earthquakes farther from plate boundaries are deeper).  This pattern is repeated in other locations, such as the western coast of South America.  But, it does not hold everywhere (for instance, in China, Mongolia, and Russia)."
      ],
      "text/plain": [
       "Solution: In the northern half of Japan, it does appear that earthquakes closer to plate boundaries tend to be shallower (and earthquakes farther from plate boundaries are deeper).  This pattern is repeated in other locations, such as the western coast of South America.  But, it does not hold everywhere (for instance, in China, Mongolia, and Russia)."
      ]
     },
     "metadata": {},
     "output_type": "display_data"
    }
   ],
   "source": [
    "# View the solution (Run this code cell to receive credit!)\n",
    "q_2.b.solution()"
   ]
  },
  {
   "cell_type": "markdown",
   "id": "70878286",
   "metadata": {
    "papermill": {
     "duration": 0.014836,
     "end_time": "2024-07-14T17:56:55.955130",
     "exception": false,
     "start_time": "2024-07-14T17:56:55.940294",
     "status": "completed"
    },
    "tags": []
   },
   "source": [
    "### 3) Which prefectures have high population density?\n",
    "\n",
    "Run the next code cell (without changes) to create a GeoDataFrame `prefectures` that contains the geographical boundaries of Japanese prefectures."
   ]
  },
  {
   "cell_type": "code",
   "execution_count": 11,
   "id": "f19b8730",
   "metadata": {
    "execution": {
     "iopub.execute_input": "2024-07-14T17:56:55.985243Z",
     "iopub.status.busy": "2024-07-14T17:56:55.984775Z",
     "iopub.status.idle": "2024-07-14T17:56:57.216848Z",
     "shell.execute_reply": "2024-07-14T17:56:57.215382Z"
    },
    "papermill": {
     "duration": 1.2504,
     "end_time": "2024-07-14T17:56:57.219954",
     "exception": false,
     "start_time": "2024-07-14T17:56:55.969554",
     "status": "completed"
    },
    "tags": []
   },
   "outputs": [
    {
     "data": {
      "text/html": [
       "<div>\n",
       "<style scoped>\n",
       "    .dataframe tbody tr th:only-of-type {\n",
       "        vertical-align: middle;\n",
       "    }\n",
       "\n",
       "    .dataframe tbody tr th {\n",
       "        vertical-align: top;\n",
       "    }\n",
       "\n",
       "    .dataframe thead th {\n",
       "        text-align: right;\n",
       "    }\n",
       "</style>\n",
       "<table border=\"1\" class=\"dataframe\">\n",
       "  <thead>\n",
       "    <tr style=\"text-align: right;\">\n",
       "      <th></th>\n",
       "      <th>geometry</th>\n",
       "    </tr>\n",
       "    <tr>\n",
       "      <th>prefecture</th>\n",
       "      <th></th>\n",
       "    </tr>\n",
       "  </thead>\n",
       "  <tbody>\n",
       "    <tr>\n",
       "      <th>Aichi</th>\n",
       "      <td>MULTIPOLYGON (((137.09523 34.65330, 137.09546 ...</td>\n",
       "    </tr>\n",
       "    <tr>\n",
       "      <th>Akita</th>\n",
       "      <td>MULTIPOLYGON (((139.55725 39.20330, 139.55765 ...</td>\n",
       "    </tr>\n",
       "    <tr>\n",
       "      <th>Aomori</th>\n",
       "      <td>MULTIPOLYGON (((141.39860 40.92472, 141.39806 ...</td>\n",
       "    </tr>\n",
       "    <tr>\n",
       "      <th>Chiba</th>\n",
       "      <td>MULTIPOLYGON (((139.82488 34.98967, 139.82434 ...</td>\n",
       "    </tr>\n",
       "    <tr>\n",
       "      <th>Ehime</th>\n",
       "      <td>MULTIPOLYGON (((132.55859 32.91224, 132.55904 ...</td>\n",
       "    </tr>\n",
       "  </tbody>\n",
       "</table>\n",
       "</div>"
      ],
      "text/plain": [
       "                                                     geometry\n",
       "prefecture                                                   \n",
       "Aichi       MULTIPOLYGON (((137.09523 34.65330, 137.09546 ...\n",
       "Akita       MULTIPOLYGON (((139.55725 39.20330, 139.55765 ...\n",
       "Aomori      MULTIPOLYGON (((141.39860 40.92472, 141.39806 ...\n",
       "Chiba       MULTIPOLYGON (((139.82488 34.98967, 139.82434 ...\n",
       "Ehime       MULTIPOLYGON (((132.55859 32.91224, 132.55904 ..."
      ]
     },
     "execution_count": 11,
     "metadata": {},
     "output_type": "execute_result"
    }
   ],
   "source": [
    "# GeoDataFrame with prefecture boundaries\n",
    "prefectures = gpd.read_file(\"../input/geospatial-learn-course-data/japan-prefecture-boundaries/japan-prefecture-boundaries/japan-prefecture-boundaries.shp\")\n",
    "prefectures.set_index('prefecture', inplace=True)\n",
    "prefectures.head()"
   ]
  },
  {
   "cell_type": "markdown",
   "id": "a88fcf5b",
   "metadata": {
    "papermill": {
     "duration": 0.014984,
     "end_time": "2024-07-14T17:56:57.249640",
     "exception": false,
     "start_time": "2024-07-14T17:56:57.234656",
     "status": "completed"
    },
    "tags": []
   },
   "source": [
    "The next code cell creates a DataFrame `stats` containing the population, area (in square kilometers), and population density (per square kilometer) for each Japanese prefecture.  Run the code cell without changes."
   ]
  },
  {
   "cell_type": "code",
   "execution_count": 12,
   "id": "5bf4b1c3",
   "metadata": {
    "execution": {
     "iopub.execute_input": "2024-07-14T17:56:57.280778Z",
     "iopub.status.busy": "2024-07-14T17:56:57.279721Z",
     "iopub.status.idle": "2024-07-14T17:56:58.740192Z",
     "shell.execute_reply": "2024-07-14T17:56:58.738869Z"
    },
    "papermill": {
     "duration": 1.479383,
     "end_time": "2024-07-14T17:56:58.743200",
     "exception": false,
     "start_time": "2024-07-14T17:56:57.263817",
     "status": "completed"
    },
    "tags": []
   },
   "outputs": [
    {
     "data": {
      "text/html": [
       "<div>\n",
       "<style scoped>\n",
       "    .dataframe tbody tr th:only-of-type {\n",
       "        vertical-align: middle;\n",
       "    }\n",
       "\n",
       "    .dataframe tbody tr th {\n",
       "        vertical-align: top;\n",
       "    }\n",
       "\n",
       "    .dataframe thead th {\n",
       "        text-align: right;\n",
       "    }\n",
       "</style>\n",
       "<table border=\"1\" class=\"dataframe\">\n",
       "  <thead>\n",
       "    <tr style=\"text-align: right;\">\n",
       "      <th></th>\n",
       "      <th>population</th>\n",
       "      <th>area_sqkm</th>\n",
       "      <th>density</th>\n",
       "    </tr>\n",
       "    <tr>\n",
       "      <th>prefecture</th>\n",
       "      <th></th>\n",
       "      <th></th>\n",
       "      <th></th>\n",
       "    </tr>\n",
       "  </thead>\n",
       "  <tbody>\n",
       "    <tr>\n",
       "      <th>Tokyo</th>\n",
       "      <td>12868000</td>\n",
       "      <td>1800.614782</td>\n",
       "      <td>7146.448049</td>\n",
       "    </tr>\n",
       "    <tr>\n",
       "      <th>Kanagawa</th>\n",
       "      <td>8943000</td>\n",
       "      <td>2383.038975</td>\n",
       "      <td>3752.771186</td>\n",
       "    </tr>\n",
       "    <tr>\n",
       "      <th>Osaka</th>\n",
       "      <td>8801000</td>\n",
       "      <td>1923.151529</td>\n",
       "      <td>4576.342460</td>\n",
       "    </tr>\n",
       "    <tr>\n",
       "      <th>Aichi</th>\n",
       "      <td>7418000</td>\n",
       "      <td>5164.400005</td>\n",
       "      <td>1436.372085</td>\n",
       "    </tr>\n",
       "    <tr>\n",
       "      <th>Saitama</th>\n",
       "      <td>7130000</td>\n",
       "      <td>3794.036890</td>\n",
       "      <td>1879.264806</td>\n",
       "    </tr>\n",
       "  </tbody>\n",
       "</table>\n",
       "</div>"
      ],
      "text/plain": [
       "            population    area_sqkm      density\n",
       "prefecture                                      \n",
       "Tokyo         12868000  1800.614782  7146.448049\n",
       "Kanagawa       8943000  2383.038975  3752.771186\n",
       "Osaka          8801000  1923.151529  4576.342460\n",
       "Aichi          7418000  5164.400005  1436.372085\n",
       "Saitama        7130000  3794.036890  1879.264806"
      ]
     },
     "execution_count": 12,
     "metadata": {},
     "output_type": "execute_result"
    }
   ],
   "source": [
    "# DataFrame containing population of each prefecture\n",
    "population = pd.read_csv(\"../input/geospatial-learn-course-data/japan-prefecture-population.csv\")\n",
    "population.set_index('prefecture', inplace=True)\n",
    "\n",
    "# Calculate area (in square kilometers) of each prefecture\n",
    "area_sqkm = pd.Series(prefectures.geometry.to_crs(epsg=32654).area / 10**6, name='area_sqkm')\n",
    "stats = population.join(area_sqkm)\n",
    "\n",
    "# Add density (per square kilometer) of each prefecture\n",
    "stats['density'] = stats[\"population\"] / stats[\"area_sqkm\"]\n",
    "stats.head()"
   ]
  },
  {
   "cell_type": "markdown",
   "id": "3ef7da1a",
   "metadata": {
    "papermill": {
     "duration": 0.0143,
     "end_time": "2024-07-14T17:56:58.772046",
     "exception": false,
     "start_time": "2024-07-14T17:56:58.757746",
     "status": "completed"
    },
    "tags": []
   },
   "source": [
    "Use the next code cell to create a choropleth map to visualize population density."
   ]
  },
  {
   "cell_type": "code",
   "execution_count": 13,
   "id": "88b0078f",
   "metadata": {
    "execution": {
     "iopub.execute_input": "2024-07-14T17:56:58.803735Z",
     "iopub.status.busy": "2024-07-14T17:56:58.802760Z",
     "iopub.status.idle": "2024-07-14T17:57:10.193656Z",
     "shell.execute_reply": "2024-07-14T17:57:10.192402Z"
    },
    "papermill": {
     "duration": 11.410034,
     "end_time": "2024-07-14T17:57:10.196566",
     "exception": false,
     "start_time": "2024-07-14T17:56:58.786532",
     "status": "completed"
    },
    "tags": []
   },
   "outputs": [
    {
     "data": {
      "application/javascript": [
       "parent.postMessage({\"jupyterEvent\": \"custom.exercise_interaction\", \"data\": {\"interactionType\": 2, \"questionType\": 2, \"questionId\": \"3.1_Q3P\", \"learnToolsVersion\": \"0.3.4\", \"valueTowardsCompletion\": 0.0, \"failureMessage\": \"\", \"exceptionClass\": \"\", \"trace\": \"\", \"outcomeType\": 4}}, \"*\")"
      ],
      "text/plain": [
       "<IPython.core.display.Javascript object>"
      ]
     },
     "metadata": {},
     "output_type": "display_data"
    },
    {
     "data": {
      "text/markdown": [
       "<span style=\"color:#3366cc\">Hint:</span> Use `folium.Choropleth()` to create a choropleth map.  Remember to use the `__geo_interface__` method to construct the value for `geo_data`. Set `data` to a Pandas Series containing the population density data, and indexed by prefecture."
      ],
      "text/plain": [
       "Hint: Use `folium.Choropleth()` to create a choropleth map.  Remember to use the `__geo_interface__` method to construct the value for `geo_data`. Set `data` to a Pandas Series containing the population density data, and indexed by prefecture."
      ]
     },
     "metadata": {},
     "output_type": "display_data"
    },
    {
     "data": {
      "text/html": [
       "\n",
       "        <iframe\n",
       "            width=\"100%\"\n",
       "            height=\"500px\"\n",
       "            src=\"q_3.html\"\n",
       "            frameborder=\"0\"\n",
       "            allowfullscreen\n",
       "            \n",
       "        ></iframe>\n",
       "        "
      ],
      "text/plain": [
       "<IPython.lib.display.IFrame at 0x7bb57c84bf10>"
      ]
     },
     "execution_count": 13,
     "metadata": {},
     "output_type": "execute_result"
    }
   ],
   "source": [
    "# Create a base map\n",
    "m_3 = folium.Map(location=[35,136], tiles='cartodbpositron', zoom_start=5)\n",
    "\n",
    "# Your code here: create a choropleth map to visualize population density\n",
    "Choropleth(geo_data = prefectures['geometry'].__geo_interface__, \n",
    "           data = stats['density'], key_on = \"feature.id\", fill_color = \"YlGnBu\", legend_name = \"Population Density\").add_to(m_3)\n",
    "\n",
    "# Uncomment to see a hint\n",
    "q_3.a.hint()\n",
    "\n",
    "# View the map\n",
    "embed_map(m_3, 'q_3.html')"
   ]
  },
  {
   "cell_type": "code",
   "execution_count": 14,
   "id": "691d4242",
   "metadata": {
    "execution": {
     "iopub.execute_input": "2024-07-14T17:57:10.229309Z",
     "iopub.status.busy": "2024-07-14T17:57:10.228875Z",
     "iopub.status.idle": "2024-07-14T17:57:10.238561Z",
     "shell.execute_reply": "2024-07-14T17:57:10.237241Z"
    },
    "papermill": {
     "duration": 0.029073,
     "end_time": "2024-07-14T17:57:10.241011",
     "exception": false,
     "start_time": "2024-07-14T17:57:10.211938",
     "status": "completed"
    },
    "tags": []
   },
   "outputs": [
    {
     "data": {
      "application/javascript": [
       "parent.postMessage({\"jupyterEvent\": \"custom.exercise_interaction\", \"data\": {\"outcomeType\": 1, \"valueTowardsCompletion\": 1.0, \"interactionType\": 1, \"questionType\": 2, \"questionId\": \"3.1_Q3P\", \"learnToolsVersion\": \"0.3.4\", \"failureMessage\": \"\", \"exceptionClass\": \"\", \"trace\": \"\"}}, \"*\")"
      ],
      "text/plain": [
       "<IPython.core.display.Javascript object>"
      ]
     },
     "metadata": {},
     "output_type": "display_data"
    },
    {
     "data": {
      "text/markdown": [
       "<span style=\"color:#33cc33\">Thank you for creating a map!</span>"
      ],
      "text/plain": [
       "Thank you for creating a map!"
      ]
     },
     "metadata": {},
     "output_type": "display_data"
    }
   ],
   "source": [
    "# Get credit for your work after you have created a map\n",
    "q_3.a.check()\n",
    "\n",
    "# Uncomment to see our solution (your code may look different!)\n",
    "#q_3.a.solution()"
   ]
  },
  {
   "cell_type": "markdown",
   "id": "fd669cb7",
   "metadata": {
    "papermill": {
     "duration": 0.015013,
     "end_time": "2024-07-14T17:57:10.271503",
     "exception": false,
     "start_time": "2024-07-14T17:57:10.256490",
     "status": "completed"
    },
    "tags": []
   },
   "source": [
    "Which three prefectures have relatively higher density than the others?  Are they spread throughout the country, or all located in roughly the same geographical region?  (*If you're unfamiliar with Japanese geography, you might find [this map](https://en.wikipedia.org/wiki/Prefectures_of_Japan) useful to answer the questions.)*"
   ]
  },
  {
   "cell_type": "code",
   "execution_count": 15,
   "id": "2d3cf3d6",
   "metadata": {
    "execution": {
     "iopub.execute_input": "2024-07-14T17:57:10.304123Z",
     "iopub.status.busy": "2024-07-14T17:57:10.303668Z",
     "iopub.status.idle": "2024-07-14T17:57:10.314017Z",
     "shell.execute_reply": "2024-07-14T17:57:10.312741Z"
    },
    "papermill": {
     "duration": 0.029689,
     "end_time": "2024-07-14T17:57:10.316628",
     "exception": false,
     "start_time": "2024-07-14T17:57:10.286939",
     "status": "completed"
    },
    "tags": []
   },
   "outputs": [
    {
     "data": {
      "application/javascript": [
       "parent.postMessage({\"jupyterEvent\": \"custom.exercise_interaction\", \"data\": {\"interactionType\": 3, \"questionType\": 4, \"questionId\": \"3.2_Q3T\", \"learnToolsVersion\": \"0.3.4\", \"valueTowardsCompletion\": 0.0, \"failureMessage\": \"\", \"exceptionClass\": \"\", \"trace\": \"\", \"outcomeType\": 4}}, \"*\")"
      ],
      "text/plain": [
       "<IPython.core.display.Javascript object>"
      ]
     },
     "metadata": {},
     "output_type": "display_data"
    },
    {
     "data": {
      "text/markdown": [
       "<span style=\"color:#33cc99\">Solution:</span> Tokyo, Kanagawa, and Osaka have the highest population density.  All of these prefectures are located in central Japan, and Tokyo and Kanagawa are adjacent."
      ],
      "text/plain": [
       "Solution: Tokyo, Kanagawa, and Osaka have the highest population density.  All of these prefectures are located in central Japan, and Tokyo and Kanagawa are adjacent."
      ]
     },
     "metadata": {},
     "output_type": "display_data"
    }
   ],
   "source": [
    "# View the solution (Run this code cell to receive credit!)\n",
    "q_3.b.solution()"
   ]
  },
  {
   "cell_type": "markdown",
   "id": "fb84df45",
   "metadata": {
    "papermill": {
     "duration": 0.015509,
     "end_time": "2024-07-14T17:57:10.347754",
     "exception": false,
     "start_time": "2024-07-14T17:57:10.332245",
     "status": "completed"
    },
    "tags": []
   },
   "source": [
    "### 4) Which high-density prefecture is prone to high-magnitude earthquakes?\n",
    "\n",
    "Create a map to suggest one prefecture that might benefit from earthquake reinforcement.  Your map should visualize both density and earthquake magnitude."
   ]
  },
  {
   "cell_type": "code",
   "execution_count": 16,
   "id": "2f89b36e",
   "metadata": {
    "execution": {
     "iopub.execute_input": "2024-07-14T17:57:10.382538Z",
     "iopub.status.busy": "2024-07-14T17:57:10.381688Z",
     "iopub.status.idle": "2024-07-14T17:57:28.226598Z",
     "shell.execute_reply": "2024-07-14T17:57:28.225325Z"
    },
    "papermill": {
     "duration": 17.865298,
     "end_time": "2024-07-14T17:57:28.229432",
     "exception": false,
     "start_time": "2024-07-14T17:57:10.364134",
     "status": "completed"
    },
    "tags": []
   },
   "outputs": [
    {
     "data": {
      "application/javascript": [
       "parent.postMessage({\"jupyterEvent\": \"custom.exercise_interaction\", \"data\": {\"interactionType\": 2, \"questionType\": 2, \"questionId\": \"4.1_Q4P\", \"learnToolsVersion\": \"0.3.4\", \"valueTowardsCompletion\": 0.0, \"failureMessage\": \"\", \"exceptionClass\": \"\", \"trace\": \"\", \"outcomeType\": 4}}, \"*\")"
      ],
      "text/plain": [
       "<IPython.core.display.Javascript object>"
      ]
     },
     "metadata": {},
     "output_type": "display_data"
    },
    {
     "data": {
      "text/markdown": [
       "<span style=\"color:#3366cc\">Hint:</span> We visualized population density and earthquake magnitude by adding both a choropleth map and a bubble map to the base map."
      ],
      "text/plain": [
       "Hint: We visualized population density and earthquake magnitude by adding both a choropleth map and a bubble map to the base map."
      ]
     },
     "metadata": {},
     "output_type": "display_data"
    },
    {
     "data": {
      "text/html": [
       "\n",
       "        <iframe\n",
       "            width=\"100%\"\n",
       "            height=\"500px\"\n",
       "            src=\"q_4.html\"\n",
       "            frameborder=\"0\"\n",
       "            allowfullscreen\n",
       "            \n",
       "        ></iframe>\n",
       "        "
      ],
      "text/plain": [
       "<IPython.lib.display.IFrame at 0x7bb5754622f0>"
      ]
     },
     "execution_count": 16,
     "metadata": {},
     "output_type": "execute_result"
    }
   ],
   "source": [
    "# Create a base map\n",
    "m_4 = folium.Map(location=[35,136], tiles='cartodbpositron', zoom_start=5)\n",
    "\n",
    "# Your code here: create a map\n",
    "# density map using Choropleth\n",
    "Choropleth(geo_data=prefectures['geometry'].__geo_interface__,\n",
    "           data=stats['density'],\n",
    "           key_on=\"feature.id\",\n",
    "           fill_color='BuPu',\n",
    "           legend_name='Population density (per square kilometer)'\n",
    "          ).add_to(m_4)\n",
    "# earthquake magnitude using Bubble map\n",
    "def color_producer(magnitude):\n",
    "    if magnitude > 6.5 :\n",
    "        return 'darkred'\n",
    "    else:\n",
    "        return 'forestgreen'\n",
    "\n",
    "# Add a map to visualize earthquake magnitude\n",
    "for i in range(0,len(earthquakes)):\n",
    "    folium.Circle(\n",
    "        location=[earthquakes.iloc[i]['Latitude'], earthquakes.iloc[i]['Longitude']],\n",
    "        radius = earthquakes.iloc[i]['Magnitude']**5.5,\n",
    "        color=color_producer(earthquakes.iloc[i]['Magnitude'])).add_to(m_4)\n",
    "\n",
    "# Uncomment to see a hint\n",
    "q_4.a.hint()\n",
    "\n",
    "# View the map\n",
    "embed_map(m_4, 'q_4.html')"
   ]
  },
  {
   "cell_type": "code",
   "execution_count": 17,
   "id": "26302ba7",
   "metadata": {
    "execution": {
     "iopub.execute_input": "2024-07-14T17:57:28.263810Z",
     "iopub.status.busy": "2024-07-14T17:57:28.263373Z",
     "iopub.status.idle": "2024-07-14T17:57:28.277967Z",
     "shell.execute_reply": "2024-07-14T17:57:28.276717Z"
    },
    "papermill": {
     "duration": 0.034938,
     "end_time": "2024-07-14T17:57:28.280572",
     "exception": false,
     "start_time": "2024-07-14T17:57:28.245634",
     "status": "completed"
    },
    "tags": []
   },
   "outputs": [
    {
     "data": {
      "application/javascript": [
       "parent.postMessage({\"jupyterEvent\": \"custom.exercise_interaction\", \"data\": {\"outcomeType\": 1, \"valueTowardsCompletion\": 1.0, \"interactionType\": 1, \"questionType\": 2, \"questionId\": \"4.1_Q4P\", \"learnToolsVersion\": \"0.3.4\", \"failureMessage\": \"\", \"exceptionClass\": \"\", \"trace\": \"\"}}, \"*\")"
      ],
      "text/plain": [
       "<IPython.core.display.Javascript object>"
      ]
     },
     "metadata": {},
     "output_type": "display_data"
    },
    {
     "data": {
      "text/markdown": [
       "<span style=\"color:#33cc33\">Thank you for creating a map!</span>"
      ],
      "text/plain": [
       "Thank you for creating a map!"
      ]
     },
     "metadata": {},
     "output_type": "display_data"
    },
    {
     "data": {
      "application/javascript": [
       "parent.postMessage({\"jupyterEvent\": \"custom.exercise_interaction\", \"data\": {\"interactionType\": 3, \"questionType\": 2, \"questionId\": \"4.1_Q4P\", \"learnToolsVersion\": \"0.3.4\", \"valueTowardsCompletion\": 0.0, \"failureMessage\": \"\", \"exceptionClass\": \"\", \"trace\": \"\", \"outcomeType\": 4}}, \"*\")"
      ],
      "text/plain": [
       "<IPython.core.display.Javascript object>"
      ]
     },
     "metadata": {},
     "output_type": "display_data"
    },
    {
     "data": {
      "text/markdown": [
       "<span style=\"color:#33cc99\">Solution:</span> \n",
       "```python\n",
       "# Create a map\n",
       "def color_producer(magnitude):\n",
       "    if magnitude > 6.5:\n",
       "        return 'red'\n",
       "    else:\n",
       "        return 'green'\n",
       "\n",
       "Choropleth(\n",
       "    geo_data=prefectures['geometry'].__geo_interface__,\n",
       "    data=stats['density'],\n",
       "    key_on=\"feature.id\",\n",
       "    fill_color='BuPu',\n",
       "    legend_name='Population density (per square kilometer)').add_to(m_4)\n",
       "\n",
       "for i in range(0,len(earthquakes)):\n",
       "    folium.Circle(\n",
       "        location=[earthquakes.iloc[i]['Latitude'], earthquakes.iloc[i]['Longitude']],\n",
       "        popup=(\"{} ({})\").format(\n",
       "            earthquakes.iloc[i]['Magnitude'],\n",
       "            earthquakes.iloc[i]['DateTime'].year),\n",
       "        radius=earthquakes.iloc[i]['Magnitude']**5.5,\n",
       "        color=color_producer(earthquakes.iloc[i]['Magnitude'])).add_to(m_4)\n",
       "\n",
       "```"
      ],
      "text/plain": [
       "Solution: \n",
       "```python\n",
       "# Create a map\n",
       "def color_producer(magnitude):\n",
       "    if magnitude > 6.5:\n",
       "        return 'red'\n",
       "    else:\n",
       "        return 'green'\n",
       "\n",
       "Choropleth(\n",
       "    geo_data=prefectures['geometry'].__geo_interface__,\n",
       "    data=stats['density'],\n",
       "    key_on=\"feature.id\",\n",
       "    fill_color='BuPu',\n",
       "    legend_name='Population density (per square kilometer)').add_to(m_4)\n",
       "\n",
       "for i in range(0,len(earthquakes)):\n",
       "    folium.Circle(\n",
       "        location=[earthquakes.iloc[i]['Latitude'], earthquakes.iloc[i]['Longitude']],\n",
       "        popup=(\"{} ({})\").format(\n",
       "            earthquakes.iloc[i]['Magnitude'],\n",
       "            earthquakes.iloc[i]['DateTime'].year),\n",
       "        radius=earthquakes.iloc[i]['Magnitude']**5.5,\n",
       "        color=color_producer(earthquakes.iloc[i]['Magnitude'])).add_to(m_4)\n",
       "\n",
       "```"
      ]
     },
     "metadata": {},
     "output_type": "display_data"
    }
   ],
   "source": [
    "# Get credit for your work after you have created a map\n",
    "q_4.a.check()\n",
    "\n",
    "# Uncomment to see our solution (your code may look different!)\n",
    "q_4.a.solution()"
   ]
  },
  {
   "cell_type": "markdown",
   "id": "fb19ff89",
   "metadata": {
    "papermill": {
     "duration": 0.016815,
     "end_time": "2024-07-14T17:57:28.314549",
     "exception": false,
     "start_time": "2024-07-14T17:57:28.297734",
     "status": "completed"
    },
    "tags": []
   },
   "source": [
    "Which prefecture do you recommend for extra earthquake reinforcement?"
   ]
  },
  {
   "cell_type": "code",
   "execution_count": 18,
   "id": "3ba4f1f2",
   "metadata": {
    "execution": {
     "iopub.execute_input": "2024-07-14T17:57:28.350504Z",
     "iopub.status.busy": "2024-07-14T17:57:28.350117Z",
     "iopub.status.idle": "2024-07-14T17:57:28.360245Z",
     "shell.execute_reply": "2024-07-14T17:57:28.358852Z"
    },
    "papermill": {
     "duration": 0.031298,
     "end_time": "2024-07-14T17:57:28.362905",
     "exception": false,
     "start_time": "2024-07-14T17:57:28.331607",
     "status": "completed"
    },
    "tags": []
   },
   "outputs": [
    {
     "data": {
      "application/javascript": [
       "parent.postMessage({\"jupyterEvent\": \"custom.exercise_interaction\", \"data\": {\"interactionType\": 3, \"questionType\": 4, \"questionId\": \"4.2_Q4T\", \"learnToolsVersion\": \"0.3.4\", \"valueTowardsCompletion\": 0.0, \"failureMessage\": \"\", \"exceptionClass\": \"\", \"trace\": \"\", \"outcomeType\": 4}}, \"*\")"
      ],
      "text/plain": [
       "<IPython.core.display.Javascript object>"
      ]
     },
     "metadata": {},
     "output_type": "display_data"
    },
    {
     "data": {
      "text/markdown": [
       "<span style=\"color:#33cc99\">Solution:</span> While there's no clear, single answer to this question, there are a few reasonable options. **Tokyo** is by far the most densely populated prefecture and has also experienced a number of earthquakes.  **Osaka** is relatively less densely populated, but experienced an earthquake that was relatively stronger than those near Tokyo.  And, the long coast of **Kanagawa** (in addition to its high density and the historical proximity of strong earthquakes) might lead us to worry about the added potential tsunami risk."
      ],
      "text/plain": [
       "Solution: While there's no clear, single answer to this question, there are a few reasonable options. **Tokyo** is by far the most densely populated prefecture and has also experienced a number of earthquakes.  **Osaka** is relatively less densely populated, but experienced an earthquake that was relatively stronger than those near Tokyo.  And, the long coast of **Kanagawa** (in addition to its high density and the historical proximity of strong earthquakes) might lead us to worry about the added potential tsunami risk."
      ]
     },
     "metadata": {},
     "output_type": "display_data"
    }
   ],
   "source": [
    "# View the solution (Run this code cell to receive credit!)\n",
    "q_4.b.solution()"
   ]
  },
  {
   "cell_type": "markdown",
   "id": "cc3a7f22",
   "metadata": {
    "papermill": {
     "duration": 0.018359,
     "end_time": "2024-07-14T17:57:28.398606",
     "exception": false,
     "start_time": "2024-07-14T17:57:28.380247",
     "status": "completed"
    },
    "tags": []
   },
   "source": [
    "# Keep going\n",
    "\n",
    "Learn how to convert names of places to geographic coordinates with **[geocoding](https://www.kaggle.com/alexisbcook/manipulating-geospatial-data)**.  You'll also explore special ways to join information from multiple GeoDataFrames."
   ]
  },
  {
   "cell_type": "markdown",
   "id": "6443a182",
   "metadata": {
    "papermill": {
     "duration": 0.017012,
     "end_time": "2024-07-14T17:57:28.433086",
     "exception": false,
     "start_time": "2024-07-14T17:57:28.416074",
     "status": "completed"
    },
    "tags": []
   },
   "source": [
    "---\n",
    "\n",
    "\n",
    "\n",
    "\n",
    "*Have questions or comments? Visit the [course discussion forum](https://www.kaggle.com/learn/geospatial-analysis/discussion) to chat with other learners.*"
   ]
  }
 ],
 "metadata": {
  "kaggle": {
   "accelerator": "none",
   "dataSources": [
    {
     "datasetId": 348259,
     "sourceId": 695175,
     "sourceType": "datasetVersion"
    },
    {
     "datasetId": 116573,
     "sourceId": 3551030,
     "sourceType": "datasetVersion"
    }
   ],
   "isGpuEnabled": false,
   "isInternetEnabled": false,
   "language": "python",
   "sourceType": "notebook"
  },
  "kernelspec": {
   "display_name": "Python 3",
   "language": "python",
   "name": "python3"
  },
  "language_info": {
   "codemirror_mode": {
    "name": "ipython",
    "version": 3
   },
   "file_extension": ".py",
   "mimetype": "text/x-python",
   "name": "python",
   "nbconvert_exporter": "python",
   "pygments_lexer": "ipython3",
   "version": "3.10.13"
  },
  "papermill": {
   "default_parameters": {},
   "duration": 47.81961,
   "end_time": "2024-07-14T17:57:29.474909",
   "environment_variables": {},
   "exception": null,
   "input_path": "__notebook__.ipynb",
   "output_path": "__notebook__.ipynb",
   "parameters": {},
   "start_time": "2024-07-14T17:56:41.655299",
   "version": "2.5.0"
  }
 },
 "nbformat": 4,
 "nbformat_minor": 5
}
