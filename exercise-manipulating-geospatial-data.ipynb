{
 "cells": [
  {
   "cell_type": "markdown",
   "id": "5cc367ae",
   "metadata": {
    "papermill": {
     "duration": 0.008529,
     "end_time": "2024-07-14T23:02:09.746732",
     "exception": false,
     "start_time": "2024-07-14T23:02:09.738203",
     "status": "completed"
    },
    "tags": []
   },
   "source": [
    "**This notebook is an exercise in the [Geospatial Analysis](https://www.kaggle.com/learn/geospatial-analysis) course.  You can reference the tutorial at [this link](https://www.kaggle.com/alexisbcook/manipulating-geospatial-data).**\n",
    "\n",
    "---\n"
   ]
  },
  {
   "cell_type": "markdown",
   "id": "e7850e72",
   "metadata": {
    "papermill": {
     "duration": 0.007529,
     "end_time": "2024-07-14T23:02:09.762219",
     "exception": false,
     "start_time": "2024-07-14T23:02:09.754690",
     "status": "completed"
    },
    "tags": []
   },
   "source": [
    "# Introduction\n",
    "\n",
    "You are a Starbucks big data analyst ([that’s a real job!](https://www.forbes.com/sites/bernardmarr/2018/05/28/starbucks-using-big-data-analytics-and-artificial-intelligence-to-boost-performance/#130c7d765cdc)) looking to find the next store into a [Starbucks Reserve Roastery](https://www.businessinsider.com/starbucks-reserve-roastery-compared-regular-starbucks-2018-12#also-on-the-first-floor-was-the-main-coffee-bar-five-hourglass-like-units-hold-the-freshly-roasted-coffee-beans-that-are-used-in-each-order-the-selection-rotates-seasonally-5).  These roasteries are much larger than a typical Starbucks store and have several additional features, including various food and wine options, along with upscale lounge areas.  You'll investigate the demographics of various counties in the state of California, to determine potentially suitable locations.\n",
    "\n",
    "<center>\n",
    "<img src=\"https://storage.googleapis.com/kaggle-media/learn/images/BIyE6kR.png\" width=\"450\"><br/><br/>\n",
    "</center>\n",
    "\n",
    "Before you get started, run the code cell below to set everything up."
   ]
  },
  {
   "cell_type": "code",
   "execution_count": 1,
   "id": "ddde639b",
   "metadata": {
    "execution": {
     "iopub.execute_input": "2024-07-14T23:02:09.779508Z",
     "iopub.status.busy": "2024-07-14T23:02:09.779130Z",
     "iopub.status.idle": "2024-07-14T23:02:12.465661Z",
     "shell.execute_reply": "2024-07-14T23:02:12.464561Z"
    },
    "papermill": {
     "duration": 2.698073,
     "end_time": "2024-07-14T23:02:12.468182",
     "exception": false,
     "start_time": "2024-07-14T23:02:09.770109",
     "status": "completed"
    },
    "tags": []
   },
   "outputs": [],
   "source": [
    "import math\n",
    "import pandas as pd\n",
    "import geopandas as gpd\n",
    "#from geopy.geocoders import Nominatim            # What you'd normally run\n",
    "from learntools.geospatial.tools import Nominatim # Just for this exercise\n",
    "\n",
    "import folium \n",
    "from folium import Marker\n",
    "from folium.plugins import MarkerCluster\n",
    "\n",
    "from learntools.core import binder\n",
    "binder.bind(globals())\n",
    "from learntools.geospatial.ex4 import *"
   ]
  },
  {
   "cell_type": "markdown",
   "id": "b64bb247",
   "metadata": {
    "papermill": {
     "duration": 0.007687,
     "end_time": "2024-07-14T23:02:12.484405",
     "exception": false,
     "start_time": "2024-07-14T23:02:12.476718",
     "status": "completed"
    },
    "tags": []
   },
   "source": [
    "You'll use the `embed_map()` function from the previous exercise to visualize your maps."
   ]
  },
  {
   "cell_type": "code",
   "execution_count": 2,
   "id": "e2318b15",
   "metadata": {
    "execution": {
     "iopub.execute_input": "2024-07-14T23:02:12.501923Z",
     "iopub.status.busy": "2024-07-14T23:02:12.501496Z",
     "iopub.status.idle": "2024-07-14T23:02:12.506890Z",
     "shell.execute_reply": "2024-07-14T23:02:12.505782Z"
    },
    "papermill": {
     "duration": 0.016619,
     "end_time": "2024-07-14T23:02:12.509014",
     "exception": false,
     "start_time": "2024-07-14T23:02:12.492395",
     "status": "completed"
    },
    "tags": []
   },
   "outputs": [],
   "source": [
    "def embed_map(m, file_name):\n",
    "    from IPython.display import IFrame\n",
    "    m.save(file_name)\n",
    "    return IFrame(file_name, width='100%', height='500px')"
   ]
  },
  {
   "cell_type": "markdown",
   "id": "b46dcf94",
   "metadata": {
    "papermill": {
     "duration": 0.007444,
     "end_time": "2024-07-14T23:02:12.524361",
     "exception": false,
     "start_time": "2024-07-14T23:02:12.516917",
     "status": "completed"
    },
    "tags": []
   },
   "source": [
    "# Exercises\n",
    "\n",
    "### 1) Geocode the missing locations.\n",
    "\n",
    "Run the next code cell to create a DataFrame `starbucks` containing Starbucks locations in the state of California."
   ]
  },
  {
   "cell_type": "code",
   "execution_count": 3,
   "id": "01fa47cd",
   "metadata": {
    "execution": {
     "iopub.execute_input": "2024-07-14T23:02:12.542260Z",
     "iopub.status.busy": "2024-07-14T23:02:12.541281Z",
     "iopub.status.idle": "2024-07-14T23:02:12.570559Z",
     "shell.execute_reply": "2024-07-14T23:02:12.569528Z"
    },
    "papermill": {
     "duration": 0.040419,
     "end_time": "2024-07-14T23:02:12.572756",
     "exception": false,
     "start_time": "2024-07-14T23:02:12.532337",
     "status": "completed"
    },
    "tags": []
   },
   "outputs": [
    {
     "data": {
      "text/html": [
       "<div>\n",
       "<style scoped>\n",
       "    .dataframe tbody tr th:only-of-type {\n",
       "        vertical-align: middle;\n",
       "    }\n",
       "\n",
       "    .dataframe tbody tr th {\n",
       "        vertical-align: top;\n",
       "    }\n",
       "\n",
       "    .dataframe thead th {\n",
       "        text-align: right;\n",
       "    }\n",
       "</style>\n",
       "<table border=\"1\" class=\"dataframe\">\n",
       "  <thead>\n",
       "    <tr style=\"text-align: right;\">\n",
       "      <th></th>\n",
       "      <th>Store Number</th>\n",
       "      <th>Store Name</th>\n",
       "      <th>Address</th>\n",
       "      <th>City</th>\n",
       "      <th>Longitude</th>\n",
       "      <th>Latitude</th>\n",
       "    </tr>\n",
       "  </thead>\n",
       "  <tbody>\n",
       "    <tr>\n",
       "      <th>0</th>\n",
       "      <td>10429-100710</td>\n",
       "      <td>Palmdale &amp; Hwy 395</td>\n",
       "      <td>14136 US Hwy 395 Adelanto CA</td>\n",
       "      <td>Adelanto</td>\n",
       "      <td>-117.40</td>\n",
       "      <td>34.51</td>\n",
       "    </tr>\n",
       "    <tr>\n",
       "      <th>1</th>\n",
       "      <td>635-352</td>\n",
       "      <td>Kanan &amp; Thousand Oaks</td>\n",
       "      <td>5827 Kanan Road Agoura CA</td>\n",
       "      <td>Agoura</td>\n",
       "      <td>-118.76</td>\n",
       "      <td>34.16</td>\n",
       "    </tr>\n",
       "    <tr>\n",
       "      <th>2</th>\n",
       "      <td>74510-27669</td>\n",
       "      <td>Vons-Agoura Hills #2001</td>\n",
       "      <td>5671 Kanan Rd. Agoura Hills CA</td>\n",
       "      <td>Agoura Hills</td>\n",
       "      <td>-118.76</td>\n",
       "      <td>34.15</td>\n",
       "    </tr>\n",
       "    <tr>\n",
       "      <th>3</th>\n",
       "      <td>29839-255026</td>\n",
       "      <td>Target Anaheim T-0677</td>\n",
       "      <td>8148 E SANTA ANA CANYON ROAD AHAHEIM CA</td>\n",
       "      <td>AHAHEIM</td>\n",
       "      <td>-117.75</td>\n",
       "      <td>33.87</td>\n",
       "    </tr>\n",
       "    <tr>\n",
       "      <th>4</th>\n",
       "      <td>23463-230284</td>\n",
       "      <td>Safeway - Alameda 3281</td>\n",
       "      <td>2600 5th Street Alameda CA</td>\n",
       "      <td>Alameda</td>\n",
       "      <td>-122.28</td>\n",
       "      <td>37.79</td>\n",
       "    </tr>\n",
       "  </tbody>\n",
       "</table>\n",
       "</div>"
      ],
      "text/plain": [
       "   Store Number               Store Name  \\\n",
       "0  10429-100710       Palmdale & Hwy 395   \n",
       "1       635-352    Kanan & Thousand Oaks   \n",
       "2   74510-27669  Vons-Agoura Hills #2001   \n",
       "3  29839-255026    Target Anaheim T-0677   \n",
       "4  23463-230284   Safeway - Alameda 3281   \n",
       "\n",
       "                                   Address          City  Longitude  Latitude  \n",
       "0             14136 US Hwy 395 Adelanto CA      Adelanto    -117.40     34.51  \n",
       "1                5827 Kanan Road Agoura CA        Agoura    -118.76     34.16  \n",
       "2           5671 Kanan Rd. Agoura Hills CA  Agoura Hills    -118.76     34.15  \n",
       "3  8148 E SANTA ANA CANYON ROAD AHAHEIM CA       AHAHEIM    -117.75     33.87  \n",
       "4               2600 5th Street Alameda CA       Alameda    -122.28     37.79  "
      ]
     },
     "execution_count": 3,
     "metadata": {},
     "output_type": "execute_result"
    }
   ],
   "source": [
    "# Load and preview Starbucks locations in California\n",
    "starbucks = pd.read_csv(\"../input/geospatial-learn-course-data/starbucks_locations.csv\")\n",
    "starbucks.head()"
   ]
  },
  {
   "cell_type": "markdown",
   "id": "fadc2431",
   "metadata": {
    "papermill": {
     "duration": 0.00781,
     "end_time": "2024-07-14T23:02:12.589534",
     "exception": false,
     "start_time": "2024-07-14T23:02:12.581724",
     "status": "completed"
    },
    "tags": []
   },
   "source": [
    "Most of the stores have known (latitude, longitude) locations.  But, all of the locations in the city of Berkeley are missing."
   ]
  },
  {
   "cell_type": "code",
   "execution_count": 4,
   "id": "86cf43bf",
   "metadata": {
    "execution": {
     "iopub.execute_input": "2024-07-14T23:02:12.608220Z",
     "iopub.status.busy": "2024-07-14T23:02:12.607575Z",
     "iopub.status.idle": "2024-07-14T23:02:12.624061Z",
     "shell.execute_reply": "2024-07-14T23:02:12.622860Z"
    },
    "papermill": {
     "duration": 0.028998,
     "end_time": "2024-07-14T23:02:12.626439",
     "exception": false,
     "start_time": "2024-07-14T23:02:12.597441",
     "status": "completed"
    },
    "tags": []
   },
   "outputs": [
    {
     "name": "stdout",
     "output_type": "stream",
     "text": [
      "Store Number    0\n",
      "Store Name      0\n",
      "Address         0\n",
      "City            0\n",
      "Longitude       5\n",
      "Latitude        5\n",
      "dtype: int64\n"
     ]
    },
    {
     "data": {
      "text/html": [
       "<div>\n",
       "<style scoped>\n",
       "    .dataframe tbody tr th:only-of-type {\n",
       "        vertical-align: middle;\n",
       "    }\n",
       "\n",
       "    .dataframe tbody tr th {\n",
       "        vertical-align: top;\n",
       "    }\n",
       "\n",
       "    .dataframe thead th {\n",
       "        text-align: right;\n",
       "    }\n",
       "</style>\n",
       "<table border=\"1\" class=\"dataframe\">\n",
       "  <thead>\n",
       "    <tr style=\"text-align: right;\">\n",
       "      <th></th>\n",
       "      <th>Store Number</th>\n",
       "      <th>Store Name</th>\n",
       "      <th>Address</th>\n",
       "      <th>City</th>\n",
       "      <th>Longitude</th>\n",
       "      <th>Latitude</th>\n",
       "    </tr>\n",
       "  </thead>\n",
       "  <tbody>\n",
       "    <tr>\n",
       "      <th>153</th>\n",
       "      <td>5406-945</td>\n",
       "      <td>2224 Shattuck - Berkeley</td>\n",
       "      <td>2224 Shattuck Avenue Berkeley CA</td>\n",
       "      <td>Berkeley</td>\n",
       "      <td>NaN</td>\n",
       "      <td>NaN</td>\n",
       "    </tr>\n",
       "    <tr>\n",
       "      <th>154</th>\n",
       "      <td>570-512</td>\n",
       "      <td>Solano Ave</td>\n",
       "      <td>1799 Solano Avenue Berkeley CA</td>\n",
       "      <td>Berkeley</td>\n",
       "      <td>NaN</td>\n",
       "      <td>NaN</td>\n",
       "    </tr>\n",
       "    <tr>\n",
       "      <th>155</th>\n",
       "      <td>17877-164526</td>\n",
       "      <td>Safeway - Berkeley #691</td>\n",
       "      <td>1444 Shattuck Place Berkeley CA</td>\n",
       "      <td>Berkeley</td>\n",
       "      <td>NaN</td>\n",
       "      <td>NaN</td>\n",
       "    </tr>\n",
       "    <tr>\n",
       "      <th>156</th>\n",
       "      <td>19864-202264</td>\n",
       "      <td>Telegraph &amp; Ashby</td>\n",
       "      <td>3001 Telegraph Avenue Berkeley CA</td>\n",
       "      <td>Berkeley</td>\n",
       "      <td>NaN</td>\n",
       "      <td>NaN</td>\n",
       "    </tr>\n",
       "    <tr>\n",
       "      <th>157</th>\n",
       "      <td>9217-9253</td>\n",
       "      <td>2128 Oxford St.</td>\n",
       "      <td>2128 Oxford Street Berkeley CA</td>\n",
       "      <td>Berkeley</td>\n",
       "      <td>NaN</td>\n",
       "      <td>NaN</td>\n",
       "    </tr>\n",
       "  </tbody>\n",
       "</table>\n",
       "</div>"
      ],
      "text/plain": [
       "     Store Number                Store Name  \\\n",
       "153      5406-945  2224 Shattuck - Berkeley   \n",
       "154       570-512                Solano Ave   \n",
       "155  17877-164526   Safeway - Berkeley #691   \n",
       "156  19864-202264         Telegraph & Ashby   \n",
       "157     9217-9253           2128 Oxford St.   \n",
       "\n",
       "                               Address      City  Longitude  Latitude  \n",
       "153   2224 Shattuck Avenue Berkeley CA  Berkeley        NaN       NaN  \n",
       "154     1799 Solano Avenue Berkeley CA  Berkeley        NaN       NaN  \n",
       "155    1444 Shattuck Place Berkeley CA  Berkeley        NaN       NaN  \n",
       "156  3001 Telegraph Avenue Berkeley CA  Berkeley        NaN       NaN  \n",
       "157     2128 Oxford Street Berkeley CA  Berkeley        NaN       NaN  "
      ]
     },
     "execution_count": 4,
     "metadata": {},
     "output_type": "execute_result"
    }
   ],
   "source": [
    "# How many rows in each column have missing values?\n",
    "print(starbucks.isnull().sum())\n",
    "\n",
    "# View rows with missing locations\n",
    "rows_with_missing = starbucks[starbucks[\"City\"]==\"Berkeley\"]\n",
    "rows_with_missing"
   ]
  },
  {
   "cell_type": "markdown",
   "id": "9d964aab",
   "metadata": {
    "papermill": {
     "duration": 0.008062,
     "end_time": "2024-07-14T23:02:12.642711",
     "exception": false,
     "start_time": "2024-07-14T23:02:12.634649",
     "status": "completed"
    },
    "tags": []
   },
   "source": [
    "Use the code cell below to fill in these values with the Nominatim geocoder.\n",
    "\n",
    "Note that in the tutorial, we used `Nominatim()` (from `geopy.geocoders`) to geocode values, and this is what you can use in your own projects outside of this course.  \n",
    "\n",
    "In this exercise, you will use a slightly different function `Nominatim()` (from `learntools.geospatial.tools`).  This function was imported at the top of the notebook and works identically to the function from GeoPandas.\n",
    "\n",
    "So, in other words, as long as: \n",
    "- you don't change the import statements at the top of the notebook, and \n",
    "- you call the geocoding function as `geocode()` in the code cell below, \n",
    "\n",
    "your code will work as intended!"
   ]
  },
  {
   "cell_type": "code",
   "execution_count": 5,
   "id": "b4c8b8f6",
   "metadata": {
    "execution": {
     "iopub.execute_input": "2024-07-14T23:02:12.661852Z",
     "iopub.status.busy": "2024-07-14T23:02:12.660584Z",
     "iopub.status.idle": "2024-07-14T23:02:12.726275Z",
     "shell.execute_reply": "2024-07-14T23:02:12.725139Z"
    },
    "papermill": {
     "duration": 0.077499,
     "end_time": "2024-07-14T23:02:12.728467",
     "exception": false,
     "start_time": "2024-07-14T23:02:12.650968",
     "status": "completed"
    },
    "tags": []
   },
   "outputs": [
    {
     "data": {
      "application/javascript": [
       "parent.postMessage({\"jupyterEvent\": \"custom.exercise_interaction\", \"data\": {\"outcomeType\": 1, \"valueTowardsCompletion\": 0.2, \"interactionType\": 1, \"questionType\": 2, \"questionId\": \"1_Q1\", \"learnToolsVersion\": \"0.3.4\", \"failureMessage\": \"\", \"exceptionClass\": \"\", \"trace\": \"\"}}, \"*\")"
      ],
      "text/plain": [
       "<IPython.core.display.Javascript object>"
      ]
     },
     "metadata": {},
     "output_type": "display_data"
    },
    {
     "data": {
      "text/markdown": [
       "<span style=\"color:#33cc33\">Correct</span>"
      ],
      "text/plain": [
       "Correct"
      ]
     },
     "metadata": {},
     "output_type": "display_data"
    }
   ],
   "source": [
    "# Create the geocoder\n",
    "geolocator = Nominatim(user_agent=\"kaggle_learn\")\n",
    "\n",
    "# Your code here\n",
    "def my_geocode(row):\n",
    "    try:\n",
    "        point = geolocator.geocode(row).point\n",
    "        return pd.Series({'Latitude': point.latitude, 'Longitude': point.longitude})\n",
    "    except:\n",
    "        return None\n",
    "\n",
    "barkeley = rows_with_missing.apply(lambda x: my_geocode(x['Address']), axis = 1)\n",
    "starbucks.update(barkeley)\n",
    "# Check your answer\n",
    "q_1.check()"
   ]
  },
  {
   "cell_type": "code",
   "execution_count": 6,
   "id": "bd58519e",
   "metadata": {
    "execution": {
     "iopub.execute_input": "2024-07-14T23:02:12.747749Z",
     "iopub.status.busy": "2024-07-14T23:02:12.747367Z",
     "iopub.status.idle": "2024-07-14T23:02:12.751962Z",
     "shell.execute_reply": "2024-07-14T23:02:12.750878Z"
    },
    "papermill": {
     "duration": 0.016909,
     "end_time": "2024-07-14T23:02:12.754235",
     "exception": false,
     "start_time": "2024-07-14T23:02:12.737326",
     "status": "completed"
    },
    "tags": []
   },
   "outputs": [],
   "source": [
    "# Line below will give you solution code\n",
    "#q_1.solution()"
   ]
  },
  {
   "cell_type": "markdown",
   "id": "40e55ee7",
   "metadata": {
    "papermill": {
     "duration": 0.008456,
     "end_time": "2024-07-14T23:02:12.771639",
     "exception": false,
     "start_time": "2024-07-14T23:02:12.763183",
     "status": "completed"
    },
    "tags": []
   },
   "source": [
    "### 2) View Berkeley locations.\n",
    "\n",
    "Let's take a look at the locations you just found.  Visualize the (latitude, longitude) locations in Berkeley in the OpenStreetMap style. "
   ]
  },
  {
   "cell_type": "code",
   "execution_count": 7,
   "id": "d42d19b9",
   "metadata": {
    "execution": {
     "iopub.execute_input": "2024-07-14T23:02:12.790675Z",
     "iopub.status.busy": "2024-07-14T23:02:12.790274Z",
     "iopub.status.idle": "2024-07-14T23:02:12.817334Z",
     "shell.execute_reply": "2024-07-14T23:02:12.816287Z"
    },
    "papermill": {
     "duration": 0.039224,
     "end_time": "2024-07-14T23:02:12.819632",
     "exception": false,
     "start_time": "2024-07-14T23:02:12.780408",
     "status": "completed"
    },
    "tags": []
   },
   "outputs": [
    {
     "data": {
      "application/javascript": [
       "parent.postMessage({\"jupyterEvent\": \"custom.exercise_interaction\", \"data\": {\"interactionType\": 2, \"questionType\": 2, \"questionId\": \"2.1_Q2P\", \"learnToolsVersion\": \"0.3.4\", \"valueTowardsCompletion\": 0.0, \"failureMessage\": \"\", \"exceptionClass\": \"\", \"trace\": \"\", \"outcomeType\": 4}}, \"*\")"
      ],
      "text/plain": [
       "<IPython.core.display.Javascript object>"
      ]
     },
     "metadata": {},
     "output_type": "display_data"
    },
    {
     "data": {
      "text/markdown": [
       "<span style=\"color:#3366cc\">Hint:</span> Use `folium.Marker()` to add a location for each entry in `starbucks[starbucks[\"City\"]=='Berkeley']`."
      ],
      "text/plain": [
       "Hint: Use `folium.Marker()` to add a location for each entry in `starbucks[starbucks[\"City\"]=='Berkeley']`."
      ]
     },
     "metadata": {},
     "output_type": "display_data"
    },
    {
     "data": {
      "text/html": [
       "\n",
       "        <iframe\n",
       "            width=\"100%\"\n",
       "            height=\"500px\"\n",
       "            src=\"q_2.html\"\n",
       "            frameborder=\"0\"\n",
       "            allowfullscreen\n",
       "            \n",
       "        ></iframe>\n",
       "        "
      ],
      "text/plain": [
       "<IPython.lib.display.IFrame at 0x79df4dc606a0>"
      ]
     },
     "execution_count": 7,
     "metadata": {},
     "output_type": "execute_result"
    }
   ],
   "source": [
    "# Create a base map\n",
    "m_2 = folium.Map(location=[37.88,-122.26], zoom_start=13)\n",
    "\n",
    "# Your code here: Add a marker for each Berkeley location\n",
    "for idx, row in starbucks[starbucks[\"City\"]=='Berkeley'].iterrows():\n",
    "    Marker([row['Latitude'], row['Longitude']]).add_to(m_2)\n",
    "\n",
    "# Uncomment to see a hint\n",
    "q_2.a.hint()\n",
    "\n",
    "# Show the map\n",
    "embed_map(m_2, 'q_2.html')"
   ]
  },
  {
   "cell_type": "code",
   "execution_count": 8,
   "id": "9aaabfdb",
   "metadata": {
    "execution": {
     "iopub.execute_input": "2024-07-14T23:02:12.840548Z",
     "iopub.status.busy": "2024-07-14T23:02:12.839415Z",
     "iopub.status.idle": "2024-07-14T23:02:12.847601Z",
     "shell.execute_reply": "2024-07-14T23:02:12.846659Z"
    },
    "papermill": {
     "duration": 0.020865,
     "end_time": "2024-07-14T23:02:12.849769",
     "exception": false,
     "start_time": "2024-07-14T23:02:12.828904",
     "status": "completed"
    },
    "tags": []
   },
   "outputs": [
    {
     "data": {
      "application/javascript": [
       "parent.postMessage({\"jupyterEvent\": \"custom.exercise_interaction\", \"data\": {\"outcomeType\": 1, \"valueTowardsCompletion\": 0.2, \"interactionType\": 1, \"questionType\": 2, \"questionId\": \"2.1_Q2P\", \"learnToolsVersion\": \"0.3.4\", \"failureMessage\": \"\", \"exceptionClass\": \"\", \"trace\": \"\"}}, \"*\")"
      ],
      "text/plain": [
       "<IPython.core.display.Javascript object>"
      ]
     },
     "metadata": {},
     "output_type": "display_data"
    },
    {
     "data": {
      "text/markdown": [
       "<span style=\"color:#33cc33\">Thank you for creating a map!</span>"
      ],
      "text/plain": [
       "Thank you for creating a map!"
      ]
     },
     "metadata": {},
     "output_type": "display_data"
    }
   ],
   "source": [
    "# Get credit for your work after you have created a map\n",
    "q_2.a.check()\n",
    "\n",
    "# Uncomment to see our solution (your code may look different!)\n",
    "#q_2.a.solution()"
   ]
  },
  {
   "cell_type": "markdown",
   "id": "9856452d",
   "metadata": {
    "papermill": {
     "duration": 0.00914,
     "end_time": "2024-07-14T23:02:12.868624",
     "exception": false,
     "start_time": "2024-07-14T23:02:12.859484",
     "status": "completed"
    },
    "tags": []
   },
   "source": [
    "Considering only the five locations in Berkeley, how many of the (latitude, longitude) locations seem potentially correct (are located in the correct city)?"
   ]
  },
  {
   "cell_type": "code",
   "execution_count": 9,
   "id": "13e97d52",
   "metadata": {
    "execution": {
     "iopub.execute_input": "2024-07-14T23:02:12.889989Z",
     "iopub.status.busy": "2024-07-14T23:02:12.889574Z",
     "iopub.status.idle": "2024-07-14T23:02:12.897601Z",
     "shell.execute_reply": "2024-07-14T23:02:12.896613Z"
    },
    "papermill": {
     "duration": 0.020791,
     "end_time": "2024-07-14T23:02:12.899752",
     "exception": false,
     "start_time": "2024-07-14T23:02:12.878961",
     "status": "completed"
    },
    "tags": []
   },
   "outputs": [
    {
     "data": {
      "application/javascript": [
       "parent.postMessage({\"jupyterEvent\": \"custom.exercise_interaction\", \"data\": {\"interactionType\": 3, \"questionType\": 4, \"questionId\": \"2.2_Q2T\", \"learnToolsVersion\": \"0.3.4\", \"valueTowardsCompletion\": 0.0, \"failureMessage\": \"\", \"exceptionClass\": \"\", \"trace\": \"\", \"outcomeType\": 4}}, \"*\")"
      ],
      "text/plain": [
       "<IPython.core.display.Javascript object>"
      ]
     },
     "metadata": {},
     "output_type": "display_data"
    },
    {
     "data": {
      "text/markdown": [
       "<span style=\"color:#33cc99\">Solution:</span> All five locations appear to be correct!"
      ],
      "text/plain": [
       "Solution: All five locations appear to be correct!"
      ]
     },
     "metadata": {},
     "output_type": "display_data"
    }
   ],
   "source": [
    "# View the solution (Run this code cell to receive credit!)\n",
    "q_2.b.solution()"
   ]
  },
  {
   "cell_type": "markdown",
   "id": "2499dc36",
   "metadata": {
    "papermill": {
     "duration": 0.009473,
     "end_time": "2024-07-14T23:02:12.918788",
     "exception": false,
     "start_time": "2024-07-14T23:02:12.909315",
     "status": "completed"
    },
    "tags": []
   },
   "source": [
    "### 3) Consolidate your data.\n",
    "\n",
    "Run the code below to load a GeoDataFrame `CA_counties` containing the name, area (in square kilometers), and a unique id (in the \"GEOID\" column) for each county in the state of California.  The \"geometry\" column contains a polygon with county boundaries."
   ]
  },
  {
   "cell_type": "code",
   "execution_count": 10,
   "id": "ee32f54b",
   "metadata": {
    "execution": {
     "iopub.execute_input": "2024-07-14T23:02:12.939994Z",
     "iopub.status.busy": "2024-07-14T23:02:12.939601Z",
     "iopub.status.idle": "2024-07-14T23:02:13.162721Z",
     "shell.execute_reply": "2024-07-14T23:02:13.161660Z"
    },
    "papermill": {
     "duration": 0.2372,
     "end_time": "2024-07-14T23:02:13.165506",
     "exception": false,
     "start_time": "2024-07-14T23:02:12.928306",
     "status": "completed"
    },
    "tags": []
   },
   "outputs": [
    {
     "name": "stderr",
     "output_type": "stream",
     "text": [
      "/opt/conda/lib/python3.10/site-packages/pyproj/crs/crs.py:141: FutureWarning: '+init=<authority>:<code>' syntax is deprecated. '<authority>:<code>' is the preferred initialization method. When making the change, be mindful of axis order changes: https://pyproj4.github.io/pyproj/stable/gotchas.html#axis-order-changes-in-proj-6\n",
      "  in_crs_string = _prepare_from_proj_string(in_crs_string)\n"
     ]
    },
    {
     "data": {
      "text/html": [
       "<div>\n",
       "<style scoped>\n",
       "    .dataframe tbody tr th:only-of-type {\n",
       "        vertical-align: middle;\n",
       "    }\n",
       "\n",
       "    .dataframe tbody tr th {\n",
       "        vertical-align: top;\n",
       "    }\n",
       "\n",
       "    .dataframe thead th {\n",
       "        text-align: right;\n",
       "    }\n",
       "</style>\n",
       "<table border=\"1\" class=\"dataframe\">\n",
       "  <thead>\n",
       "    <tr style=\"text-align: right;\">\n",
       "      <th></th>\n",
       "      <th>GEOID</th>\n",
       "      <th>name</th>\n",
       "      <th>area_sqkm</th>\n",
       "      <th>geometry</th>\n",
       "    </tr>\n",
       "  </thead>\n",
       "  <tbody>\n",
       "    <tr>\n",
       "      <th>0</th>\n",
       "      <td>6091</td>\n",
       "      <td>Sierra County</td>\n",
       "      <td>2491.995494</td>\n",
       "      <td>POLYGON ((-120.65560 39.69357, -120.65554 39.6...</td>\n",
       "    </tr>\n",
       "    <tr>\n",
       "      <th>1</th>\n",
       "      <td>6067</td>\n",
       "      <td>Sacramento County</td>\n",
       "      <td>2575.258262</td>\n",
       "      <td>POLYGON ((-121.18858 38.71431, -121.18732 38.7...</td>\n",
       "    </tr>\n",
       "    <tr>\n",
       "      <th>2</th>\n",
       "      <td>6083</td>\n",
       "      <td>Santa Barbara County</td>\n",
       "      <td>9813.817958</td>\n",
       "      <td>MULTIPOLYGON (((-120.58191 34.09856, -120.5822...</td>\n",
       "    </tr>\n",
       "    <tr>\n",
       "      <th>3</th>\n",
       "      <td>6009</td>\n",
       "      <td>Calaveras County</td>\n",
       "      <td>2685.626726</td>\n",
       "      <td>POLYGON ((-120.63095 38.34111, -120.63058 38.3...</td>\n",
       "    </tr>\n",
       "    <tr>\n",
       "      <th>4</th>\n",
       "      <td>6111</td>\n",
       "      <td>Ventura County</td>\n",
       "      <td>5719.321379</td>\n",
       "      <td>MULTIPOLYGON (((-119.63631 33.27304, -119.6360...</td>\n",
       "    </tr>\n",
       "  </tbody>\n",
       "</table>\n",
       "</div>"
      ],
      "text/plain": [
       "   GEOID                  name    area_sqkm  \\\n",
       "0   6091         Sierra County  2491.995494   \n",
       "1   6067     Sacramento County  2575.258262   \n",
       "2   6083  Santa Barbara County  9813.817958   \n",
       "3   6009      Calaveras County  2685.626726   \n",
       "4   6111        Ventura County  5719.321379   \n",
       "\n",
       "                                            geometry  \n",
       "0  POLYGON ((-120.65560 39.69357, -120.65554 39.6...  \n",
       "1  POLYGON ((-121.18858 38.71431, -121.18732 38.7...  \n",
       "2  MULTIPOLYGON (((-120.58191 34.09856, -120.5822...  \n",
       "3  POLYGON ((-120.63095 38.34111, -120.63058 38.3...  \n",
       "4  MULTIPOLYGON (((-119.63631 33.27304, -119.6360...  "
      ]
     },
     "execution_count": 10,
     "metadata": {},
     "output_type": "execute_result"
    }
   ],
   "source": [
    "CA_counties = gpd.read_file(\"../input/geospatial-learn-course-data/CA_county_boundaries/CA_county_boundaries/CA_county_boundaries.shp\")\n",
    "CA_counties.crs = {'init': 'epsg:4326'}\n",
    "CA_counties.head()"
   ]
  },
  {
   "cell_type": "markdown",
   "id": "52e2632d",
   "metadata": {
    "papermill": {
     "duration": 0.00952,
     "end_time": "2024-07-14T23:02:13.184939",
     "exception": false,
     "start_time": "2024-07-14T23:02:13.175419",
     "status": "completed"
    },
    "tags": []
   },
   "source": [
    "Next, we create three DataFrames:\n",
    "- `CA_pop` contains an estimate of the population of each county.\n",
    "- `CA_high_earners` contains the number of households with an income of at least $150,000 per year.\n",
    "- `CA_median_age` contains the median age for each county."
   ]
  },
  {
   "cell_type": "code",
   "execution_count": 11,
   "id": "8c56a43c",
   "metadata": {
    "execution": {
     "iopub.execute_input": "2024-07-14T23:02:13.206927Z",
     "iopub.status.busy": "2024-07-14T23:02:13.205800Z",
     "iopub.status.idle": "2024-07-14T23:02:13.218210Z",
     "shell.execute_reply": "2024-07-14T23:02:13.217238Z"
    },
    "papermill": {
     "duration": 0.025931,
     "end_time": "2024-07-14T23:02:13.220664",
     "exception": false,
     "start_time": "2024-07-14T23:02:13.194733",
     "status": "completed"
    },
    "tags": []
   },
   "outputs": [],
   "source": [
    "CA_pop = pd.read_csv(\"../input/geospatial-learn-course-data/CA_county_population.csv\", index_col=\"GEOID\")\n",
    "CA_high_earners = pd.read_csv(\"../input/geospatial-learn-course-data/CA_county_high_earners.csv\", index_col=\"GEOID\")\n",
    "CA_median_age = pd.read_csv(\"../input/geospatial-learn-course-data/CA_county_median_age.csv\", index_col=\"GEOID\")"
   ]
  },
  {
   "cell_type": "markdown",
   "id": "9e98f5af",
   "metadata": {
    "papermill": {
     "duration": 0.009534,
     "end_time": "2024-07-14T23:02:13.240162",
     "exception": false,
     "start_time": "2024-07-14T23:02:13.230628",
     "status": "completed"
    },
    "tags": []
   },
   "source": [
    "Use the next code cell to join the `CA_counties` GeoDataFrame with `CA_pop`, `CA_high_earners`, and `CA_median_age`.\n",
    "\n",
    "Name the resultant GeoDataFrame `CA_stats`, and make sure it has 8 columns: \"GEOID\", \"name\", \"area_sqkm\", \"geometry\", \"population\", \"high_earners\", and \"median_age\".  "
   ]
  },
  {
   "cell_type": "code",
   "execution_count": 12,
   "id": "f0cfd710",
   "metadata": {
    "execution": {
     "iopub.execute_input": "2024-07-14T23:02:13.261383Z",
     "iopub.status.busy": "2024-07-14T23:02:13.261014Z",
     "iopub.status.idle": "2024-07-14T23:02:13.377770Z",
     "shell.execute_reply": "2024-07-14T23:02:13.376738Z"
    },
    "papermill": {
     "duration": 0.129922,
     "end_time": "2024-07-14T23:02:13.379933",
     "exception": false,
     "start_time": "2024-07-14T23:02:13.250011",
     "status": "completed"
    },
    "tags": []
   },
   "outputs": [
    {
     "data": {
      "application/javascript": [
       "parent.postMessage({\"jupyterEvent\": \"custom.exercise_interaction\", \"data\": {\"outcomeType\": 1, \"valueTowardsCompletion\": 0.2, \"interactionType\": 1, \"questionType\": 2, \"questionId\": \"3_Q3\", \"learnToolsVersion\": \"0.3.4\", \"failureMessage\": \"\", \"exceptionClass\": \"\", \"trace\": \"\"}}, \"*\")"
      ],
      "text/plain": [
       "<IPython.core.display.Javascript object>"
      ]
     },
     "metadata": {},
     "output_type": "display_data"
    },
    {
     "data": {
      "text/markdown": [
       "<span style=\"color:#33cc33\">Correct</span>"
      ],
      "text/plain": [
       "Correct"
      ]
     },
     "metadata": {},
     "output_type": "display_data"
    }
   ],
   "source": [
    "# Your code here\n",
    "CA_join = CA_pop.join([CA_high_earners, CA_median_age]).reset_index()\n",
    "CA_stats = CA_counties.merge(CA_join, on = 'GEOID')\n",
    "\n",
    "# Check your answer\n",
    "q_3.check()"
   ]
  },
  {
   "cell_type": "code",
   "execution_count": 13,
   "id": "5434e1a7",
   "metadata": {
    "execution": {
     "iopub.execute_input": "2024-07-14T23:02:13.401630Z",
     "iopub.status.busy": "2024-07-14T23:02:13.401204Z",
     "iopub.status.idle": "2024-07-14T23:02:13.405765Z",
     "shell.execute_reply": "2024-07-14T23:02:13.404686Z"
    },
    "papermill": {
     "duration": 0.017963,
     "end_time": "2024-07-14T23:02:13.407895",
     "exception": false,
     "start_time": "2024-07-14T23:02:13.389932",
     "status": "completed"
    },
    "tags": []
   },
   "outputs": [],
   "source": [
    "# Lines below will give you a hint or solution code\n",
    "#q_3.hint()\n",
    "#q_3.solution()"
   ]
  },
  {
   "cell_type": "markdown",
   "id": "7b2b2cfd",
   "metadata": {
    "papermill": {
     "duration": 0.00968,
     "end_time": "2024-07-14T23:02:13.427841",
     "exception": false,
     "start_time": "2024-07-14T23:02:13.418161",
     "status": "completed"
    },
    "tags": []
   },
   "source": [
    "Now that we have all of the data in one place, it's much easier to calculate statistics that use a combination of columns.  Run the next code cell to create a \"density\" column with the population density."
   ]
  },
  {
   "cell_type": "code",
   "execution_count": 14,
   "id": "ab3358e0",
   "metadata": {
    "execution": {
     "iopub.execute_input": "2024-07-14T23:02:13.449403Z",
     "iopub.status.busy": "2024-07-14T23:02:13.448987Z",
     "iopub.status.idle": "2024-07-14T23:02:13.562463Z",
     "shell.execute_reply": "2024-07-14T23:02:13.561373Z"
    },
    "papermill": {
     "duration": 0.126785,
     "end_time": "2024-07-14T23:02:13.564694",
     "exception": false,
     "start_time": "2024-07-14T23:02:13.437909",
     "status": "completed"
    },
    "tags": []
   },
   "outputs": [
    {
     "data": {
      "text/html": [
       "<div>\n",
       "<style scoped>\n",
       "    .dataframe tbody tr th:only-of-type {\n",
       "        vertical-align: middle;\n",
       "    }\n",
       "\n",
       "    .dataframe tbody tr th {\n",
       "        vertical-align: top;\n",
       "    }\n",
       "\n",
       "    .dataframe thead th {\n",
       "        text-align: right;\n",
       "    }\n",
       "</style>\n",
       "<table border=\"1\" class=\"dataframe\">\n",
       "  <thead>\n",
       "    <tr style=\"text-align: right;\">\n",
       "      <th></th>\n",
       "      <th>GEOID</th>\n",
       "      <th>name</th>\n",
       "      <th>area_sqkm</th>\n",
       "      <th>geometry</th>\n",
       "      <th>population</th>\n",
       "      <th>high_earners</th>\n",
       "      <th>median_age</th>\n",
       "      <th>density</th>\n",
       "    </tr>\n",
       "  </thead>\n",
       "  <tbody>\n",
       "    <tr>\n",
       "      <th>53</th>\n",
       "      <td>6081</td>\n",
       "      <td>San Mateo County</td>\n",
       "      <td>1919.075795</td>\n",
       "      <td>POLYGON ((-122.58712 37.58755, -122.58680 37.5...</td>\n",
       "      <td>769545</td>\n",
       "      <td>90392</td>\n",
       "      <td>39.6</td>\n",
       "      <td>400.997711</td>\n",
       "    </tr>\n",
       "    <tr>\n",
       "      <th>54</th>\n",
       "      <td>6093</td>\n",
       "      <td>Siskiyou County</td>\n",
       "      <td>16441.085844</td>\n",
       "      <td>POLYGON ((-122.87088 42.00397, -122.86814 42.0...</td>\n",
       "      <td>43724</td>\n",
       "      <td>900</td>\n",
       "      <td>47.9</td>\n",
       "      <td>2.659435</td>\n",
       "    </tr>\n",
       "    <tr>\n",
       "      <th>55</th>\n",
       "      <td>6087</td>\n",
       "      <td>Santa Cruz County</td>\n",
       "      <td>1572.534914</td>\n",
       "      <td>POLYGON ((-122.21670 37.21521, -122.21652 37.2...</td>\n",
       "      <td>274255</td>\n",
       "      <td>19628</td>\n",
       "      <td>37.3</td>\n",
       "      <td>174.403123</td>\n",
       "    </tr>\n",
       "    <tr>\n",
       "      <th>56</th>\n",
       "      <td>6021</td>\n",
       "      <td>Glenn County</td>\n",
       "      <td>3436.853665</td>\n",
       "      <td>POLYGON ((-122.89095 39.64488, -122.89135 39.6...</td>\n",
       "      <td>28047</td>\n",
       "      <td>465</td>\n",
       "      <td>36.8</td>\n",
       "      <td>8.160662</td>\n",
       "    </tr>\n",
       "    <tr>\n",
       "      <th>57</th>\n",
       "      <td>6079</td>\n",
       "      <td>San Luis Obispo County</td>\n",
       "      <td>9364.134967</td>\n",
       "      <td>POLYGON ((-121.18507 35.79417, -121.18464 35.7...</td>\n",
       "      <td>284010</td>\n",
       "      <td>15110</td>\n",
       "      <td>39.0</td>\n",
       "      <td>30.329550</td>\n",
       "    </tr>\n",
       "  </tbody>\n",
       "</table>\n",
       "</div>"
      ],
      "text/plain": [
       "    GEOID                    name     area_sqkm  \\\n",
       "53   6081        San Mateo County   1919.075795   \n",
       "54   6093         Siskiyou County  16441.085844   \n",
       "55   6087       Santa Cruz County   1572.534914   \n",
       "56   6021            Glenn County   3436.853665   \n",
       "57   6079  San Luis Obispo County   9364.134967   \n",
       "\n",
       "                                             geometry  population  \\\n",
       "53  POLYGON ((-122.58712 37.58755, -122.58680 37.5...      769545   \n",
       "54  POLYGON ((-122.87088 42.00397, -122.86814 42.0...       43724   \n",
       "55  POLYGON ((-122.21670 37.21521, -122.21652 37.2...      274255   \n",
       "56  POLYGON ((-122.89095 39.64488, -122.89135 39.6...       28047   \n",
       "57  POLYGON ((-121.18507 35.79417, -121.18464 35.7...      284010   \n",
       "\n",
       "    high_earners  median_age     density  \n",
       "53         90392        39.6  400.997711  \n",
       "54           900        47.9    2.659435  \n",
       "55         19628        37.3  174.403123  \n",
       "56           465        36.8    8.160662  \n",
       "57         15110        39.0   30.329550  "
      ]
     },
     "execution_count": 14,
     "metadata": {},
     "output_type": "execute_result"
    }
   ],
   "source": [
    "CA_stats[\"density\"] = CA_stats[\"population\"] / CA_stats[\"area_sqkm\"]\n",
    "CA_stats.tail()"
   ]
  },
  {
   "cell_type": "markdown",
   "id": "1622c8ef",
   "metadata": {
    "papermill": {
     "duration": 0.009838,
     "end_time": "2024-07-14T23:02:13.584854",
     "exception": false,
     "start_time": "2024-07-14T23:02:13.575016",
     "status": "completed"
    },
    "tags": []
   },
   "source": [
    "### 4) Which counties look promising?\n",
    "\n",
    "Collapsing all of the information into a single GeoDataFrame also makes it much easier to select counties that meet specific criteria.\n",
    "\n",
    "Use the next code cell to create a GeoDataFrame `sel_counties` that contains a subset of the rows (and all of the columns) from the `CA_stats` GeoDataFrame.  In particular, you should select counties where:\n",
    "- there are at least 100,000 households making \\$150,000 per year,\n",
    "- the median age is less than 38.5, and\n",
    "- the density of inhabitants is at least 285 (per square kilometer).\n",
    "\n",
    "Additionally, selected counties should satisfy at least one of the following criteria:\n",
    "- there are at least 500,000 households making \\$150,000 per year,\n",
    "- the median age is less than 35.5, or\n",
    "- the density of inhabitants is at least 1400 (per square kilometer)."
   ]
  },
  {
   "cell_type": "code",
   "execution_count": 15,
   "id": "9a542b2c",
   "metadata": {
    "execution": {
     "iopub.execute_input": "2024-07-14T23:02:13.606692Z",
     "iopub.status.busy": "2024-07-14T23:02:13.606311Z",
     "iopub.status.idle": "2024-07-14T23:02:13.623687Z",
     "shell.execute_reply": "2024-07-14T23:02:13.622616Z"
    },
    "papermill": {
     "duration": 0.030652,
     "end_time": "2024-07-14T23:02:13.625692",
     "exception": false,
     "start_time": "2024-07-14T23:02:13.595040",
     "status": "completed"
    },
    "tags": []
   },
   "outputs": [
    {
     "data": {
      "application/javascript": [
       "parent.postMessage({\"jupyterEvent\": \"custom.exercise_interaction\", \"data\": {\"outcomeType\": 1, \"valueTowardsCompletion\": 0.2, \"interactionType\": 1, \"questionType\": 2, \"questionId\": \"4_Q4\", \"learnToolsVersion\": \"0.3.4\", \"failureMessage\": \"\", \"exceptionClass\": \"\", \"trace\": \"\"}}, \"*\")"
      ],
      "text/plain": [
       "<IPython.core.display.Javascript object>"
      ]
     },
     "metadata": {},
     "output_type": "display_data"
    },
    {
     "data": {
      "text/markdown": [
       "<span style=\"color:#33cc33\">Correct</span>"
      ],
      "text/plain": [
       "Correct"
      ]
     },
     "metadata": {},
     "output_type": "display_data"
    }
   ],
   "source": [
    "# Your code here\n",
    "sel_counties = CA_stats[((CA_stats.high_earners >= 100000) & \n",
    "                         (CA_stats.median_age < 38.5) & \n",
    "                         (CA_stats.density >= 285) & \n",
    "                         ((CA_stats.median_age < 35.5) |\n",
    "                          (CA_stats.density > 1400) |\n",
    "                          (CA_stats.high_earners > 500000)))]\n",
    "\n",
    "# Check your answer\n",
    "q_4.check()"
   ]
  },
  {
   "cell_type": "code",
   "execution_count": 16,
   "id": "c273e379",
   "metadata": {
    "execution": {
     "iopub.execute_input": "2024-07-14T23:02:13.648428Z",
     "iopub.status.busy": "2024-07-14T23:02:13.647524Z",
     "iopub.status.idle": "2024-07-14T23:02:13.652015Z",
     "shell.execute_reply": "2024-07-14T23:02:13.650977Z"
    },
    "papermill": {
     "duration": 0.01803,
     "end_time": "2024-07-14T23:02:13.654070",
     "exception": false,
     "start_time": "2024-07-14T23:02:13.636040",
     "status": "completed"
    },
    "tags": []
   },
   "outputs": [],
   "source": [
    "# Lines below will give you a hint or solution code\n",
    "#q_4.hint()\n",
    "#q_4.solution()"
   ]
  },
  {
   "cell_type": "markdown",
   "id": "f2a745ca",
   "metadata": {
    "papermill": {
     "duration": 0.009945,
     "end_time": "2024-07-14T23:02:13.674483",
     "exception": false,
     "start_time": "2024-07-14T23:02:13.664538",
     "status": "completed"
    },
    "tags": []
   },
   "source": [
    "### 5) How many stores did you identify?\n",
    "\n",
    "When looking for the next Starbucks Reserve Roastery location, you'd like to consider all of the stores within the counties that you selected.  So, how many stores are within the selected counties?\n",
    "\n",
    "To prepare to answer this question, run the next code cell to create a GeoDataFrame `starbucks_gdf` with all of the starbucks locations."
   ]
  },
  {
   "cell_type": "code",
   "execution_count": 17,
   "id": "e51e8392",
   "metadata": {
    "execution": {
     "iopub.execute_input": "2024-07-14T23:02:13.696836Z",
     "iopub.status.busy": "2024-07-14T23:02:13.696464Z",
     "iopub.status.idle": "2024-07-14T23:02:13.799099Z",
     "shell.execute_reply": "2024-07-14T23:02:13.798055Z"
    },
    "papermill": {
     "duration": 0.116814,
     "end_time": "2024-07-14T23:02:13.801619",
     "exception": false,
     "start_time": "2024-07-14T23:02:13.684805",
     "status": "completed"
    },
    "tags": []
   },
   "outputs": [
    {
     "name": "stderr",
     "output_type": "stream",
     "text": [
      "/opt/conda/lib/python3.10/site-packages/pyproj/crs/crs.py:141: FutureWarning: '+init=<authority>:<code>' syntax is deprecated. '<authority>:<code>' is the preferred initialization method. When making the change, be mindful of axis order changes: https://pyproj4.github.io/pyproj/stable/gotchas.html#axis-order-changes-in-proj-6\n",
      "  in_crs_string = _prepare_from_proj_string(in_crs_string)\n"
     ]
    }
   ],
   "source": [
    "starbucks_gdf = gpd.GeoDataFrame(starbucks, geometry=gpd.points_from_xy(starbucks.Longitude, starbucks.Latitude))\n",
    "starbucks_gdf.crs = {'init': 'epsg:4326'}"
   ]
  },
  {
   "cell_type": "markdown",
   "id": "246ba1b1",
   "metadata": {
    "papermill": {
     "duration": 0.010861,
     "end_time": "2024-07-14T23:02:13.823114",
     "exception": false,
     "start_time": "2024-07-14T23:02:13.812253",
     "status": "completed"
    },
    "tags": []
   },
   "source": [
    "So, how many stores are in the counties you selected?"
   ]
  },
  {
   "cell_type": "code",
   "execution_count": 18,
   "id": "0f0baeb1",
   "metadata": {
    "execution": {
     "iopub.execute_input": "2024-07-14T23:02:13.847022Z",
     "iopub.status.busy": "2024-07-14T23:02:13.846584Z",
     "iopub.status.idle": "2024-07-14T23:02:13.972862Z",
     "shell.execute_reply": "2024-07-14T23:02:13.971875Z"
    },
    "papermill": {
     "duration": 0.141226,
     "end_time": "2024-07-14T23:02:13.975688",
     "exception": false,
     "start_time": "2024-07-14T23:02:13.834462",
     "status": "completed"
    },
    "tags": []
   },
   "outputs": [
    {
     "data": {
      "application/javascript": [
       "parent.postMessage({\"jupyterEvent\": \"custom.exercise_interaction\", \"data\": {\"outcomeType\": 1, \"valueTowardsCompletion\": 0.2, \"interactionType\": 1, \"questionType\": 2, \"questionId\": \"5_Q5\", \"learnToolsVersion\": \"0.3.4\", \"failureMessage\": \"\", \"exceptionClass\": \"\", \"trace\": \"\"}}, \"*\")"
      ],
      "text/plain": [
       "<IPython.core.display.Javascript object>"
      ]
     },
     "metadata": {},
     "output_type": "display_data"
    },
    {
     "data": {
      "text/markdown": [
       "<span style=\"color:#33cc33\">Correct</span>"
      ],
      "text/plain": [
       "Correct"
      ]
     },
     "metadata": {},
     "output_type": "display_data"
    }
   ],
   "source": [
    "# Fill in your answer\n",
    "join_stores_sel_counties = gpd.sjoin(sel_counties, starbucks_gdf)\n",
    "num_stores = len(join_stores_sel_counties)\n",
    "\n",
    "# Check your answer\n",
    "q_5.check()"
   ]
  },
  {
   "cell_type": "code",
   "execution_count": 19,
   "id": "d33553f0",
   "metadata": {
    "execution": {
     "iopub.execute_input": "2024-07-14T23:02:13.999565Z",
     "iopub.status.busy": "2024-07-14T23:02:13.999163Z",
     "iopub.status.idle": "2024-07-14T23:02:14.003679Z",
     "shell.execute_reply": "2024-07-14T23:02:14.002663Z"
    },
    "papermill": {
     "duration": 0.019108,
     "end_time": "2024-07-14T23:02:14.005971",
     "exception": false,
     "start_time": "2024-07-14T23:02:13.986863",
     "status": "completed"
    },
    "tags": []
   },
   "outputs": [],
   "source": [
    "# Lines below will give you a hint or solution code\n",
    "#q_5.hint()\n",
    "#q_5.solution()"
   ]
  },
  {
   "cell_type": "markdown",
   "id": "48a70a07",
   "metadata": {
    "papermill": {
     "duration": 0.010551,
     "end_time": "2024-07-14T23:02:14.028647",
     "exception": false,
     "start_time": "2024-07-14T23:02:14.018096",
     "status": "completed"
    },
    "tags": []
   },
   "source": [
    "### 6) Visualize the store locations.\n",
    "\n",
    "Create a map that shows the locations of the stores that you identified in the previous question."
   ]
  },
  {
   "cell_type": "code",
   "execution_count": 20,
   "id": "43914d51",
   "metadata": {
    "execution": {
     "iopub.execute_input": "2024-07-14T23:02:14.052706Z",
     "iopub.status.busy": "2024-07-14T23:02:14.051781Z",
     "iopub.status.idle": "2024-07-14T23:02:14.719874Z",
     "shell.execute_reply": "2024-07-14T23:02:14.718884Z"
    },
    "papermill": {
     "duration": 0.682716,
     "end_time": "2024-07-14T23:02:14.722205",
     "exception": false,
     "start_time": "2024-07-14T23:02:14.039489",
     "status": "completed"
    },
    "tags": []
   },
   "outputs": [
    {
     "data": {
      "application/javascript": [
       "parent.postMessage({\"jupyterEvent\": \"custom.exercise_interaction\", \"data\": {\"interactionType\": 2, \"questionType\": 2, \"questionId\": \"6_Q6\", \"learnToolsVersion\": \"0.3.4\", \"valueTowardsCompletion\": 0.0, \"failureMessage\": \"\", \"exceptionClass\": \"\", \"trace\": \"\", \"outcomeType\": 4}}, \"*\")"
      ],
      "text/plain": [
       "<IPython.core.display.Javascript object>"
      ]
     },
     "metadata": {},
     "output_type": "display_data"
    },
    {
     "data": {
      "text/markdown": [
       "<span style=\"color:#3366cc\">Hint:</span> We visualized store locations with `folium.plugins.MarkerCluster()`."
      ],
      "text/plain": [
       "Hint: We visualized store locations with `folium.plugins.MarkerCluster()`."
      ]
     },
     "metadata": {},
     "output_type": "display_data"
    },
    {
     "data": {
      "text/html": [
       "\n",
       "        <iframe\n",
       "            width=\"100%\"\n",
       "            height=\"500px\"\n",
       "            src=\"q_6.html\"\n",
       "            frameborder=\"0\"\n",
       "            allowfullscreen\n",
       "            \n",
       "        ></iframe>\n",
       "        "
      ],
      "text/plain": [
       "<IPython.lib.display.IFrame at 0x79df4d860700>"
      ]
     },
     "execution_count": 20,
     "metadata": {},
     "output_type": "execute_result"
    }
   ],
   "source": [
    "# Create a base map\n",
    "m_6 = folium.Map(location=[37,-120], zoom_start=6)\n",
    "\n",
    "# Your code here: show selected store locations\n",
    "mc = MarkerCluster()\n",
    "\n",
    "for idx, row in join_stores_sel_counties.iterrows():\n",
    "        mc.add_child(folium.Marker([row['Latitude'], row['Longitude']]))\n",
    "\n",
    "m_6.add_child(mc)\n",
    "\n",
    "# Uncomment to see a hint\n",
    "q_6.hint()\n",
    "\n",
    "# Show the map\n",
    "embed_map(m_6, 'q_6.html')"
   ]
  },
  {
   "cell_type": "code",
   "execution_count": 21,
   "id": "21e4fb12",
   "metadata": {
    "execution": {
     "iopub.execute_input": "2024-07-14T23:02:14.746238Z",
     "iopub.status.busy": "2024-07-14T23:02:14.745841Z",
     "iopub.status.idle": "2024-07-14T23:02:14.757747Z",
     "shell.execute_reply": "2024-07-14T23:02:14.756794Z"
    },
    "papermill": {
     "duration": 0.026537,
     "end_time": "2024-07-14T23:02:14.759943",
     "exception": false,
     "start_time": "2024-07-14T23:02:14.733406",
     "status": "completed"
    },
    "tags": []
   },
   "outputs": [
    {
     "data": {
      "application/javascript": [
       "parent.postMessage({\"jupyterEvent\": \"custom.exercise_interaction\", \"data\": {\"outcomeType\": 1, \"valueTowardsCompletion\": 0.2, \"interactionType\": 1, \"questionType\": 2, \"questionId\": \"6_Q6\", \"learnToolsVersion\": \"0.3.4\", \"failureMessage\": \"\", \"exceptionClass\": \"\", \"trace\": \"\"}}, \"*\")"
      ],
      "text/plain": [
       "<IPython.core.display.Javascript object>"
      ]
     },
     "metadata": {},
     "output_type": "display_data"
    },
    {
     "data": {
      "text/markdown": [
       "<span style=\"color:#33cc33\">Thank you for creating a map!</span>"
      ],
      "text/plain": [
       "Thank you for creating a map!"
      ]
     },
     "metadata": {},
     "output_type": "display_data"
    },
    {
     "data": {
      "application/javascript": [
       "parent.postMessage({\"jupyterEvent\": \"custom.exercise_interaction\", \"data\": {\"interactionType\": 3, \"questionType\": 2, \"questionId\": \"6_Q6\", \"learnToolsVersion\": \"0.3.4\", \"valueTowardsCompletion\": 0.0, \"failureMessage\": \"\", \"exceptionClass\": \"\", \"trace\": \"\", \"outcomeType\": 4}}, \"*\")"
      ],
      "text/plain": [
       "<IPython.core.display.Javascript object>"
      ]
     },
     "metadata": {},
     "output_type": "display_data"
    },
    {
     "data": {
      "text/markdown": [
       "<span style=\"color:#33cc99\">Solution:</span> \n",
       "```python\n",
       "# Show selected store locations\n",
       "mc = MarkerCluster()\n",
       "\n",
       "locations_of_interest = gpd.sjoin(starbucks_gdf, sel_counties)\n",
       "for idx, row in locations_of_interest.iterrows():\n",
       "    if not math.isnan(row['Longitude']) and not math.isnan(row['Latitude']):\n",
       "        mc.add_child(folium.Marker([row['Latitude'], row['Longitude']]))\n",
       "        \n",
       "m_6.add_child(mc)\n",
       "\n",
       "```"
      ],
      "text/plain": [
       "Solution: \n",
       "```python\n",
       "# Show selected store locations\n",
       "mc = MarkerCluster()\n",
       "\n",
       "locations_of_interest = gpd.sjoin(starbucks_gdf, sel_counties)\n",
       "for idx, row in locations_of_interest.iterrows():\n",
       "    if not math.isnan(row['Longitude']) and not math.isnan(row['Latitude']):\n",
       "        mc.add_child(folium.Marker([row['Latitude'], row['Longitude']]))\n",
       "        \n",
       "m_6.add_child(mc)\n",
       "\n",
       "```"
      ]
     },
     "metadata": {},
     "output_type": "display_data"
    }
   ],
   "source": [
    "# Get credit for your work after you have created a map\n",
    "q_6.check()\n",
    "\n",
    "# Uncomment to see our solution (your code may look different!)\n",
    "q_6.solution()"
   ]
  },
  {
   "cell_type": "markdown",
   "id": "3d0cd8da",
   "metadata": {
    "papermill": {
     "duration": 0.012078,
     "end_time": "2024-07-14T23:02:14.784068",
     "exception": false,
     "start_time": "2024-07-14T23:02:14.771990",
     "status": "completed"
    },
    "tags": []
   },
   "source": [
    "# Keep going\n",
    "\n",
    "Learn about how **[proximity analysis](https://www.kaggle.com/alexisbcook/proximity-analysis)** can help you to understand the relationships between points on a map."
   ]
  },
  {
   "cell_type": "markdown",
   "id": "0c1fabd0",
   "metadata": {
    "papermill": {
     "duration": 0.011327,
     "end_time": "2024-07-14T23:02:14.807076",
     "exception": false,
     "start_time": "2024-07-14T23:02:14.795749",
     "status": "completed"
    },
    "tags": []
   },
   "source": [
    "---\n",
    "\n",
    "\n",
    "\n",
    "\n",
    "*Have questions or comments? Visit the [course discussion forum](https://www.kaggle.com/learn/geospatial-analysis/discussion) to chat with other learners.*"
   ]
  }
 ],
 "metadata": {
  "kaggle": {
   "accelerator": "none",
   "dataSources": [
    {
     "datasetId": 348259,
     "sourceId": 695175,
     "sourceType": "datasetVersion"
    },
    {
     "datasetId": 116573,
     "sourceId": 3551030,
     "sourceType": "datasetVersion"
    }
   ],
   "isGpuEnabled": false,
   "isInternetEnabled": false,
   "language": "python",
   "sourceType": "notebook"
  },
  "kernelspec": {
   "display_name": "Python 3",
   "language": "python",
   "name": "python3"
  },
  "language_info": {
   "codemirror_mode": {
    "name": "ipython",
    "version": 3
   },
   "file_extension": ".py",
   "mimetype": "text/x-python",
   "name": "python",
   "nbconvert_exporter": "python",
   "pygments_lexer": "ipython3",
   "version": "3.10.13"
  },
  "papermill": {
   "default_parameters": {},
   "duration": 8.458767,
   "end_time": "2024-07-14T23:02:15.494206",
   "environment_variables": {},
   "exception": null,
   "input_path": "__notebook__.ipynb",
   "output_path": "__notebook__.ipynb",
   "parameters": {},
   "start_time": "2024-07-14T23:02:07.035439",
   "version": "2.5.0"
  }
 },
 "nbformat": 4,
 "nbformat_minor": 5
}
