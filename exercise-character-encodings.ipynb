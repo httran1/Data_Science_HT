{
 "cells": [
  {
   "cell_type": "markdown",
   "id": "12ac4abc",
   "metadata": {
    "papermill": {
     "duration": 0.006991,
     "end_time": "2024-08-20T22:22:35.816603",
     "exception": false,
     "start_time": "2024-08-20T22:22:35.809612",
     "status": "completed"
    },
    "tags": []
   },
   "source": [
    "**This notebook is an exercise in the [Data Cleaning](https://www.kaggle.com/learn/data-cleaning) course.  You can reference the tutorial at [this link](https://www.kaggle.com/alexisbcook/character-encodings).**\n",
    "\n",
    "---\n"
   ]
  },
  {
   "cell_type": "markdown",
   "id": "33663d78",
   "metadata": {
    "papermill": {
     "duration": 0.005877,
     "end_time": "2024-08-20T22:22:35.829099",
     "exception": false,
     "start_time": "2024-08-20T22:22:35.823222",
     "status": "completed"
    },
    "tags": []
   },
   "source": [
    "In this exercise, you'll apply what you learned in the **Character encodings** tutorial.\n",
    "\n",
    "# Setup\n",
    "\n",
    "The questions below will give you feedback on your work. Run the following cell to set up the feedback system."
   ]
  },
  {
   "cell_type": "code",
   "execution_count": 1,
   "id": "d135859a",
   "metadata": {
    "execution": {
     "iopub.execute_input": "2024-08-20T22:22:35.843352Z",
     "iopub.status.busy": "2024-08-20T22:22:35.842919Z",
     "iopub.status.idle": "2024-08-20T22:22:36.838746Z",
     "shell.execute_reply": "2024-08-20T22:22:36.837175Z"
    },
    "papermill": {
     "duration": 1.006071,
     "end_time": "2024-08-20T22:22:36.841531",
     "exception": false,
     "start_time": "2024-08-20T22:22:35.835460",
     "status": "completed"
    },
    "tags": []
   },
   "outputs": [
    {
     "name": "stdout",
     "output_type": "stream",
     "text": [
      "Setup Complete\n"
     ]
    }
   ],
   "source": [
    "from learntools.core import binder\n",
    "binder.bind(globals())\n",
    "from learntools.data_cleaning.ex4 import *\n",
    "print(\"Setup Complete\")"
   ]
  },
  {
   "cell_type": "markdown",
   "id": "b1dbb390",
   "metadata": {
    "papermill": {
     "duration": 0.006138,
     "end_time": "2024-08-20T22:22:36.854222",
     "exception": false,
     "start_time": "2024-08-20T22:22:36.848084",
     "status": "completed"
    },
    "tags": []
   },
   "source": [
    "# Get our environment set up\n",
    "\n",
    "The first thing we'll need to do is load in the libraries we'll be using."
   ]
  },
  {
   "cell_type": "code",
   "execution_count": 2,
   "id": "fddedcb4",
   "metadata": {
    "execution": {
     "iopub.execute_input": "2024-08-20T22:22:36.868689Z",
     "iopub.status.busy": "2024-08-20T22:22:36.868251Z",
     "iopub.status.idle": "2024-08-20T22:22:36.873948Z",
     "shell.execute_reply": "2024-08-20T22:22:36.872753Z"
    },
    "papermill": {
     "duration": 0.015979,
     "end_time": "2024-08-20T22:22:36.876455",
     "exception": false,
     "start_time": "2024-08-20T22:22:36.860476",
     "status": "completed"
    },
    "tags": []
   },
   "outputs": [],
   "source": [
    "# modules we'll use\n",
    "import pandas as pd\n",
    "import numpy as np\n",
    "\n",
    "# helpful character encoding module\n",
    "import charset_normalizer\n",
    "\n",
    "# set seed for reproducibility\n",
    "np.random.seed(0)"
   ]
  },
  {
   "cell_type": "markdown",
   "id": "406056e9",
   "metadata": {
    "papermill": {
     "duration": 0.006108,
     "end_time": "2024-08-20T22:22:36.888891",
     "exception": false,
     "start_time": "2024-08-20T22:22:36.882783",
     "status": "completed"
    },
    "tags": []
   },
   "source": [
    "# 1) What are encodings?\n",
    "\n",
    "You're working with a dataset composed of bytes.  Run the code cell below to print a sample entry."
   ]
  },
  {
   "cell_type": "code",
   "execution_count": 3,
   "id": "14090dd5",
   "metadata": {
    "execution": {
     "iopub.execute_input": "2024-08-20T22:22:36.903596Z",
     "iopub.status.busy": "2024-08-20T22:22:36.903159Z",
     "iopub.status.idle": "2024-08-20T22:22:36.909200Z",
     "shell.execute_reply": "2024-08-20T22:22:36.907829Z"
    },
    "papermill": {
     "duration": 0.016903,
     "end_time": "2024-08-20T22:22:36.912109",
     "exception": false,
     "start_time": "2024-08-20T22:22:36.895206",
     "status": "completed"
    },
    "tags": []
   },
   "outputs": [
    {
     "name": "stdout",
     "output_type": "stream",
     "text": [
      "b'\\xa7A\\xa6n'\n",
      "data type: <class 'bytes'>\n"
     ]
    }
   ],
   "source": [
    "sample_entry = b'\\xa7A\\xa6n'\n",
    "print(sample_entry)\n",
    "print('data type:', type(sample_entry))"
   ]
  },
  {
   "cell_type": "markdown",
   "id": "1844922f",
   "metadata": {
    "papermill": {
     "duration": 0.006124,
     "end_time": "2024-08-20T22:22:36.924726",
     "exception": false,
     "start_time": "2024-08-20T22:22:36.918602",
     "status": "completed"
    },
    "tags": []
   },
   "source": [
    "You notice that it doesn't use the standard UTF-8 encoding. \n",
    "\n",
    "Use the next code cell to create a variable `new_entry` that changes the encoding from `\"big5-tw\"` to `\"utf-8\"`.  `new_entry` should have the bytes datatype."
   ]
  },
  {
   "cell_type": "code",
   "execution_count": 4,
   "id": "d5b264b7",
   "metadata": {
    "execution": {
     "iopub.execute_input": "2024-08-20T22:22:36.940414Z",
     "iopub.status.busy": "2024-08-20T22:22:36.939233Z",
     "iopub.status.idle": "2024-08-20T22:22:36.951350Z",
     "shell.execute_reply": "2024-08-20T22:22:36.950021Z"
    },
    "papermill": {
     "duration": 0.022517,
     "end_time": "2024-08-20T22:22:36.953695",
     "exception": false,
     "start_time": "2024-08-20T22:22:36.931178",
     "status": "completed"
    },
    "tags": []
   },
   "outputs": [
    {
     "data": {
      "application/javascript": [
       "parent.postMessage({\"jupyterEvent\": \"custom.exercise_interaction\", \"data\": {\"outcomeType\": 1, \"valueTowardsCompletion\": 0.3333333333333333, \"interactionType\": 1, \"questionType\": 1, \"questionId\": \"1_EncodingsIntro\", \"learnToolsVersion\": \"0.3.4\", \"failureMessage\": \"\", \"exceptionClass\": \"\", \"trace\": \"\"}}, \"*\")"
      ],
      "text/plain": [
       "<IPython.core.display.Javascript object>"
      ]
     },
     "metadata": {},
     "output_type": "display_data"
    },
    {
     "data": {
      "text/markdown": [
       "<span style=\"color:#33cc33\">Correct</span>"
      ],
      "text/plain": [
       "Correct"
      ]
     },
     "metadata": {},
     "output_type": "display_data"
    }
   ],
   "source": [
    "before = sample_entry.decode('big5-tw')\n",
    "new_entry = before.encode(\"utf-8\", errors = \"replace\")\n",
    "\n",
    "# Check your answer\n",
    "q1.check()"
   ]
  },
  {
   "cell_type": "code",
   "execution_count": 5,
   "id": "a06eb037",
   "metadata": {
    "execution": {
     "iopub.execute_input": "2024-08-20T22:22:36.969490Z",
     "iopub.status.busy": "2024-08-20T22:22:36.968690Z",
     "iopub.status.idle": "2024-08-20T22:22:36.973829Z",
     "shell.execute_reply": "2024-08-20T22:22:36.972695Z"
    },
    "papermill": {
     "duration": 0.015815,
     "end_time": "2024-08-20T22:22:36.976385",
     "exception": false,
     "start_time": "2024-08-20T22:22:36.960570",
     "status": "completed"
    },
    "tags": []
   },
   "outputs": [],
   "source": [
    "# Lines below will give you a hint or solution code\n",
    "#q1.hint()\n",
    "#q1.solution()"
   ]
  },
  {
   "cell_type": "markdown",
   "id": "a8930b41",
   "metadata": {
    "papermill": {
     "duration": 0.006631,
     "end_time": "2024-08-20T22:22:36.989831",
     "exception": false,
     "start_time": "2024-08-20T22:22:36.983200",
     "status": "completed"
    },
    "tags": []
   },
   "source": [
    "# 2) Reading in files with encoding problems\n",
    "\n",
    "Use the code cell below to read in this file at path `\"../input/fatal-police-shootings-in-the-us/PoliceKillingsUS.csv\"`.  \n",
    "\n",
    "Figure out what the correct encoding should be and read in the file to a DataFrame `police_killings`."
   ]
  },
  {
   "cell_type": "code",
   "execution_count": 6,
   "id": "10b4aba8",
   "metadata": {
    "execution": {
     "iopub.execute_input": "2024-08-20T22:22:37.005295Z",
     "iopub.status.busy": "2024-08-20T22:22:37.004908Z",
     "iopub.status.idle": "2024-08-20T22:22:37.035749Z",
     "shell.execute_reply": "2024-08-20T22:22:37.034507Z"
    },
    "papermill": {
     "duration": 0.041708,
     "end_time": "2024-08-20T22:22:37.038403",
     "exception": false,
     "start_time": "2024-08-20T22:22:36.996695",
     "status": "completed"
    },
    "tags": []
   },
   "outputs": [
    {
     "data": {
      "application/javascript": [
       "parent.postMessage({\"jupyterEvent\": \"custom.exercise_interaction\", \"data\": {\"outcomeType\": 1, \"valueTowardsCompletion\": 0.3333333333333333, \"interactionType\": 1, \"questionType\": 1, \"questionId\": \"2_ReadIn\", \"learnToolsVersion\": \"0.3.4\", \"failureMessage\": \"\", \"exceptionClass\": \"\", \"trace\": \"\"}}, \"*\")"
      ],
      "text/plain": [
       "<IPython.core.display.Javascript object>"
      ]
     },
     "metadata": {},
     "output_type": "display_data"
    },
    {
     "data": {
      "text/markdown": [
       "<span style=\"color:#33cc33\">Correct</span>"
      ],
      "text/plain": [
       "Correct"
      ]
     },
     "metadata": {},
     "output_type": "display_data"
    }
   ],
   "source": [
    "# TODO: Load in the DataFrame correctly.\n",
    "police_killings = pd.read_csv(\"../input/fatal-police-shootings-in-the-us/PoliceKillingsUS.csv\", encoding = \"windows-1250'\")\n",
    "\n",
    "# Check your answer\n",
    "q2.check()"
   ]
  },
  {
   "cell_type": "markdown",
   "id": "b7a932b9",
   "metadata": {
    "papermill": {
     "duration": 0.00702,
     "end_time": "2024-08-20T22:22:37.052747",
     "exception": false,
     "start_time": "2024-08-20T22:22:37.045727",
     "status": "completed"
    },
    "tags": []
   },
   "source": [
    "Feel free to use any additional code cells for supplemental work.  To get credit for finishing this question, you'll need to run `q2.check()` and get a result of **Correct**."
   ]
  },
  {
   "cell_type": "code",
   "execution_count": 7,
   "id": "219803ff",
   "metadata": {
    "execution": {
     "iopub.execute_input": "2024-08-20T22:22:37.069489Z",
     "iopub.status.busy": "2024-08-20T22:22:37.068982Z",
     "iopub.status.idle": "2024-08-20T22:22:37.692079Z",
     "shell.execute_reply": "2024-08-20T22:22:37.690596Z"
    },
    "papermill": {
     "duration": 0.634534,
     "end_time": "2024-08-20T22:22:37.694612",
     "exception": false,
     "start_time": "2024-08-20T22:22:37.060078",
     "status": "completed"
    },
    "tags": []
   },
   "outputs": [
    {
     "name": "stdout",
     "output_type": "stream",
     "text": [
      "{'encoding': 'windows-1250', 'language': 'English', 'confidence': 1.0}\n"
     ]
    }
   ],
   "source": [
    "# (Optional) Use this code cell for any additional work.\n",
    "with open(\"../input/fatal-police-shootings-in-the-us/PoliceKillingsUS.csv\", 'rb') as rawdata:\n",
    "    result = charset_normalizer.detect(rawdata.read(100000))\n",
    "print(result)"
   ]
  },
  {
   "cell_type": "code",
   "execution_count": 8,
   "id": "1bf29ad8",
   "metadata": {
    "execution": {
     "iopub.execute_input": "2024-08-20T22:22:37.711274Z",
     "iopub.status.busy": "2024-08-20T22:22:37.710322Z",
     "iopub.status.idle": "2024-08-20T22:22:37.715157Z",
     "shell.execute_reply": "2024-08-20T22:22:37.714101Z"
    },
    "papermill": {
     "duration": 0.015735,
     "end_time": "2024-08-20T22:22:37.717572",
     "exception": false,
     "start_time": "2024-08-20T22:22:37.701837",
     "status": "completed"
    },
    "tags": []
   },
   "outputs": [],
   "source": [
    "# Lines below will give you a hint or solution code\n",
    "#q2.hint()\n",
    "#q2.solution()"
   ]
  },
  {
   "cell_type": "markdown",
   "id": "0d2c74b6",
   "metadata": {
    "papermill": {
     "duration": 0.006918,
     "end_time": "2024-08-20T22:22:37.731870",
     "exception": false,
     "start_time": "2024-08-20T22:22:37.724952",
     "status": "completed"
    },
    "tags": []
   },
   "source": [
    "# 3) Saving your files with UTF-8 encoding\n",
    "\n",
    "Save a version of the police killings dataset to CSV with UTF-8 encoding.  Your answer will be marked correct after saving this file.  \n",
    "\n",
    "Note: When using the `to_csv()` method, supply only the name of the file (e.g., `\"my_file.csv\"`).  This saves the file at the filepath `\"/kaggle/working/my_file.csv\"`."
   ]
  },
  {
   "cell_type": "code",
   "execution_count": 9,
   "id": "b73ae960",
   "metadata": {
    "execution": {
     "iopub.execute_input": "2024-08-20T22:22:37.748073Z",
     "iopub.status.busy": "2024-08-20T22:22:37.747630Z",
     "iopub.status.idle": "2024-08-20T22:22:37.757580Z",
     "shell.execute_reply": "2024-08-20T22:22:37.756280Z"
    },
    "papermill": {
     "duration": 0.021178,
     "end_time": "2024-08-20T22:22:37.760188",
     "exception": false,
     "start_time": "2024-08-20T22:22:37.739010",
     "status": "completed"
    },
    "tags": []
   },
   "outputs": [
    {
     "data": {
      "application/javascript": [
       "parent.postMessage({\"jupyterEvent\": \"custom.exercise_interaction\", \"data\": {\"outcomeType\": 2, \"failureMessage\": \"Please save a CSV file and run this code cell again to get credit!\", \"interactionType\": 1, \"questionType\": 2, \"questionId\": \"3_SaveCSV\", \"learnToolsVersion\": \"0.3.4\", \"valueTowardsCompletion\": 0.0, \"exceptionClass\": \"\", \"trace\": \"\"}}, \"*\")"
      ],
      "text/plain": [
       "<IPython.core.display.Javascript object>"
      ]
     },
     "metadata": {},
     "output_type": "display_data"
    },
    {
     "data": {
      "text/markdown": [
       "<span style=\"color:#cc3333\">Incorrect:</span> Please save a CSV file and run this code cell again to get credit!"
      ],
      "text/plain": [
       "Incorrect: Please save a CSV file and run this code cell again to get credit!"
      ]
     },
     "metadata": {},
     "output_type": "display_data"
    }
   ],
   "source": [
    "# TODO: Save the police killings dataset to CSV\n",
    "____\n",
    "\n",
    "# Check your answer\n",
    "q3.check()"
   ]
  },
  {
   "cell_type": "code",
   "execution_count": 10,
   "id": "556ee70b",
   "metadata": {
    "execution": {
     "iopub.execute_input": "2024-08-20T22:22:37.779564Z",
     "iopub.status.busy": "2024-08-20T22:22:37.778324Z",
     "iopub.status.idle": "2024-08-20T22:22:37.783992Z",
     "shell.execute_reply": "2024-08-20T22:22:37.782548Z"
    },
    "papermill": {
     "duration": 0.018948,
     "end_time": "2024-08-20T22:22:37.786735",
     "exception": false,
     "start_time": "2024-08-20T22:22:37.767787",
     "status": "completed"
    },
    "tags": []
   },
   "outputs": [],
   "source": [
    "# Lines below will give you a hint or solution code\n",
    "#q3.hint()\n",
    "#q3.solution()"
   ]
  },
  {
   "cell_type": "markdown",
   "id": "6c88dff0",
   "metadata": {
    "papermill": {
     "duration": 0.00726,
     "end_time": "2024-08-20T22:22:37.801729",
     "exception": false,
     "start_time": "2024-08-20T22:22:37.794469",
     "status": "completed"
    },
    "tags": []
   },
   "source": [
    "# (Optional) More practice\n",
    "\n",
    "Check out [this dataset of files in different character encodings](https://www.kaggle.com/rtatman/character-encoding-examples). Can you read in all the files with their original encodings and them save them out as UTF-8 files?\n",
    "\n",
    "If you have a file that's in UTF-8 but has just a couple of weird-looking characters in it, you can try out the [ftfy module](https://ftfy.readthedocs.io/en/latest/#) and see if it helps. \n",
    "\n",
    "# Keep going\n",
    "\n",
    "In the final lesson, learn how to [**clean up inconsistent text entries**](https://www.kaggle.com/alexisbcook/inconsistent-data-entry) in your dataset."
   ]
  },
  {
   "cell_type": "markdown",
   "id": "bea7325d",
   "metadata": {
    "papermill": {
     "duration": 0.007331,
     "end_time": "2024-08-20T22:22:37.816672",
     "exception": false,
     "start_time": "2024-08-20T22:22:37.809341",
     "status": "completed"
    },
    "tags": []
   },
   "source": [
    "---\n",
    "\n",
    "\n",
    "\n",
    "\n",
    "*Have questions or comments? Visit the [course discussion forum](https://www.kaggle.com/learn/data-cleaning/discussion) to chat with other learners.*"
   ]
  }
 ],
 "metadata": {
  "kaggle": {
   "accelerator": "none",
   "dataSources": [
    {
     "datasetId": 2647,
     "sourceId": 4395,
     "sourceType": "datasetVersion"
    }
   ],
   "isGpuEnabled": false,
   "isInternetEnabled": false,
   "language": "python",
   "sourceType": "notebook"
  },
  "kernelspec": {
   "display_name": "Python 3",
   "language": "python",
   "name": "python3"
  },
  "language_info": {
   "codemirror_mode": {
    "name": "ipython",
    "version": 3
   },
   "file_extension": ".py",
   "mimetype": "text/x-python",
   "name": "python",
   "nbconvert_exporter": "python",
   "pygments_lexer": "ipython3",
   "version": "3.10.13"
  },
  "papermill": {
   "default_parameters": {},
   "duration": 5.534971,
   "end_time": "2024-08-20T22:22:38.345909",
   "environment_variables": {},
   "exception": null,
   "input_path": "__notebook__.ipynb",
   "output_path": "__notebook__.ipynb",
   "parameters": {},
   "start_time": "2024-08-20T22:22:32.810938",
   "version": "2.5.0"
  }
 },
 "nbformat": 4,
 "nbformat_minor": 5
}
