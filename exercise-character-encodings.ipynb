{
 "cells": [
  {
   "cell_type": "markdown",
   "id": "95c9873e",
   "metadata": {
    "papermill": {
     "duration": 0.006735,
     "end_time": "2024-08-20T22:24:21.358511",
     "exception": false,
     "start_time": "2024-08-20T22:24:21.351776",
     "status": "completed"
    },
    "tags": []
   },
   "source": [
    "**This notebook is an exercise in the [Data Cleaning](https://www.kaggle.com/learn/data-cleaning) course.  You can reference the tutorial at [this link](https://www.kaggle.com/alexisbcook/character-encodings).**\n",
    "\n",
    "---\n"
   ]
  },
  {
   "cell_type": "markdown",
   "id": "2a96b8c6",
   "metadata": {
    "papermill": {
     "duration": 0.005854,
     "end_time": "2024-08-20T22:24:21.370795",
     "exception": false,
     "start_time": "2024-08-20T22:24:21.364941",
     "status": "completed"
    },
    "tags": []
   },
   "source": [
    "In this exercise, you'll apply what you learned in the **Character encodings** tutorial.\n",
    "\n",
    "# Setup\n",
    "\n",
    "The questions below will give you feedback on your work. Run the following cell to set up the feedback system."
   ]
  },
  {
   "cell_type": "code",
   "execution_count": 1,
   "id": "531270b8",
   "metadata": {
    "execution": {
     "iopub.execute_input": "2024-08-20T22:24:21.384959Z",
     "iopub.status.busy": "2024-08-20T22:24:21.384536Z",
     "iopub.status.idle": "2024-08-20T22:24:22.413133Z",
     "shell.execute_reply": "2024-08-20T22:24:22.411768Z"
    },
    "papermill": {
     "duration": 1.039079,
     "end_time": "2024-08-20T22:24:22.415887",
     "exception": false,
     "start_time": "2024-08-20T22:24:21.376808",
     "status": "completed"
    },
    "tags": []
   },
   "outputs": [
    {
     "name": "stdout",
     "output_type": "stream",
     "text": [
      "Setup Complete\n"
     ]
    }
   ],
   "source": [
    "from learntools.core import binder\n",
    "binder.bind(globals())\n",
    "from learntools.data_cleaning.ex4 import *\n",
    "print(\"Setup Complete\")"
   ]
  },
  {
   "cell_type": "markdown",
   "id": "fffb9e8f",
   "metadata": {
    "papermill": {
     "duration": 0.006464,
     "end_time": "2024-08-20T22:24:22.429012",
     "exception": false,
     "start_time": "2024-08-20T22:24:22.422548",
     "status": "completed"
    },
    "tags": []
   },
   "source": [
    "# Get our environment set up\n",
    "\n",
    "The first thing we'll need to do is load in the libraries we'll be using."
   ]
  },
  {
   "cell_type": "code",
   "execution_count": 2,
   "id": "a7097286",
   "metadata": {
    "execution": {
     "iopub.execute_input": "2024-08-20T22:24:22.444096Z",
     "iopub.status.busy": "2024-08-20T22:24:22.443213Z",
     "iopub.status.idle": "2024-08-20T22:24:22.449422Z",
     "shell.execute_reply": "2024-08-20T22:24:22.448298Z"
    },
    "papermill": {
     "duration": 0.016401,
     "end_time": "2024-08-20T22:24:22.451763",
     "exception": false,
     "start_time": "2024-08-20T22:24:22.435362",
     "status": "completed"
    },
    "tags": []
   },
   "outputs": [],
   "source": [
    "# modules we'll use\n",
    "import pandas as pd\n",
    "import numpy as np\n",
    "\n",
    "# helpful character encoding module\n",
    "import charset_normalizer\n",
    "\n",
    "# set seed for reproducibility\n",
    "np.random.seed(0)"
   ]
  },
  {
   "cell_type": "markdown",
   "id": "a4799d31",
   "metadata": {
    "papermill": {
     "duration": 0.006312,
     "end_time": "2024-08-20T22:24:22.464653",
     "exception": false,
     "start_time": "2024-08-20T22:24:22.458341",
     "status": "completed"
    },
    "tags": []
   },
   "source": [
    "# 1) What are encodings?\n",
    "\n",
    "You're working with a dataset composed of bytes.  Run the code cell below to print a sample entry."
   ]
  },
  {
   "cell_type": "code",
   "execution_count": 3,
   "id": "d29ff26c",
   "metadata": {
    "execution": {
     "iopub.execute_input": "2024-08-20T22:24:22.483032Z",
     "iopub.status.busy": "2024-08-20T22:24:22.482515Z",
     "iopub.status.idle": "2024-08-20T22:24:22.488696Z",
     "shell.execute_reply": "2024-08-20T22:24:22.487543Z"
    },
    "papermill": {
     "duration": 0.018337,
     "end_time": "2024-08-20T22:24:22.491261",
     "exception": false,
     "start_time": "2024-08-20T22:24:22.472924",
     "status": "completed"
    },
    "tags": []
   },
   "outputs": [
    {
     "name": "stdout",
     "output_type": "stream",
     "text": [
      "b'\\xa7A\\xa6n'\n",
      "data type: <class 'bytes'>\n"
     ]
    }
   ],
   "source": [
    "sample_entry = b'\\xa7A\\xa6n'\n",
    "print(sample_entry)\n",
    "print('data type:', type(sample_entry))"
   ]
  },
  {
   "cell_type": "markdown",
   "id": "68b3e364",
   "metadata": {
    "papermill": {
     "duration": 0.009999,
     "end_time": "2024-08-20T22:24:22.510070",
     "exception": false,
     "start_time": "2024-08-20T22:24:22.500071",
     "status": "completed"
    },
    "tags": []
   },
   "source": [
    "You notice that it doesn't use the standard UTF-8 encoding. \n",
    "\n",
    "Use the next code cell to create a variable `new_entry` that changes the encoding from `\"big5-tw\"` to `\"utf-8\"`.  `new_entry` should have the bytes datatype."
   ]
  },
  {
   "cell_type": "code",
   "execution_count": 4,
   "id": "158b1ea8",
   "metadata": {
    "execution": {
     "iopub.execute_input": "2024-08-20T22:24:22.527234Z",
     "iopub.status.busy": "2024-08-20T22:24:22.526807Z",
     "iopub.status.idle": "2024-08-20T22:24:22.537470Z",
     "shell.execute_reply": "2024-08-20T22:24:22.535884Z"
    },
    "papermill": {
     "duration": 0.02188,
     "end_time": "2024-08-20T22:24:22.539789",
     "exception": false,
     "start_time": "2024-08-20T22:24:22.517909",
     "status": "completed"
    },
    "tags": []
   },
   "outputs": [
    {
     "data": {
      "application/javascript": [
       "parent.postMessage({\"jupyterEvent\": \"custom.exercise_interaction\", \"data\": {\"outcomeType\": 1, \"valueTowardsCompletion\": 0.3333333333333333, \"interactionType\": 1, \"questionType\": 1, \"questionId\": \"1_EncodingsIntro\", \"learnToolsVersion\": \"0.3.4\", \"failureMessage\": \"\", \"exceptionClass\": \"\", \"trace\": \"\"}}, \"*\")"
      ],
      "text/plain": [
       "<IPython.core.display.Javascript object>"
      ]
     },
     "metadata": {},
     "output_type": "display_data"
    },
    {
     "data": {
      "text/markdown": [
       "<span style=\"color:#33cc33\">Correct</span>"
      ],
      "text/plain": [
       "Correct"
      ]
     },
     "metadata": {},
     "output_type": "display_data"
    }
   ],
   "source": [
    "before = sample_entry.decode('big5-tw')\n",
    "new_entry = before.encode(\"utf-8\", errors = \"replace\")\n",
    "\n",
    "# Check your answer\n",
    "q1.check()"
   ]
  },
  {
   "cell_type": "code",
   "execution_count": 5,
   "id": "9cfaa19a",
   "metadata": {
    "execution": {
     "iopub.execute_input": "2024-08-20T22:24:22.555294Z",
     "iopub.status.busy": "2024-08-20T22:24:22.554894Z",
     "iopub.status.idle": "2024-08-20T22:24:22.559754Z",
     "shell.execute_reply": "2024-08-20T22:24:22.558579Z"
    },
    "papermill": {
     "duration": 0.015209,
     "end_time": "2024-08-20T22:24:22.562136",
     "exception": false,
     "start_time": "2024-08-20T22:24:22.546927",
     "status": "completed"
    },
    "tags": []
   },
   "outputs": [],
   "source": [
    "# Lines below will give you a hint or solution code\n",
    "#q1.hint()\n",
    "#q1.solution()"
   ]
  },
  {
   "cell_type": "markdown",
   "id": "63462ae5",
   "metadata": {
    "papermill": {
     "duration": 0.006433,
     "end_time": "2024-08-20T22:24:22.575223",
     "exception": false,
     "start_time": "2024-08-20T22:24:22.568790",
     "status": "completed"
    },
    "tags": []
   },
   "source": [
    "# 2) Reading in files with encoding problems\n",
    "\n",
    "Use the code cell below to read in this file at path `\"../input/fatal-police-shootings-in-the-us/PoliceKillingsUS.csv\"`.  \n",
    "\n",
    "Figure out what the correct encoding should be and read in the file to a DataFrame `police_killings`."
   ]
  },
  {
   "cell_type": "code",
   "execution_count": 6,
   "id": "c9a8af06",
   "metadata": {
    "execution": {
     "iopub.execute_input": "2024-08-20T22:24:22.590970Z",
     "iopub.status.busy": "2024-08-20T22:24:22.589964Z",
     "iopub.status.idle": "2024-08-20T22:24:22.625601Z",
     "shell.execute_reply": "2024-08-20T22:24:22.624353Z"
    },
    "papermill": {
     "duration": 0.046247,
     "end_time": "2024-08-20T22:24:22.628038",
     "exception": false,
     "start_time": "2024-08-20T22:24:22.581791",
     "status": "completed"
    },
    "tags": []
   },
   "outputs": [
    {
     "data": {
      "application/javascript": [
       "parent.postMessage({\"jupyterEvent\": \"custom.exercise_interaction\", \"data\": {\"outcomeType\": 1, \"valueTowardsCompletion\": 0.3333333333333333, \"interactionType\": 1, \"questionType\": 1, \"questionId\": \"2_ReadIn\", \"learnToolsVersion\": \"0.3.4\", \"failureMessage\": \"\", \"exceptionClass\": \"\", \"trace\": \"\"}}, \"*\")"
      ],
      "text/plain": [
       "<IPython.core.display.Javascript object>"
      ]
     },
     "metadata": {},
     "output_type": "display_data"
    },
    {
     "data": {
      "text/markdown": [
       "<span style=\"color:#33cc33\">Correct</span>"
      ],
      "text/plain": [
       "Correct"
      ]
     },
     "metadata": {},
     "output_type": "display_data"
    }
   ],
   "source": [
    "# TODO: Load in the DataFrame correctly.\n",
    "police_killings = pd.read_csv(\"../input/fatal-police-shootings-in-the-us/PoliceKillingsUS.csv\", encoding = \"windows-1250'\")\n",
    "\n",
    "# Check your answer\n",
    "q2.check()"
   ]
  },
  {
   "cell_type": "markdown",
   "id": "a732c4b3",
   "metadata": {
    "papermill": {
     "duration": 0.006822,
     "end_time": "2024-08-20T22:24:22.642074",
     "exception": false,
     "start_time": "2024-08-20T22:24:22.635252",
     "status": "completed"
    },
    "tags": []
   },
   "source": [
    "Feel free to use any additional code cells for supplemental work.  To get credit for finishing this question, you'll need to run `q2.check()` and get a result of **Correct**."
   ]
  },
  {
   "cell_type": "code",
   "execution_count": 7,
   "id": "8fd0bf6d",
   "metadata": {
    "execution": {
     "iopub.execute_input": "2024-08-20T22:24:22.657836Z",
     "iopub.status.busy": "2024-08-20T22:24:22.657430Z",
     "iopub.status.idle": "2024-08-20T22:24:23.276669Z",
     "shell.execute_reply": "2024-08-20T22:24:23.275568Z"
    },
    "papermill": {
     "duration": 0.630306,
     "end_time": "2024-08-20T22:24:23.279449",
     "exception": false,
     "start_time": "2024-08-20T22:24:22.649143",
     "status": "completed"
    },
    "tags": []
   },
   "outputs": [
    {
     "name": "stdout",
     "output_type": "stream",
     "text": [
      "{'encoding': 'windows-1250', 'language': 'English', 'confidence': 1.0}\n"
     ]
    }
   ],
   "source": [
    "# (Optional) Use this code cell for any additional work.\n",
    "with open(\"../input/fatal-police-shootings-in-the-us/PoliceKillingsUS.csv\", 'rb') as rawdata:\n",
    "    result = charset_normalizer.detect(rawdata.read(100000))\n",
    "print(result)"
   ]
  },
  {
   "cell_type": "code",
   "execution_count": 8,
   "id": "15c58f06",
   "metadata": {
    "execution": {
     "iopub.execute_input": "2024-08-20T22:24:23.296410Z",
     "iopub.status.busy": "2024-08-20T22:24:23.295583Z",
     "iopub.status.idle": "2024-08-20T22:24:23.300497Z",
     "shell.execute_reply": "2024-08-20T22:24:23.299427Z"
    },
    "papermill": {
     "duration": 0.016101,
     "end_time": "2024-08-20T22:24:23.302991",
     "exception": false,
     "start_time": "2024-08-20T22:24:23.286890",
     "status": "completed"
    },
    "tags": []
   },
   "outputs": [],
   "source": [
    "# Lines below will give you a hint or solution code\n",
    "#q2.hint()\n",
    "#q2.solution()"
   ]
  },
  {
   "cell_type": "markdown",
   "id": "dfbb053f",
   "metadata": {
    "papermill": {
     "duration": 0.007085,
     "end_time": "2024-08-20T22:24:23.317501",
     "exception": false,
     "start_time": "2024-08-20T22:24:23.310416",
     "status": "completed"
    },
    "tags": []
   },
   "source": [
    "# 3) Saving your files with UTF-8 encoding\n",
    "\n",
    "Save a version of the police killings dataset to CSV with UTF-8 encoding.  Your answer will be marked correct after saving this file.  \n",
    "\n",
    "Note: When using the `to_csv()` method, supply only the name of the file (e.g., `\"my_file.csv\"`).  This saves the file at the filepath `\"/kaggle/working/my_file.csv\"`."
   ]
  },
  {
   "cell_type": "code",
   "execution_count": 9,
   "id": "07e17a53",
   "metadata": {
    "execution": {
     "iopub.execute_input": "2024-08-20T22:24:23.333600Z",
     "iopub.status.busy": "2024-08-20T22:24:23.333178Z",
     "iopub.status.idle": "2024-08-20T22:24:23.386276Z",
     "shell.execute_reply": "2024-08-20T22:24:23.385170Z"
    },
    "papermill": {
     "duration": 0.064055,
     "end_time": "2024-08-20T22:24:23.388816",
     "exception": false,
     "start_time": "2024-08-20T22:24:23.324761",
     "status": "completed"
    },
    "tags": []
   },
   "outputs": [
    {
     "data": {
      "application/javascript": [
       "parent.postMessage({\"jupyterEvent\": \"custom.exercise_interaction\", \"data\": {\"outcomeType\": 1, \"valueTowardsCompletion\": 0.3333333333333333, \"interactionType\": 1, \"questionType\": 2, \"questionId\": \"3_SaveCSV\", \"learnToolsVersion\": \"0.3.4\", \"failureMessage\": \"\", \"exceptionClass\": \"\", \"trace\": \"\"}}, \"*\")"
      ],
      "text/plain": [
       "<IPython.core.display.Javascript object>"
      ]
     },
     "metadata": {},
     "output_type": "display_data"
    },
    {
     "data": {
      "text/markdown": [
       "<span style=\"color:#33cc33\">Correct</span>"
      ],
      "text/plain": [
       "Correct"
      ]
     },
     "metadata": {},
     "output_type": "display_data"
    }
   ],
   "source": [
    "# TODO: Save the police killings dataset to CSV\n",
    "police_killings.to_csv(\"police_killings.csv\")\n",
    "\n",
    "# Check your answer\n",
    "q3.check()"
   ]
  },
  {
   "cell_type": "code",
   "execution_count": 10,
   "id": "147be1e1",
   "metadata": {
    "execution": {
     "iopub.execute_input": "2024-08-20T22:24:23.406469Z",
     "iopub.status.busy": "2024-08-20T22:24:23.406041Z",
     "iopub.status.idle": "2024-08-20T22:24:23.410638Z",
     "shell.execute_reply": "2024-08-20T22:24:23.409517Z"
    },
    "papermill": {
     "duration": 0.016466,
     "end_time": "2024-08-20T22:24:23.412936",
     "exception": false,
     "start_time": "2024-08-20T22:24:23.396470",
     "status": "completed"
    },
    "tags": []
   },
   "outputs": [],
   "source": [
    "# Lines below will give you a hint or solution code\n",
    "#q3.hint()\n",
    "#q3.solution()"
   ]
  },
  {
   "cell_type": "markdown",
   "id": "07d491f0",
   "metadata": {
    "papermill": {
     "duration": 0.007379,
     "end_time": "2024-08-20T22:24:23.427975",
     "exception": false,
     "start_time": "2024-08-20T22:24:23.420596",
     "status": "completed"
    },
    "tags": []
   },
   "source": [
    "# (Optional) More practice\n",
    "\n",
    "Check out [this dataset of files in different character encodings](https://www.kaggle.com/rtatman/character-encoding-examples). Can you read in all the files with their original encodings and them save them out as UTF-8 files?\n",
    "\n",
    "If you have a file that's in UTF-8 but has just a couple of weird-looking characters in it, you can try out the [ftfy module](https://ftfy.readthedocs.io/en/latest/#) and see if it helps. \n",
    "\n",
    "# Keep going\n",
    "\n",
    "In the final lesson, learn how to [**clean up inconsistent text entries**](https://www.kaggle.com/alexisbcook/inconsistent-data-entry) in your dataset."
   ]
  },
  {
   "cell_type": "markdown",
   "id": "c031ee69",
   "metadata": {
    "papermill": {
     "duration": 0.007313,
     "end_time": "2024-08-20T22:24:23.443516",
     "exception": false,
     "start_time": "2024-08-20T22:24:23.436203",
     "status": "completed"
    },
    "tags": []
   },
   "source": [
    "---\n",
    "\n",
    "\n",
    "\n",
    "\n",
    "*Have questions or comments? Visit the [course discussion forum](https://www.kaggle.com/learn/data-cleaning/discussion) to chat with other learners.*"
   ]
  }
 ],
 "metadata": {
  "kaggle": {
   "accelerator": "none",
   "dataSources": [
    {
     "datasetId": 2647,
     "sourceId": 4395,
     "sourceType": "datasetVersion"
    }
   ],
   "isGpuEnabled": false,
   "isInternetEnabled": false,
   "language": "python",
   "sourceType": "notebook"
  },
  "kernelspec": {
   "display_name": "Python 3",
   "language": "python",
   "name": "python3"
  },
  "language_info": {
   "codemirror_mode": {
    "name": "ipython",
    "version": 3
   },
   "file_extension": ".py",
   "mimetype": "text/x-python",
   "name": "python",
   "nbconvert_exporter": "python",
   "pygments_lexer": "ipython3",
   "version": "3.10.13"
  },
  "papermill": {
   "default_parameters": {},
   "duration": 5.685315,
   "end_time": "2024-08-20T22:24:23.974027",
   "environment_variables": {},
   "exception": null,
   "input_path": "__notebook__.ipynb",
   "output_path": "__notebook__.ipynb",
   "parameters": {},
   "start_time": "2024-08-20T22:24:18.288712",
   "version": "2.5.0"
  }
 },
 "nbformat": 4,
 "nbformat_minor": 5
}
