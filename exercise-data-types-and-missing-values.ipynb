{
 "cells": [
  {
   "cell_type": "markdown",
   "id": "b6207617",
   "metadata": {
    "papermill": {
     "duration": 0.00656,
     "end_time": "2024-07-10T22:43:08.863114",
     "exception": false,
     "start_time": "2024-07-10T22:43:08.856554",
     "status": "completed"
    },
    "tags": []
   },
   "source": [
    "**This notebook is an exercise in the [Pandas](https://www.kaggle.com/learn/pandas) course.  You can reference the tutorial at [this link](https://www.kaggle.com/residentmario/data-types-and-missing-values).**\n",
    "\n",
    "---\n"
   ]
  },
  {
   "cell_type": "markdown",
   "id": "02425db0",
   "metadata": {
    "papermill": {
     "duration": 0.006089,
     "end_time": "2024-07-10T22:43:08.876476",
     "exception": false,
     "start_time": "2024-07-10T22:43:08.870387",
     "status": "completed"
    },
    "tags": []
   },
   "source": [
    "# Introduction\n",
    "\n",
    "Run the following cell to load your data and some utility functions."
   ]
  },
  {
   "cell_type": "code",
   "execution_count": 1,
   "id": "767258cd",
   "metadata": {
    "execution": {
     "iopub.execute_input": "2024-07-10T22:43:08.892067Z",
     "iopub.status.busy": "2024-07-10T22:43:08.891483Z",
     "iopub.status.idle": "2024-07-10T22:43:13.459567Z",
     "shell.execute_reply": "2024-07-10T22:43:13.457895Z"
    },
    "papermill": {
     "duration": 4.579281,
     "end_time": "2024-07-10T22:43:13.462550",
     "exception": false,
     "start_time": "2024-07-10T22:43:08.883269",
     "status": "completed"
    },
    "tags": []
   },
   "outputs": [
    {
     "name": "stdout",
     "output_type": "stream",
     "text": [
      "Setup complete.\n"
     ]
    }
   ],
   "source": [
    "import pandas as pd\n",
    "\n",
    "reviews = pd.read_csv(\"../input/wine-reviews/winemag-data-130k-v2.csv\", index_col=0)\n",
    "\n",
    "from learntools.core import binder; binder.bind(globals())\n",
    "from learntools.pandas.data_types_and_missing_data import *\n",
    "print(\"Setup complete.\")"
   ]
  },
  {
   "cell_type": "markdown",
   "id": "fac9301f",
   "metadata": {
    "papermill": {
     "duration": 0.006856,
     "end_time": "2024-07-10T22:43:13.475928",
     "exception": false,
     "start_time": "2024-07-10T22:43:13.469072",
     "status": "completed"
    },
    "tags": []
   },
   "source": [
    "# Exercises"
   ]
  },
  {
   "cell_type": "markdown",
   "id": "c5206954",
   "metadata": {
    "papermill": {
     "duration": 0.006156,
     "end_time": "2024-07-10T22:43:13.488539",
     "exception": false,
     "start_time": "2024-07-10T22:43:13.482383",
     "status": "completed"
    },
    "tags": []
   },
   "source": [
    "## 1. \n",
    "What is the data type of the `points` column in the dataset?"
   ]
  },
  {
   "cell_type": "code",
   "execution_count": 2,
   "id": "287b3605",
   "metadata": {
    "execution": {
     "iopub.execute_input": "2024-07-10T22:43:13.503489Z",
     "iopub.status.busy": "2024-07-10T22:43:13.503027Z",
     "iopub.status.idle": "2024-07-10T22:43:13.514805Z",
     "shell.execute_reply": "2024-07-10T22:43:13.513574Z"
    },
    "papermill": {
     "duration": 0.022452,
     "end_time": "2024-07-10T22:43:13.517428",
     "exception": false,
     "start_time": "2024-07-10T22:43:13.494976",
     "status": "completed"
    },
    "tags": []
   },
   "outputs": [
    {
     "data": {
      "application/javascript": [
       "parent.postMessage({\"jupyterEvent\": \"custom.exercise_interaction\", \"data\": {\"outcomeType\": 1, \"valueTowardsCompletion\": 0.25, \"interactionType\": 1, \"questionType\": 1, \"questionId\": \"1_PointsDtype\", \"learnToolsVersion\": \"0.3.4\", \"failureMessage\": \"\", \"exceptionClass\": \"\", \"trace\": \"\"}}, \"*\")"
      ],
      "text/plain": [
       "<IPython.core.display.Javascript object>"
      ]
     },
     "metadata": {},
     "output_type": "display_data"
    },
    {
     "data": {
      "text/markdown": [
       "<span style=\"color:#33cc33\">Correct</span>"
      ],
      "text/plain": [
       "Correct"
      ]
     },
     "metadata": {},
     "output_type": "display_data"
    }
   ],
   "source": [
    "# Your code here\n",
    "dtype = reviews.points.dtype\n",
    "# Check your answer\n",
    "q1.check()"
   ]
  },
  {
   "cell_type": "code",
   "execution_count": 3,
   "id": "3116f99e",
   "metadata": {
    "execution": {
     "iopub.execute_input": "2024-07-10T22:43:13.533136Z",
     "iopub.status.busy": "2024-07-10T22:43:13.532697Z",
     "iopub.status.idle": "2024-07-10T22:43:13.538192Z",
     "shell.execute_reply": "2024-07-10T22:43:13.536973Z"
    },
    "papermill": {
     "duration": 0.017092,
     "end_time": "2024-07-10T22:43:13.541263",
     "exception": false,
     "start_time": "2024-07-10T22:43:13.524171",
     "status": "completed"
    },
    "tags": []
   },
   "outputs": [],
   "source": [
    "#q1.hint()\n",
    "#q1.solution()"
   ]
  },
  {
   "cell_type": "markdown",
   "id": "a11dab05",
   "metadata": {
    "papermill": {
     "duration": 0.006554,
     "end_time": "2024-07-10T22:43:13.555110",
     "exception": false,
     "start_time": "2024-07-10T22:43:13.548556",
     "status": "completed"
    },
    "tags": []
   },
   "source": [
    "## 2. \n",
    "Create a Series from entries in the `points` column, but convert the entries to strings. Hint: strings are `str` in native Python."
   ]
  },
  {
   "cell_type": "code",
   "execution_count": 4,
   "id": "c0f468ed",
   "metadata": {
    "execution": {
     "iopub.execute_input": "2024-07-10T22:43:13.571223Z",
     "iopub.status.busy": "2024-07-10T22:43:13.570804Z",
     "iopub.status.idle": "2024-07-10T22:43:13.646558Z",
     "shell.execute_reply": "2024-07-10T22:43:13.645340Z"
    },
    "papermill": {
     "duration": 0.087277,
     "end_time": "2024-07-10T22:43:13.649187",
     "exception": false,
     "start_time": "2024-07-10T22:43:13.561910",
     "status": "completed"
    },
    "tags": []
   },
   "outputs": [
    {
     "data": {
      "application/javascript": [
       "parent.postMessage({\"jupyterEvent\": \"custom.exercise_interaction\", \"data\": {\"outcomeType\": 1, \"valueTowardsCompletion\": 0.25, \"interactionType\": 1, \"questionType\": 1, \"questionId\": \"2_StrPoints\", \"learnToolsVersion\": \"0.3.4\", \"failureMessage\": \"\", \"exceptionClass\": \"\", \"trace\": \"\"}}, \"*\")"
      ],
      "text/plain": [
       "<IPython.core.display.Javascript object>"
      ]
     },
     "metadata": {},
     "output_type": "display_data"
    },
    {
     "data": {
      "text/markdown": [
       "<span style=\"color:#33cc33\">Correct</span>"
      ],
      "text/plain": [
       "Correct"
      ]
     },
     "metadata": {},
     "output_type": "display_data"
    }
   ],
   "source": [
    "point_strings = reviews.points.astype(str)\n",
    "\n",
    "# Check your answer\n",
    "q2.check()"
   ]
  },
  {
   "cell_type": "code",
   "execution_count": 5,
   "id": "da8b6eb1",
   "metadata": {
    "execution": {
     "iopub.execute_input": "2024-07-10T22:43:13.665449Z",
     "iopub.status.busy": "2024-07-10T22:43:13.664993Z",
     "iopub.status.idle": "2024-07-10T22:43:13.670395Z",
     "shell.execute_reply": "2024-07-10T22:43:13.669211Z"
    },
    "papermill": {
     "duration": 0.016767,
     "end_time": "2024-07-10T22:43:13.673048",
     "exception": false,
     "start_time": "2024-07-10T22:43:13.656281",
     "status": "completed"
    },
    "tags": []
   },
   "outputs": [],
   "source": [
    "#q2.hint()\n",
    "#q2.solution()"
   ]
  },
  {
   "cell_type": "markdown",
   "id": "a30699b3",
   "metadata": {
    "papermill": {
     "duration": 0.007186,
     "end_time": "2024-07-10T22:43:13.687546",
     "exception": false,
     "start_time": "2024-07-10T22:43:13.680360",
     "status": "completed"
    },
    "tags": []
   },
   "source": [
    "## 3.\n",
    "Sometimes the price column is null. How many reviews in the dataset are missing a price?"
   ]
  },
  {
   "cell_type": "code",
   "execution_count": 6,
   "id": "bd08be74",
   "metadata": {
    "execution": {
     "iopub.execute_input": "2024-07-10T22:43:13.705970Z",
     "iopub.status.busy": "2024-07-10T22:43:13.704554Z",
     "iopub.status.idle": "2024-07-10T22:43:13.716662Z",
     "shell.execute_reply": "2024-07-10T22:43:13.715111Z"
    },
    "papermill": {
     "duration": 0.024283,
     "end_time": "2024-07-10T22:43:13.719353",
     "exception": false,
     "start_time": "2024-07-10T22:43:13.695070",
     "status": "completed"
    },
    "tags": []
   },
   "outputs": [
    {
     "data": {
      "application/javascript": [
       "parent.postMessage({\"jupyterEvent\": \"custom.exercise_interaction\", \"data\": {\"outcomeType\": 1, \"valueTowardsCompletion\": 0.25, \"interactionType\": 1, \"questionType\": 1, \"questionId\": \"3_CountMissingPrices\", \"learnToolsVersion\": \"0.3.4\", \"failureMessage\": \"\", \"exceptionClass\": \"\", \"trace\": \"\"}}, \"*\")"
      ],
      "text/plain": [
       "<IPython.core.display.Javascript object>"
      ]
     },
     "metadata": {},
     "output_type": "display_data"
    },
    {
     "data": {
      "text/markdown": [
       "<span style=\"color:#33cc33\">Correct</span>"
      ],
      "text/plain": [
       "Correct"
      ]
     },
     "metadata": {},
     "output_type": "display_data"
    }
   ],
   "source": [
    "price_missing = reviews.price.isnull()\n",
    "n_missing_prices = price_missing.sum()\n",
    "\n",
    "# Check your answer\n",
    "q3.check()"
   ]
  },
  {
   "cell_type": "code",
   "execution_count": 7,
   "id": "b836184b",
   "metadata": {
    "execution": {
     "iopub.execute_input": "2024-07-10T22:43:13.736151Z",
     "iopub.status.busy": "2024-07-10T22:43:13.735745Z",
     "iopub.status.idle": "2024-07-10T22:43:13.750759Z",
     "shell.execute_reply": "2024-07-10T22:43:13.749387Z"
    },
    "papermill": {
     "duration": 0.026724,
     "end_time": "2024-07-10T22:43:13.753558",
     "exception": false,
     "start_time": "2024-07-10T22:43:13.726834",
     "status": "completed"
    },
    "tags": []
   },
   "outputs": [
    {
     "data": {
      "application/javascript": [
       "parent.postMessage({\"jupyterEvent\": \"custom.exercise_interaction\", \"data\": {\"interactionType\": 2, \"questionType\": 1, \"questionId\": \"3_CountMissingPrices\", \"learnToolsVersion\": \"0.3.4\", \"valueTowardsCompletion\": 0.0, \"failureMessage\": \"\", \"exceptionClass\": \"\", \"trace\": \"\", \"outcomeType\": 4}}, \"*\")"
      ],
      "text/plain": [
       "<IPython.core.display.Javascript object>"
      ]
     },
     "metadata": {},
     "output_type": "display_data"
    },
    {
     "data": {
      "text/markdown": [
       "<span style=\"color:#3366cc\">Hint:</span> Use `pd.isnull()`."
      ],
      "text/plain": [
       "Hint: Use `pd.isnull()`."
      ]
     },
     "metadata": {},
     "output_type": "display_data"
    },
    {
     "data": {
      "application/javascript": [
       "parent.postMessage({\"jupyterEvent\": \"custom.exercise_interaction\", \"data\": {\"interactionType\": 3, \"questionType\": 1, \"questionId\": \"3_CountMissingPrices\", \"learnToolsVersion\": \"0.3.4\", \"valueTowardsCompletion\": 0.0, \"failureMessage\": \"\", \"exceptionClass\": \"\", \"trace\": \"\", \"outcomeType\": 4}}, \"*\")"
      ],
      "text/plain": [
       "<IPython.core.display.Javascript object>"
      ]
     },
     "metadata": {},
     "output_type": "display_data"
    },
    {
     "data": {
      "text/markdown": [
       "<span style=\"color:#33cc99\">Solution:</span> \n",
       "```python\n",
       "missing_price_reviews = reviews[reviews.price.isnull()]\n",
       "n_missing_prices = len(missing_price_reviews)\n",
       "# Cute alternative solution: if we sum a boolean series, True is treated as 1 and False as 0\n",
       "n_missing_prices = reviews.price.isnull().sum()\n",
       "# or equivalently:\n",
       "n_missing_prices = pd.isnull(reviews.price).sum()\n",
       "\n",
       "```"
      ],
      "text/plain": [
       "Solution: \n",
       "```python\n",
       "missing_price_reviews = reviews[reviews.price.isnull()]\n",
       "n_missing_prices = len(missing_price_reviews)\n",
       "# Cute alternative solution: if we sum a boolean series, True is treated as 1 and False as 0\n",
       "n_missing_prices = reviews.price.isnull().sum()\n",
       "# or equivalently:\n",
       "n_missing_prices = pd.isnull(reviews.price).sum()\n",
       "\n",
       "```"
      ]
     },
     "metadata": {},
     "output_type": "display_data"
    }
   ],
   "source": [
    "q3.hint()\n",
    "q3.solution()"
   ]
  },
  {
   "cell_type": "markdown",
   "id": "33d8526c",
   "metadata": {
    "papermill": {
     "duration": 0.008293,
     "end_time": "2024-07-10T22:43:13.770202",
     "exception": false,
     "start_time": "2024-07-10T22:43:13.761909",
     "status": "completed"
    },
    "tags": []
   },
   "source": [
    "## 4.\n",
    "What are the most common wine-producing regions? Create a Series counting the number of times each value occurs in the `region_1` field. This field is often missing data, so replace missing values with `Unknown`. Sort in descending order.  Your output should look something like this:\n",
    "\n",
    "```\n",
    "Unknown                    21247\n",
    "Napa Valley                 4480\n",
    "                           ...  \n",
    "Bardolino Superiore            1\n",
    "Primitivo del Tarantino        1\n",
    "Name: region_1, Length: 1230, dtype: int64\n",
    "```"
   ]
  },
  {
   "cell_type": "code",
   "execution_count": 8,
   "id": "411625cb",
   "metadata": {
    "execution": {
     "iopub.execute_input": "2024-07-10T22:43:13.789623Z",
     "iopub.status.busy": "2024-07-10T22:43:13.788884Z",
     "iopub.status.idle": "2024-07-10T22:43:13.885784Z",
     "shell.execute_reply": "2024-07-10T22:43:13.884310Z"
    },
    "papermill": {
     "duration": 0.110137,
     "end_time": "2024-07-10T22:43:13.888852",
     "exception": false,
     "start_time": "2024-07-10T22:43:13.778715",
     "status": "completed"
    },
    "tags": []
   },
   "outputs": [
    {
     "data": {
      "application/javascript": [
       "parent.postMessage({\"jupyterEvent\": \"custom.exercise_interaction\", \"data\": {\"outcomeType\": 1, \"valueTowardsCompletion\": 0.25, \"interactionType\": 1, \"questionType\": 2, \"questionId\": \"4_ReviewsPerRegion\", \"learnToolsVersion\": \"0.3.4\", \"failureMessage\": \"\", \"exceptionClass\": \"\", \"trace\": \"\"}}, \"*\")"
      ],
      "text/plain": [
       "<IPython.core.display.Javascript object>"
      ]
     },
     "metadata": {},
     "output_type": "display_data"
    },
    {
     "data": {
      "text/markdown": [
       "<span style=\"color:#33cc33\">Correct</span>"
      ],
      "text/plain": [
       "Correct"
      ]
     },
     "metadata": {},
     "output_type": "display_data"
    }
   ],
   "source": [
    "reviews_per_region = reviews.region_1.fillna('Unknown').value_counts().sort_values(ascending = False)\n",
    "\n",
    "\n",
    "# Check your answer\n",
    "q4.check()"
   ]
  },
  {
   "cell_type": "code",
   "execution_count": 9,
   "id": "d90b04a9",
   "metadata": {
    "execution": {
     "iopub.execute_input": "2024-07-10T22:43:13.908418Z",
     "iopub.status.busy": "2024-07-10T22:43:13.907982Z",
     "iopub.status.idle": "2024-07-10T22:43:13.913167Z",
     "shell.execute_reply": "2024-07-10T22:43:13.911848Z"
    },
    "papermill": {
     "duration": 0.018334,
     "end_time": "2024-07-10T22:43:13.916060",
     "exception": false,
     "start_time": "2024-07-10T22:43:13.897726",
     "status": "completed"
    },
    "tags": []
   },
   "outputs": [],
   "source": [
    "#q4.hint()\n",
    "#q4.solution()"
   ]
  },
  {
   "cell_type": "markdown",
   "id": "de670b2b",
   "metadata": {
    "papermill": {
     "duration": 0.008609,
     "end_time": "2024-07-10T22:43:13.933283",
     "exception": false,
     "start_time": "2024-07-10T22:43:13.924674",
     "status": "completed"
    },
    "tags": []
   },
   "source": [
    "# Keep going\n",
    "\n",
    "Move on to **[renaming and combining](https://www.kaggle.com/residentmario/renaming-and-combining)**."
   ]
  },
  {
   "cell_type": "markdown",
   "id": "7e716a54",
   "metadata": {
    "papermill": {
     "duration": 0.008764,
     "end_time": "2024-07-10T22:43:13.950751",
     "exception": false,
     "start_time": "2024-07-10T22:43:13.941987",
     "status": "completed"
    },
    "tags": []
   },
   "source": [
    "---\n",
    "\n",
    "\n",
    "\n",
    "\n",
    "*Have questions or comments? Visit the [course discussion forum](https://www.kaggle.com/learn/pandas/discussion) to chat with other learners.*"
   ]
  }
 ],
 "metadata": {
  "kaggle": {
   "accelerator": "none",
   "dataSources": [
    {
     "datasetId": 655,
     "sourceId": 1252,
     "sourceType": "datasetVersion"
    },
    {
     "datasetId": 2321,
     "sourceId": 3919,
     "sourceType": "datasetVersion"
    },
    {
     "datasetId": 2894,
     "sourceId": 4877,
     "sourceType": "datasetVersion"
    },
    {
     "datasetId": 3491,
     "sourceId": 5624,
     "sourceType": "datasetVersion"
    },
    {
     "datasetId": 1442,
     "sourceId": 8172,
     "sourceType": "datasetVersion"
    },
    {
     "datasetId": 9366,
     "sourceId": 13206,
     "sourceType": "datasetVersion"
    },
    {
     "datasetId": 179555,
     "sourceId": 403916,
     "sourceType": "datasetVersion"
    },
    {
     "datasetId": 4549,
     "sourceId": 466349,
     "sourceType": "datasetVersion"
    },
    {
     "datasetId": 2478,
     "sourceId": 1151655,
     "sourceType": "datasetVersion"
    },
    {
     "datasetId": 10128,
     "sourceId": 5438389,
     "sourceType": "datasetVersion"
    }
   ],
   "isGpuEnabled": false,
   "isInternetEnabled": false,
   "language": "python",
   "sourceType": "notebook"
  },
  "kernelspec": {
   "display_name": "Python 3",
   "language": "python",
   "name": "python3"
  },
  "language_info": {
   "codemirror_mode": {
    "name": "ipython",
    "version": 3
   },
   "file_extension": ".py",
   "mimetype": "text/x-python",
   "name": "python",
   "nbconvert_exporter": "python",
   "pygments_lexer": "ipython3",
   "version": "3.10.13"
  },
  "papermill": {
   "default_parameters": {},
   "duration": 9.68337,
   "end_time": "2024-07-10T22:43:14.582689",
   "environment_variables": {},
   "exception": null,
   "input_path": "__notebook__.ipynb",
   "output_path": "__notebook__.ipynb",
   "parameters": {},
   "start_time": "2024-07-10T22:43:04.899319",
   "version": "2.5.0"
  }
 },
 "nbformat": 4,
 "nbformat_minor": 5
}
