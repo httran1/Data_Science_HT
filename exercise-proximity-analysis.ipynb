{
 "cells": [
  {
   "cell_type": "markdown",
   "id": "a702883c",
   "metadata": {
    "papermill": {
     "duration": 0.010032,
     "end_time": "2024-07-15T22:49:15.975586",
     "exception": false,
     "start_time": "2024-07-15T22:49:15.965554",
     "status": "completed"
    },
    "tags": []
   },
   "source": [
    "**This notebook is an exercise in the [Geospatial Analysis](https://www.kaggle.com/learn/geospatial-analysis) course.  You can reference the tutorial at [this link](https://www.kaggle.com/alexisbcook/proximity-analysis).**\n",
    "\n",
    "---\n"
   ]
  },
  {
   "cell_type": "markdown",
   "id": "4a8d7c5e",
   "metadata": {
    "papermill": {
     "duration": 0.009467,
     "end_time": "2024-07-15T22:49:15.994756",
     "exception": false,
     "start_time": "2024-07-15T22:49:15.985289",
     "status": "completed"
    },
    "tags": []
   },
   "source": [
    "# Introduction \n",
    "\n",
    "You are part of a crisis response team, and you want to identify how hospitals have been responding to crash collisions in New York City.\n",
    "\n",
    "<center>\n",
    "<img src=\"https://storage.googleapis.com/kaggle-media/learn/images/wamd0n7.png\" width=\"450\"><br/>\n",
    "</center>\n",
    "\n",
    "Before you get started, run the code cell below to set everything up."
   ]
  },
  {
   "cell_type": "code",
   "execution_count": 1,
   "id": "8427aeba",
   "metadata": {
    "execution": {
     "iopub.execute_input": "2024-07-15T22:49:16.015764Z",
     "iopub.status.busy": "2024-07-15T22:49:16.015363Z",
     "iopub.status.idle": "2024-07-15T22:52:31.756710Z",
     "shell.execute_reply": "2024-07-15T22:52:31.755483Z"
    },
    "papermill": {
     "duration": 195.755558,
     "end_time": "2024-07-15T22:52:31.759853",
     "exception": false,
     "start_time": "2024-07-15T22:49:16.004295",
     "status": "completed"
    },
    "tags": []
   },
   "outputs": [],
   "source": [
    "import math\n",
    "import geopandas as gpd\n",
    "import pandas as pd\n",
    "from shapely.geometry import MultiPolygon\n",
    "\n",
    "import folium\n",
    "from folium import Choropleth, Marker\n",
    "from folium.plugins import HeatMap, MarkerCluster\n",
    "\n",
    "from learntools.core import binder\n",
    "binder.bind(globals())\n",
    "from learntools.geospatial.ex5 import *"
   ]
  },
  {
   "cell_type": "markdown",
   "id": "fa34a908",
   "metadata": {
    "papermill": {
     "duration": 0.009287,
     "end_time": "2024-07-15T22:52:31.779186",
     "exception": false,
     "start_time": "2024-07-15T22:52:31.769899",
     "status": "completed"
    },
    "tags": []
   },
   "source": [
    "You'll use the `embed_map()` function to visualize your maps."
   ]
  },
  {
   "cell_type": "code",
   "execution_count": 2,
   "id": "2cd17abe",
   "metadata": {
    "execution": {
     "iopub.execute_input": "2024-07-15T22:52:31.800466Z",
     "iopub.status.busy": "2024-07-15T22:52:31.800049Z",
     "iopub.status.idle": "2024-07-15T22:52:31.806145Z",
     "shell.execute_reply": "2024-07-15T22:52:31.804933Z"
    },
    "papermill": {
     "duration": 0.019493,
     "end_time": "2024-07-15T22:52:31.808522",
     "exception": false,
     "start_time": "2024-07-15T22:52:31.789029",
     "status": "completed"
    },
    "tags": []
   },
   "outputs": [],
   "source": [
    "def embed_map(m, file_name):\n",
    "    from IPython.display import IFrame\n",
    "    m.save(file_name)\n",
    "    return IFrame(file_name, width='100%', height='500px')"
   ]
  },
  {
   "cell_type": "markdown",
   "id": "0f926177",
   "metadata": {
    "papermill": {
     "duration": 0.00935,
     "end_time": "2024-07-15T22:52:31.827558",
     "exception": false,
     "start_time": "2024-07-15T22:52:31.818208",
     "status": "completed"
    },
    "tags": []
   },
   "source": [
    "# Exercises\n",
    "\n",
    "### 1) Visualize the collision data.\n",
    "\n",
    "Run the code cell below to load a GeoDataFrame `collisions` tracking major motor vehicle collisions in 2013-2018."
   ]
  },
  {
   "cell_type": "code",
   "execution_count": 3,
   "id": "cba12bd9",
   "metadata": {
    "execution": {
     "iopub.execute_input": "2024-07-15T22:52:31.850067Z",
     "iopub.status.busy": "2024-07-15T22:52:31.849655Z",
     "iopub.status.idle": "2024-07-15T22:55:43.737465Z",
     "shell.execute_reply": "2024-07-15T22:55:43.735776Z"
    },
    "papermill": {
     "duration": 191.91245,
     "end_time": "2024-07-15T22:55:43.751027",
     "exception": false,
     "start_time": "2024-07-15T22:52:31.838577",
     "status": "completed"
    },
    "tags": []
   },
   "outputs": [
    {
     "data": {
      "text/html": [
       "<div>\n",
       "<style scoped>\n",
       "    .dataframe tbody tr th:only-of-type {\n",
       "        vertical-align: middle;\n",
       "    }\n",
       "\n",
       "    .dataframe tbody tr th {\n",
       "        vertical-align: top;\n",
       "    }\n",
       "\n",
       "    .dataframe thead th {\n",
       "        text-align: right;\n",
       "    }\n",
       "</style>\n",
       "<table border=\"1\" class=\"dataframe\">\n",
       "  <thead>\n",
       "    <tr style=\"text-align: right;\">\n",
       "      <th></th>\n",
       "      <th>DATE</th>\n",
       "      <th>TIME</th>\n",
       "      <th>BOROUGH</th>\n",
       "      <th>ZIP CODE</th>\n",
       "      <th>LATITUDE</th>\n",
       "      <th>LONGITUDE</th>\n",
       "      <th>LOCATION</th>\n",
       "      <th>ON STREET</th>\n",
       "      <th>CROSS STRE</th>\n",
       "      <th>OFF STREET</th>\n",
       "      <th>...</th>\n",
       "      <th>CONTRIBU_2</th>\n",
       "      <th>CONTRIBU_3</th>\n",
       "      <th>CONTRIBU_4</th>\n",
       "      <th>UNIQUE KEY</th>\n",
       "      <th>VEHICLE TY</th>\n",
       "      <th>VEHICLE _1</th>\n",
       "      <th>VEHICLE _2</th>\n",
       "      <th>VEHICLE _3</th>\n",
       "      <th>VEHICLE _4</th>\n",
       "      <th>geometry</th>\n",
       "    </tr>\n",
       "  </thead>\n",
       "  <tbody>\n",
       "    <tr>\n",
       "      <th>0</th>\n",
       "      <td>07/30/2019</td>\n",
       "      <td>0:00</td>\n",
       "      <td>BRONX</td>\n",
       "      <td>10464</td>\n",
       "      <td>40.841100</td>\n",
       "      <td>-73.784960</td>\n",
       "      <td>(40.8411, -73.78496)</td>\n",
       "      <td>None</td>\n",
       "      <td>None</td>\n",
       "      <td>121       PILOT STREET</td>\n",
       "      <td>...</td>\n",
       "      <td>Unspecified</td>\n",
       "      <td>None</td>\n",
       "      <td>None</td>\n",
       "      <td>4180045</td>\n",
       "      <td>Sedan</td>\n",
       "      <td>Station Wagon/Sport Utility Vehicle</td>\n",
       "      <td>Station Wagon/Sport Utility Vehicle</td>\n",
       "      <td>None</td>\n",
       "      <td>None</td>\n",
       "      <td>POINT (1043750.211 245785.815)</td>\n",
       "    </tr>\n",
       "    <tr>\n",
       "      <th>1</th>\n",
       "      <td>07/30/2019</td>\n",
       "      <td>0:10</td>\n",
       "      <td>QUEENS</td>\n",
       "      <td>11423</td>\n",
       "      <td>40.710827</td>\n",
       "      <td>-73.770660</td>\n",
       "      <td>(40.710827, -73.77066)</td>\n",
       "      <td>JAMAICA AVENUE</td>\n",
       "      <td>188 STREET</td>\n",
       "      <td>None</td>\n",
       "      <td>...</td>\n",
       "      <td>None</td>\n",
       "      <td>None</td>\n",
       "      <td>None</td>\n",
       "      <td>4180007</td>\n",
       "      <td>Sedan</td>\n",
       "      <td>Sedan</td>\n",
       "      <td>None</td>\n",
       "      <td>None</td>\n",
       "      <td>None</td>\n",
       "      <td>POINT (1047831.185 198333.171)</td>\n",
       "    </tr>\n",
       "    <tr>\n",
       "      <th>2</th>\n",
       "      <td>07/30/2019</td>\n",
       "      <td>0:25</td>\n",
       "      <td>None</td>\n",
       "      <td>None</td>\n",
       "      <td>40.880318</td>\n",
       "      <td>-73.841286</td>\n",
       "      <td>(40.880318, -73.841286)</td>\n",
       "      <td>BOSTON ROAD</td>\n",
       "      <td>None</td>\n",
       "      <td>None</td>\n",
       "      <td>...</td>\n",
       "      <td>None</td>\n",
       "      <td>None</td>\n",
       "      <td>None</td>\n",
       "      <td>4179575</td>\n",
       "      <td>Sedan</td>\n",
       "      <td>Station Wagon/Sport Utility Vehicle</td>\n",
       "      <td>None</td>\n",
       "      <td>None</td>\n",
       "      <td>None</td>\n",
       "      <td>POINT (1028139.293 260041.178)</td>\n",
       "    </tr>\n",
       "    <tr>\n",
       "      <th>3</th>\n",
       "      <td>07/30/2019</td>\n",
       "      <td>0:35</td>\n",
       "      <td>MANHATTAN</td>\n",
       "      <td>10036</td>\n",
       "      <td>40.756744</td>\n",
       "      <td>-73.984590</td>\n",
       "      <td>(40.756744, -73.98459)</td>\n",
       "      <td>None</td>\n",
       "      <td>None</td>\n",
       "      <td>155       WEST 44 STREET</td>\n",
       "      <td>...</td>\n",
       "      <td>None</td>\n",
       "      <td>None</td>\n",
       "      <td>None</td>\n",
       "      <td>4179544</td>\n",
       "      <td>Box Truck</td>\n",
       "      <td>Station Wagon/Sport Utility Vehicle</td>\n",
       "      <td>None</td>\n",
       "      <td>None</td>\n",
       "      <td>None</td>\n",
       "      <td>POINT (988519.261 214979.320)</td>\n",
       "    </tr>\n",
       "    <tr>\n",
       "      <th>4</th>\n",
       "      <td>07/30/2019</td>\n",
       "      <td>10:00</td>\n",
       "      <td>BROOKLYN</td>\n",
       "      <td>11223</td>\n",
       "      <td>40.600090</td>\n",
       "      <td>-73.965910</td>\n",
       "      <td>(40.60009, -73.96591)</td>\n",
       "      <td>AVENUE T</td>\n",
       "      <td>OCEAN PARKWAY</td>\n",
       "      <td>None</td>\n",
       "      <td>...</td>\n",
       "      <td>None</td>\n",
       "      <td>None</td>\n",
       "      <td>None</td>\n",
       "      <td>4180660</td>\n",
       "      <td>Station Wagon/Sport Utility Vehicle</td>\n",
       "      <td>Bike</td>\n",
       "      <td>None</td>\n",
       "      <td>None</td>\n",
       "      <td>None</td>\n",
       "      <td>POINT (993716.669 157907.212)</td>\n",
       "    </tr>\n",
       "  </tbody>\n",
       "</table>\n",
       "<p>5 rows × 30 columns</p>\n",
       "</div>"
      ],
      "text/plain": [
       "         DATE   TIME    BOROUGH ZIP CODE   LATITUDE  LONGITUDE  \\\n",
       "0  07/30/2019   0:00      BRONX    10464  40.841100 -73.784960   \n",
       "1  07/30/2019   0:10     QUEENS    11423  40.710827 -73.770660   \n",
       "2  07/30/2019   0:25       None     None  40.880318 -73.841286   \n",
       "3  07/30/2019   0:35  MANHATTAN    10036  40.756744 -73.984590   \n",
       "4  07/30/2019  10:00   BROOKLYN    11223  40.600090 -73.965910   \n",
       "\n",
       "                  LOCATION       ON STREET     CROSS STRE  \\\n",
       "0     (40.8411, -73.78496)            None           None   \n",
       "1   (40.710827, -73.77066)  JAMAICA AVENUE     188 STREET   \n",
       "2  (40.880318, -73.841286)     BOSTON ROAD           None   \n",
       "3   (40.756744, -73.98459)            None           None   \n",
       "4    (40.60009, -73.96591)        AVENUE T  OCEAN PARKWAY   \n",
       "\n",
       "                 OFF STREET  ...   CONTRIBU_2  CONTRIBU_3  CONTRIBU_4  \\\n",
       "0    121       PILOT STREET  ...  Unspecified        None        None   \n",
       "1                      None  ...         None        None        None   \n",
       "2                      None  ...         None        None        None   \n",
       "3  155       WEST 44 STREET  ...         None        None        None   \n",
       "4                      None  ...         None        None        None   \n",
       "\n",
       "   UNIQUE KEY                           VEHICLE TY  \\\n",
       "0     4180045                                Sedan   \n",
       "1     4180007                                Sedan   \n",
       "2     4179575                                Sedan   \n",
       "3     4179544                            Box Truck   \n",
       "4     4180660  Station Wagon/Sport Utility Vehicle   \n",
       "\n",
       "                            VEHICLE _1                           VEHICLE _2  \\\n",
       "0  Station Wagon/Sport Utility Vehicle  Station Wagon/Sport Utility Vehicle   \n",
       "1                                Sedan                                 None   \n",
       "2  Station Wagon/Sport Utility Vehicle                                 None   \n",
       "3  Station Wagon/Sport Utility Vehicle                                 None   \n",
       "4                                 Bike                                 None   \n",
       "\n",
       "   VEHICLE _3 VEHICLE _4                        geometry  \n",
       "0        None       None  POINT (1043750.211 245785.815)  \n",
       "1        None       None  POINT (1047831.185 198333.171)  \n",
       "2        None       None  POINT (1028139.293 260041.178)  \n",
       "3        None       None   POINT (988519.261 214979.320)  \n",
       "4        None       None   POINT (993716.669 157907.212)  \n",
       "\n",
       "[5 rows x 30 columns]"
      ]
     },
     "execution_count": 3,
     "metadata": {},
     "output_type": "execute_result"
    }
   ],
   "source": [
    "collisions = gpd.read_file(\"../input/geospatial-learn-course-data/NYPD_Motor_Vehicle_Collisions/NYPD_Motor_Vehicle_Collisions/NYPD_Motor_Vehicle_Collisions.shp\")\n",
    "collisions.head()"
   ]
  },
  {
   "cell_type": "markdown",
   "id": "0e0460c4",
   "metadata": {
    "papermill": {
     "duration": 0.01011,
     "end_time": "2024-07-15T22:55:43.772183",
     "exception": false,
     "start_time": "2024-07-15T22:55:43.762073",
     "status": "completed"
    },
    "tags": []
   },
   "source": [
    "Use the \"LATITUDE\" and \"LONGITUDE\" columns to create an interactive map to visualize the collision data.  What type of map do you think is most effective?"
   ]
  },
  {
   "cell_type": "code",
   "execution_count": 4,
   "id": "4b0beed5",
   "metadata": {
    "execution": {
     "iopub.execute_input": "2024-07-15T22:55:43.794564Z",
     "iopub.status.busy": "2024-07-15T22:55:43.794141Z",
     "iopub.status.idle": "2024-07-15T22:55:49.224314Z",
     "shell.execute_reply": "2024-07-15T22:55:49.223029Z"
    },
    "papermill": {
     "duration": 5.444852,
     "end_time": "2024-07-15T22:55:49.227265",
     "exception": false,
     "start_time": "2024-07-15T22:55:43.782413",
     "status": "completed"
    },
    "tags": []
   },
   "outputs": [
    {
     "data": {
      "application/javascript": [
       "parent.postMessage({\"jupyterEvent\": \"custom.exercise_interaction\", \"data\": {\"interactionType\": 2, \"questionType\": 2, \"questionId\": \"1_Q1\", \"learnToolsVersion\": \"0.3.4\", \"valueTowardsCompletion\": 0.0, \"failureMessage\": \"\", \"exceptionClass\": \"\", \"trace\": \"\", \"outcomeType\": 4}}, \"*\")"
      ],
      "text/plain": [
       "<IPython.core.display.Javascript object>"
      ]
     },
     "metadata": {},
     "output_type": "display_data"
    },
    {
     "data": {
      "text/markdown": [
       "<span style=\"color:#3366cc\">Hint:</span> Use `folium.plugins.HeatMap()` to add a heatmap. Set `data` to a DataFrame containing the latitude and longitude locations.  We got fairly good results by setting `radius=9`. Don't forget to add it to the map with the `add_to()` method!"
      ],
      "text/plain": [
       "Hint: Use `folium.plugins.HeatMap()` to add a heatmap. Set `data` to a DataFrame containing the latitude and longitude locations.  We got fairly good results by setting `radius=9`. Don't forget to add it to the map with the `add_to()` method!"
      ]
     },
     "metadata": {},
     "output_type": "display_data"
    },
    {
     "data": {
      "text/html": [
       "\n",
       "        <iframe\n",
       "            width=\"100%\"\n",
       "            height=\"500px\"\n",
       "            src=\"q_1.html\"\n",
       "            frameborder=\"0\"\n",
       "            allowfullscreen\n",
       "            \n",
       "        ></iframe>\n",
       "        "
      ],
      "text/plain": [
       "<IPython.lib.display.IFrame at 0x7d42a1aa6d40>"
      ]
     },
     "execution_count": 4,
     "metadata": {},
     "output_type": "execute_result"
    }
   ],
   "source": [
    "m_1 = folium.Map(location=[40.7, -74], zoom_start=11) \n",
    "\n",
    "# Your code here: Visualize the collision data\n",
    "HeatMap(data = collisions[['LATITUDE','LONGITUDE']], radius = 9).add_to(m_1)\n",
    "\n",
    "\n",
    "# Uncomment to see a hint\n",
    "q_1.hint()\n",
    "\n",
    "# Show the map\n",
    "embed_map(m_1, \"q_1.html\")"
   ]
  },
  {
   "cell_type": "code",
   "execution_count": 5,
   "id": "f3498e27",
   "metadata": {
    "execution": {
     "iopub.execute_input": "2024-07-15T22:55:49.250831Z",
     "iopub.status.busy": "2024-07-15T22:55:49.250375Z",
     "iopub.status.idle": "2024-07-15T22:55:49.266614Z",
     "shell.execute_reply": "2024-07-15T22:55:49.265387Z"
    },
    "papermill": {
     "duration": 0.031202,
     "end_time": "2024-07-15T22:55:49.269469",
     "exception": false,
     "start_time": "2024-07-15T22:55:49.238267",
     "status": "completed"
    },
    "tags": []
   },
   "outputs": [
    {
     "data": {
      "application/javascript": [
       "parent.postMessage({\"jupyterEvent\": \"custom.exercise_interaction\", \"data\": {\"outcomeType\": 1, \"valueTowardsCompletion\": 0.16666666666666666, \"interactionType\": 1, \"questionType\": 2, \"questionId\": \"1_Q1\", \"learnToolsVersion\": \"0.3.4\", \"failureMessage\": \"\", \"exceptionClass\": \"\", \"trace\": \"\"}}, \"*\")"
      ],
      "text/plain": [
       "<IPython.core.display.Javascript object>"
      ]
     },
     "metadata": {},
     "output_type": "display_data"
    },
    {
     "data": {
      "text/markdown": [
       "<span style=\"color:#33cc33\">Thank you for creating a map!</span>"
      ],
      "text/plain": [
       "Thank you for creating a map!"
      ]
     },
     "metadata": {},
     "output_type": "display_data"
    },
    {
     "data": {
      "application/javascript": [
       "parent.postMessage({\"jupyterEvent\": \"custom.exercise_interaction\", \"data\": {\"interactionType\": 3, \"questionType\": 2, \"questionId\": \"1_Q1\", \"learnToolsVersion\": \"0.3.4\", \"valueTowardsCompletion\": 0.0, \"failureMessage\": \"\", \"exceptionClass\": \"\", \"trace\": \"\", \"outcomeType\": 4}}, \"*\")"
      ],
      "text/plain": [
       "<IPython.core.display.Javascript object>"
      ]
     },
     "metadata": {},
     "output_type": "display_data"
    },
    {
     "data": {
      "text/markdown": [
       "<span style=\"color:#33cc99\">Solution:</span> \n",
       "```python\n",
       "# Visualize the collision data\n",
       "HeatMap(data=collisions[['LATITUDE', 'LONGITUDE']], radius=9).add_to(m_1)\n",
       "\n",
       "```"
      ],
      "text/plain": [
       "Solution: \n",
       "```python\n",
       "# Visualize the collision data\n",
       "HeatMap(data=collisions[['LATITUDE', 'LONGITUDE']], radius=9).add_to(m_1)\n",
       "\n",
       "```"
      ]
     },
     "metadata": {},
     "output_type": "display_data"
    }
   ],
   "source": [
    "# Get credit for your work after you have created a map\n",
    "q_1.check()\n",
    "\n",
    "# Uncomment to see our solution (your code may look different!)\n",
    "q_1.solution()"
   ]
  },
  {
   "cell_type": "markdown",
   "id": "9905f2b2",
   "metadata": {
    "papermill": {
     "duration": 0.011266,
     "end_time": "2024-07-15T22:55:49.292208",
     "exception": false,
     "start_time": "2024-07-15T22:55:49.280942",
     "status": "completed"
    },
    "tags": []
   },
   "source": [
    "### 2) Understand hospital coverage.\n",
    "\n",
    "Run the next code cell to load the hospital data."
   ]
  },
  {
   "cell_type": "code",
   "execution_count": 6,
   "id": "aec4e437",
   "metadata": {
    "execution": {
     "iopub.execute_input": "2024-07-15T22:55:49.316551Z",
     "iopub.status.busy": "2024-07-15T22:55:49.316130Z",
     "iopub.status.idle": "2024-07-15T22:55:49.657066Z",
     "shell.execute_reply": "2024-07-15T22:55:49.655707Z"
    },
    "papermill": {
     "duration": 0.356412,
     "end_time": "2024-07-15T22:55:49.659874",
     "exception": false,
     "start_time": "2024-07-15T22:55:49.303462",
     "status": "completed"
    },
    "tags": []
   },
   "outputs": [
    {
     "data": {
      "text/html": [
       "<div>\n",
       "<style scoped>\n",
       "    .dataframe tbody tr th:only-of-type {\n",
       "        vertical-align: middle;\n",
       "    }\n",
       "\n",
       "    .dataframe tbody tr th {\n",
       "        vertical-align: top;\n",
       "    }\n",
       "\n",
       "    .dataframe thead th {\n",
       "        text-align: right;\n",
       "    }\n",
       "</style>\n",
       "<table border=\"1\" class=\"dataframe\">\n",
       "  <thead>\n",
       "    <tr style=\"text-align: right;\">\n",
       "      <th></th>\n",
       "      <th>id</th>\n",
       "      <th>name</th>\n",
       "      <th>address</th>\n",
       "      <th>zip</th>\n",
       "      <th>factype</th>\n",
       "      <th>facname</th>\n",
       "      <th>capacity</th>\n",
       "      <th>capname</th>\n",
       "      <th>bcode</th>\n",
       "      <th>xcoord</th>\n",
       "      <th>ycoord</th>\n",
       "      <th>latitude</th>\n",
       "      <th>longitude</th>\n",
       "      <th>geometry</th>\n",
       "    </tr>\n",
       "  </thead>\n",
       "  <tbody>\n",
       "    <tr>\n",
       "      <th>0</th>\n",
       "      <td>317000001H1178</td>\n",
       "      <td>BRONX-LEBANON HOSPITAL CENTER - CONCOURSE DIVI...</td>\n",
       "      <td>1650 Grand Concourse</td>\n",
       "      <td>10457</td>\n",
       "      <td>3102</td>\n",
       "      <td>Hospital</td>\n",
       "      <td>415</td>\n",
       "      <td>Beds</td>\n",
       "      <td>36005</td>\n",
       "      <td>1008872.0</td>\n",
       "      <td>246596.0</td>\n",
       "      <td>40.843490</td>\n",
       "      <td>-73.911010</td>\n",
       "      <td>POINT (1008872.000 246596.000)</td>\n",
       "    </tr>\n",
       "    <tr>\n",
       "      <th>1</th>\n",
       "      <td>317000001H1164</td>\n",
       "      <td>BRONX-LEBANON HOSPITAL CENTER - FULTON DIVISION</td>\n",
       "      <td>1276 Fulton Ave</td>\n",
       "      <td>10456</td>\n",
       "      <td>3102</td>\n",
       "      <td>Hospital</td>\n",
       "      <td>164</td>\n",
       "      <td>Beds</td>\n",
       "      <td>36005</td>\n",
       "      <td>1011044.0</td>\n",
       "      <td>242204.0</td>\n",
       "      <td>40.831429</td>\n",
       "      <td>-73.903178</td>\n",
       "      <td>POINT (1011044.000 242204.000)</td>\n",
       "    </tr>\n",
       "    <tr>\n",
       "      <th>2</th>\n",
       "      <td>317000011H1175</td>\n",
       "      <td>CALVARY HOSPITAL INC</td>\n",
       "      <td>1740-70 Eastchester Rd</td>\n",
       "      <td>10461</td>\n",
       "      <td>3102</td>\n",
       "      <td>Hospital</td>\n",
       "      <td>225</td>\n",
       "      <td>Beds</td>\n",
       "      <td>36005</td>\n",
       "      <td>1027505.0</td>\n",
       "      <td>248287.0</td>\n",
       "      <td>40.848060</td>\n",
       "      <td>-73.843656</td>\n",
       "      <td>POINT (1027505.000 248287.000)</td>\n",
       "    </tr>\n",
       "    <tr>\n",
       "      <th>3</th>\n",
       "      <td>317000002H1165</td>\n",
       "      <td>JACOBI MEDICAL CENTER</td>\n",
       "      <td>1400 Pelham Pkwy</td>\n",
       "      <td>10461</td>\n",
       "      <td>3102</td>\n",
       "      <td>Hospital</td>\n",
       "      <td>457</td>\n",
       "      <td>Beds</td>\n",
       "      <td>36005</td>\n",
       "      <td>1027042.0</td>\n",
       "      <td>251065.0</td>\n",
       "      <td>40.855687</td>\n",
       "      <td>-73.845311</td>\n",
       "      <td>POINT (1027042.000 251065.000)</td>\n",
       "    </tr>\n",
       "    <tr>\n",
       "      <th>4</th>\n",
       "      <td>317000008H1172</td>\n",
       "      <td>LINCOLN MEDICAL &amp; MENTAL HEALTH CENTER</td>\n",
       "      <td>234 E 149 St</td>\n",
       "      <td>10451</td>\n",
       "      <td>3102</td>\n",
       "      <td>Hospital</td>\n",
       "      <td>362</td>\n",
       "      <td>Beds</td>\n",
       "      <td>36005</td>\n",
       "      <td>1005154.0</td>\n",
       "      <td>236853.0</td>\n",
       "      <td>40.816758</td>\n",
       "      <td>-73.924478</td>\n",
       "      <td>POINT (1005154.000 236853.000)</td>\n",
       "    </tr>\n",
       "  </tbody>\n",
       "</table>\n",
       "</div>"
      ],
      "text/plain": [
       "               id                                               name  \\\n",
       "0  317000001H1178  BRONX-LEBANON HOSPITAL CENTER - CONCOURSE DIVI...   \n",
       "1  317000001H1164    BRONX-LEBANON HOSPITAL CENTER - FULTON DIVISION   \n",
       "2  317000011H1175                               CALVARY HOSPITAL INC   \n",
       "3  317000002H1165                              JACOBI MEDICAL CENTER   \n",
       "4  317000008H1172             LINCOLN MEDICAL & MENTAL HEALTH CENTER   \n",
       "\n",
       "                  address    zip factype   facname capacity capname  bcode  \\\n",
       "0    1650 Grand Concourse  10457    3102  Hospital      415    Beds  36005   \n",
       "1         1276 Fulton Ave  10456    3102  Hospital      164    Beds  36005   \n",
       "2  1740-70 Eastchester Rd  10461    3102  Hospital      225    Beds  36005   \n",
       "3        1400 Pelham Pkwy  10461    3102  Hospital      457    Beds  36005   \n",
       "4            234 E 149 St  10451    3102  Hospital      362    Beds  36005   \n",
       "\n",
       "      xcoord    ycoord   latitude  longitude                        geometry  \n",
       "0  1008872.0  246596.0  40.843490 -73.911010  POINT (1008872.000 246596.000)  \n",
       "1  1011044.0  242204.0  40.831429 -73.903178  POINT (1011044.000 242204.000)  \n",
       "2  1027505.0  248287.0  40.848060 -73.843656  POINT (1027505.000 248287.000)  \n",
       "3  1027042.0  251065.0  40.855687 -73.845311  POINT (1027042.000 251065.000)  \n",
       "4  1005154.0  236853.0  40.816758 -73.924478  POINT (1005154.000 236853.000)  "
      ]
     },
     "execution_count": 6,
     "metadata": {},
     "output_type": "execute_result"
    }
   ],
   "source": [
    "hospitals = gpd.read_file(\"../input/geospatial-learn-course-data/nyu_2451_34494/nyu_2451_34494/nyu_2451_34494.shp\")\n",
    "hospitals.head()"
   ]
  },
  {
   "cell_type": "markdown",
   "id": "e7462166",
   "metadata": {
    "papermill": {
     "duration": 0.012181,
     "end_time": "2024-07-15T22:55:49.684976",
     "exception": false,
     "start_time": "2024-07-15T22:55:49.672795",
     "status": "completed"
    },
    "tags": []
   },
   "source": [
    "Use the \"latitude\" and \"longitude\" columns to visualize the hospital locations. "
   ]
  },
  {
   "cell_type": "code",
   "execution_count": 7,
   "id": "fcab43ad",
   "metadata": {
    "execution": {
     "iopub.execute_input": "2024-07-15T22:55:49.710568Z",
     "iopub.status.busy": "2024-07-15T22:55:49.710146Z",
     "iopub.status.idle": "2024-07-15T22:55:49.784153Z",
     "shell.execute_reply": "2024-07-15T22:55:49.782955Z"
    },
    "papermill": {
     "duration": 0.090223,
     "end_time": "2024-07-15T22:55:49.786983",
     "exception": false,
     "start_time": "2024-07-15T22:55:49.696760",
     "status": "completed"
    },
    "tags": []
   },
   "outputs": [
    {
     "data": {
      "application/javascript": [
       "parent.postMessage({\"jupyterEvent\": \"custom.exercise_interaction\", \"data\": {\"interactionType\": 2, \"questionType\": 2, \"questionId\": \"2_Q2\", \"learnToolsVersion\": \"0.3.4\", \"valueTowardsCompletion\": 0.0, \"failureMessage\": \"\", \"exceptionClass\": \"\", \"trace\": \"\", \"outcomeType\": 4}}, \"*\")"
      ],
      "text/plain": [
       "<IPython.core.display.Javascript object>"
      ]
     },
     "metadata": {},
     "output_type": "display_data"
    },
    {
     "data": {
      "text/markdown": [
       "<span style=\"color:#3366cc\">Hint:</span> Use `folium.Marker()` to add a marker for each hospital location."
      ],
      "text/plain": [
       "Hint: Use `folium.Marker()` to add a marker for each hospital location."
      ]
     },
     "metadata": {},
     "output_type": "display_data"
    },
    {
     "data": {
      "text/html": [
       "\n",
       "        <iframe\n",
       "            width=\"100%\"\n",
       "            height=\"500px\"\n",
       "            src=\"q_2.html\"\n",
       "            frameborder=\"0\"\n",
       "            allowfullscreen\n",
       "            \n",
       "        ></iframe>\n",
       "        "
      ],
      "text/plain": [
       "<IPython.lib.display.IFrame at 0x7d42a1b0bee0>"
      ]
     },
     "execution_count": 7,
     "metadata": {},
     "output_type": "execute_result"
    }
   ],
   "source": [
    "m_2 = folium.Map(location=[40.7, -74], zoom_start=11) \n",
    "\n",
    "# Your code here: Visualize the hospital locations\n",
    "for idx, row in  hospitals.iterrows():\n",
    "    Marker([row['latitude'], row['longitude']]).add_to(m_2)\n",
    "\n",
    "# Uncomment to see a hint\n",
    "q_2.hint()\n",
    "        \n",
    "# Show the map\n",
    "embed_map(m_2, \"q_2.html\")"
   ]
  },
  {
   "cell_type": "code",
   "execution_count": 8,
   "id": "67713bb8",
   "metadata": {
    "execution": {
     "iopub.execute_input": "2024-07-15T22:55:49.814163Z",
     "iopub.status.busy": "2024-07-15T22:55:49.813755Z",
     "iopub.status.idle": "2024-07-15T22:55:49.827683Z",
     "shell.execute_reply": "2024-07-15T22:55:49.826512Z"
    },
    "papermill": {
     "duration": 0.030304,
     "end_time": "2024-07-15T22:55:49.830355",
     "exception": false,
     "start_time": "2024-07-15T22:55:49.800051",
     "status": "completed"
    },
    "tags": []
   },
   "outputs": [
    {
     "data": {
      "application/javascript": [
       "parent.postMessage({\"jupyterEvent\": \"custom.exercise_interaction\", \"data\": {\"outcomeType\": 1, \"valueTowardsCompletion\": 0.16666666666666666, \"interactionType\": 1, \"questionType\": 2, \"questionId\": \"2_Q2\", \"learnToolsVersion\": \"0.3.4\", \"failureMessage\": \"\", \"exceptionClass\": \"\", \"trace\": \"\"}}, \"*\")"
      ],
      "text/plain": [
       "<IPython.core.display.Javascript object>"
      ]
     },
     "metadata": {},
     "output_type": "display_data"
    },
    {
     "data": {
      "text/markdown": [
       "<span style=\"color:#33cc33\">Thank you for creating a map!</span>"
      ],
      "text/plain": [
       "Thank you for creating a map!"
      ]
     },
     "metadata": {},
     "output_type": "display_data"
    },
    {
     "data": {
      "application/javascript": [
       "parent.postMessage({\"jupyterEvent\": \"custom.exercise_interaction\", \"data\": {\"interactionType\": 3, \"questionType\": 2, \"questionId\": \"2_Q2\", \"learnToolsVersion\": \"0.3.4\", \"valueTowardsCompletion\": 0.0, \"failureMessage\": \"\", \"exceptionClass\": \"\", \"trace\": \"\", \"outcomeType\": 4}}, \"*\")"
      ],
      "text/plain": [
       "<IPython.core.display.Javascript object>"
      ]
     },
     "metadata": {},
     "output_type": "display_data"
    },
    {
     "data": {
      "text/markdown": [
       "<span style=\"color:#33cc99\">Solution:</span> \n",
       "```python\n",
       "# Visualize the hospital locations\n",
       "for idx, row in hospitals.iterrows():\n",
       "    Marker([row['latitude'], row['longitude']], popup=row['name']).add_to(m_2)\n",
       "\n",
       "```"
      ],
      "text/plain": [
       "Solution: \n",
       "```python\n",
       "# Visualize the hospital locations\n",
       "for idx, row in hospitals.iterrows():\n",
       "    Marker([row['latitude'], row['longitude']], popup=row['name']).add_to(m_2)\n",
       "\n",
       "```"
      ]
     },
     "metadata": {},
     "output_type": "display_data"
    }
   ],
   "source": [
    "# Get credit for your work after you have created a map\n",
    "q_2.check()\n",
    "\n",
    "# Uncomment to see our solution (your code may look different!)\n",
    "q_2.solution()"
   ]
  },
  {
   "cell_type": "markdown",
   "id": "7b063140",
   "metadata": {
    "papermill": {
     "duration": 0.014177,
     "end_time": "2024-07-15T22:55:49.857630",
     "exception": false,
     "start_time": "2024-07-15T22:55:49.843453",
     "status": "completed"
    },
    "tags": []
   },
   "source": [
    "### 3) When was the closest hospital more than 10 kilometers away?\n",
    "\n",
    "Create a DataFrame `outside_range` containing all rows from `collisions` with crashes that occurred more than 10 kilometers from the closest hospital.\n",
    "\n",
    "Note that both `hospitals` and `collisions` have EPSG 2263 as the coordinate reference system, and EPSG 2263 has units of meters."
   ]
  },
  {
   "cell_type": "code",
   "execution_count": 9,
   "id": "fff5a0ed",
   "metadata": {
    "execution": {
     "iopub.execute_input": "2024-07-15T22:55:49.889101Z",
     "iopub.status.busy": "2024-07-15T22:55:49.888343Z",
     "iopub.status.idle": "2024-07-15T22:56:30.881753Z",
     "shell.execute_reply": "2024-07-15T22:56:30.880514Z"
    },
    "papermill": {
     "duration": 41.025901,
     "end_time": "2024-07-15T22:56:30.898653",
     "exception": false,
     "start_time": "2024-07-15T22:55:49.872752",
     "status": "completed"
    },
    "tags": []
   },
   "outputs": [
    {
     "data": {
      "application/javascript": [
       "parent.postMessage({\"jupyterEvent\": \"custom.exercise_interaction\", \"data\": {\"outcomeType\": 1, \"valueTowardsCompletion\": 0.16666666666666666, \"interactionType\": 1, \"questionType\": 2, \"questionId\": \"3_Q3\", \"learnToolsVersion\": \"0.3.4\", \"failureMessage\": \"\", \"exceptionClass\": \"\", \"trace\": \"\"}}, \"*\")"
      ],
      "text/plain": [
       "<IPython.core.display.Javascript object>"
      ]
     },
     "metadata": {},
     "output_type": "display_data"
    },
    {
     "data": {
      "text/markdown": [
       "<span style=\"color:#33cc33\">Correct</span>"
      ],
      "text/plain": [
       "Correct"
      ]
     },
     "metadata": {},
     "output_type": "display_data"
    }
   ],
   "source": [
    "# Your code here\n",
    "buffer = hospitals.geometry.buffer(10000)\n",
    "union1 = buffer.geometry.unary_union\n",
    "outside_range = collisions.loc[~collisions[\"geometry\"].apply(lambda x: union1.contains(x))]\n",
    "\n",
    "# Check your answer\n",
    "q_3.check()"
   ]
  },
  {
   "cell_type": "code",
   "execution_count": 10,
   "id": "a8a8a98c",
   "metadata": {
    "execution": {
     "iopub.execute_input": "2024-07-15T22:56:30.928147Z",
     "iopub.status.busy": "2024-07-15T22:56:30.927766Z",
     "iopub.status.idle": "2024-07-15T22:56:30.942653Z",
     "shell.execute_reply": "2024-07-15T22:56:30.941392Z"
    },
    "papermill": {
     "duration": 0.032962,
     "end_time": "2024-07-15T22:56:30.945380",
     "exception": false,
     "start_time": "2024-07-15T22:56:30.912418",
     "status": "completed"
    },
    "tags": []
   },
   "outputs": [
    {
     "data": {
      "application/javascript": [
       "parent.postMessage({\"jupyterEvent\": \"custom.exercise_interaction\", \"data\": {\"interactionType\": 2, \"questionType\": 2, \"questionId\": \"3_Q3\", \"learnToolsVersion\": \"0.3.4\", \"valueTowardsCompletion\": 0.0, \"failureMessage\": \"\", \"exceptionClass\": \"\", \"trace\": \"\", \"outcomeType\": 4}}, \"*\")"
      ],
      "text/plain": [
       "<IPython.core.display.Javascript object>"
      ]
     },
     "metadata": {},
     "output_type": "display_data"
    },
    {
     "data": {
      "text/markdown": [
       "<span style=\"color:#3366cc\">Hint:</span> Begin by creating a buffer of size 10000 around each point in `hospitals.geometry`. Then, use the `unary_union` attribute to create a MultiPolygon object, before checking to see if it contains each collision."
      ],
      "text/plain": [
       "Hint: Begin by creating a buffer of size 10000 around each point in `hospitals.geometry`. Then, use the `unary_union` attribute to create a MultiPolygon object, before checking to see if it contains each collision."
      ]
     },
     "metadata": {},
     "output_type": "display_data"
    },
    {
     "data": {
      "application/javascript": [
       "parent.postMessage({\"jupyterEvent\": \"custom.exercise_interaction\", \"data\": {\"interactionType\": 3, \"questionType\": 2, \"questionId\": \"3_Q3\", \"learnToolsVersion\": \"0.3.4\", \"valueTowardsCompletion\": 0.0, \"failureMessage\": \"\", \"exceptionClass\": \"\", \"trace\": \"\", \"outcomeType\": 4}}, \"*\")"
      ],
      "text/plain": [
       "<IPython.core.display.Javascript object>"
      ]
     },
     "metadata": {},
     "output_type": "display_data"
    },
    {
     "data": {
      "text/markdown": [
       "<span style=\"color:#33cc99\">Solution:</span> \n",
       "```python\n",
       "coverage = gpd.GeoDataFrame(geometry=hospitals.geometry).buffer(10000)\n",
       "my_union = coverage.geometry.unary_union\n",
       "outside_range = collisions.loc[~collisions[\"geometry\"].apply(lambda x: my_union.contains(x))]\n",
       "\n",
       "```"
      ],
      "text/plain": [
       "Solution: \n",
       "```python\n",
       "coverage = gpd.GeoDataFrame(geometry=hospitals.geometry).buffer(10000)\n",
       "my_union = coverage.geometry.unary_union\n",
       "outside_range = collisions.loc[~collisions[\"geometry\"].apply(lambda x: my_union.contains(x))]\n",
       "\n",
       "```"
      ]
     },
     "metadata": {},
     "output_type": "display_data"
    }
   ],
   "source": [
    "# Lines below will give you a hint or solution code\n",
    "q_3.hint()\n",
    "q_3.solution()"
   ]
  },
  {
   "cell_type": "markdown",
   "id": "5739440c",
   "metadata": {
    "papermill": {
     "duration": 0.014522,
     "end_time": "2024-07-15T22:56:30.974572",
     "exception": false,
     "start_time": "2024-07-15T22:56:30.960050",
     "status": "completed"
    },
    "tags": []
   },
   "source": [
    "The next code cell calculates the percentage of collisions that occurred more than 10 kilometers away from the closest hospital."
   ]
  },
  {
   "cell_type": "code",
   "execution_count": 11,
   "id": "8cea8f1e",
   "metadata": {
    "execution": {
     "iopub.execute_input": "2024-07-15T22:56:31.006088Z",
     "iopub.status.busy": "2024-07-15T22:56:31.005224Z",
     "iopub.status.idle": "2024-07-15T22:56:31.011676Z",
     "shell.execute_reply": "2024-07-15T22:56:31.010564Z"
    },
    "papermill": {
     "duration": 0.024863,
     "end_time": "2024-07-15T22:56:31.014606",
     "exception": false,
     "start_time": "2024-07-15T22:56:30.989743",
     "status": "completed"
    },
    "tags": []
   },
   "outputs": [
    {
     "name": "stdout",
     "output_type": "stream",
     "text": [
      "Percentage of collisions more than 10 km away from the closest hospital: 15.12%\n"
     ]
    }
   ],
   "source": [
    "percentage = round(100*len(outside_range)/len(collisions), 2)\n",
    "print(\"Percentage of collisions more than 10 km away from the closest hospital: {}%\".format(percentage))"
   ]
  },
  {
   "cell_type": "markdown",
   "id": "68187cef",
   "metadata": {
    "papermill": {
     "duration": 0.017813,
     "end_time": "2024-07-15T22:56:31.046522",
     "exception": false,
     "start_time": "2024-07-15T22:56:31.028709",
     "status": "completed"
    },
    "tags": []
   },
   "source": [
    "### 4) Make a recommender.\n",
    "\n",
    "When collisions occur in distant locations, it becomes even more vital that injured persons are transported to the nearest available hospital.\n",
    "\n",
    "With this in mind, you decide to create a recommender that:\n",
    "- takes the location of the crash (in EPSG 2263) as input,\n",
    "- finds the closest hospital (where distance calculations are done in EPSG 2263), and \n",
    "- returns the name of the closest hospital. "
   ]
  },
  {
   "cell_type": "code",
   "execution_count": 12,
   "id": "4387d3e4",
   "metadata": {
    "execution": {
     "iopub.execute_input": "2024-07-15T22:56:31.083393Z",
     "iopub.status.busy": "2024-07-15T22:56:31.082446Z",
     "iopub.status.idle": "2024-07-15T22:56:31.102677Z",
     "shell.execute_reply": "2024-07-15T22:56:31.101465Z"
    },
    "papermill": {
     "duration": 0.039429,
     "end_time": "2024-07-15T22:56:31.105648",
     "exception": false,
     "start_time": "2024-07-15T22:56:31.066219",
     "status": "completed"
    },
    "tags": []
   },
   "outputs": [
    {
     "name": "stdout",
     "output_type": "stream",
     "text": [
      "CALVARY HOSPITAL INC\n"
     ]
    },
    {
     "data": {
      "application/javascript": [
       "parent.postMessage({\"jupyterEvent\": \"custom.exercise_interaction\", \"data\": {\"outcomeType\": 1, \"valueTowardsCompletion\": 0.16666666666666666, \"interactionType\": 1, \"questionType\": 2, \"questionId\": \"4_Q4\", \"learnToolsVersion\": \"0.3.4\", \"failureMessage\": \"\", \"exceptionClass\": \"\", \"trace\": \"\"}}, \"*\")"
      ],
      "text/plain": [
       "<IPython.core.display.Javascript object>"
      ]
     },
     "metadata": {},
     "output_type": "display_data"
    },
    {
     "data": {
      "text/markdown": [
       "<span style=\"color:#33cc33\">Correct</span>"
      ],
      "text/plain": [
       "Correct"
      ]
     },
     "metadata": {},
     "output_type": "display_data"
    }
   ],
   "source": [
    "def best_hospital(collision_location):\n",
    "    # Your code here\n",
    "    location_of_crash = hospitals.geometry.distance(collision_location).idxmin()\n",
    "    closet_hospital = hospitals.iloc[location_of_crash]\n",
    "    name = closet_hospital['name']\n",
    "    return name\n",
    "\n",
    "# Test your function: this should suggest CALVARY HOSPITAL INC\n",
    "print(best_hospital(outside_range.geometry.iloc[0]))\n",
    "\n",
    "# Check your answer\n",
    "q_4.check()"
   ]
  },
  {
   "cell_type": "code",
   "execution_count": 13,
   "id": "c4291e5a",
   "metadata": {
    "execution": {
     "iopub.execute_input": "2024-07-15T22:56:31.137508Z",
     "iopub.status.busy": "2024-07-15T22:56:31.137088Z",
     "iopub.status.idle": "2024-07-15T22:56:31.150684Z",
     "shell.execute_reply": "2024-07-15T22:56:31.149498Z"
    },
    "papermill": {
     "duration": 0.03266,
     "end_time": "2024-07-15T22:56:31.153275",
     "exception": false,
     "start_time": "2024-07-15T22:56:31.120615",
     "status": "completed"
    },
    "tags": []
   },
   "outputs": [
    {
     "data": {
      "application/javascript": [
       "parent.postMessage({\"jupyterEvent\": \"custom.exercise_interaction\", \"data\": {\"interactionType\": 2, \"questionType\": 2, \"questionId\": \"4_Q4\", \"learnToolsVersion\": \"0.3.4\", \"valueTowardsCompletion\": 0.0, \"failureMessage\": \"\", \"exceptionClass\": \"\", \"trace\": \"\", \"outcomeType\": 4}}, \"*\")"
      ],
      "text/plain": [
       "<IPython.core.display.Javascript object>"
      ]
     },
     "metadata": {},
     "output_type": "display_data"
    },
    {
     "data": {
      "text/markdown": [
       "<span style=\"color:#3366cc\">Hint:</span> Use the `distance()` method of `hospitals.geometry`."
      ],
      "text/plain": [
       "Hint: Use the `distance()` method of `hospitals.geometry`."
      ]
     },
     "metadata": {},
     "output_type": "display_data"
    },
    {
     "data": {
      "application/javascript": [
       "parent.postMessage({\"jupyterEvent\": \"custom.exercise_interaction\", \"data\": {\"interactionType\": 3, \"questionType\": 2, \"questionId\": \"4_Q4\", \"learnToolsVersion\": \"0.3.4\", \"valueTowardsCompletion\": 0.0, \"failureMessage\": \"\", \"exceptionClass\": \"\", \"trace\": \"\", \"outcomeType\": 4}}, \"*\")"
      ],
      "text/plain": [
       "<IPython.core.display.Javascript object>"
      ]
     },
     "metadata": {},
     "output_type": "display_data"
    },
    {
     "data": {
      "text/markdown": [
       "<span style=\"color:#33cc99\">Solution:</span> \n",
       "```python\n",
       "def best_hospital(collision_location):\n",
       "    idx_min = hospitals.geometry.distance(collision_location).idxmin()\n",
       "    my_hospital = hospitals.iloc[idx_min]\n",
       "    name = my_hospital[\"name\"]\n",
       "    return name\n",
       "\n",
       "```"
      ],
      "text/plain": [
       "Solution: \n",
       "```python\n",
       "def best_hospital(collision_location):\n",
       "    idx_min = hospitals.geometry.distance(collision_location).idxmin()\n",
       "    my_hospital = hospitals.iloc[idx_min]\n",
       "    name = my_hospital[\"name\"]\n",
       "    return name\n",
       "\n",
       "```"
      ]
     },
     "metadata": {},
     "output_type": "display_data"
    }
   ],
   "source": [
    "# Lines below will give you a hint or solution code\n",
    "q_4.hint()\n",
    "q_4.solution()"
   ]
  },
  {
   "cell_type": "markdown",
   "id": "6db78eba",
   "metadata": {
    "papermill": {
     "duration": 0.015637,
     "end_time": "2024-07-15T22:56:31.184482",
     "exception": false,
     "start_time": "2024-07-15T22:56:31.168845",
     "status": "completed"
    },
    "tags": []
   },
   "source": [
    "### 5) Which hospital is under the highest demand?\n",
    "\n",
    "Considering only collisions in the `outside_range` DataFrame, which hospital is most recommended?  \n",
    "\n",
    "Your answer should be a Python string that exactly matches the name of the hospital returned by the function you created in **4)**."
   ]
  },
  {
   "cell_type": "code",
   "execution_count": 14,
   "id": "854f5776",
   "metadata": {
    "execution": {
     "iopub.execute_input": "2024-07-15T22:56:31.218705Z",
     "iopub.status.busy": "2024-07-15T22:56:31.218125Z",
     "iopub.status.idle": "2024-07-15T22:57:14.497538Z",
     "shell.execute_reply": "2024-07-15T22:57:14.496411Z"
    },
    "papermill": {
     "duration": 43.315458,
     "end_time": "2024-07-15T22:57:14.516306",
     "exception": false,
     "start_time": "2024-07-15T22:56:31.200848",
     "status": "completed"
    },
    "tags": []
   },
   "outputs": [
    {
     "data": {
      "application/javascript": [
       "parent.postMessage({\"jupyterEvent\": \"custom.exercise_interaction\", \"data\": {\"outcomeType\": 1, \"valueTowardsCompletion\": 0.16666666666666666, \"interactionType\": 1, \"questionType\": 2, \"questionId\": \"5_Q5\", \"learnToolsVersion\": \"0.3.4\", \"failureMessage\": \"\", \"exceptionClass\": \"\", \"trace\": \"\"}}, \"*\")"
      ],
      "text/plain": [
       "<IPython.core.display.Javascript object>"
      ]
     },
     "metadata": {},
     "output_type": "display_data"
    },
    {
     "data": {
      "text/markdown": [
       "<span style=\"color:#33cc33\">Correct</span>"
      ],
      "text/plain": [
       "Correct"
      ]
     },
     "metadata": {},
     "output_type": "display_data"
    }
   ],
   "source": [
    "# Your code here\n",
    "highest_demand =  outside_range.geometry.apply(best_hospital).value_counts().idxmax()\n",
    "\n",
    "# Check your answer\n",
    "q_5.check()"
   ]
  },
  {
   "cell_type": "code",
   "execution_count": 15,
   "id": "1b15ed5b",
   "metadata": {
    "execution": {
     "iopub.execute_input": "2024-07-15T22:57:14.549591Z",
     "iopub.status.busy": "2024-07-15T22:57:14.549164Z",
     "iopub.status.idle": "2024-07-15T22:57:14.562956Z",
     "shell.execute_reply": "2024-07-15T22:57:14.561715Z"
    },
    "papermill": {
     "duration": 0.033343,
     "end_time": "2024-07-15T22:57:14.565357",
     "exception": false,
     "start_time": "2024-07-15T22:57:14.532014",
     "status": "completed"
    },
    "tags": []
   },
   "outputs": [
    {
     "data": {
      "application/javascript": [
       "parent.postMessage({\"jupyterEvent\": \"custom.exercise_interaction\", \"data\": {\"interactionType\": 2, \"questionType\": 2, \"questionId\": \"5_Q5\", \"learnToolsVersion\": \"0.3.4\", \"valueTowardsCompletion\": 0.0, \"failureMessage\": \"\", \"exceptionClass\": \"\", \"trace\": \"\", \"outcomeType\": 4}}, \"*\")"
      ],
      "text/plain": [
       "<IPython.core.display.Javascript object>"
      ]
     },
     "metadata": {},
     "output_type": "display_data"
    },
    {
     "data": {
      "text/markdown": [
       "<span style=\"color:#3366cc\">Hint:</span> Begin by applying the `best_hospital()` function to every entry in `outside_range.geometry`."
      ],
      "text/plain": [
       "Hint: Begin by applying the `best_hospital()` function to every entry in `outside_range.geometry`."
      ]
     },
     "metadata": {},
     "output_type": "display_data"
    },
    {
     "data": {
      "application/javascript": [
       "parent.postMessage({\"jupyterEvent\": \"custom.exercise_interaction\", \"data\": {\"interactionType\": 3, \"questionType\": 2, \"questionId\": \"5_Q5\", \"learnToolsVersion\": \"0.3.4\", \"valueTowardsCompletion\": 0.0, \"failureMessage\": \"\", \"exceptionClass\": \"\", \"trace\": \"\", \"outcomeType\": 4}}, \"*\")"
      ],
      "text/plain": [
       "<IPython.core.display.Javascript object>"
      ]
     },
     "metadata": {},
     "output_type": "display_data"
    },
    {
     "data": {
      "text/markdown": [
       "<span style=\"color:#33cc99\">Solution:</span> \n",
       "```python\n",
       "highest_demand = outside_range.geometry.apply(best_hospital).value_counts().idxmax()\n",
       "\n",
       "\n",
       "```"
      ],
      "text/plain": [
       "Solution: \n",
       "```python\n",
       "highest_demand = outside_range.geometry.apply(best_hospital).value_counts().idxmax()\n",
       "\n",
       "\n",
       "```"
      ]
     },
     "metadata": {},
     "output_type": "display_data"
    }
   ],
   "source": [
    "# Lines below will give you a hint or solution code\n",
    "q_5.hint()\n",
    "q_5.solution()"
   ]
  },
  {
   "cell_type": "markdown",
   "id": "031d14af",
   "metadata": {
    "papermill": {
     "duration": 0.015983,
     "end_time": "2024-07-15T22:57:14.597677",
     "exception": false,
     "start_time": "2024-07-15T22:57:14.581694",
     "status": "completed"
    },
    "tags": []
   },
   "source": [
    "### 6) Where should the city construct new hospitals?\n",
    "\n",
    "Run the next code cell (without changes) to visualize hospital locations, in addition to collisions that occurred more than 10 kilometers away from the closest hospital. "
   ]
  },
  {
   "cell_type": "code",
   "execution_count": 16,
   "id": "42e19deb",
   "metadata": {
    "execution": {
     "iopub.execute_input": "2024-07-15T22:57:14.632132Z",
     "iopub.status.busy": "2024-07-15T22:57:14.631733Z",
     "iopub.status.idle": "2024-07-15T22:57:15.676068Z",
     "shell.execute_reply": "2024-07-15T22:57:15.674854Z"
    },
    "papermill": {
     "duration": 1.064947,
     "end_time": "2024-07-15T22:57:15.679051",
     "exception": false,
     "start_time": "2024-07-15T22:57:14.614104",
     "status": "completed"
    },
    "scrolled": true,
    "tags": []
   },
   "outputs": [
    {
     "data": {
      "text/html": [
       "\n",
       "        <iframe\n",
       "            width=\"100%\"\n",
       "            height=\"500px\"\n",
       "            src=\"m_6.html\"\n",
       "            frameborder=\"0\"\n",
       "            allowfullscreen\n",
       "            \n",
       "        ></iframe>\n",
       "        "
      ],
      "text/plain": [
       "<IPython.lib.display.IFrame at 0x7d42a1c67a60>"
      ]
     },
     "execution_count": 16,
     "metadata": {},
     "output_type": "execute_result"
    }
   ],
   "source": [
    "m_6 = folium.Map(location=[40.7, -74], zoom_start=11) \n",
    "\n",
    "coverage = gpd.GeoDataFrame(geometry=hospitals.geometry).buffer(10000)\n",
    "folium.GeoJson(coverage.geometry.to_crs(epsg=4326)).add_to(m_6)\n",
    "HeatMap(data=outside_range[['LATITUDE', 'LONGITUDE']], radius=9).add_to(m_6)\n",
    "folium.LatLngPopup().add_to(m_6)\n",
    "\n",
    "embed_map(m_6, 'm_6.html')"
   ]
  },
  {
   "cell_type": "markdown",
   "id": "f1347189",
   "metadata": {
    "papermill": {
     "duration": 0.016657,
     "end_time": "2024-07-15T22:57:15.712512",
     "exception": false,
     "start_time": "2024-07-15T22:57:15.695855",
     "status": "completed"
    },
    "tags": []
   },
   "source": [
    "Click anywhere on the map to see a pop-up with the corresponding location in latitude and longitude.\n",
    "\n",
    "The city of New York reaches out to you for help with deciding locations for two brand new hospitals.  They specifically want your help with identifying locations to bring the calculated percentage from step **3)** to less than ten percent.  Using the map (and without worrying about zoning laws or what potential buildings would have to be removed in order to build the hospitals), can you identify two locations that would help the city accomplish this goal?  \n",
    "\n",
    "Put the proposed latitude and longitude for hospital 1 in `lat_1` and `long_1`, respectively.  (Likewise for hospital 2.)\n",
    "\n",
    "Then, run the rest of the cell as-is to see the effect of the new hospitals.  Your answer will be marked correct, if the two new hospitals bring the percentage to less than ten percent."
   ]
  },
  {
   "cell_type": "code",
   "execution_count": 17,
   "id": "13d7b9f6",
   "metadata": {
    "execution": {
     "iopub.execute_input": "2024-07-15T22:57:15.748131Z",
     "iopub.status.busy": "2024-07-15T22:57:15.747745Z",
     "iopub.status.idle": "2024-07-15T22:57:17.078865Z",
     "shell.execute_reply": "2024-07-15T22:57:17.077646Z"
    },
    "papermill": {
     "duration": 1.352028,
     "end_time": "2024-07-15T22:57:17.081547",
     "exception": false,
     "start_time": "2024-07-15T22:57:15.729519",
     "status": "completed"
    },
    "tags": []
   },
   "outputs": [
    {
     "name": "stderr",
     "output_type": "stream",
     "text": [
      "/opt/conda/lib/python3.10/site-packages/pyproj/crs/crs.py:141: FutureWarning: '+init=<authority>:<code>' syntax is deprecated. '<authority>:<code>' is the preferred initialization method. When making the change, be mindful of axis order changes: https://pyproj4.github.io/pyproj/stable/gotchas.html#axis-order-changes-in-proj-6\n",
      "  in_crs_string = _prepare_from_proj_string(in_crs_string)\n"
     ]
    },
    {
     "name": "stdout",
     "output_type": "stream",
     "text": [
      "(NEW) Percentage of collisions more than 10 km away from the closest hospital: 8.94%\n"
     ]
    },
    {
     "data": {
      "application/javascript": [
       "parent.postMessage({\"jupyterEvent\": \"custom.exercise_interaction\", \"data\": {\"outcomeType\": 1, \"valueTowardsCompletion\": 0.16666666666666666, \"interactionType\": 1, \"questionType\": 2, \"questionId\": \"6_Q6\", \"learnToolsVersion\": \"0.3.4\", \"failureMessage\": \"\", \"exceptionClass\": \"\", \"trace\": \"\"}}, \"*\")"
      ],
      "text/plain": [
       "<IPython.core.display.Javascript object>"
      ]
     },
     "metadata": {},
     "output_type": "display_data"
    },
    {
     "data": {
      "text/markdown": [
       "<span style=\"color:#33cc33\">Correct</span>"
      ],
      "text/plain": [
       "Correct"
      ]
     },
     "metadata": {},
     "output_type": "display_data"
    },
    {
     "data": {
      "text/html": [
       "\n",
       "        <iframe\n",
       "            width=\"100%\"\n",
       "            height=\"500px\"\n",
       "            src=\"q_6.html\"\n",
       "            frameborder=\"0\"\n",
       "            allowfullscreen\n",
       "            \n",
       "        ></iframe>\n",
       "        "
      ],
      "text/plain": [
       "<IPython.lib.display.IFrame at 0x7d42a1c66290>"
      ]
     },
     "metadata": {},
     "output_type": "display_data"
    }
   ],
   "source": [
    "# Your answer here: proposed location of hospital 1\n",
    "lat_1 =  40.6681\n",
    "\n",
    "long_1 = -73.8610\n",
    "\n",
    "# Your answer here: proposed location of hospital 2\n",
    "lat_2 = 40.6838\n",
    "\n",
    "long_2 = -73.7497\n",
    "\n",
    "\n",
    "# Do not modify the code below this line\n",
    "try:\n",
    "    new_df = pd.DataFrame(\n",
    "        {'Latitude': [lat_1, lat_2],\n",
    "         'Longitude': [long_1, long_2]})\n",
    "    new_gdf = gpd.GeoDataFrame(new_df, geometry=gpd.points_from_xy(new_df.Longitude, new_df.Latitude))\n",
    "    new_gdf.crs = {'init' :'epsg:4326'}\n",
    "    new_gdf = new_gdf.to_crs(epsg=2263)\n",
    "    # get new percentage\n",
    "    new_coverage = gpd.GeoDataFrame(geometry=new_gdf.geometry).buffer(10000)\n",
    "    new_my_union = new_coverage.geometry.unary_union\n",
    "    new_outside_range = outside_range.loc[~outside_range[\"geometry\"].apply(lambda x: new_my_union.contains(x))]\n",
    "    new_percentage = round(100*len(new_outside_range)/len(collisions), 2)\n",
    "    print(\"(NEW) Percentage of collisions more than 10 km away from the closest hospital: {}%\".format(new_percentage))\n",
    "    # Did you help the city to meet its goal?\n",
    "    q_6.check()\n",
    "    # make the map\n",
    "    m = folium.Map(location=[40.7, -74], zoom_start=11) \n",
    "    folium.GeoJson(coverage.geometry.to_crs(epsg=4326)).add_to(m)\n",
    "    folium.GeoJson(new_coverage.geometry.to_crs(epsg=4326)).add_to(m)\n",
    "    for idx, row in new_gdf.iterrows():\n",
    "        Marker([row['Latitude'], row['Longitude']]).add_to(m)\n",
    "    HeatMap(data=new_outside_range[['LATITUDE', 'LONGITUDE']], radius=9).add_to(m)\n",
    "    folium.LatLngPopup().add_to(m)\n",
    "    display(embed_map(m, 'q_6.html'))\n",
    "except:\n",
    "    q_6.hint()"
   ]
  },
  {
   "cell_type": "code",
   "execution_count": 18,
   "id": "92fa9113",
   "metadata": {
    "execution": {
     "iopub.execute_input": "2024-07-15T22:57:17.118048Z",
     "iopub.status.busy": "2024-07-15T22:57:17.117659Z",
     "iopub.status.idle": "2024-07-15T22:57:17.128019Z",
     "shell.execute_reply": "2024-07-15T22:57:17.126897Z"
    },
    "papermill": {
     "duration": 0.031794,
     "end_time": "2024-07-15T22:57:17.130794",
     "exception": false,
     "start_time": "2024-07-15T22:57:17.099000",
     "status": "completed"
    },
    "tags": []
   },
   "outputs": [
    {
     "data": {
      "application/javascript": [
       "parent.postMessage({\"jupyterEvent\": \"custom.exercise_interaction\", \"data\": {\"interactionType\": 3, \"questionType\": 2, \"questionId\": \"6_Q6\", \"learnToolsVersion\": \"0.3.4\", \"valueTowardsCompletion\": 0.0, \"failureMessage\": \"\", \"exceptionClass\": \"\", \"trace\": \"\", \"outcomeType\": 4}}, \"*\")"
      ],
      "text/plain": [
       "<IPython.core.display.Javascript object>"
      ]
     },
     "metadata": {},
     "output_type": "display_data"
    },
    {
     "data": {
      "text/markdown": [
       "<span style=\"color:#33cc99\">Solution:</span> \n",
       "```python\n",
       "# Proposed location of hospital 1\n",
       "lat_1 = 40.6714\n",
       "long_1 = -73.8492\n",
       "\n",
       "# Proposed location of hospital 2\n",
       "lat_2 = 40.6702\n",
       "long_2 = -73.7612\n",
       "\n",
       "```"
      ],
      "text/plain": [
       "Solution: \n",
       "```python\n",
       "# Proposed location of hospital 1\n",
       "lat_1 = 40.6714\n",
       "long_1 = -73.8492\n",
       "\n",
       "# Proposed location of hospital 2\n",
       "lat_2 = 40.6702\n",
       "long_2 = -73.7612\n",
       "\n",
       "```"
      ]
     },
     "metadata": {},
     "output_type": "display_data"
    }
   ],
   "source": [
    "# Uncomment to see one potential answer \n",
    "q_6.solution()"
   ]
  },
  {
   "cell_type": "markdown",
   "id": "f42cef29",
   "metadata": {
    "papermill": {
     "duration": 0.08541,
     "end_time": "2024-07-15T22:57:17.234069",
     "exception": false,
     "start_time": "2024-07-15T22:57:17.148659",
     "status": "completed"
    },
    "tags": []
   },
   "source": [
    "# Congratulations!\n",
    "\n",
    "You have just completed the Geospatial Analysis micro-course!  Great job!"
   ]
  },
  {
   "cell_type": "markdown",
   "id": "e78fd6cf",
   "metadata": {
    "papermill": {
     "duration": 0.017363,
     "end_time": "2024-07-15T22:57:17.269146",
     "exception": false,
     "start_time": "2024-07-15T22:57:17.251783",
     "status": "completed"
    },
    "tags": []
   },
   "source": [
    "---\n",
    "\n",
    "\n",
    "\n",
    "\n",
    "*Have questions or comments? Visit the [course discussion forum](https://www.kaggle.com/learn/geospatial-analysis/discussion) to chat with other learners.*"
   ]
  }
 ],
 "metadata": {
  "kaggle": {
   "accelerator": "none",
   "dataSources": [
    {
     "datasetId": 348259,
     "sourceId": 695175,
     "sourceType": "datasetVersion"
    },
    {
     "datasetId": 116573,
     "sourceId": 3551030,
     "sourceType": "datasetVersion"
    }
   ],
   "isGpuEnabled": false,
   "isInternetEnabled": false,
   "language": "python",
   "sourceType": "notebook"
  },
  "kernelspec": {
   "display_name": "Python 3",
   "language": "python",
   "name": "python3"
  },
  "language_info": {
   "codemirror_mode": {
    "name": "ipython",
    "version": 3
   },
   "file_extension": ".py",
   "mimetype": "text/x-python",
   "name": "python",
   "nbconvert_exporter": "python",
   "pygments_lexer": "ipython3",
   "version": "3.10.13"
  },
  "papermill": {
   "default_parameters": {},
   "duration": 487.215794,
   "end_time": "2024-07-15T22:57:20.011711",
   "environment_variables": {},
   "exception": null,
   "input_path": "__notebook__.ipynb",
   "output_path": "__notebook__.ipynb",
   "parameters": {},
   "start_time": "2024-07-15T22:49:12.795917",
   "version": "2.5.0"
  }
 },
 "nbformat": 4,
 "nbformat_minor": 5
}
