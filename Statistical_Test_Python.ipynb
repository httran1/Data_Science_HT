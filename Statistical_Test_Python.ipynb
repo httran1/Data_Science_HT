{
  "nbformat": 4,
  "nbformat_minor": 0,
  "metadata": {
    "colab": {
      "provenance": [],
      "authorship_tag": "ABX9TyMi1UC73OaO5UsO89zC2K7Q",
      "include_colab_link": true
    },
    "kernelspec": {
      "name": "python3",
      "display_name": "Python 3"
    },
    "language_info": {
      "name": "python"
    }
  },
  "cells": [
    {
      "cell_type": "markdown",
      "metadata": {
        "id": "view-in-github",
        "colab_type": "text"
      },
      "source": [
        "<a href=\"https://colab.research.google.com/github/httran1/Data_Science_HT/blob/main/Statistical_Test_Python.ipynb\" target=\"_parent\"><img src=\"https://colab.research.google.com/assets/colab-badge.svg\" alt=\"Open In Colab\"/></a>"
      ]
    },
    {
      "cell_type": "markdown",
      "source": [
        "**COMMONLY USED STATISTICAL TESTS**"
      ],
      "metadata": {
        "id": "cMpB9mCz81av"
      }
    },
    {
      "cell_type": "markdown",
      "source": [
        "**T-Test**\n",
        "\n",
        "T-test is a commonly statistical test to determine whether the average difference between two groups is significant from each other. This test apply the t-distribution\n",
        "\n",
        "\n",
        "1.   Independent samples T-test: two groups that are not dependent\n",
        "2.   Paired-sample T-test: compare average from the same group at different time\n",
        "3.   One-sample T-test: compare average of a certain group to a known mean\n",
        "\n"
      ],
      "metadata": {
        "id": "5ns9AqBv89di"
      }
    },
    {
      "cell_type": "code",
      "source": [
        "import numpy as np\n",
        "from scipy import stats\n",
        "import matplotlib.pyplot as plt\n",
        "\n",
        "#Sample data Group A and Group B\n",
        "group_a = np.random.normal(5, 1.5, 100)\n",
        "group_b = np.random.normal(6, 1.5, 100)\n",
        "\n",
        "#Perform an independent t-test\n",
        "t_stat, p_value = stats.ttest_ind(group_a, group_b)\n",
        "print(f'T-test: {t_stat}, p-value: {p_value}')\n",
        "if p_value < 0.05:\n",
        "  print('There is significant difference in average between group A and group B')\n",
        "else:\n",
        "  print('There is not enough evidence to reject that there is not significant difference in average between group A and group B')\n",
        "if t_stat < 0:\n",
        "  print('Group A has a lower average than group B')\n",
        "else:\n",
        "  print('Group A has a higher average than group B')\n"
      ],
      "metadata": {
        "colab": {
          "base_uri": "https://localhost:8080/"
        },
        "id": "HqBqJsbu91Fj",
        "outputId": "d1847643-8010-497f-ba01-f58b93ffc58d"
      },
      "execution_count": 75,
      "outputs": [
        {
          "output_type": "stream",
          "name": "stdout",
          "text": [
            "T-test: -4.431665349728475, p-value: 1.5469760675717917e-05\n",
            "There is significant difference in average between group A and group B\n",
            "Group A has a lower average than group B\n"
          ]
        }
      ]
    },
    {
      "cell_type": "markdown",
      "source": [
        "**Chi-square Test**\n",
        "\n",
        "Chi-square test determine whether there is a strong association between two categorical data.\n",
        "\n",
        "\n",
        "1.   Chi-square test of dependence: determine whether two category variables are independent or not\n",
        "2.   Chi-square goodness of fit test: determine whether a sample distribution matches a population distribution\n",
        "\n"
      ],
      "metadata": {
        "id": "LTaPsZqynYnf"
      }
    },
    {
      "cell_type": "code",
      "source": [
        "#Module import\n",
        "import numpy as np\n",
        "from scipy.stats import chi2_contingency\n",
        "\n",
        "#Data import gender vs. movie preferences\n",
        "data_chi = np.array([[30, 10], [5, 25]])\n",
        "chi2, p, dof, expected = chi2_contingency(data_chi)\n",
        "print(f'Chi2 statistics: {chi2}, p-value: {p}, Degree of freedom {dof}')\n",
        "if p < 0.05:\n",
        "  print('There is significant association between gender and movie preference')\n",
        "else:\n",
        "  print('There is not enough evidenct to reject that there is not significant association between gender and movie preference')\n"
      ],
      "metadata": {
        "id": "gBdk2x1QoAmC",
        "colab": {
          "base_uri": "https://localhost:8080/"
        },
        "outputId": "ca2c305a-5705-4ff6-b528-e68c9c87f442"
      },
      "execution_count": 74,
      "outputs": [
        {
          "output_type": "stream",
          "name": "stdout",
          "text": [
            "Chi2 statistics: 21.058333333333334, p-value: 4.455110459655313e-06, Degree of freedom 1\n",
            "There is significant association between gender and movie preference\n"
          ]
        }
      ]
    },
    {
      "cell_type": "markdown",
      "source": [
        "**ANOVA (ANALYSIS OF VARIANCE)**\n",
        "\n",
        "ANOVA is used to determine whether at least one group's average is significantly different between three or more groups\n",
        "\n",
        "\n",
        "1.   One-way ANOVA: compare average across one independent variable with three or more groups\n",
        "2.   Two-way ANOVA: compare average between two independent variables\n",
        "3.   Repeated Measure ANOAV: used when the same subjects are used in all groups\n",
        "\n"
      ],
      "metadata": {
        "id": "Qw49RUt14bWe"
      }
    },
    {
      "cell_type": "code",
      "source": [
        "#Sample data with 3 different groups\n",
        "group1 = np.random.normal(5, 1.5, 35)\n",
        "group2 = np.random.normal(5, 1.5, 35)\n",
        "group3 = np.random.normal(5, 1.5, 35)\n",
        "\n",
        "# One-way ANOVA\n",
        "f_stat, p_value = stats.f_oneway(group1, group2, group3)\n",
        "print(f'F-statistics: {f_stat}, p_value: {p_value}')\n",
        "if p_value < 0.05:\n",
        "  print('There is a significant difference in average in at least compared to other at 5% significant level')\n",
        "else:\n",
        "  print('There is not enough evidence to reject that there is not a significant difference in average in at least compared to other at 5% significant level ')"
      ],
      "metadata": {
        "id": "XGFsblB8pCTo",
        "colab": {
          "base_uri": "https://localhost:8080/"
        },
        "outputId": "cfd1b24f-e612-49de-ebcb-4d592b27f2b5"
      },
      "execution_count": 73,
      "outputs": [
        {
          "output_type": "stream",
          "name": "stdout",
          "text": [
            "F-statistics: 0.07543352825998681, p_value: 0.927393054041139\n",
            "There is not enough evidence to reject that there is not a significant difference in average in at least compared to other at 5% significant level \n"
          ]
        }
      ]
    },
    {
      "cell_type": "markdown",
      "source": [
        "**PEARSON CORRELATION**\n",
        "\n",
        "Pearson correlation measures the linear correlation's direction and magnitude between two variables. It produces a value called r between -1 and 1 in which the closer of r to 1, the stronger the correlation and the closer the absolute value to 0, the weaker the correlation."
      ],
      "metadata": {
        "id": "4TXNCVva7xAJ"
      }
    },
    {
      "cell_type": "code",
      "source": [
        "from scipy.stats import pearsonr\n",
        "\n",
        "#Sample data\n",
        "x = np.array([10, 20, 30, 40, 50])\n",
        "y = np.array([15, 25, 35, 45, 55])\n",
        "\n",
        "#Pearson correlation\n",
        "corr = pearsonr(x,y)\n",
        "print(f'Pearson correlation coefficient: {corr}')"
      ],
      "metadata": {
        "colab": {
          "base_uri": "https://localhost:8080/"
        },
        "id": "OeXaAqCx6J2X",
        "outputId": "dc510ec6-ad93-4642-9d68-ccff5af49643"
      },
      "execution_count": 68,
      "outputs": [
        {
          "output_type": "stream",
          "name": "stdout",
          "text": [
            "Pearson correlation coefficient: PearsonRResult(statistic=1.0, pvalue=0.0)\n"
          ]
        }
      ]
    },
    {
      "cell_type": "markdown",
      "source": [
        "The Pearson correlation coefficient is 1.0 which indicates a perfect positive relationship between x and y. Note: check for overfitting."
      ],
      "metadata": {
        "id": "H5gg9yy89uMM"
      }
    },
    {
      "cell_type": "markdown",
      "source": [
        "**Mann-Whitney U Test (Wilcoxon Rank Sum Test)**\n",
        "\n",
        "Mann-Whitney U test is to measure the differences between two independent groups when the data is ***not*** following a normal distribution. The test assesst whether two groups are from the same population. In general, the test compare the medians between independent groups."
      ],
      "metadata": {
        "id": "fLf7OVuF-CEE"
      }
    },
    {
      "cell_type": "code",
      "source": [
        "from scipy.stats import mannwhitneyu\n",
        "\n",
        "#Sample data: two groups\n",
        "group1mann = np.random.normal(5, 1.5, 35)\n",
        "group2mann = np.random.normal(6, 1.5, 35)\n",
        "\n",
        "#Perform Mann-Whiteny U test\n",
        "u_stat, p_val_mann = mannwhitneyu(group1mann, group2mann)\n",
        "print(f'U Statistics: {u_stat}, p_value: {p_val_mann}')\n",
        "if p_val_mann < 0.05:\n",
        "  print('There is significant difference in the medians rank between two groups or The two population are not equal')\n",
        "else:\n",
        "  print('There is not enough evidence to reject that the two population are equal')"
      ],
      "metadata": {
        "colab": {
          "base_uri": "https://localhost:8080/"
        },
        "id": "2lobJoRG-YAl",
        "outputId": "3fd1086f-1770-488e-eff5-09ad350a0a7b"
      },
      "execution_count": 72,
      "outputs": [
        {
          "output_type": "stream",
          "name": "stdout",
          "text": [
            "U Statistics: 402.0, p_value: 0.013637241336378982\n",
            "There is significant difference in the medians rank between two groups or The two population are not equal\n"
          ]
        }
      ]
    },
    {
      "cell_type": "code",
      "source": [],
      "metadata": {
        "id": "RqJN0MVh_ajE"
      },
      "execution_count": 70,
      "outputs": []
    }
  ]
}